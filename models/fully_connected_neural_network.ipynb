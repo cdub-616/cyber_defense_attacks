{
 "cells": [
  {
   "cell_type": "markdown",
   "metadata": {},
   "source": [
    "# **Fully-Connected Neural Network**"
   ]
  },
  {
   "cell_type": "markdown",
   "metadata": {},
   "source": [
    "### *Libraries and functions*"
   ]
  },
  {
   "cell_type": "code",
   "execution_count": 23,
   "metadata": {},
   "outputs": [],
   "source": [
    "%matplotlib inline\n",
    "from collections.abc import Sequence\n",
    "from sklearn import preprocessing\n",
    "from sklearn import metrics as mt\n",
    "from sklearn import svm, datasets\n",
    "from sklearn.model_selection import train_test_split\n",
    "from sklearn.metrics import confusion_matrix, classification_report, roc_curve, auc\n",
    "from tensorflow.keras.models import load_model\n",
    "from tensorflow.keras.models import Sequential\n",
    "from tensorflow.keras.layers import Dense, Dropout\n",
    "from tensorflow.keras.callbacks import EarlyStopping\n",
    "from tensorflow.keras.callbacks import ModelCheckpoint\n",
    "\n",
    "import matplotlib.pyplot as plt\n",
    "import numpy as np\n",
    "import pandas as pd\n",
    "import shutil\n",
    "import os\n",
    "\n",
    "\n",
    "\n",
    "# Encode text values to dummy variables(i.e. [1,0,0],[0,1,0],[0,0,1] for red,green,blue)\n",
    "def encode_text_dummy(df, name):\n",
    "    dummies = pd.get_dummies(df[name])\n",
    "    for x in dummies.columns:\n",
    "        dummy_name = \"{}-{}\".format(name, x)\n",
    "        df[dummy_name] = dummies[x]\n",
    "    df.drop(name, axis=1, inplace=True)\n",
    "\n",
    "# Encode text values to a single dummy variable.  The new columns (which do not replace the old) will have a 1\n",
    "# at every location where the original column (name) matches each of the target_values.  One column is added for\n",
    "# each target value.\n",
    "def encode_text_single_dummy(df, name, target_values):\n",
    "    for tv in target_values:\n",
    "        l = list(df[name].astype(str))\n",
    "        l = [1 if str(x) == str(tv) else 0 for x in l]\n",
    "        name2 = \"{}-{}\".format(name, tv)\n",
    "        df[name2] = l\n",
    "\n",
    "\n",
    "# Encode text values to indexes(i.e. [1],[2],[3] for red,green,blue).\n",
    "def encode_text_index(df, name):\n",
    "    le = preprocessing.LabelEncoder()\n",
    "    df[name] = le.fit_transform(df[name])\n",
    "    return le.classes_\n",
    "\n",
    "\n",
    "# Encode a numeric column as zscores\n",
    "def encode_numeric_zscore(df, name, mean=None, sd=None):\n",
    "    if mean is None:\n",
    "        mean = df[name].mean()\n",
    "\n",
    "    if sd is None:\n",
    "        sd = df[name].std()\n",
    "\n",
    "    df[name] = (df[name] - mean) / sd\n",
    "\n",
    "# Convert all missing values in the specified column to the default\n",
    "def missing_default(df, name, default_value):\n",
    "    df[name] = df[name].fillna(default_value)\n",
    "\n",
    "\n",
    "# Convert a Pandas dataframe to the x,y inputs that TensorFlow needs\n",
    "def to_xy(df, target):\n",
    "    result = []\n",
    "    for x in df.columns:\n",
    "        if x != target:\n",
    "            result.append(x)\n",
    "    # find out the type of the target column.\n",
    "    target_type = df[target].dtypes\n",
    "    target_type = target_type[0] if isinstance(target_type, Sequence) else target_type\n",
    "    # Encode to int for classification, float otherwise. TensorFlow likes 32 bits.\n",
    "    if target_type in (np.int64, np.int32):\n",
    "        # Classification\n",
    "        dummies = pd.get_dummies(df[target])\n",
    "        return df[result].values.astype(np.float32), dummies.values.astype(np.float32)\n",
    "    else:\n",
    "        # Regression\n",
    "        return df[result].values.astype(np.float32), df[target].values.astype(np.float32)\n",
    "\n",
    "# Nicely formatted time string\n",
    "def hms_string(sec_elapsed):\n",
    "    h = int(sec_elapsed / (60 * 60))\n",
    "    m = int((sec_elapsed % (60 * 60)) / 60)\n",
    "    s = sec_elapsed % 60\n",
    "    return \"{}:{:>02}:{:>05.2f}\".format(h, m, s)\n",
    "\n",
    "\n",
    "# Regression chart.\n",
    "def chart_regression(pred,y,sort=True):\n",
    "    t = pd.DataFrame({'pred' : pred, 'y' : y.flatten()})\n",
    "    if sort:\n",
    "        t.sort_values(by=['y'],inplace=True)\n",
    "    a = plt.plot(t['y'].tolist(),label='expected')\n",
    "    b = plt.plot(t['pred'].tolist(),label='prediction')\n",
    "    plt.ylabel('output')\n",
    "    plt.legend()\n",
    "    plt.show()\n",
    "\n",
    "# Remove all rows where the specified column is +/- sd standard deviations\n",
    "def remove_outliers(df, name, sd):\n",
    "    drop_rows = df.index[(np.abs(df[name] - df[name].mean()) >= (sd * df[name].std()))]\n",
    "    df.drop(drop_rows, axis=0, inplace=True)\n",
    "\n",
    "# Encode a column to a range between normalized_low and normalized_high.\n",
    "def encode_numeric_range(df, name, normalized_low=-1, normalized_high=1,\n",
    "                         data_low=None, data_high=None):\n",
    "    if data_low is None:\n",
    "        data_low = min(df[name])\n",
    "        data_high = max(df[name])\n",
    "\n",
    "    df[name] = ((df[name] - data_low) / (data_high - data_low)) \\\n",
    "               * (normalized_high - normalized_low) + normalized_low\n",
    "    \n",
    "# Plot a confusion matrix.\n",
    "# cm is the confusion matrix, names are the names of the classes.\n",
    "def plot_confusion_matrix(cm, names, title='Confusion matrix', cmap=plt.cm.Blues):\n",
    "    plt.imshow(cm, interpolation='nearest', cmap=cmap)\n",
    "    plt.title(title)\n",
    "    plt.colorbar()\n",
    "    tick_marks = np.arange(len(names))\n",
    "    plt.xticks(tick_marks, names, rotation=45)\n",
    "    plt.yticks(tick_marks, names)\n",
    "    plt.tight_layout()\n",
    "    plt.ylabel('True label')\n",
    "    plt.xlabel('Predicted label')\n",
    "    \n",
    "\n",
    "# Plot an ROC. pred - the predictions, y - the expected output.\n",
    "def plot_roc(pred,y):\n",
    "    fpr, tpr, thresholds = roc_curve(y, pred)\n",
    "    roc_auc = auc(fpr, tpr)\n",
    "\n",
    "    plt.figure()\n",
    "    plt.plot(fpr, tpr, label='ROC curve (area = %0.2f)' % roc_auc)\n",
    "    plt.plot([0, 1], [0, 1], 'k--')\n",
    "    plt.xlim([0.0, 1.0])\n",
    "    plt.ylim([0.0, 1.05])\n",
    "    plt.xlabel('False Positive Rate')\n",
    "    plt.ylabel('True Positive Rate')\n",
    "    plt.title('Receiver Operating Characteristic (ROC)')\n",
    "    plt.legend(loc=\"lower right\")\n",
    "    plt.show()"
   ]
  },
  {
   "cell_type": "markdown",
   "metadata": {},
   "source": [
    "### *Load dataframes from file*"
   ]
  },
  {
   "cell_type": "code",
   "execution_count": 2,
   "metadata": {},
   "outputs": [],
   "source": [
    "training_df = pd.read_pickle('../data/training_index.pkl')\n",
    "testing_df = pd.read_pickle('../data/testing_index.pkl')\n"
   ]
  },
  {
   "cell_type": "markdown",
   "metadata": {},
   "source": [
    "### *Use dataframe to configure x,y*"
   ]
  },
  {
   "cell_type": "code",
   "execution_count": 3,
   "metadata": {},
   "outputs": [],
   "source": [
    "training_df['label'] = training_df['label'].astype('category')\n",
    "testing_df['label'] = testing_df['label'].astype('category')\n",
    "x_train, y_train = to_xy(training_df, 'label')\n",
    "x_test, y_test = to_xy(testing_df, 'label')"
   ]
  },
  {
   "cell_type": "markdown",
   "metadata": {},
   "source": [
    "### *Shape*"
   ]
  },
  {
   "cell_type": "code",
   "execution_count": 4,
   "metadata": {},
   "outputs": [
    {
     "name": "stdout",
     "output_type": "stream",
     "text": [
      "x_train shape: (82332, 42)\n",
      "y_train shape: (82332,)\n",
      "x_test shape: (175341, 42)\n",
      "y_test shape: (175341,)\n"
     ]
    }
   ],
   "source": [
    "print('x_train shape:', x_train.shape)\n",
    "print('y_train shape:', y_train.shape)\n",
    "print('x_test shape:', x_test.shape)\n",
    "print('y_test shape:', y_test.shape)"
   ]
  },
  {
   "cell_type": "markdown",
   "metadata": {},
   "source": [
    "### *Model:  relu and adam*"
   ]
  },
  {
   "cell_type": "code",
   "execution_count": 5,
   "metadata": {},
   "outputs": [
    {
     "name": "stdout",
     "output_type": "stream",
     "text": [
      "0\n",
      "WARNING:tensorflow:From c:\\Users\\cdub6\\anaconda3\\Lib\\site-packages\\keras\\src\\backend.py:873: The name tf.get_default_graph is deprecated. Please use tf.compat.v1.get_default_graph instead.\n",
      "\n",
      "WARNING:tensorflow:From c:\\Users\\cdub6\\anaconda3\\Lib\\site-packages\\keras\\src\\optimizers\\__init__.py:309: The name tf.train.Optimizer is deprecated. Please use tf.compat.v1.train.Optimizer instead.\n",
      "\n",
      "Epoch 1/10\n",
      "WARNING:tensorflow:From c:\\Users\\cdub6\\anaconda3\\Lib\\site-packages\\keras\\src\\utils\\tf_utils.py:492: The name tf.ragged.RaggedTensorValue is deprecated. Please use tf.compat.v1.ragged.RaggedTensorValue instead.\n",
      "\n",
      "2573/2573 - 6s - loss: 0.4494 - val_loss: 0.3194 - 6s/epoch - 2ms/step\n",
      "Epoch 2/10\n"
     ]
    },
    {
     "name": "stderr",
     "output_type": "stream",
     "text": [
      "c:\\Users\\cdub6\\anaconda3\\Lib\\site-packages\\keras\\src\\engine\\training.py:3103: UserWarning: You are saving your model as an HDF5 file via `model.save()`. This file format is considered legacy. We recommend using instead the native Keras format, e.g. `model.save('my_model.keras')`.\n",
      "  saving_api.save_model(\n"
     ]
    },
    {
     "name": "stdout",
     "output_type": "stream",
     "text": [
      "2573/2573 - 5s - loss: 0.4494 - val_loss: 0.3194 - 5s/epoch - 2ms/step\n",
      "Epoch 3/10\n",
      "2573/2573 - 5s - loss: 0.4494 - val_loss: 0.3194 - 5s/epoch - 2ms/step\n",
      "Epoch 3: early stopping\n",
      "1\n",
      "Epoch 1/10\n",
      "2573/2573 - 5s - loss: 0.4494 - val_loss: 0.3194 - 5s/epoch - 2ms/step\n",
      "Epoch 2/10\n",
      "2573/2573 - 5s - loss: 0.4494 - val_loss: 0.3194 - 5s/epoch - 2ms/step\n",
      "Epoch 3/10\n",
      "2573/2573 - 5s - loss: 0.4494 - val_loss: 0.3194 - 5s/epoch - 2ms/step\n",
      "Epoch 3: early stopping\n",
      "2\n",
      "Epoch 1/10\n",
      "2573/2573 - 6s - loss: 0.4494 - val_loss: 0.3194 - 6s/epoch - 2ms/step\n",
      "Epoch 2/10\n",
      "2573/2573 - 5s - loss: 0.4494 - val_loss: 0.3194 - 5s/epoch - 2ms/step\n",
      "Epoch 3/10\n",
      "2573/2573 - 5s - loss: 0.4494 - val_loss: 0.3194 - 5s/epoch - 2ms/step\n",
      "Epoch 3: early stopping\n",
      "3\n",
      "Epoch 1/10\n",
      "2573/2573 - 6s - loss: 0.4494 - val_loss: 0.3194 - 6s/epoch - 2ms/step\n",
      "Epoch 2/10\n",
      "2573/2573 - 5s - loss: 0.4494 - val_loss: 0.3194 - 5s/epoch - 2ms/step\n",
      "Epoch 3/10\n",
      "2573/2573 - 5s - loss: 0.4494 - val_loss: 0.3194 - 5s/epoch - 2ms/step\n",
      "Epoch 3: early stopping\n",
      "4\n",
      "Epoch 1/10\n",
      "2573/2573 - 5s - loss: 0.4494 - val_loss: 0.3194 - 5s/epoch - 2ms/step\n",
      "Epoch 2/10\n",
      "2573/2573 - 5s - loss: 0.4494 - val_loss: 0.3194 - 5s/epoch - 2ms/step\n",
      "Epoch 3/10\n",
      "2573/2573 - 5s - loss: 0.4494 - val_loss: 0.3194 - 5s/epoch - 2ms/step\n",
      "Epoch 3: early stopping\n"
     ]
    }
   ],
   "source": [
    "checkpointer = ModelCheckpoint(filepath=\"best_weights_fcnn.hdf5\", verbose=0, save_best_only=True) # save best model\n",
    "\n",
    "for i in range(5):\n",
    "    print(i)\n",
    "\n",
    "    model = Sequential()\n",
    "    model.add(Dense(21, input_dim=x_train.shape[1], activation='relu'))\n",
    "    model.add(Dense(1, activation='softmax'))\n",
    "    model.compile(loss='mean_squared_error', optimizer='adam')\n",
    "    monitor = EarlyStopping(monitor='val_loss', min_delta=1e-3, patience=2, verbose=2, mode='auto')\n",
    "    model.fit(x_train,y_train,validation_data=(x_test,y_test),callbacks=[monitor,checkpointer],verbose=2,epochs=10)"
   ]
  },
  {
   "cell_type": "markdown",
   "metadata": {},
   "source": [
    "### *Model:  sigmoid and adam*"
   ]
  },
  {
   "cell_type": "code",
   "execution_count": 6,
   "metadata": {},
   "outputs": [
    {
     "name": "stdout",
     "output_type": "stream",
     "text": [
      "0\n",
      "Epoch 1/10\n",
      "2573/2573 - 5s - loss: 0.4494 - val_loss: 0.3194 - 5s/epoch - 2ms/step\n",
      "Epoch 2/10\n",
      "2573/2573 - 5s - loss: 0.4494 - val_loss: 0.3194 - 5s/epoch - 2ms/step\n",
      "Epoch 3/10\n",
      "2573/2573 - 5s - loss: 0.4494 - val_loss: 0.3194 - 5s/epoch - 2ms/step\n",
      "Epoch 3: early stopping\n",
      "1\n",
      "Epoch 1/10\n",
      "2573/2573 - 6s - loss: 0.4494 - val_loss: 0.3194 - 6s/epoch - 2ms/step\n",
      "Epoch 2/10\n",
      "2573/2573 - 5s - loss: 0.4494 - val_loss: 0.3194 - 5s/epoch - 2ms/step\n",
      "Epoch 3/10\n",
      "2573/2573 - 5s - loss: 0.4494 - val_loss: 0.3194 - 5s/epoch - 2ms/step\n",
      "Epoch 3: early stopping\n",
      "2\n",
      "Epoch 1/10\n",
      "2573/2573 - 6s - loss: 0.4494 - val_loss: 0.3194 - 6s/epoch - 2ms/step\n",
      "Epoch 2/10\n",
      "2573/2573 - 5s - loss: 0.4494 - val_loss: 0.3194 - 5s/epoch - 2ms/step\n",
      "Epoch 3/10\n",
      "2573/2573 - 5s - loss: 0.4494 - val_loss: 0.3194 - 5s/epoch - 2ms/step\n",
      "Epoch 3: early stopping\n",
      "3\n",
      "Epoch 1/10\n",
      "2573/2573 - 5s - loss: 0.4494 - val_loss: 0.3194 - 5s/epoch - 2ms/step\n",
      "Epoch 2/10\n",
      "2573/2573 - 5s - loss: 0.4494 - val_loss: 0.3194 - 5s/epoch - 2ms/step\n",
      "Epoch 3/10\n",
      "2573/2573 - 5s - loss: 0.4494 - val_loss: 0.3194 - 5s/epoch - 2ms/step\n",
      "Epoch 3: early stopping\n",
      "4\n",
      "Epoch 1/10\n",
      "2573/2573 - 6s - loss: 0.4494 - val_loss: 0.3194 - 6s/epoch - 2ms/step\n",
      "Epoch 2/10\n",
      "2573/2573 - 5s - loss: 0.4494 - val_loss: 0.3194 - 5s/epoch - 2ms/step\n",
      "Epoch 3/10\n",
      "2573/2573 - 5s - loss: 0.4494 - val_loss: 0.3194 - 5s/epoch - 2ms/step\n",
      "Epoch 3: early stopping\n"
     ]
    }
   ],
   "source": [
    "checkpointer = ModelCheckpoint(filepath=\"best_weights_fcnn.hdf5\", verbose=0, save_best_only=True) # save best model\n",
    "\n",
    "for i in range(5):\n",
    "    print(i)\n",
    "\n",
    "    model = Sequential()\n",
    "    model.add(Dense(21, input_dim=x_train.shape[1], activation='sigmoid'))\n",
    "    model.add(Dense(1, activation='softmax'))\n",
    "    model.compile(loss='mean_squared_error', optimizer='adam')\n",
    "    monitor = EarlyStopping(monitor='val_loss', min_delta=1e-3, patience=2, verbose=2, mode='auto')\n",
    "    model.fit(x_train,y_train,validation_data=(x_test,y_test),callbacks=[monitor,checkpointer],verbose=2,epochs=10)"
   ]
  },
  {
   "cell_type": "markdown",
   "metadata": {},
   "source": [
    "### *Model:  tanh and adam*"
   ]
  },
  {
   "cell_type": "code",
   "execution_count": 7,
   "metadata": {},
   "outputs": [
    {
     "name": "stdout",
     "output_type": "stream",
     "text": [
      "0\n",
      "Epoch 1/10\n",
      "2573/2573 - 6s - loss: 0.4494 - val_loss: 0.3194 - 6s/epoch - 2ms/step\n",
      "Epoch 2/10\n"
     ]
    },
    {
     "name": "stderr",
     "output_type": "stream",
     "text": [
      "c:\\Users\\cdub6\\anaconda3\\Lib\\site-packages\\keras\\src\\engine\\training.py:3103: UserWarning: You are saving your model as an HDF5 file via `model.save()`. This file format is considered legacy. We recommend using instead the native Keras format, e.g. `model.save('my_model.keras')`.\n",
      "  saving_api.save_model(\n"
     ]
    },
    {
     "name": "stdout",
     "output_type": "stream",
     "text": [
      "2573/2573 - 5s - loss: 0.4494 - val_loss: 0.3194 - 5s/epoch - 2ms/step\n",
      "Epoch 3/10\n",
      "2573/2573 - 5s - loss: 0.4494 - val_loss: 0.3194 - 5s/epoch - 2ms/step\n",
      "Epoch 3: early stopping\n",
      "1\n",
      "Epoch 1/10\n",
      "2573/2573 - 5s - loss: 0.4494 - val_loss: 0.3194 - 5s/epoch - 2ms/step\n",
      "Epoch 2/10\n",
      "2573/2573 - 5s - loss: 0.4494 - val_loss: 0.3194 - 5s/epoch - 2ms/step\n",
      "Epoch 3/10\n",
      "2573/2573 - 5s - loss: 0.4494 - val_loss: 0.3194 - 5s/epoch - 2ms/step\n",
      "Epoch 3: early stopping\n",
      "2\n",
      "Epoch 1/10\n",
      "2573/2573 - 6s - loss: 0.4494 - val_loss: 0.3194 - 6s/epoch - 2ms/step\n",
      "Epoch 2/10\n",
      "2573/2573 - 5s - loss: 0.4494 - val_loss: 0.3194 - 5s/epoch - 2ms/step\n",
      "Epoch 3/10\n",
      "2573/2573 - 5s - loss: 0.4494 - val_loss: 0.3194 - 5s/epoch - 2ms/step\n",
      "Epoch 3: early stopping\n",
      "3\n",
      "Epoch 1/10\n",
      "2573/2573 - 6s - loss: 0.4494 - val_loss: 0.3194 - 6s/epoch - 2ms/step\n",
      "Epoch 2/10\n",
      "2573/2573 - 5s - loss: 0.4494 - val_loss: 0.3194 - 5s/epoch - 2ms/step\n",
      "Epoch 3/10\n",
      "2573/2573 - 5s - loss: 0.4494 - val_loss: 0.3194 - 5s/epoch - 2ms/step\n",
      "Epoch 3: early stopping\n",
      "4\n",
      "Epoch 1/10\n",
      "2573/2573 - 5s - loss: 0.4494 - val_loss: 0.3194 - 5s/epoch - 2ms/step\n",
      "Epoch 2/10\n",
      "2573/2573 - 5s - loss: 0.4494 - val_loss: 0.3194 - 5s/epoch - 2ms/step\n",
      "Epoch 3/10\n",
      "2573/2573 - 5s - loss: 0.4494 - val_loss: 0.3194 - 5s/epoch - 2ms/step\n",
      "Epoch 3: early stopping\n"
     ]
    }
   ],
   "source": [
    "checkpointer = ModelCheckpoint(filepath=\"best_weights_fcnn.hdf5\", verbose=0, save_best_only=True) # save best model\n",
    "\n",
    "for i in range(5):\n",
    "    print(i)\n",
    "\n",
    "    model = Sequential()\n",
    "    model.add(Dense(21, input_dim=x_train.shape[1], activation='tanh'))\n",
    "    model.add(Dense(1, activation='softmax'))\n",
    "    model.compile(loss='mean_squared_error', optimizer='adam')\n",
    "    monitor = EarlyStopping(monitor='val_loss', min_delta=1e-3, patience=2, verbose=2, mode='auto')\n",
    "    model.fit(x_train,y_train,validation_data=(x_test,y_test),callbacks=[monitor,checkpointer],verbose=2,epochs=10)"
   ]
  },
  {
   "cell_type": "markdown",
   "metadata": {},
   "source": [
    "### *Model:  relu and sgd*"
   ]
  },
  {
   "cell_type": "code",
   "execution_count": 8,
   "metadata": {},
   "outputs": [
    {
     "name": "stdout",
     "output_type": "stream",
     "text": [
      "0\n"
     ]
    },
    {
     "name": "stdout",
     "output_type": "stream",
     "text": [
      "Epoch 1/10\n",
      "2573/2573 - 6s - loss: 0.4494 - val_loss: 0.3194 - 6s/epoch - 2ms/step\n",
      "Epoch 2/10\n"
     ]
    },
    {
     "name": "stderr",
     "output_type": "stream",
     "text": [
      "c:\\Users\\cdub6\\anaconda3\\Lib\\site-packages\\keras\\src\\engine\\training.py:3103: UserWarning: You are saving your model as an HDF5 file via `model.save()`. This file format is considered legacy. We recommend using instead the native Keras format, e.g. `model.save('my_model.keras')`.\n",
      "  saving_api.save_model(\n"
     ]
    },
    {
     "name": "stdout",
     "output_type": "stream",
     "text": [
      "2573/2573 - 5s - loss: 0.4494 - val_loss: 0.3194 - 5s/epoch - 2ms/step\n",
      "Epoch 3/10\n",
      "2573/2573 - 5s - loss: 0.4494 - val_loss: 0.3194 - 5s/epoch - 2ms/step\n",
      "Epoch 3: early stopping\n",
      "1\n",
      "Epoch 1/10\n",
      "2573/2573 - 5s - loss: 0.4494 - val_loss: 0.3194 - 5s/epoch - 2ms/step\n",
      "Epoch 2/10\n",
      "2573/2573 - 5s - loss: 0.4494 - val_loss: 0.3194 - 5s/epoch - 2ms/step\n",
      "Epoch 3/10\n",
      "2573/2573 - 5s - loss: 0.4494 - val_loss: 0.3194 - 5s/epoch - 2ms/step\n",
      "Epoch 3: early stopping\n",
      "2\n",
      "Epoch 1/10\n",
      "2573/2573 - 6s - loss: 0.4494 - val_loss: 0.3194 - 6s/epoch - 2ms/step\n",
      "Epoch 2/10\n",
      "2573/2573 - 5s - loss: 0.4494 - val_loss: 0.3194 - 5s/epoch - 2ms/step\n",
      "Epoch 3/10\n",
      "2573/2573 - 5s - loss: 0.4494 - val_loss: 0.3194 - 5s/epoch - 2ms/step\n",
      "Epoch 3: early stopping\n",
      "3\n",
      "Epoch 1/10\n",
      "2573/2573 - 5s - loss: 0.4494 - val_loss: 0.3194 - 5s/epoch - 2ms/step\n",
      "Epoch 2/10\n",
      "2573/2573 - 5s - loss: 0.4494 - val_loss: 0.3194 - 5s/epoch - 2ms/step\n",
      "Epoch 3/10\n",
      "2573/2573 - 5s - loss: 0.4494 - val_loss: 0.3194 - 5s/epoch - 2ms/step\n",
      "Epoch 3: early stopping\n",
      "4\n",
      "Epoch 1/10\n",
      "2573/2573 - 5s - loss: 0.4494 - val_loss: 0.3194 - 5s/epoch - 2ms/step\n",
      "Epoch 2/10\n",
      "2573/2573 - 5s - loss: 0.4494 - val_loss: 0.3194 - 5s/epoch - 2ms/step\n",
      "Epoch 3/10\n",
      "2573/2573 - 5s - loss: 0.4494 - val_loss: 0.3194 - 5s/epoch - 2ms/step\n",
      "Epoch 3: early stopping\n"
     ]
    }
   ],
   "source": [
    "checkpointer = ModelCheckpoint(filepath=\"best_weights_fcnn.hdf5\", verbose=0, save_best_only=True) # save best model\n",
    "\n",
    "for i in range(5):\n",
    "    print(i)\n",
    "\n",
    "    model = Sequential()\n",
    "    model.add(Dense(21, input_dim=x_train.shape[1], activation='relu'))\n",
    "    model.add(Dense(1, activation='softmax'))\n",
    "    model.compile(loss='mean_squared_error', optimizer='sgd')\n",
    "    monitor = EarlyStopping(monitor='val_loss', min_delta=1e-3, patience=2, verbose=2, mode='auto')\n",
    "    model.fit(x_train,y_train,validation_data=(x_test,y_test),callbacks=[monitor,checkpointer],verbose=2,epochs=10)"
   ]
  },
  {
   "cell_type": "markdown",
   "metadata": {},
   "source": [
    "### *Model:  sigmoid and sgd*"
   ]
  },
  {
   "cell_type": "code",
   "execution_count": 9,
   "metadata": {},
   "outputs": [
    {
     "name": "stdout",
     "output_type": "stream",
     "text": [
      "0\n",
      "Epoch 1/10\n",
      "2573/2573 - 6s - loss: 0.4494 - val_loss: 0.3194 - 6s/epoch - 2ms/step\n",
      "Epoch 2/10\n"
     ]
    },
    {
     "name": "stderr",
     "output_type": "stream",
     "text": [
      "c:\\Users\\cdub6\\anaconda3\\Lib\\site-packages\\keras\\src\\engine\\training.py:3103: UserWarning: You are saving your model as an HDF5 file via `model.save()`. This file format is considered legacy. We recommend using instead the native Keras format, e.g. `model.save('my_model.keras')`.\n",
      "  saving_api.save_model(\n"
     ]
    },
    {
     "name": "stdout",
     "output_type": "stream",
     "text": [
      "2573/2573 - 5s - loss: 0.4494 - val_loss: 0.3194 - 5s/epoch - 2ms/step\n",
      "Epoch 3/10\n",
      "2573/2573 - 5s - loss: 0.4494 - val_loss: 0.3194 - 5s/epoch - 2ms/step\n",
      "Epoch 3: early stopping\n",
      "1\n",
      "Epoch 1/10\n",
      "2573/2573 - 6s - loss: 0.4494 - val_loss: 0.3194 - 6s/epoch - 2ms/step\n",
      "Epoch 2/10\n",
      "2573/2573 - 5s - loss: 0.4494 - val_loss: 0.3194 - 5s/epoch - 2ms/step\n",
      "Epoch 3/10\n",
      "2573/2573 - 5s - loss: 0.4494 - val_loss: 0.3194 - 5s/epoch - 2ms/step\n",
      "Epoch 3: early stopping\n",
      "2\n",
      "Epoch 1/10\n",
      "2573/2573 - 5s - loss: 0.4494 - val_loss: 0.3194 - 5s/epoch - 2ms/step\n",
      "Epoch 2/10\n",
      "2573/2573 - 5s - loss: 0.4494 - val_loss: 0.3194 - 5s/epoch - 2ms/step\n",
      "Epoch 3/10\n",
      "2573/2573 - 5s - loss: 0.4494 - val_loss: 0.3194 - 5s/epoch - 2ms/step\n",
      "Epoch 3: early stopping\n",
      "3\n",
      "Epoch 1/10\n",
      "2573/2573 - 5s - loss: 0.4494 - val_loss: 0.3194 - 5s/epoch - 2ms/step\n",
      "Epoch 2/10\n",
      "2573/2573 - 5s - loss: 0.4494 - val_loss: 0.3194 - 5s/epoch - 2ms/step\n",
      "Epoch 3/10\n",
      "2573/2573 - 5s - loss: 0.4494 - val_loss: 0.3194 - 5s/epoch - 2ms/step\n",
      "Epoch 3: early stopping\n",
      "4\n",
      "Epoch 1/10\n",
      "2573/2573 - 5s - loss: 0.4494 - val_loss: 0.3194 - 5s/epoch - 2ms/step\n",
      "Epoch 2/10\n",
      "2573/2573 - 5s - loss: 0.4494 - val_loss: 0.3194 - 5s/epoch - 2ms/step\n",
      "Epoch 3/10\n",
      "2573/2573 - 5s - loss: 0.4494 - val_loss: 0.3194 - 5s/epoch - 2ms/step\n",
      "Epoch 3: early stopping\n"
     ]
    }
   ],
   "source": [
    "checkpointer = ModelCheckpoint(filepath=\"best_weights_fcnn.hdf5\", verbose=0, save_best_only=True) # save best model\n",
    "\n",
    "for i in range(5):\n",
    "    print(i)\n",
    "\n",
    "    model = Sequential()\n",
    "    model.add(Dense(21, input_dim=x_train.shape[1], activation='sigmoid'))\n",
    "    model.add(Dense(1, activation='softmax'))\n",
    "    model.compile(loss='mean_squared_error', optimizer='sgd')\n",
    "    monitor = EarlyStopping(monitor='val_loss', min_delta=1e-3, patience=2, verbose=2, mode='auto')\n",
    "    model.fit(x_train,y_train,validation_data=(x_test,y_test),callbacks=[monitor,checkpointer],verbose=2,epochs=10)"
   ]
  },
  {
   "cell_type": "markdown",
   "metadata": {},
   "source": [
    "### *Model:  tanh and sgd*"
   ]
  },
  {
   "cell_type": "code",
   "execution_count": 10,
   "metadata": {},
   "outputs": [
    {
     "name": "stdout",
     "output_type": "stream",
     "text": [
      "0\n",
      "Epoch 1/10\n",
      "2573/2573 - 5s - loss: 0.4494 - val_loss: 0.3194 - 5s/epoch - 2ms/step\n",
      "Epoch 2/10\n",
      "2573/2573 - 5s - loss: 0.4494 - val_loss: 0.3194 - 5s/epoch - 2ms/step\n",
      "Epoch 3/10\n",
      "2573/2573 - 5s - loss: 0.4494 - val_loss: 0.3194 - 5s/epoch - 2ms/step\n",
      "Epoch 3: early stopping\n",
      "1\n",
      "Epoch 1/10\n",
      "2573/2573 - 5s - loss: 0.4494 - val_loss: 0.3194 - 5s/epoch - 2ms/step\n",
      "Epoch 2/10\n",
      "2573/2573 - 5s - loss: 0.4494 - val_loss: 0.3194 - 5s/epoch - 2ms/step\n",
      "Epoch 3/10\n",
      "2573/2573 - 5s - loss: 0.4494 - val_loss: 0.3194 - 5s/epoch - 2ms/step\n",
      "Epoch 3: early stopping\n",
      "2\n",
      "Epoch 1/10\n",
      "2573/2573 - 5s - loss: 0.4494 - val_loss: 0.3194 - 5s/epoch - 2ms/step\n",
      "Epoch 2/10\n",
      "2573/2573 - 5s - loss: 0.4494 - val_loss: 0.3194 - 5s/epoch - 2ms/step\n",
      "Epoch 3/10\n",
      "2573/2573 - 5s - loss: 0.4494 - val_loss: 0.3194 - 5s/epoch - 2ms/step\n",
      "Epoch 3: early stopping\n",
      "3\n",
      "Epoch 1/10\n",
      "2573/2573 - 5s - loss: 0.4494 - val_loss: 0.3194 - 5s/epoch - 2ms/step\n",
      "Epoch 2/10\n",
      "2573/2573 - 5s - loss: 0.4494 - val_loss: 0.3194 - 5s/epoch - 2ms/step\n",
      "Epoch 3/10\n",
      "2573/2573 - 5s - loss: 0.4494 - val_loss: 0.3194 - 5s/epoch - 2ms/step\n",
      "Epoch 3: early stopping\n",
      "4\n",
      "Epoch 1/10\n",
      "2573/2573 - 5s - loss: 0.4494 - val_loss: 0.3194 - 5s/epoch - 2ms/step\n",
      "Epoch 2/10\n",
      "2573/2573 - 5s - loss: 0.4494 - val_loss: 0.3194 - 5s/epoch - 2ms/step\n",
      "Epoch 3/10\n",
      "2573/2573 - 5s - loss: 0.4494 - val_loss: 0.3194 - 5s/epoch - 2ms/step\n",
      "Epoch 3: early stopping\n"
     ]
    }
   ],
   "source": [
    "checkpointer = ModelCheckpoint(filepath=\"best_weights_fcnn.hdf5\", verbose=0, save_best_only=True) # save best model\n",
    "\n",
    "for i in range(5):\n",
    "    print(i)\n",
    "\n",
    "    model = Sequential()\n",
    "    model.add(Dense(21, input_dim=x_train.shape[1], activation='tanh'))\n",
    "    model.add(Dense(1, activation='softmax'))\n",
    "    model.compile(loss='mean_squared_error', optimizer='sgd')\n",
    "    monitor = EarlyStopping(monitor='val_loss', min_delta=1e-3, patience=2, verbose=2, mode='auto')\n",
    "    model.fit(x_train,y_train,validation_data=(x_test,y_test),callbacks=[monitor,checkpointer],verbose=2,epochs=10)"
   ]
  },
  {
   "cell_type": "markdown",
   "metadata": {},
   "source": [
    "### *Load best model*"
   ]
  },
  {
   "cell_type": "code",
   "execution_count": 37,
   "metadata": {},
   "outputs": [],
   "source": [
    "model.load_weights('best_weights_fcnn.hdf5')"
   ]
  },
  {
   "cell_type": "markdown",
   "metadata": {},
   "source": [
    "### *Recall*"
   ]
  },
  {
   "cell_type": "code",
   "execution_count": 38,
   "metadata": {},
   "outputs": [
    {
     "name": "stdout",
     "output_type": "stream",
     "text": [
      "5480/5480 [==============================] - 3s 633us/step\n"
     ]
    }
   ],
   "source": [
    "prediction = model.predict(x_test)\n",
    "recall = mt.recall_score(y_test, prediction, average='weighted')"
   ]
  },
  {
   "cell_type": "markdown",
   "metadata": {},
   "source": [
    "###  *Precision*"
   ]
  },
  {
   "cell_type": "code",
   "execution_count": 39,
   "metadata": {},
   "outputs": [
    {
     "name": "stderr",
     "output_type": "stream",
     "text": [
      "c:\\Users\\cdub6\\anaconda3\\Lib\\site-packages\\sklearn\\metrics\\_classification.py:1344: UndefinedMetricWarning: Precision is ill-defined and being set to 0.0 in labels with no predicted samples. Use `zero_division` parameter to control this behavior.\n",
      "  _warn_prf(average, modifier, msg_start, len(result))\n"
     ]
    }
   ],
   "source": [
    "precision = mt.precision_score(y_test, prediction, average='weighted')"
   ]
  },
  {
   "cell_type": "markdown",
   "metadata": {},
   "source": [
    "### *F1 score*"
   ]
  },
  {
   "cell_type": "code",
   "execution_count": 40,
   "metadata": {},
   "outputs": [],
   "source": [
    "f1 = mt.f1_score(y_test, prediction, average='weighted')"
   ]
  },
  {
   "cell_type": "markdown",
   "metadata": {},
   "source": [
    "### *Classification Report*"
   ]
  },
  {
   "cell_type": "code",
   "execution_count": 41,
   "metadata": {},
   "outputs": [
    {
     "name": "stdout",
     "output_type": "stream",
     "text": [
      "              precision    recall  f1-score   support\n",
      "\n",
      "         0.0       0.00      0.00      0.00     56000\n",
      "         1.0       0.68      1.00      0.81    119341\n",
      "\n",
      "    accuracy                           0.68    175341\n",
      "   macro avg       0.34      0.50      0.40    175341\n",
      "weighted avg       0.46      0.68      0.55    175341\n",
      "\n"
     ]
    },
    {
     "name": "stderr",
     "output_type": "stream",
     "text": [
      "c:\\Users\\cdub6\\anaconda3\\Lib\\site-packages\\sklearn\\metrics\\_classification.py:1344: UndefinedMetricWarning: Precision and F-score are ill-defined and being set to 0.0 in labels with no predicted samples. Use `zero_division` parameter to control this behavior.\n",
      "  _warn_prf(average, modifier, msg_start, len(result))\n",
      "c:\\Users\\cdub6\\anaconda3\\Lib\\site-packages\\sklearn\\metrics\\_classification.py:1344: UndefinedMetricWarning: Precision and F-score are ill-defined and being set to 0.0 in labels with no predicted samples. Use `zero_division` parameter to control this behavior.\n",
      "  _warn_prf(average, modifier, msg_start, len(result))\n",
      "c:\\Users\\cdub6\\anaconda3\\Lib\\site-packages\\sklearn\\metrics\\_classification.py:1344: UndefinedMetricWarning: Precision and F-score are ill-defined and being set to 0.0 in labels with no predicted samples. Use `zero_division` parameter to control this behavior.\n",
      "  _warn_prf(average, modifier, msg_start, len(result))\n"
     ]
    }
   ],
   "source": [
    "print(mt.classification_report(y_test, prediction))"
   ]
  },
  {
   "cell_type": "code",
   "execution_count": 42,
   "metadata": {},
   "outputs": [
    {
     "name": "stdout",
     "output_type": "stream",
     "text": [
      "[[     0  56000]\n",
      " [     0 119341]]\n",
      "Plotting confusion matrix\n"
     ]
    },
    {
     "data": {
      "image/png": "[encoded data removed]",
      "text/plain": [
       "<Figure size 640x480 with 2 Axes>"
      ]
     },
     "metadata": {},
     "output_type": "display_data"
    }
   ],
   "source": [
    "diagnosis = encode_text_index(training_df, 'label')\n",
    "\n",
    "cm = confusion_matrix(y_test, prediction)\n",
    "print(cm)\n",
    "\n",
    "print('Plotting confusion matrix')\n",
    "\n",
    "plt.figure()\n",
    "plot_confusion_matrix(cm, diagnosis)\n",
    "plt.show()"
   ]
  },
  {
   "cell_type": "markdown",
   "metadata": {},
   "source": [
    "### *ROC Curve*"
   ]
  },
  {
   "cell_type": "code",
   "execution_count": 43,
   "metadata": {},
   "outputs": [
    {
     "data": {
      "image/png": "[encoded data removed]",
      "text/plain": [
       "<Figure size 640x480 with 1 Axes>"
      ]
     },
     "metadata": {},
     "output_type": "display_data"
    }
   ],
   "source": [
    "plot_roc(prediction, y_test)"
   ]
  }
 ],
 "metadata": {
  "kernelspec": {
   "display_name": "base",
   "language": "python",
   "name": "python3"
  },
  "language_info": {
   "codemirror_mode": {
    "name": "ipython",
    "version": 3
   },
   "file_extension": ".py",
   "mimetype": "text/x-python",
   "name": "python",
   "nbconvert_exporter": "python",
   "pygments_lexer": "ipython3",
   "version": "3.11.5"
  }
 },
 "nbformat": 4,
 "nbformat_minor": 2
}
