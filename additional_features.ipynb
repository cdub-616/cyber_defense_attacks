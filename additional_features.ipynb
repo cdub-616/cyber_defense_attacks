{
 "cells": [
  {
   "cell_type": "markdown",
   "metadata": {},
   "source": [
    "# **Additional features**"
   ]
  },
  {
   "cell_type": "markdown",
   "metadata": {},
   "source": [
    "### *Libraries and functions*"
   ]
  },
  {
   "cell_type": "code",
   "execution_count": 94,
   "metadata": {},
   "outputs": [],
   "source": [
    "%matplotlib inline\n",
    "from collections.abc import Sequence\n",
    "from sklearn import preprocessing\n",
    "from sklearn import metrics as mt\n",
    "from sklearn import svm, datasets\n",
    "from sklearn.model_selection import train_test_split\n",
    "from sklearn.metrics import confusion_matrix, classification_report, roc_curve, auc\n",
    "from tensorflow.keras.models import load_model\n",
    "from tensorflow.keras.models import Sequential\n",
    "from tensorflow.keras.layers import Dense, Dropout\n",
    "from tensorflow.keras.callbacks import EarlyStopping\n",
    "from tensorflow.keras.callbacks import ModelCheckpoint\n",
    "\n",
    "import matplotlib.pyplot as plt\n",
    "import matplotlib as mpl\n",
    "import numpy as np\n",
    "import pandas as pd\n",
    "import shutil\n",
    "import os\n",
    "import tensorflow as tf\n",
    "\n",
    "\n",
    "\n",
    "# Encode text values to dummy variables(i.e. [1,0,0],[0,1,0],[0,0,1] for red,green,blue)\n",
    "def encode_text_dummy(df, name):\n",
    "    dummies = pd.get_dummies(df[name])\n",
    "    for x in dummies.columns:\n",
    "        dummy_name = \"{}-{}\".format(name, x)\n",
    "        df[dummy_name] = dummies[x]\n",
    "    df.drop(name, axis=1, inplace=True)\n",
    "\n",
    "# Encode text values to a single dummy variable.  The new columns (which do not replace the old) will have a 1\n",
    "# at every location where the original column (name) matches each of the target_values.  One column is added for\n",
    "# each target value.\n",
    "def encode_text_single_dummy(df, name, target_values):\n",
    "    for tv in target_values:\n",
    "        l = list(df[name].astype(str))\n",
    "        l = [1 if str(x) == str(tv) else 0 for x in l]\n",
    "        name2 = \"{}-{}\".format(name, tv)\n",
    "        df[name2] = l\n",
    "\n",
    "# Encode text values to indexes(i.e. [1],[2],[3] for red,green,blue).\n",
    "def encode_text_index(df, name):\n",
    "    le = preprocessing.LabelEncoder()\n",
    "    df[name] = le.fit_transform(df[name])\n",
    "    return le.classes_\n",
    "\n",
    "\n",
    "# Encode a numeric column as zscores\n",
    "def encode_numeric_zscore(df, name, mean=None, sd=None):\n",
    "    if mean is None:\n",
    "        mean = df[name].mean()\n",
    "\n",
    "    if sd is None:\n",
    "        sd = df[name].std()\n",
    "\n",
    "    df[name] = (df[name] - mean) / sd\n",
    "\n",
    "# Convert all missing values in the specified column to the default\n",
    "def missing_default(df, name, default_value):\n",
    "    df[name] = df[name].fillna(default_value)\n",
    "\n",
    "\n",
    "# Convert a Pandas dataframe to the x,y inputs that TensorFlow needs\n",
    "def to_xy(df, target):\n",
    "    result = []\n",
    "    for x in df.columns:\n",
    "        if x != target:\n",
    "            result.append(x)\n",
    "    # find out the type of the target column.\n",
    "    target_type = df[target].dtypes\n",
    "    target_type = target_type[0] if isinstance(target_type, Sequence) else target_type\n",
    "    # Encode to int for classification, float otherwise. TensorFlow likes 32 bits.\n",
    "    if target_type in (np.int64, np.int32):\n",
    "        # Classification\n",
    "        dummies = pd.get_dummies(df[target])\n",
    "        return df[result].values.astype(np.float32), dummies.values.astype(np.float32)\n",
    "    else:\n",
    "        # Regression\n",
    "        return df[result].values.astype(np.float32), df[target].values.astype(np.float32)\n",
    "\n",
    "# Nicely formatted time string\n",
    "def hms_string(sec_elapsed):\n",
    "    h = int(sec_elapsed / (60 * 60))\n",
    "    m = int((sec_elapsed % (60 * 60)) / 60)\n",
    "    s = sec_elapsed % 60\n",
    "    return \"{}:{:>02}:{:>05.2f}\".format(h, m, s)\n",
    "\n",
    "# Regression chart.\n",
    "def chart_regression(pred,y,sort=True, sample_size=100, figsize=(15,10), title='Lift Chart, Random Sample'):\n",
    "    t = pd.DataFrame({'pred' : pred, 'y' : y.flatten()})\n",
    "    if sort:\n",
    "        t.sort_values(by=['y'],inplace=True)\n",
    "    if len(t) > sample_size:\n",
    "        t = t.sample(sample_size, random_state=42)\n",
    "    plt.figure(figsize=figsize)\n",
    "    plt.title(title)\n",
    "    a = plt.plot(t['y'].tolist(),label='expected')\n",
    "    b = plt.plot(t['pred'].tolist(),label='prediction')\n",
    "    plt.ylabel('output')\n",
    "    plt.legend()\n",
    "    plt.show()\n",
    "\n",
    "# Remove all rows where the specified column is +/- sd standard deviations\n",
    "def remove_outliers(df, name, sd):\n",
    "    drop_rows = df.index[(np.abs(df[name] - df[name].mean()) >= (sd * df[name].std()))]\n",
    "    df.drop(drop_rows, axis=0, inplace=True)\n",
    "\n",
    "# Encode a column to a range between normalized_low and normalized_high.\n",
    "def encode_numeric_range(df, name, normalized_low=-1, normalized_high=1,\n",
    "                         data_low=None, data_high=None):\n",
    "    if data_low is None:\n",
    "        data_low = min(df[name])\n",
    "        data_high = max(df[name])\n",
    "\n",
    "    df[name] = ((df[name] - data_low) / (data_high - data_low)) \\\n",
    "               * (normalized_high - normalized_low) + normalized_low\n",
    "    \n",
    "# Plot a confusion matrix.\n",
    "# cm is the confusion matrix, names are the names of the classes.\n",
    "def plot_confusion_matrix(cm, names, title='Confusion matrix', cmap=plt.cm.Blues):\n",
    "    plt.imshow(cm, interpolation='nearest', cmap=cmap)\n",
    "    plt.title(title)\n",
    "    plt.colorbar()\n",
    "    tick_marks = np.arange(len(names))\n",
    "    plt.xticks(tick_marks, names, rotation=45)\n",
    "    plt.yticks(tick_marks, names)\n",
    "    plt.tight_layout()\n",
    "    plt.ylabel('True label')\n",
    "    plt.xlabel('Predicted label')\n",
    "\n",
    "# Plot an ROC. pred - the predictions, y - the expected output.\n",
    "def plot_roc(pred,y):\n",
    "    fpr, tpr, thresholds = roc_curve(y, pred)\n",
    "    roc_auc = auc(fpr, tpr)\n",
    "\n",
    "    plt.figure()\n",
    "    plt.plot(fpr, tpr, label='ROC curve (area = %0.2f)' % roc_auc)\n",
    "    plt.plot([0, 1], [0, 1], 'k--')\n",
    "    plt.xlim([0.0, 1.0])\n",
    "    plt.ylim([0.0, 1.05])\n",
    "    plt.xlabel('False Positive Rate')\n",
    "    plt.ylabel('True Positive Rate')\n",
    "    plt.title('Receiver Operating Characteristic (ROC)')\n",
    "    plt.legend(loc=\"lower right\")\n",
    "    plt.show()"
   ]
  },
  {
   "cell_type": "markdown",
   "metadata": {},
   "source": [
    "### *Convert training/test files to pandas*"
   ]
  },
  {
   "cell_type": "code",
   "execution_count": 11,
   "metadata": {},
   "outputs": [
    {
     "name": "stdout",
     "output_type": "stream",
     "text": [
      "training_set_df.shape: (82332, 45)\n",
      "testing_set_df.shape: (175341, 45)\n"
     ]
    }
   ],
   "source": [
    "training_set_df = pd.read_csv('data/UNSW_NB15_testing-set.csv')\n",
    "testing_set_df = pd.read_csv('data/UNSW_NB15_training-set.csv')\n",
    "print('training_set_df.shape:', training_set_df.shape)\n",
    "print('testing_set_df.shape:', testing_set_df.shape)"
   ]
  },
  {
   "cell_type": "markdown",
   "metadata": {},
   "source": [
    "### *Remove rows with missing values*"
   ]
  },
  {
   "cell_type": "code",
   "execution_count": 12,
   "metadata": {},
   "outputs": [
    {
     "name": "stdout",
     "output_type": "stream",
     "text": [
      "training_set_df.shape: (82332, 45)\n",
      "testing_set_df.shape: (175341, 45)\n"
     ]
    }
   ],
   "source": [
    "training_set_df.dropna(inplace=True)\n",
    "testing_set_df.dropna(inplace=True)\n",
    "print('training_set_df.shape:', training_set_df.shape)\n",
    "print('testing_set_df.shape:', testing_set_df.shape)"
   ]
  },
  {
   "cell_type": "markdown",
   "metadata": {},
   "source": [
    "### *Remove rows with normal activity*"
   ]
  },
  {
   "cell_type": "code",
   "execution_count": 13,
   "metadata": {},
   "outputs": [
    {
     "name": "stdout",
     "output_type": "stream",
     "text": [
      "training_set_df.shape: (45332, 45)\n",
      "testing_set_df.shape: (119341, 45)\n"
     ]
    }
   ],
   "source": [
    "training_set_df = training_set_df[training_set_df['label'] != 0]\n",
    "testing_set_df = testing_set_df[testing_set_df['label'] != 0]\n",
    "print('training_set_df.shape:', training_set_df.shape)\n",
    "print('testing_set_df.shape:', testing_set_df.shape)"
   ]
  },
  {
   "cell_type": "markdown",
   "metadata": {},
   "source": [
    "### *Remove unnecessary columns*"
   ]
  },
  {
   "cell_type": "code",
   "execution_count": 14,
   "metadata": {},
   "outputs": [
    {
     "name": "stdout",
     "output_type": "stream",
     "text": [
      "training_set_df.shape: (45332, 43)\n",
      "testing_set_df.shape: (119341, 43)\n"
     ]
    }
   ],
   "source": [
    "training_set_df.drop(['id', 'label'], axis=1, inplace=True)\n",
    "testing_set_df.drop(['id', 'label'], axis=1, inplace=True)\n",
    "print('training_set_df.shape:', training_set_df.shape)\n",
    "print('testing_set_df.shape:', testing_set_df.shape)"
   ]
  },
  {
   "cell_type": "markdown",
   "metadata": {},
   "source": [
    "### *Obtain map of index value to category value*"
   ]
  },
  {
   "cell_type": "code",
   "execution_count": 15,
   "metadata": {},
   "outputs": [
    {
     "name": "stdout",
     "output_type": "stream",
     "text": [
      "index_to_category: {0: 'Reconnaissance', 1: 'Backdoor', 2: 'DoS', 3: 'Exploits', 4: 'Analysis', 5: 'Fuzzers', 6: 'Worms', 7: 'Shellcode', 8: 'Generic'}\n"
     ]
    }
   ],
   "source": [
    "unique_categories = training_set_df['attack_cat'].unique()\n",
    "index_to_category = {index: category for index, category in enumerate(unique_categories)}\n",
    "print('index_to_category:', index_to_category)"
   ]
  },
  {
   "cell_type": "markdown",
   "metadata": {},
   "source": [
    "### *Encode categorical features index*"
   ]
  },
  {
   "cell_type": "code",
   "execution_count": 16,
   "metadata": {},
   "outputs": [],
   "source": [
    "binary_columns = ['attack_cat', 'is_ftp_login', 'is_sm_ips_ports'] #They see these as integers, not binary objects\n",
    "\n",
    "training_df = training_set_df.copy()\n",
    "testing_df = testing_set_df.copy()\n",
    "\n",
    "for column in training_df.select_dtypes(include=['object']).columns: \n",
    "    encode_text_index(training_df, column)\n",
    "    encode_text_index(testing_df, column)\n",
    "\n",
    "for column in binary_columns:\n",
    "    encode_text_index(training_df, column)\n",
    "    encode_text_index(testing_df, column)"
   ]
  },
  {
   "cell_type": "markdown",
   "metadata": {},
   "source": [
    "### *Normalize numeric features*"
   ]
  },
  {
   "cell_type": "code",
   "execution_count": 17,
   "metadata": {},
   "outputs": [],
   "source": [
    "for column in training_set_df.select_dtypes(include=['float64', 'int64']).columns:\n",
    "    if column not in binary_columns:\n",
    "        encode_numeric_zscore(training_df, column)\n",
    "        encode_numeric_zscore(testing_df, column)"
   ]
  },
  {
   "cell_type": "markdown",
   "metadata": {},
   "source": [
    "### *Save dataframes*"
   ]
  },
  {
   "cell_type": "code",
   "execution_count": 18,
   "metadata": {},
   "outputs": [],
   "source": [
    "training_df.to_pickle('data/training_df_additional.pkl');\n",
    "testing_df.to_pickle('data/testing_df_additional.pkl');"
   ]
  },
  {
   "cell_type": "markdown",
   "metadata": {},
   "source": [
    "### *Load dataframes (optional starting point)*"
   ]
  },
  {
   "cell_type": "code",
   "execution_count": 19,
   "metadata": {},
   "outputs": [],
   "source": [
    "training_df = pd.read_pickle('./data/training_df_additional.pkl')\n",
    "testing_df = pd.read_pickle('./data/testing_df_additional.pkl')"
   ]
  },
  {
   "cell_type": "markdown",
   "metadata": {},
   "source": [
    "### *Use dataframe to configure x,y*"
   ]
  },
  {
   "cell_type": "code",
   "execution_count": 20,
   "metadata": {},
   "outputs": [],
   "source": [
    "training_df['attack_cat'] = training_df['attack_cat'].astype('category')\n",
    "testing_df['attack_cat'] = testing_df['attack_cat'].astype('category')\n",
    "x_train, y_train = to_xy(training_df, 'attack_cat')\n",
    "x_test, y_test = to_xy(testing_df, 'attack_cat')"
   ]
  },
  {
   "cell_type": "markdown",
   "metadata": {},
   "source": [
    "### *Shape*"
   ]
  },
  {
   "cell_type": "code",
   "execution_count": 21,
   "metadata": {},
   "outputs": [
    {
     "name": "stdout",
     "output_type": "stream",
     "text": [
      "x_train shape: (45332, 42)\n",
      "y_train shape: (45332,)\n",
      "x_test shape: (119341, 42)\n",
      "y_test shape: (119341,)\n"
     ]
    }
   ],
   "source": [
    "print('x_train shape:', x_train.shape)\n",
    "print('y_train shape:', y_train.shape)\n",
    "print('x_test shape:', x_test.shape)\n",
    "print('y_test shape:', y_test.shape)"
   ]
  },
  {
   "cell_type": "markdown",
   "metadata": {},
   "source": [
    "### *Reshape x's*"
   ]
  },
  {
   "cell_type": "code",
   "execution_count": 22,
   "metadata": {},
   "outputs": [],
   "source": [
    "x_train_rows = x_train.shape[0]\n",
    "x_cols = x_train.shape[1]\n",
    "x_test_rows = x_test.shape[0]\n",
    "x_train = x_train.reshape((x_train_rows, 1, x_cols, 1))\n",
    "x_test = x_test.reshape((x_test_rows, 1, x_cols, 1))"
   ]
  },
  {
   "cell_type": "markdown",
   "metadata": {},
   "source": [
    "### *x_train*"
   ]
  },
  {
   "cell_type": "code",
   "execution_count": 23,
   "metadata": {},
   "outputs": [
    {
     "name": "stdout",
     "output_type": "stream",
     "text": [
      "x_train shape: (45332, 1, 42, 1)\n",
      "[[[[-1.5427328e-02]\n",
      "   [ 7.5000000e+01]\n",
      "   [ 0.0000000e+00]\n",
      "   ...\n",
      "   [-7.2732645e-01]\n",
      "   [-8.3137202e-01]\n",
      "   [ 0.0000000e+00]]]\n",
      "\n",
      "\n",
      " [[[-1.5427328e-02]\n",
      "   [ 7.5000000e+01]\n",
      "   [ 0.0000000e+00]\n",
      "   ...\n",
      "   [-7.2732645e-01]\n",
      "   [-8.3137202e-01]\n",
      "   [ 0.0000000e+00]]]\n",
      "\n",
      "\n",
      " [[[-1.5427328e-02]\n",
      "   [ 7.5000000e+01]\n",
      "   [ 0.0000000e+00]\n",
      "   ...\n",
      "   [-7.2732645e-01]\n",
      "   [-8.3137202e-01]\n",
      "   [ 0.0000000e+00]]]\n",
      "\n",
      "\n",
      " ...\n",
      "\n",
      "\n",
      " [[[ 3.7732542e+00]\n",
      "   [ 1.1500000e+02]\n",
      "   [ 0.0000000e+00]\n",
      "   ...\n",
      "   [-7.2732645e-01]\n",
      "   [-4.5713210e-01]\n",
      "   [ 0.0000000e+00]]]\n",
      "\n",
      "\n",
      " [[[-7.2383285e-02]\n",
      "   [ 1.0900000e+02]\n",
      "   [ 0.0000000e+00]\n",
      "   ...\n",
      "   [-7.2732645e-01]\n",
      "   [-5.3198010e-01]\n",
      "   [ 0.0000000e+00]]]\n",
      "\n",
      "\n",
      " [[[-1.2798063e-01]\n",
      "   [ 1.0900000e+02]\n",
      "   [ 0.0000000e+00]\n",
      "   ...\n",
      "   [-6.3165802e-01]\n",
      "   [-6.0682809e-01]\n",
      "   [ 0.0000000e+00]]]]\n"
     ]
    }
   ],
   "source": [
    "print('x_train shape:', x_train.shape)\n",
    "print (x_train)"
   ]
  },
  {
   "cell_type": "markdown",
   "metadata": {},
   "source": [
    "### *x_test*"
   ]
  },
  {
   "cell_type": "code",
   "execution_count": 24,
   "metadata": {},
   "outputs": [
    {
     "name": "stdout",
     "output_type": "stream",
     "text": [
      "x_test shape: (119341, 1, 42, 1)\n",
      "[[[[-2.1380657e-01]\n",
      "   [ 1.9000000e+01]\n",
      "   [ 0.0000000e+00]\n",
      "   ...\n",
      "   [-6.7011690e-01]\n",
      "   [-5.6223780e-01]\n",
      "   [ 0.0000000e+00]]]\n",
      "\n",
      "\n",
      " [[[-2.1380657e-01]\n",
      "   [ 5.0000000e+01]\n",
      "   [ 0.0000000e+00]\n",
      "   ...\n",
      "   [-6.7011690e-01]\n",
      "   [-3.1350216e-01]\n",
      "   [ 0.0000000e+00]]]\n",
      "\n",
      "\n",
      " [[[-2.1380657e-01]\n",
      "   [ 1.1000000e+01]\n",
      "   [ 0.0000000e+00]\n",
      "   ...\n",
      "   [-7.7625304e-01]\n",
      "   [-3.9641404e-01]\n",
      "   [ 0.0000000e+00]]]\n",
      "\n",
      "\n",
      " ...\n",
      "\n",
      "\n",
      " [[[-2.1380657e-01]\n",
      "   [ 1.1500000e+02]\n",
      "   [ 2.0000000e+00]\n",
      "   ...\n",
      "   [-5.6398076e-01]\n",
      "   [ 1.0105731e-01]\n",
      "   [ 0.0000000e+00]]]\n",
      "\n",
      "\n",
      " [[[-2.1380657e-01]\n",
      "   [ 1.1500000e+02]\n",
      "   [ 2.0000000e+00]\n",
      "   ...\n",
      "   [ 2.3016953e+00]\n",
      "   [ 1.5934714e+00]\n",
      "   [ 0.0000000e+00]]]\n",
      "\n",
      "\n",
      " [[[-2.1380657e-01]\n",
      "   [ 1.1500000e+02]\n",
      "   [ 2.0000000e+00]\n",
      "   ...\n",
      "   [ 2.3016953e+00]\n",
      "   [ 1.5934714e+00]\n",
      "   [ 0.0000000e+00]]]]\n"
     ]
    }
   ],
   "source": [
    "print('x_test shape:', x_test.shape)\n",
    "print (x_test)"
   ]
  },
  {
   "cell_type": "markdown",
   "metadata": {},
   "source": [
    "### *Convert y's to one-hot encoding*"
   ]
  },
  {
   "cell_type": "code",
   "execution_count": 25,
   "metadata": {},
   "outputs": [
    {
     "name": "stdout",
     "output_type": "stream",
     "text": [
      "number_of_classes: 9\n"
     ]
    }
   ],
   "source": [
    "number_of_classes = len(index_to_category)\n",
    "print('number_of_classes:', number_of_classes)\n",
    "y_train_one_hot = tf.keras.utils.to_categorical(y_train, number_of_classes)\n",
    "y_test_one_hot = tf.keras.utils.to_categorical(y_test, number_of_classes)"
   ]
  },
  {
   "cell_type": "markdown",
   "metadata": {},
   "source": [
    "### *y_train_one_hot*"
   ]
  },
  {
   "cell_type": "code",
   "execution_count": 26,
   "metadata": {},
   "outputs": [
    {
     "name": "stdout",
     "output_type": "stream",
     "text": [
      "y_train_one_hot shape: (45332, 9)\n",
      "[[0. 0. 0. ... 1. 0. 0.]\n",
      " [0. 0. 0. ... 1. 0. 0.]\n",
      " [0. 1. 0. ... 0. 0. 0.]\n",
      " ...\n",
      " [0. 0. 0. ... 0. 0. 0.]\n",
      " [0. 0. 0. ... 0. 0. 0.]\n",
      " [0. 0. 0. ... 0. 0. 0.]]\n"
     ]
    }
   ],
   "source": [
    "print('y_train_one_hot shape:', y_train_one_hot.shape)\n",
    "print(y_train_one_hot)"
   ]
  },
  {
   "cell_type": "markdown",
   "metadata": {},
   "source": [
    "### *y_test_one_hot*"
   ]
  },
  {
   "cell_type": "code",
   "execution_count": 27,
   "metadata": {},
   "outputs": [
    {
     "name": "stdout",
     "output_type": "stream",
     "text": [
      "y_test_one_hot shape: (119341, 9)\n",
      "[[0. 1. 0. ... 0. 0. 0.]\n",
      " [0. 1. 0. ... 0. 0. 0.]\n",
      " [0. 1. 0. ... 0. 0. 0.]\n",
      " ...\n",
      " [0. 0. 0. ... 0. 0. 0.]\n",
      " [0. 0. 0. ... 0. 0. 0.]\n",
      " [0. 0. 0. ... 0. 0. 0.]]\n"
     ]
    }
   ],
   "source": [
    "print('y_test_one_hot shape:', y_test_one_hot.shape)\n",
    "print (y_test_one_hot)"
   ]
  },
  {
   "cell_type": "markdown",
   "metadata": {},
   "source": [
    "### *Model:  relu and adam*"
   ]
  },
  {
   "cell_type": "code",
   "execution_count": 28,
   "metadata": {},
   "outputs": [
    {
     "name": "stdout",
     "output_type": "stream",
     "text": [
      "0\n",
      "WARNING:tensorflow:From c:\\Users\\cdub6\\anaconda3\\Lib\\site-packages\\keras\\src\\layers\\pooling\\max_pooling2d.py:161: The name tf.nn.max_pool is deprecated. Please use tf.nn.max_pool2d instead.\n",
      "\n",
      "WARNING:tensorflow:From c:\\Users\\cdub6\\anaconda3\\Lib\\site-packages\\keras\\src\\optimizers\\__init__.py:309: The name tf.train.Optimizer is deprecated. Please use tf.compat.v1.train.Optimizer instead.\n",
      "\n",
      "Epoch 1/100\n",
      "WARNING:tensorflow:From c:\\Users\\cdub6\\anaconda3\\Lib\\site-packages\\keras\\src\\utils\\tf_utils.py:492: The name tf.ragged.RaggedTensorValue is deprecated. Please use tf.compat.v1.ragged.RaggedTensorValue instead.\n",
      "\n",
      "WARNING:tensorflow:From c:\\Users\\cdub6\\anaconda3\\Lib\\site-packages\\keras\\src\\engine\\base_layer_utils.py:384: The name tf.executing_eagerly_outside_functions is deprecated. Please use tf.compat.v1.executing_eagerly_outside_functions instead.\n",
      "\n",
      "1417/1417 - 65s - loss: 0.6831 - accuracy: 0.7514 - val_loss: 0.7484 - val_accuracy: 0.7281 - 65s/epoch - 46ms/step\n",
      "Epoch 2/100\n"
     ]
    },
    {
     "name": "stderr",
     "output_type": "stream",
     "text": [
      "c:\\Users\\cdub6\\anaconda3\\Lib\\site-packages\\keras\\src\\engine\\training.py:3103: UserWarning: You are saving your model as an HDF5 file via `model.save()`. This file format is considered legacy. We recommend using instead the native Keras format, e.g. `model.save('my_model.keras')`.\n",
      "  saving_api.save_model(\n"
     ]
    },
    {
     "name": "stdout",
     "output_type": "stream",
     "text": [
      "1417/1417 - 65s - loss: 0.5690 - accuracy: 0.7828 - val_loss: 0.7396 - val_accuracy: 0.7446 - 65s/epoch - 46ms/step\n",
      "Epoch 3/100\n",
      "1417/1417 - 65s - loss: 0.5372 - accuracy: 0.7900 - val_loss: 0.7355 - val_accuracy: 0.7443 - 65s/epoch - 46ms/step\n",
      "Epoch 4/100\n",
      "1417/1417 - 64s - loss: 0.5166 - accuracy: 0.7952 - val_loss: 0.7736 - val_accuracy: 0.7240 - 64s/epoch - 45ms/step\n",
      "Epoch 5/100\n",
      "1417/1417 - 64s - loss: 0.5049 - accuracy: 0.7977 - val_loss: 0.7804 - val_accuracy: 0.7221 - 64s/epoch - 45ms/step\n",
      "Epoch 5: early stopping\n",
      "1\n",
      "Epoch 1/100\n",
      "1417/1417 - 65s - loss: 0.6737 - accuracy: 0.7532 - val_loss: 0.7535 - val_accuracy: 0.7166 - 65s/epoch - 46ms/step\n",
      "Epoch 2/100\n",
      "1417/1417 - 64s - loss: 0.5675 - accuracy: 0.7840 - val_loss: 0.7465 - val_accuracy: 0.7371 - 64s/epoch - 45ms/step\n",
      "Epoch 3/100\n",
      "1417/1417 - 65s - loss: 0.5350 - accuracy: 0.7907 - val_loss: 0.7491 - val_accuracy: 0.7256 - 65s/epoch - 46ms/step\n",
      "Epoch 4/100\n",
      "1417/1417 - 66s - loss: 0.5178 - accuracy: 0.7958 - val_loss: 0.7090 - val_accuracy: 0.7431 - 66s/epoch - 47ms/step\n",
      "Epoch 5/100\n",
      "1417/1417 - 65s - loss: 0.5042 - accuracy: 0.7946 - val_loss: 0.7582 - val_accuracy: 0.7298 - 65s/epoch - 46ms/step\n",
      "Epoch 6/100\n",
      "1417/1417 - 64s - loss: 0.4912 - accuracy: 0.8032 - val_loss: 0.7287 - val_accuracy: 0.7438 - 64s/epoch - 45ms/step\n",
      "Epoch 6: early stopping\n",
      "2\n",
      "Epoch 1/100\n",
      "1417/1417 - 65s - loss: 0.6683 - accuracy: 0.7545 - val_loss: 0.7643 - val_accuracy: 0.7328 - 65s/epoch - 46ms/step\n",
      "Epoch 2/100\n",
      "1417/1417 - 65s - loss: 0.5687 - accuracy: 0.7819 - val_loss: 0.7859 - val_accuracy: 0.7178 - 65s/epoch - 46ms/step\n",
      "Epoch 3/100\n",
      "1417/1417 - 64s - loss: 0.5365 - accuracy: 0.7904 - val_loss: 0.7440 - val_accuracy: 0.7327 - 64s/epoch - 45ms/step\n",
      "Epoch 4/100\n",
      "1417/1417 - 64s - loss: 0.5162 - accuracy: 0.7949 - val_loss: 0.7480 - val_accuracy: 0.7352 - 64s/epoch - 45ms/step\n",
      "Epoch 5/100\n",
      "1417/1417 - 66s - loss: 0.5015 - accuracy: 0.7994 - val_loss: 0.7054 - val_accuracy: 0.7450 - 66s/epoch - 46ms/step\n",
      "Epoch 6/100\n",
      "1417/1417 - 64s - loss: 0.4934 - accuracy: 0.8011 - val_loss: 0.7206 - val_accuracy: 0.7392 - 64s/epoch - 45ms/step\n",
      "Epoch 7/100\n",
      "1417/1417 - 64s - loss: 0.4831 - accuracy: 0.8048 - val_loss: 0.7673 - val_accuracy: 0.7289 - 64s/epoch - 45ms/step\n",
      "Epoch 7: early stopping\n",
      "3\n",
      "Epoch 1/100\n",
      "1417/1417 - 65s - loss: 0.6766 - accuracy: 0.7531 - val_loss: 0.7789 - val_accuracy: 0.7088 - 65s/epoch - 46ms/step\n",
      "Epoch 2/100\n",
      "1417/1417 - 62s - loss: 0.5686 - accuracy: 0.7826 - val_loss: 0.7959 - val_accuracy: 0.7159 - 62s/epoch - 44ms/step\n",
      "Epoch 3/100\n",
      "1417/1417 - 62s - loss: 0.5356 - accuracy: 0.7908 - val_loss: 0.7369 - val_accuracy: 0.7214 - 62s/epoch - 44ms/step\n",
      "Epoch 4/100\n",
      "1417/1417 - 62s - loss: 0.5146 - accuracy: 0.7963 - val_loss: 0.6985 - val_accuracy: 0.7381 - 62s/epoch - 44ms/step\n",
      "Epoch 5/100\n",
      "1417/1417 - 62s - loss: 0.5036 - accuracy: 0.7996 - val_loss: 0.7739 - val_accuracy: 0.7240 - 62s/epoch - 44ms/step\n",
      "Epoch 6/100\n",
      "1417/1417 - 62s - loss: 0.4936 - accuracy: 0.8006 - val_loss: 0.7223 - val_accuracy: 0.7427 - 62s/epoch - 44ms/step\n",
      "Epoch 6: early stopping\n",
      "4\n",
      "Epoch 1/100\n",
      "1417/1417 - 63s - loss: 0.6818 - accuracy: 0.7511 - val_loss: 0.7696 - val_accuracy: 0.7144 - 63s/epoch - 45ms/step\n",
      "Epoch 2/100\n",
      "1417/1417 - 61s - loss: 0.5669 - accuracy: 0.7823 - val_loss: 0.7213 - val_accuracy: 0.7282 - 61s/epoch - 43ms/step\n",
      "Epoch 3/100\n",
      "1417/1417 - 62s - loss: 0.5376 - accuracy: 0.7909 - val_loss: 0.7170 - val_accuracy: 0.7481 - 62s/epoch - 44ms/step\n",
      "Epoch 4/100\n",
      "1417/1417 - 63s - loss: 0.5204 - accuracy: 0.7926 - val_loss: 0.7727 - val_accuracy: 0.7300 - 63s/epoch - 44ms/step\n",
      "Epoch 5/100\n",
      "1417/1417 - 63s - loss: 0.5045 - accuracy: 0.7984 - val_loss: 0.7309 - val_accuracy: 0.7470 - 63s/epoch - 45ms/step\n",
      "Epoch 5: early stopping\n"
     ]
    }
   ],
   "source": [
    "checkpointer = ModelCheckpoint(filepath=\"best_weights_additional.hdf5\", verbose=0, save_best_only=True) # save best model\n",
    "\n",
    "for i in range(5):\n",
    "    print(i)\n",
    "\n",
    "    model = Sequential()\n",
    "    model.add(tf.keras.layers.Conv2D(64, kernel_size=(3, 3), strides=(1, 1), activation='relu', input_shape=(1, x_cols, 1), padding='same'))\n",
    "    model.add(tf.keras.layers.MaxPooling2D(pool_size=(1, 1)))\n",
    "    model.add(tf.keras.layers.Conv2D(128, kernel_size=(3, 3), strides=(1, 1), activation='relu', padding='same'))\n",
    "    model.add(tf.keras.layers.MaxPooling2D(pool_size=(1, 1)))\n",
    "    model.add(tf.keras.layers.Flatten())\n",
    "    model.add(tf.keras.layers.Dense(1024, activation='relu'))\n",
    "    model.add(Dropout(0.5))\n",
    "    model.add(tf.keras.layers.Dense(number_of_classes, activation='softmax'))\n",
    "    model.compile(loss='categorical_crossentropy', optimizer='adam', metrics=['accuracy'])\n",
    "    monitor = EarlyStopping(monitor='val_loss', min_delta=1e-3, patience=2, verbose=2, mode='auto')\n",
    "    model.fit(x_train, y_train_one_hot, validation_data=(x_test, y_test_one_hot),callbacks=[monitor, checkpointer], verbose=2, epochs=100)"
   ]
  },
  {
   "cell_type": "markdown",
   "metadata": {},
   "source": [
    "### *Model:  sigmoid and adam*"
   ]
  },
  {
   "cell_type": "code",
   "execution_count": 21,
   "metadata": {},
   "outputs": [
    {
     "name": "stdout",
     "output_type": "stream",
     "text": [
      "0\n",
      "Epoch 1/100\n",
      "1417/1417 - 65s - loss: 1.0473 - accuracy: 0.6267 - val_loss: 0.8517 - val_accuracy: 0.7054 - 65s/epoch - 46ms/step\n",
      "Epoch 2/100\n",
      "1417/1417 - 64s - loss: 0.7118 - accuracy: 0.7354 - val_loss: 0.8151 - val_accuracy: 0.6836 - 64s/epoch - 45ms/step\n",
      "Epoch 3/100\n",
      "1417/1417 - 64s - loss: 0.6632 - accuracy: 0.7504 - val_loss: 0.8210 - val_accuracy: 0.6809 - 64s/epoch - 45ms/step\n",
      "Epoch 4/100\n",
      "1417/1417 - 64s - loss: 0.6391 - accuracy: 0.7585 - val_loss: 0.7876 - val_accuracy: 0.7073 - 64s/epoch - 45ms/step\n",
      "Epoch 5/100\n",
      "1417/1417 - 64s - loss: 0.6244 - accuracy: 0.7652 - val_loss: 0.7611 - val_accuracy: 0.7336 - 64s/epoch - 45ms/step\n",
      "Epoch 6/100\n",
      "1417/1417 - 64s - loss: 0.6094 - accuracy: 0.7701 - val_loss: 0.8084 - val_accuracy: 0.7192 - 64s/epoch - 45ms/step\n",
      "Epoch 7/100\n",
      "1417/1417 - 64s - loss: 0.6037 - accuracy: 0.7713 - val_loss: 0.7995 - val_accuracy: 0.7262 - 64s/epoch - 45ms/step\n",
      "Epoch 7: early stopping\n",
      "1\n",
      "Epoch 1/100\n",
      "1417/1417 - 77s - loss: 1.2100 - accuracy: 0.5633 - val_loss: 0.8418 - val_accuracy: 0.6901 - 77s/epoch - 55ms/step\n",
      "Epoch 2/100\n",
      "1417/1417 - 66s - loss: 0.7070 - accuracy: 0.7371 - val_loss: 0.8628 - val_accuracy: 0.6659 - 66s/epoch - 46ms/step\n",
      "Epoch 3/100\n",
      "1417/1417 - 70s - loss: 0.6562 - accuracy: 0.7530 - val_loss: 0.8958 - val_accuracy: 0.6793 - 70s/epoch - 49ms/step\n",
      "Epoch 3: early stopping\n",
      "2\n",
      "Epoch 1/100\n",
      "1417/1417 - 65s - loss: 1.1558 - accuracy: 0.5875 - val_loss: 0.8567 - val_accuracy: 0.6986 - 65s/epoch - 46ms/step\n",
      "Epoch 2/100\n",
      "1417/1417 - 64s - loss: 0.7183 - accuracy: 0.7337 - val_loss: 0.8086 - val_accuracy: 0.7094 - 64s/epoch - 45ms/step\n",
      "Epoch 3/100\n",
      "1417/1417 - 64s - loss: 0.6664 - accuracy: 0.7508 - val_loss: 0.7806 - val_accuracy: 0.7186 - 64s/epoch - 45ms/step\n",
      "Epoch 4/100\n",
      "1417/1417 - 64s - loss: 0.6400 - accuracy: 0.7598 - val_loss: 0.8275 - val_accuracy: 0.6998 - 64s/epoch - 45ms/step\n",
      "Epoch 5/100\n",
      "1417/1417 - 64s - loss: 0.6242 - accuracy: 0.7657 - val_loss: 0.8411 - val_accuracy: 0.7057 - 64s/epoch - 46ms/step\n",
      "Epoch 5: early stopping\n",
      "3\n",
      "Epoch 1/100\n",
      "1417/1417 - 65s - loss: 1.2479 - accuracy: 0.5462 - val_loss: 0.8809 - val_accuracy: 0.6748 - 65s/epoch - 46ms/step\n",
      "Epoch 2/100\n",
      "1417/1417 - 64s - loss: 0.7092 - accuracy: 0.7371 - val_loss: 0.8309 - val_accuracy: 0.6824 - 64s/epoch - 45ms/step\n",
      "Epoch 3/100\n",
      "1417/1417 - 64s - loss: 0.6563 - accuracy: 0.7538 - val_loss: 0.7673 - val_accuracy: 0.7122 - 64s/epoch - 45ms/step\n",
      "Epoch 4/100\n",
      "1417/1417 - 64s - loss: 0.6295 - accuracy: 0.7640 - val_loss: 0.7601 - val_accuracy: 0.7189 - 64s/epoch - 45ms/step\n",
      "Epoch 5/100\n",
      "1417/1417 - 65s - loss: 0.6153 - accuracy: 0.7688 - val_loss: 0.7517 - val_accuracy: 0.7331 - 65s/epoch - 46ms/step\n",
      "Epoch 6/100\n",
      "1417/1417 - 65s - loss: 0.6045 - accuracy: 0.7720 - val_loss: 0.7530 - val_accuracy: 0.7427 - 65s/epoch - 46ms/step\n",
      "Epoch 7/100\n",
      "1417/1417 - 64s - loss: 0.5931 - accuracy: 0.7741 - val_loss: 0.7627 - val_accuracy: 0.7358 - 64s/epoch - 45ms/step\n",
      "Epoch 7: early stopping\n",
      "4\n",
      "Epoch 1/100\n",
      "1417/1417 - 64s - loss: 1.1020 - accuracy: 0.6070 - val_loss: 0.8607 - val_accuracy: 0.6758 - 64s/epoch - 45ms/step\n",
      "Epoch 2/100\n",
      "1417/1417 - 64s - loss: 0.7148 - accuracy: 0.7324 - val_loss: 0.7934 - val_accuracy: 0.7194 - 64s/epoch - 45ms/step\n",
      "Epoch 3/100\n",
      "1417/1417 - 64s - loss: 0.6682 - accuracy: 0.7483 - val_loss: 0.8155 - val_accuracy: 0.7068 - 64s/epoch - 45ms/step\n",
      "Epoch 4/100\n",
      "1417/1417 - 64s - loss: 0.6381 - accuracy: 0.7602 - val_loss: 0.8052 - val_accuracy: 0.6957 - 64s/epoch - 45ms/step\n",
      "Epoch 4: early stopping\n"
     ]
    }
   ],
   "source": [
    "checkpointer = ModelCheckpoint(filepath=\"models/best_weights_additional.hdf5\", verbose=0, save_best_only=True) # save best model\n",
    "\n",
    "for i in range(5):\n",
    "    print(i)\n",
    "\n",
    "    model = Sequential()\n",
    "    model.add(tf.keras.layers.Conv2D(64, kernel_size=(3, 3), strides=(1, 1), activation='sigmoid', input_shape=(1, x_cols, 1), padding='same'))\n",
    "    model.add(tf.keras.layers.MaxPooling2D(pool_size=(1, 1)))\n",
    "    model.add(tf.keras.layers.Conv2D(128, kernel_size=(3, 3), strides=(1, 1), activation='sigmoid', padding='same'))\n",
    "    model.add(tf.keras.layers.MaxPooling2D(pool_size=(1, 1)))\n",
    "    model.add(tf.keras.layers.Flatten())\n",
    "    model.add(tf.keras.layers.Dense(1024, activation='sigmoid'))\n",
    "    model.add(Dropout(0.5))\n",
    "    model.add(tf.keras.layers.Dense(number_of_classes, activation='softmax'))\n",
    "    model.compile(loss='categorical_crossentropy', optimizer='adam', metrics=['accuracy'])\n",
    "    monitor = EarlyStopping(monitor='val_loss', min_delta=1e-3, patience=2, verbose=2, mode='auto')\n",
    "    model.fit(x_train, y_train_one_hot, validation_data=(x_test, y_test_one_hot),callbacks=[monitor, checkpointer], verbose=2, epochs=100)"
   ]
  },
  {
   "cell_type": "markdown",
   "metadata": {},
   "source": [
    "### *Model:  tanh and adam*"
   ]
  },
  {
   "cell_type": "code",
   "execution_count": 22,
   "metadata": {},
   "outputs": [
    {
     "name": "stdout",
     "output_type": "stream",
     "text": [
      "0\n",
      "Epoch 1/100\n",
      "1417/1417 - 67s - loss: 0.8058 - accuracy: 0.7189 - val_loss: 0.8287 - val_accuracy: 0.7166 - 67s/epoch - 47ms/step\n",
      "Epoch 2/100\n",
      "1417/1417 - 63s - loss: 0.7230 - accuracy: 0.7408 - val_loss: 0.8065 - val_accuracy: 0.7214 - 63s/epoch - 45ms/step\n",
      "Epoch 3/100\n",
      "1417/1417 - 64s - loss: 0.7085 - accuracy: 0.7447 - val_loss: 0.8685 - val_accuracy: 0.7012 - 64s/epoch - 45ms/step\n",
      "Epoch 4/100\n",
      "1417/1417 - 63s - loss: 0.6999 - accuracy: 0.7505 - val_loss: 0.9007 - val_accuracy: 0.6761 - 63s/epoch - 44ms/step\n",
      "Epoch 4: early stopping\n",
      "1\n",
      "Epoch 1/100\n",
      "1417/1417 - 64s - loss: 0.8008 - accuracy: 0.7196 - val_loss: 0.8782 - val_accuracy: 0.6816 - 64s/epoch - 45ms/step\n",
      "Epoch 2/100\n",
      "1417/1417 - 65s - loss: 0.7245 - accuracy: 0.7383 - val_loss: 0.8189 - val_accuracy: 0.7101 - 65s/epoch - 46ms/step\n",
      "Epoch 3/100\n",
      "1417/1417 - 64s - loss: 0.7066 - accuracy: 0.7453 - val_loss: 0.8246 - val_accuracy: 0.7170 - 64s/epoch - 45ms/step\n",
      "Epoch 4/100\n",
      "1417/1417 - 65s - loss: 0.6904 - accuracy: 0.7524 - val_loss: 0.7922 - val_accuracy: 0.7059 - 65s/epoch - 46ms/step\n",
      "Epoch 5/100\n",
      "1417/1417 - 66s - loss: 0.6865 - accuracy: 0.7541 - val_loss: 0.8125 - val_accuracy: 0.7308 - 66s/epoch - 46ms/step\n",
      "Epoch 6/100\n",
      "1417/1417 - 64s - loss: 0.6815 - accuracy: 0.7573 - val_loss: 0.7692 - val_accuracy: 0.7202 - 64s/epoch - 45ms/step\n",
      "Epoch 7/100\n",
      "1417/1417 - 64s - loss: 0.6783 - accuracy: 0.7593 - val_loss: 0.8327 - val_accuracy: 0.7068 - 64s/epoch - 45ms/step\n",
      "Epoch 8/100\n",
      "1417/1417 - 64s - loss: 0.6795 - accuracy: 0.7596 - val_loss: 0.8077 - val_accuracy: 0.7261 - 64s/epoch - 45ms/step\n",
      "Epoch 8: early stopping\n",
      "2\n",
      "Epoch 1/100\n",
      "1417/1417 - 65s - loss: 0.8000 - accuracy: 0.7222 - val_loss: 0.9960 - val_accuracy: 0.6289 - 65s/epoch - 46ms/step\n",
      "Epoch 2/100\n",
      "1417/1417 - 64s - loss: 0.7170 - accuracy: 0.7389 - val_loss: 0.9222 - val_accuracy: 0.6664 - 64s/epoch - 45ms/step\n",
      "Epoch 3/100\n",
      "1417/1417 - 64s - loss: 0.7014 - accuracy: 0.7483 - val_loss: 0.8040 - val_accuracy: 0.7165 - 64s/epoch - 45ms/step\n",
      "Epoch 4/100\n",
      "1417/1417 - 64s - loss: 0.6920 - accuracy: 0.7515 - val_loss: 0.7956 - val_accuracy: 0.7236 - 64s/epoch - 45ms/step\n",
      "Epoch 5/100\n",
      "1417/1417 - 64s - loss: 0.6777 - accuracy: 0.7549 - val_loss: 0.8642 - val_accuracy: 0.6889 - 64s/epoch - 45ms/step\n",
      "Epoch 6/100\n",
      "1417/1417 - 64s - loss: 0.6786 - accuracy: 0.7552 - val_loss: 0.8183 - val_accuracy: 0.7193 - 64s/epoch - 45ms/step\n",
      "Epoch 6: early stopping\n",
      "3\n",
      "Epoch 1/100\n",
      "1417/1417 - 65s - loss: 0.8066 - accuracy: 0.7197 - val_loss: 0.9590 - val_accuracy: 0.6777 - 65s/epoch - 46ms/step\n",
      "Epoch 2/100\n",
      "1417/1417 - 64s - loss: 0.7232 - accuracy: 0.7384 - val_loss: 0.8602 - val_accuracy: 0.6859 - 64s/epoch - 45ms/step\n",
      "Epoch 3/100\n",
      "1417/1417 - 63s - loss: 0.7034 - accuracy: 0.7470 - val_loss: 0.8422 - val_accuracy: 0.7077 - 63s/epoch - 45ms/step\n",
      "Epoch 4/100\n",
      "1417/1417 - 64s - loss: 0.6884 - accuracy: 0.7531 - val_loss: 0.8510 - val_accuracy: 0.7044 - 64s/epoch - 45ms/step\n",
      "Epoch 5/100\n",
      "1417/1417 - 66s - loss: 0.6871 - accuracy: 0.7531 - val_loss: 0.8929 - val_accuracy: 0.6730 - 66s/epoch - 46ms/step\n",
      "Epoch 5: early stopping\n",
      "4\n",
      "Epoch 1/100\n",
      "1417/1417 - 66s - loss: 0.8082 - accuracy: 0.7173 - val_loss: 0.8569 - val_accuracy: 0.6956 - 66s/epoch - 46ms/step\n",
      "Epoch 2/100\n",
      "1417/1417 - 64s - loss: 0.7229 - accuracy: 0.7391 - val_loss: 0.8949 - val_accuracy: 0.6867 - 64s/epoch - 45ms/step\n",
      "Epoch 3/100\n",
      "1417/1417 - 63s - loss: 0.7031 - accuracy: 0.7455 - val_loss: 0.8543 - val_accuracy: 0.6831 - 63s/epoch - 45ms/step\n",
      "Epoch 4/100\n",
      "1417/1417 - 64s - loss: 0.6986 - accuracy: 0.7514 - val_loss: 0.9514 - val_accuracy: 0.6668 - 64s/epoch - 45ms/step\n",
      "Epoch 5/100\n",
      "1417/1417 - 64s - loss: 0.6912 - accuracy: 0.7530 - val_loss: 0.8057 - val_accuracy: 0.7292 - 64s/epoch - 45ms/step\n",
      "Epoch 6/100\n",
      "1417/1417 - 64s - loss: 0.6846 - accuracy: 0.7570 - val_loss: 0.7805 - val_accuracy: 0.7237 - 64s/epoch - 45ms/step\n",
      "Epoch 7/100\n",
      "1417/1417 - 64s - loss: 0.6883 - accuracy: 0.7584 - val_loss: 0.7951 - val_accuracy: 0.7229 - 64s/epoch - 45ms/step\n",
      "Epoch 8/100\n",
      "1417/1417 - 64s - loss: 0.6965 - accuracy: 0.7556 - val_loss: 0.7976 - val_accuracy: 0.7318 - 64s/epoch - 45ms/step\n",
      "Epoch 8: early stopping\n"
     ]
    }
   ],
   "source": [
    "checkpointer = ModelCheckpoint(filepath=\"models/best_weights_additional.hdf5\", verbose=0, save_best_only=True) # save best model\n",
    "\n",
    "for i in range(5):\n",
    "    print(i)\n",
    "\n",
    "    model = Sequential()\n",
    "    model.add(tf.keras.layers.Conv2D(64, kernel_size=(3, 3), strides=(1, 1), activation='tanh', input_shape=(1, x_cols, 1), padding='same'))\n",
    "    model.add(tf.keras.layers.MaxPooling2D(pool_size=(1, 1)))\n",
    "    model.add(tf.keras.layers.Conv2D(128, kernel_size=(3, 3), strides=(1, 1), activation='tanh', padding='same'))\n",
    "    model.add(tf.keras.layers.MaxPooling2D(pool_size=(1, 1)))\n",
    "    model.add(tf.keras.layers.Flatten())\n",
    "    model.add(tf.keras.layers.Dense(1024, activation='tanh'))\n",
    "    model.add(Dropout(0.5))\n",
    "    model.add(tf.keras.layers.Dense(number_of_classes, activation='softmax'))\n",
    "    model.compile(loss='categorical_crossentropy', optimizer='adam', metrics=['accuracy'])\n",
    "    monitor = EarlyStopping(monitor='val_loss', min_delta=1e-3, patience=2, verbose=2, mode='auto')\n",
    "    model.fit(x_train, y_train_one_hot, validation_data=(x_test, y_test_one_hot),callbacks=[monitor, checkpointer], verbose=2, epochs=100)"
   ]
  },
  {
   "cell_type": "markdown",
   "metadata": {},
   "source": [
    "### *Model:  relu and sgd*"
   ]
  },
  {
   "cell_type": "code",
   "execution_count": 23,
   "metadata": {},
   "outputs": [
    {
     "name": "stdout",
     "output_type": "stream",
     "text": [
      "0\n",
      "Epoch 1/100\n",
      "1417/1417 - 28s - loss: 1.1078 - accuracy: 0.6154 - val_loss: 0.9816 - val_accuracy: 0.6308 - 28s/epoch - 20ms/step\n",
      "Epoch 2/100\n",
      "1417/1417 - 27s - loss: 0.7936 - accuracy: 0.7207 - val_loss: 0.9461 - val_accuracy: 0.6756 - 27s/epoch - 19ms/step\n",
      "Epoch 3/100\n",
      "1417/1417 - 27s - loss: 0.6965 - accuracy: 0.7521 - val_loss: 0.8344 - val_accuracy: 0.6989 - 27s/epoch - 19ms/step\n",
      "Epoch 4/100\n",
      "1417/1417 - 27s - loss: 0.6585 - accuracy: 0.7616 - val_loss: 0.8031 - val_accuracy: 0.7031 - 27s/epoch - 19ms/step\n",
      "Epoch 5/100\n",
      "1417/1417 - 27s - loss: 0.6355 - accuracy: 0.7648 - val_loss: 0.7905 - val_accuracy: 0.7256 - 27s/epoch - 19ms/step\n",
      "Epoch 6/100\n",
      "1417/1417 - 27s - loss: 0.6201 - accuracy: 0.7696 - val_loss: 0.7910 - val_accuracy: 0.7099 - 27s/epoch - 19ms/step\n",
      "Epoch 7/100\n",
      "1417/1417 - 29s - loss: 0.6065 - accuracy: 0.7718 - val_loss: 0.7684 - val_accuracy: 0.7308 - 29s/epoch - 20ms/step\n",
      "Epoch 8/100\n",
      "1417/1417 - 27s - loss: 0.5979 - accuracy: 0.7731 - val_loss: 0.7833 - val_accuracy: 0.7114 - 27s/epoch - 19ms/step\n",
      "Epoch 9/100\n",
      "1417/1417 - 27s - loss: 0.5902 - accuracy: 0.7761 - val_loss: 0.7669 - val_accuracy: 0.7301 - 27s/epoch - 19ms/step\n",
      "Epoch 10/100\n",
      "1417/1417 - 27s - loss: 0.5833 - accuracy: 0.7787 - val_loss: 0.8007 - val_accuracy: 0.7103 - 27s/epoch - 19ms/step\n",
      "Epoch 11/100\n",
      "1417/1417 - 27s - loss: 0.5785 - accuracy: 0.7789 - val_loss: 0.7973 - val_accuracy: 0.7230 - 27s/epoch - 19ms/step\n",
      "Epoch 11: early stopping\n",
      "1\n",
      "Epoch 1/100\n",
      "1417/1417 - 27s - loss: 1.1142 - accuracy: 0.6108 - val_loss: 0.9569 - val_accuracy: 0.6464 - 27s/epoch - 19ms/step\n",
      "Epoch 2/100\n",
      "1417/1417 - 26s - loss: 0.8078 - accuracy: 0.7139 - val_loss: 0.8552 - val_accuracy: 0.6981 - 26s/epoch - 18ms/step\n",
      "Epoch 3/100\n",
      "1417/1417 - 27s - loss: 0.7065 - accuracy: 0.7468 - val_loss: 0.8066 - val_accuracy: 0.7197 - 27s/epoch - 19ms/step\n",
      "Epoch 4/100\n",
      "1417/1417 - 26s - loss: 0.6706 - accuracy: 0.7568 - val_loss: 0.8443 - val_accuracy: 0.6925 - 26s/epoch - 18ms/step\n",
      "Epoch 5/100\n",
      "1417/1417 - 26s - loss: 0.6468 - accuracy: 0.7623 - val_loss: 0.7879 - val_accuracy: 0.7192 - 26s/epoch - 18ms/step\n",
      "Epoch 6/100\n",
      "1417/1417 - 27s - loss: 0.6295 - accuracy: 0.7664 - val_loss: 0.7826 - val_accuracy: 0.7231 - 27s/epoch - 19ms/step\n",
      "Epoch 7/100\n",
      "1417/1417 - 27s - loss: 0.6170 - accuracy: 0.7703 - val_loss: 0.8051 - val_accuracy: 0.6987 - 27s/epoch - 19ms/step\n",
      "Epoch 8/100\n",
      "1417/1417 - 27s - loss: 0.6071 - accuracy: 0.7714 - val_loss: 0.7757 - val_accuracy: 0.7225 - 27s/epoch - 19ms/step\n",
      "Epoch 9/100\n",
      "1417/1417 - 27s - loss: 0.5991 - accuracy: 0.7732 - val_loss: 0.7530 - val_accuracy: 0.7208 - 27s/epoch - 19ms/step\n",
      "Epoch 10/100\n",
      "1417/1417 - 27s - loss: 0.5920 - accuracy: 0.7740 - val_loss: 0.7813 - val_accuracy: 0.7107 - 27s/epoch - 19ms/step\n",
      "Epoch 11/100\n",
      "1417/1417 - 27s - loss: 0.5854 - accuracy: 0.7768 - val_loss: 0.7885 - val_accuracy: 0.7214 - 27s/epoch - 19ms/step\n",
      "Epoch 11: early stopping\n",
      "2\n",
      "Epoch 1/100\n",
      "1417/1417 - 27s - loss: 1.1286 - accuracy: 0.6042 - val_loss: 0.9772 - val_accuracy: 0.6018 - 27s/epoch - 19ms/step\n",
      "Epoch 2/100\n",
      "1417/1417 - 28s - loss: 0.8065 - accuracy: 0.7145 - val_loss: 0.8551 - val_accuracy: 0.7016 - 28s/epoch - 19ms/step\n",
      "Epoch 3/100\n",
      "1417/1417 - 27s - loss: 0.7041 - accuracy: 0.7483 - val_loss: 0.8434 - val_accuracy: 0.6909 - 27s/epoch - 19ms/step\n",
      "Epoch 4/100\n",
      "1417/1417 - 27s - loss: 0.6662 - accuracy: 0.7574 - val_loss: 0.8421 - val_accuracy: 0.6988 - 27s/epoch - 19ms/step\n",
      "Epoch 5/100\n",
      "1417/1417 - 28s - loss: 0.6440 - accuracy: 0.7624 - val_loss: 0.8090 - val_accuracy: 0.7012 - 28s/epoch - 20ms/step\n",
      "Epoch 6/100\n",
      "1417/1417 - 27s - loss: 0.6272 - accuracy: 0.7662 - val_loss: 0.8475 - val_accuracy: 0.6985 - 27s/epoch - 19ms/step\n",
      "Epoch 7/100\n",
      "1417/1417 - 27s - loss: 0.6142 - accuracy: 0.7706 - val_loss: 0.8333 - val_accuracy: 0.6943 - 27s/epoch - 19ms/step\n",
      "Epoch 7: early stopping\n",
      "3\n",
      "Epoch 1/100\n",
      "1417/1417 - 28s - loss: 1.1181 - accuracy: 0.6106 - val_loss: 0.9404 - val_accuracy: 0.6659 - 28s/epoch - 20ms/step\n",
      "Epoch 2/100\n",
      "1417/1417 - 27s - loss: 0.8369 - accuracy: 0.7065 - val_loss: 0.8525 - val_accuracy: 0.7010 - 27s/epoch - 19ms/step\n",
      "Epoch 3/100\n",
      "1417/1417 - 28s - loss: 0.7089 - accuracy: 0.7463 - val_loss: 0.8235 - val_accuracy: 0.6993 - 28s/epoch - 20ms/step\n",
      "Epoch 4/100\n",
      "1417/1417 - 28s - loss: 0.6684 - accuracy: 0.7577 - val_loss: 0.8163 - val_accuracy: 0.7097 - 28s/epoch - 20ms/step\n",
      "Epoch 5/100\n",
      "1417/1417 - 28s - loss: 0.6416 - accuracy: 0.7656 - val_loss: 0.7884 - val_accuracy: 0.7254 - 28s/epoch - 20ms/step\n",
      "Epoch 6/100\n",
      "1417/1417 - 28s - loss: 0.6259 - accuracy: 0.7652 - val_loss: 0.7894 - val_accuracy: 0.7141 - 28s/epoch - 20ms/step\n",
      "Epoch 7/100\n",
      "1417/1417 - 28s - loss: 0.6126 - accuracy: 0.7704 - val_loss: 0.7782 - val_accuracy: 0.7163 - 28s/epoch - 20ms/step\n",
      "Epoch 8/100\n",
      "1417/1417 - 34s - loss: 0.6023 - accuracy: 0.7741 - val_loss: 0.7980 - val_accuracy: 0.7150 - 34s/epoch - 24ms/step\n",
      "Epoch 9/100\n",
      "1417/1417 - 30s - loss: 0.5944 - accuracy: 0.7744 - val_loss: 0.7689 - val_accuracy: 0.7288 - 30s/epoch - 21ms/step\n",
      "Epoch 10/100\n",
      "1417/1417 - 28s - loss: 0.5871 - accuracy: 0.7746 - val_loss: 0.7636 - val_accuracy: 0.7195 - 28s/epoch - 20ms/step\n",
      "Epoch 11/100\n",
      "1417/1417 - 28s - loss: 0.5808 - accuracy: 0.7767 - val_loss: 0.7828 - val_accuracy: 0.7161 - 28s/epoch - 20ms/step\n",
      "Epoch 12/100\n",
      "1417/1417 - 29s - loss: 0.5741 - accuracy: 0.7814 - val_loss: 0.7878 - val_accuracy: 0.7165 - 29s/epoch - 20ms/step\n",
      "Epoch 12: early stopping\n",
      "4\n",
      "Epoch 1/100\n",
      "1417/1417 - 29s - loss: 1.1079 - accuracy: 0.6148 - val_loss: 0.9182 - val_accuracy: 0.6688 - 29s/epoch - 21ms/step\n",
      "Epoch 2/100\n",
      "1417/1417 - 28s - loss: 0.7942 - accuracy: 0.7195 - val_loss: 0.8807 - val_accuracy: 0.6953 - 28s/epoch - 20ms/step\n",
      "Epoch 3/100\n",
      "1417/1417 - 28s - loss: 0.6994 - accuracy: 0.7505 - val_loss: 0.8179 - val_accuracy: 0.7178 - 28s/epoch - 20ms/step\n",
      "Epoch 4/100\n",
      "1417/1417 - 29s - loss: 0.6607 - accuracy: 0.7610 - val_loss: 0.8423 - val_accuracy: 0.6910 - 29s/epoch - 21ms/step\n",
      "Epoch 5/100\n",
      "1417/1417 - 28s - loss: 0.6381 - accuracy: 0.7636 - val_loss: 0.7827 - val_accuracy: 0.7151 - 28s/epoch - 19ms/step\n",
      "Epoch 6/100\n",
      "1417/1417 - 28s - loss: 0.6218 - accuracy: 0.7686 - val_loss: 0.7984 - val_accuracy: 0.7003 - 28s/epoch - 20ms/step\n",
      "Epoch 7/100\n",
      "1417/1417 - 30s - loss: 0.6097 - accuracy: 0.7719 - val_loss: 0.7740 - val_accuracy: 0.7194 - 30s/epoch - 21ms/step\n",
      "Epoch 8/100\n",
      "1417/1417 - 29s - loss: 0.5997 - accuracy: 0.7741 - val_loss: 0.8388 - val_accuracy: 0.6898 - 29s/epoch - 20ms/step\n",
      "Epoch 9/100\n",
      "1417/1417 - 28s - loss: 0.5903 - accuracy: 0.7765 - val_loss: 0.8025 - val_accuracy: 0.7118 - 28s/epoch - 20ms/step\n",
      "Epoch 9: early stopping\n"
     ]
    }
   ],
   "source": [
    "checkpointer = ModelCheckpoint(filepath=\"models/best_weights_additional.hdf5\", verbose=0, save_best_only=True) # save best model\n",
    "\n",
    "for i in range(5):\n",
    "    print(i)\n",
    "\n",
    "    model = Sequential()\n",
    "    model.add(tf.keras.layers.Conv2D(64, kernel_size=(3, 3), strides=(1, 1), activation='relu', input_shape=(1, x_cols, 1), padding='same'))\n",
    "    model.add(tf.keras.layers.MaxPooling2D(pool_size=(1, 1)))\n",
    "    model.add(tf.keras.layers.Conv2D(128, kernel_size=(3, 3), strides=(1, 1), activation='relu', padding='same'))\n",
    "    model.add(tf.keras.layers.MaxPooling2D(pool_size=(1, 1)))\n",
    "    model.add(tf.keras.layers.Flatten())\n",
    "    model.add(tf.keras.layers.Dense(1024, activation='relu'))\n",
    "    model.add(Dropout(0.5))\n",
    "    model.add(tf.keras.layers.Dense(number_of_classes, activation='softmax'))\n",
    "    model.compile(loss='categorical_crossentropy', optimizer='sgd', metrics=['accuracy'])\n",
    "    monitor = EarlyStopping(monitor='val_loss', min_delta=1e-3, patience=2, verbose=2, mode='auto')\n",
    "    model.fit(x_train, y_train_one_hot, validation_data=(x_test, y_test_one_hot),callbacks=[monitor, checkpointer], verbose=2, epochs=100)"
   ]
  },
  {
   "cell_type": "markdown",
   "metadata": {},
   "source": [
    "### *Model:  sigmoid and sgd*"
   ]
  },
  {
   "cell_type": "code",
   "execution_count": 24,
   "metadata": {},
   "outputs": [
    {
     "name": "stdout",
     "output_type": "stream",
     "text": [
      "0\n",
      "Epoch 1/100\n",
      "1417/1417 - 29s - loss: 1.6309 - accuracy: 0.3884 - val_loss: 1.6605 - val_accuracy: 0.3352 - 29s/epoch - 21ms/step\n",
      "Epoch 2/100\n",
      "1417/1417 - 30s - loss: 1.5734 - accuracy: 0.4130 - val_loss: 1.6562 - val_accuracy: 0.3352 - 30s/epoch - 21ms/step\n",
      "Epoch 3/100\n",
      "1417/1417 - 30s - loss: 1.5664 - accuracy: 0.4157 - val_loss: 1.6563 - val_accuracy: 0.3352 - 30s/epoch - 21ms/step\n",
      "Epoch 4/100\n",
      "1417/1417 - 29s - loss: 1.5624 - accuracy: 0.4164 - val_loss: 1.6523 - val_accuracy: 0.3352 - 29s/epoch - 21ms/step\n",
      "Epoch 5/100\n",
      "1417/1417 - 28s - loss: 1.5613 - accuracy: 0.4164 - val_loss: 1.6495 - val_accuracy: 0.3352 - 28s/epoch - 20ms/step\n",
      "Epoch 6/100\n",
      "1417/1417 - 29s - loss: 1.5531 - accuracy: 0.4175 - val_loss: 1.6256 - val_accuracy: 0.3352 - 29s/epoch - 20ms/step\n",
      "Epoch 7/100\n",
      "1417/1417 - 28s - loss: 1.5093 - accuracy: 0.4460 - val_loss: 1.4662 - val_accuracy: 0.4966 - 28s/epoch - 20ms/step\n",
      "Epoch 8/100\n",
      "1417/1417 - 28s - loss: 1.2811 - accuracy: 0.5632 - val_loss: 1.2138 - val_accuracy: 0.5007 - 28s/epoch - 20ms/step\n",
      "Epoch 9/100\n",
      "1417/1417 - 28s - loss: 1.1968 - accuracy: 0.5778 - val_loss: 1.1613 - val_accuracy: 0.5089 - 28s/epoch - 20ms/step\n",
      "Epoch 10/100\n",
      "1417/1417 - 28s - loss: 1.1706 - accuracy: 0.5826 - val_loss: 1.1429 - val_accuracy: 0.5113 - 28s/epoch - 20ms/step\n",
      "Epoch 11/100\n",
      "1417/1417 - 28s - loss: 1.1473 - accuracy: 0.5883 - val_loss: 1.0919 - val_accuracy: 0.5611 - 28s/epoch - 20ms/step\n",
      "Epoch 12/100\n",
      "1417/1417 - 28s - loss: 1.1199 - accuracy: 0.6044 - val_loss: 1.0531 - val_accuracy: 0.6228 - 28s/epoch - 20ms/step\n",
      "Epoch 13/100\n",
      "1417/1417 - 28s - loss: 1.0935 - accuracy: 0.6165 - val_loss: 1.0505 - val_accuracy: 0.6019 - 28s/epoch - 19ms/step\n",
      "Epoch 14/100\n",
      "1417/1417 - 28s - loss: 1.0762 - accuracy: 0.6254 - val_loss: 1.0228 - val_accuracy: 0.6034 - 28s/epoch - 20ms/step\n",
      "Epoch 15/100\n",
      "1417/1417 - 28s - loss: 1.0565 - accuracy: 0.6337 - val_loss: 1.0116 - val_accuracy: 0.6128 - 28s/epoch - 20ms/step\n",
      "Epoch 16/100\n",
      "1417/1417 - 28s - loss: 1.0422 - accuracy: 0.6389 - val_loss: 0.9865 - val_accuracy: 0.6417 - 28s/epoch - 20ms/step\n",
      "Epoch 17/100\n",
      "1417/1417 - 28s - loss: 1.0285 - accuracy: 0.6421 - val_loss: 0.9951 - val_accuracy: 0.6319 - 28s/epoch - 20ms/step\n",
      "Epoch 18/100\n",
      "1417/1417 - 28s - loss: 1.0138 - accuracy: 0.6505 - val_loss: 0.9645 - val_accuracy: 0.6498 - 28s/epoch - 20ms/step\n",
      "Epoch 19/100\n",
      "1417/1417 - 28s - loss: 1.0005 - accuracy: 0.6529 - val_loss: 0.9558 - val_accuracy: 0.6530 - 28s/epoch - 20ms/step\n",
      "Epoch 20/100\n",
      "1417/1417 - 28s - loss: 0.9838 - accuracy: 0.6630 - val_loss: 0.9436 - val_accuracy: 0.6513 - 28s/epoch - 20ms/step\n",
      "Epoch 21/100\n",
      "1417/1417 - 28s - loss: 0.9698 - accuracy: 0.6654 - val_loss: 0.9424 - val_accuracy: 0.6440 - 28s/epoch - 20ms/step\n",
      "Epoch 22/100\n",
      "1417/1417 - 28s - loss: 0.9529 - accuracy: 0.6721 - val_loss: 0.9343 - val_accuracy: 0.6562 - 28s/epoch - 19ms/step\n",
      "Epoch 23/100\n",
      "1417/1417 - 28s - loss: 0.9334 - accuracy: 0.6795 - val_loss: 0.9107 - val_accuracy: 0.6723 - 28s/epoch - 20ms/step\n",
      "Epoch 24/100\n",
      "1417/1417 - 29s - loss: 0.9112 - accuracy: 0.6868 - val_loss: 0.8997 - val_accuracy: 0.6639 - 29s/epoch - 20ms/step\n",
      "Epoch 25/100\n",
      "1417/1417 - 28s - loss: 0.8796 - accuracy: 0.6965 - val_loss: 0.8907 - val_accuracy: 0.6639 - 28s/epoch - 20ms/step\n",
      "Epoch 26/100\n",
      "1417/1417 - 28s - loss: 0.8493 - accuracy: 0.7036 - val_loss: 0.8843 - val_accuracy: 0.6648 - 28s/epoch - 20ms/step\n",
      "Epoch 27/100\n",
      "1417/1417 - 29s - loss: 0.8157 - accuracy: 0.7128 - val_loss: 0.8733 - val_accuracy: 0.6806 - 29s/epoch - 20ms/step\n",
      "Epoch 28/100\n",
      "1417/1417 - 29s - loss: 0.7951 - accuracy: 0.7148 - val_loss: 0.8845 - val_accuracy: 0.6622 - 29s/epoch - 20ms/step\n",
      "Epoch 29/100\n",
      "1417/1417 - 28s - loss: 0.7804 - accuracy: 0.7183 - val_loss: 0.8677 - val_accuracy: 0.6857 - 28s/epoch - 20ms/step\n",
      "Epoch 30/100\n",
      "1417/1417 - 28s - loss: 0.7705 - accuracy: 0.7232 - val_loss: 0.8695 - val_accuracy: 0.6851 - 28s/epoch - 20ms/step\n",
      "Epoch 31/100\n",
      "1417/1417 - 29s - loss: 0.7627 - accuracy: 0.7245 - val_loss: 0.8732 - val_accuracy: 0.6793 - 29s/epoch - 21ms/step\n",
      "Epoch 31: early stopping\n",
      "1\n",
      "Epoch 1/100\n",
      "1417/1417 - 29s - loss: 1.6320 - accuracy: 0.3859 - val_loss: 1.6561 - val_accuracy: 0.3352 - 29s/epoch - 20ms/step\n",
      "Epoch 2/100\n",
      "1417/1417 - 27s - loss: 1.5747 - accuracy: 0.4135 - val_loss: 1.6899 - val_accuracy: 0.3352 - 27s/epoch - 19ms/step\n",
      "Epoch 3/100\n",
      "1417/1417 - 28s - loss: 1.5676 - accuracy: 0.4160 - val_loss: 1.6778 - val_accuracy: 0.3352 - 28s/epoch - 20ms/step\n",
      "Epoch 3: early stopping\n",
      "2\n",
      "Epoch 1/100\n",
      "1417/1417 - 28s - loss: 1.6332 - accuracy: 0.3873 - val_loss: 1.7004 - val_accuracy: 0.3352 - 28s/epoch - 20ms/step\n",
      "Epoch 2/100\n",
      "1417/1417 - 28s - loss: 1.5748 - accuracy: 0.4139 - val_loss: 1.6754 - val_accuracy: 0.3352 - 28s/epoch - 20ms/step\n",
      "Epoch 3/100\n",
      "1417/1417 - 27s - loss: 1.5668 - accuracy: 0.4156 - val_loss: 1.6852 - val_accuracy: 0.3352 - 27s/epoch - 19ms/step\n",
      "Epoch 4/100\n",
      "1417/1417 - 27s - loss: 1.5642 - accuracy: 0.4162 - val_loss: 1.6739 - val_accuracy: 0.3352 - 27s/epoch - 19ms/step\n",
      "Epoch 5/100\n",
      "1417/1417 - 27s - loss: 1.5596 - accuracy: 0.4162 - val_loss: 1.6422 - val_accuracy: 0.3352 - 27s/epoch - 19ms/step\n",
      "Epoch 6/100\n",
      "1417/1417 - 28s - loss: 1.5506 - accuracy: 0.4169 - val_loss: 1.6226 - val_accuracy: 0.3352 - 28s/epoch - 20ms/step\n",
      "Epoch 7/100\n",
      "1417/1417 - 28s - loss: 1.4906 - accuracy: 0.4604 - val_loss: 1.4151 - val_accuracy: 0.4955 - 28s/epoch - 20ms/step\n",
      "Epoch 8/100\n",
      "1417/1417 - 28s - loss: 1.2606 - accuracy: 0.5685 - val_loss: 1.2119 - val_accuracy: 0.5006 - 28s/epoch - 20ms/step\n",
      "Epoch 9/100\n",
      "1417/1417 - 28s - loss: 1.1918 - accuracy: 0.5790 - val_loss: 1.1611 - val_accuracy: 0.5183 - 28s/epoch - 19ms/step\n",
      "Epoch 10/100\n",
      "1417/1417 - 28s - loss: 1.1678 - accuracy: 0.5818 - val_loss: 1.1519 - val_accuracy: 0.5026 - 28s/epoch - 19ms/step\n",
      "Epoch 11/100\n",
      "1417/1417 - 28s - loss: 1.1425 - accuracy: 0.5911 - val_loss: 1.0818 - val_accuracy: 0.5621 - 28s/epoch - 20ms/step\n",
      "Epoch 12/100\n",
      "1417/1417 - 28s - loss: 1.1152 - accuracy: 0.6057 - val_loss: 1.0571 - val_accuracy: 0.6093 - 28s/epoch - 20ms/step\n",
      "Epoch 13/100\n",
      "1417/1417 - 28s - loss: 1.0908 - accuracy: 0.6175 - val_loss: 1.0632 - val_accuracy: 0.5801 - 28s/epoch - 20ms/step\n",
      "Epoch 14/100\n",
      "1417/1417 - 28s - loss: 1.0729 - accuracy: 0.6259 - val_loss: 1.0222 - val_accuracy: 0.6157 - 28s/epoch - 20ms/step\n",
      "Epoch 15/100\n",
      "1417/1417 - 28s - loss: 1.0532 - accuracy: 0.6335 - val_loss: 1.0086 - val_accuracy: 0.6238 - 28s/epoch - 20ms/step\n",
      "Epoch 16/100\n",
      "1417/1417 - 28s - loss: 1.0412 - accuracy: 0.6374 - val_loss: 0.9978 - val_accuracy: 0.6384 - 28s/epoch - 20ms/step\n",
      "Epoch 17/100\n",
      "1417/1417 - 27s - loss: 1.0256 - accuracy: 0.6438 - val_loss: 0.9864 - val_accuracy: 0.6387 - 27s/epoch - 19ms/step\n",
      "Epoch 18/100\n",
      "1417/1417 - 26s - loss: 1.0112 - accuracy: 0.6475 - val_loss: 0.9816 - val_accuracy: 0.6336 - 26s/epoch - 19ms/step\n",
      "Epoch 19/100\n",
      "1417/1417 - 27s - loss: 0.9958 - accuracy: 0.6562 - val_loss: 0.9518 - val_accuracy: 0.6600 - 27s/epoch - 19ms/step\n",
      "Epoch 20/100\n",
      "1417/1417 - 27s - loss: 0.9807 - accuracy: 0.6622 - val_loss: 0.9595 - val_accuracy: 0.6414 - 27s/epoch - 19ms/step\n",
      "Epoch 21/100\n",
      "1417/1417 - 27s - loss: 0.9642 - accuracy: 0.6673 - val_loss: 0.9316 - val_accuracy: 0.6640 - 27s/epoch - 19ms/step\n",
      "Epoch 22/100\n",
      "1417/1417 - 27s - loss: 0.9454 - accuracy: 0.6736 - val_loss: 0.9235 - val_accuracy: 0.6744 - 27s/epoch - 19ms/step\n",
      "Epoch 23/100\n",
      "1417/1417 - 26s - loss: 0.9217 - accuracy: 0.6812 - val_loss: 0.8987 - val_accuracy: 0.6777 - 26s/epoch - 19ms/step\n",
      "Epoch 24/100\n",
      "1417/1417 - 27s - loss: 0.8896 - accuracy: 0.6916 - val_loss: 0.8848 - val_accuracy: 0.6833 - 27s/epoch - 19ms/step\n",
      "Epoch 25/100\n",
      "1417/1417 - 27s - loss: 0.8522 - accuracy: 0.7021 - val_loss: 0.8893 - val_accuracy: 0.6637 - 27s/epoch - 19ms/step\n",
      "Epoch 26/100\n",
      "1417/1417 - 27s - loss: 0.8228 - accuracy: 0.7106 - val_loss: 0.8801 - val_accuracy: 0.6738 - 27s/epoch - 19ms/step\n",
      "Epoch 27/100\n",
      "1417/1417 - 27s - loss: 0.8025 - accuracy: 0.7154 - val_loss: 0.8812 - val_accuracy: 0.6680 - 27s/epoch - 19ms/step\n",
      "Epoch 28/100\n",
      "1417/1417 - 27s - loss: 0.7852 - accuracy: 0.7198 - val_loss: 0.8644 - val_accuracy: 0.6894 - 27s/epoch - 19ms/step\n",
      "Epoch 29/100\n",
      "1417/1417 - 26s - loss: 0.7754 - accuracy: 0.7222 - val_loss: 0.8738 - val_accuracy: 0.6763 - 26s/epoch - 19ms/step\n",
      "Epoch 30/100\n",
      "1417/1417 - 26s - loss: 0.7655 - accuracy: 0.7241 - val_loss: 0.8625 - val_accuracy: 0.6897 - 26s/epoch - 19ms/step\n",
      "Epoch 31/100\n",
      "1417/1417 - 27s - loss: 0.7589 - accuracy: 0.7256 - val_loss: 0.8657 - val_accuracy: 0.6859 - 27s/epoch - 19ms/step\n",
      "Epoch 32/100\n",
      "1417/1417 - 26s - loss: 0.7515 - accuracy: 0.7281 - val_loss: 0.8617 - val_accuracy: 0.6827 - 26s/epoch - 19ms/step\n",
      "Epoch 32: early stopping\n",
      "3\n",
      "Epoch 1/100\n",
      "1417/1417 - 29s - loss: 1.6306 - accuracy: 0.3888 - val_loss: 1.6619 - val_accuracy: 0.3352 - 29s/epoch - 20ms/step\n",
      "Epoch 2/100\n",
      "1417/1417 - 27s - loss: 1.5754 - accuracy: 0.4145 - val_loss: 1.6495 - val_accuracy: 0.3352 - 27s/epoch - 19ms/step\n",
      "Epoch 3/100\n",
      "1417/1417 - 27s - loss: 1.5672 - accuracy: 0.4160 - val_loss: 1.6484 - val_accuracy: 0.3352 - 27s/epoch - 19ms/step\n",
      "Epoch 4/100\n",
      "1417/1417 - 27s - loss: 1.5655 - accuracy: 0.4160 - val_loss: 1.6638 - val_accuracy: 0.3352 - 27s/epoch - 19ms/step\n",
      "Epoch 5/100\n",
      "1417/1417 - 27s - loss: 1.5618 - accuracy: 0.4163 - val_loss: 1.6540 - val_accuracy: 0.3352 - 27s/epoch - 19ms/step\n",
      "Epoch 5: early stopping\n",
      "4\n",
      "Epoch 1/100\n",
      "1417/1417 - 28s - loss: 1.6305 - accuracy: 0.3886 - val_loss: 1.6600 - val_accuracy: 0.3352 - 28s/epoch - 20ms/step\n",
      "Epoch 2/100\n",
      "1417/1417 - 27s - loss: 1.5753 - accuracy: 0.4124 - val_loss: 1.6606 - val_accuracy: 0.3352 - 27s/epoch - 19ms/step\n",
      "Epoch 3/100\n",
      "1417/1417 - 27s - loss: 1.5663 - accuracy: 0.4159 - val_loss: 1.6454 - val_accuracy: 0.3352 - 27s/epoch - 19ms/step\n",
      "Epoch 4/100\n",
      "1417/1417 - 27s - loss: 1.5643 - accuracy: 0.4158 - val_loss: 1.6555 - val_accuracy: 0.3352 - 27s/epoch - 19ms/step\n",
      "Epoch 5/100\n",
      "1417/1417 - 28s - loss: 1.5612 - accuracy: 0.4163 - val_loss: 1.6379 - val_accuracy: 0.3352 - 28s/epoch - 19ms/step\n",
      "Epoch 6/100\n",
      "1417/1417 - 27s - loss: 1.5558 - accuracy: 0.4165 - val_loss: 1.6281 - val_accuracy: 0.3352 - 27s/epoch - 19ms/step\n",
      "Epoch 7/100\n",
      "1417/1417 - 27s - loss: 1.5277 - accuracy: 0.4333 - val_loss: 1.5425 - val_accuracy: 0.4179 - 27s/epoch - 19ms/step\n",
      "Epoch 8/100\n",
      "1417/1417 - 27s - loss: 1.3341 - accuracy: 0.5469 - val_loss: 1.2287 - val_accuracy: 0.5013 - 27s/epoch - 19ms/step\n",
      "Epoch 9/100\n",
      "1417/1417 - 27s - loss: 1.2029 - accuracy: 0.5781 - val_loss: 1.1729 - val_accuracy: 0.5033 - 27s/epoch - 19ms/step\n",
      "Epoch 10/100\n",
      "1417/1417 - 27s - loss: 1.1744 - accuracy: 0.5811 - val_loss: 1.1292 - val_accuracy: 0.5347 - 27s/epoch - 19ms/step\n",
      "Epoch 11/100\n",
      "1417/1417 - 27s - loss: 1.1512 - accuracy: 0.5875 - val_loss: 1.1042 - val_accuracy: 0.5280 - 27s/epoch - 19ms/step\n",
      "Epoch 12/100\n",
      "1417/1417 - 27s - loss: 1.1251 - accuracy: 0.5998 - val_loss: 1.0601 - val_accuracy: 0.5682 - 27s/epoch - 19ms/step\n",
      "Epoch 13/100\n",
      "1417/1417 - 27s - loss: 1.0966 - accuracy: 0.6167 - val_loss: 1.0329 - val_accuracy: 0.6238 - 27s/epoch - 19ms/step\n",
      "Epoch 14/100\n",
      "1417/1417 - 27s - loss: 1.0768 - accuracy: 0.6247 - val_loss: 1.0350 - val_accuracy: 0.6118 - 27s/epoch - 19ms/step\n",
      "Epoch 15/100\n",
      "1417/1417 - 27s - loss: 1.0582 - accuracy: 0.6331 - val_loss: 1.0001 - val_accuracy: 0.6251 - 27s/epoch - 19ms/step\n",
      "Epoch 16/100\n",
      "1417/1417 - 27s - loss: 1.0435 - accuracy: 0.6383 - val_loss: 0.9970 - val_accuracy: 0.6234 - 27s/epoch - 19ms/step\n",
      "Epoch 17/100\n",
      "1417/1417 - 26s - loss: 1.0262 - accuracy: 0.6442 - val_loss: 0.9866 - val_accuracy: 0.6300 - 26s/epoch - 19ms/step\n",
      "Epoch 18/100\n",
      "1417/1417 - 27s - loss: 1.0140 - accuracy: 0.6485 - val_loss: 0.9665 - val_accuracy: 0.6432 - 27s/epoch - 19ms/step\n",
      "Epoch 19/100\n",
      "1417/1417 - 27s - loss: 0.9976 - accuracy: 0.6557 - val_loss: 0.9585 - val_accuracy: 0.6583 - 27s/epoch - 19ms/step\n",
      "Epoch 20/100\n",
      "1417/1417 - 28s - loss: 0.9772 - accuracy: 0.6644 - val_loss: 0.9353 - val_accuracy: 0.6572 - 28s/epoch - 19ms/step\n",
      "Epoch 21/100\n",
      "1417/1417 - 27s - loss: 0.9603 - accuracy: 0.6691 - val_loss: 0.9226 - val_accuracy: 0.6625 - 27s/epoch - 19ms/step\n",
      "Epoch 22/100\n",
      "1417/1417 - 27s - loss: 0.9374 - accuracy: 0.6771 - val_loss: 0.9042 - val_accuracy: 0.6722 - 27s/epoch - 19ms/step\n",
      "Epoch 23/100\n",
      "1417/1417 - 27s - loss: 0.9034 - accuracy: 0.6870 - val_loss: 0.8953 - val_accuracy: 0.6791 - 27s/epoch - 19ms/step\n",
      "Epoch 24/100\n",
      "1417/1417 - 27s - loss: 0.8707 - accuracy: 0.6956 - val_loss: 0.8816 - val_accuracy: 0.6861 - 27s/epoch - 19ms/step\n",
      "Epoch 25/100\n",
      "1417/1417 - 27s - loss: 0.8337 - accuracy: 0.7064 - val_loss: 0.8775 - val_accuracy: 0.6806 - 27s/epoch - 19ms/step\n",
      "Epoch 26/100\n",
      "1417/1417 - 27s - loss: 0.8100 - accuracy: 0.7108 - val_loss: 0.8958 - val_accuracy: 0.6587 - 27s/epoch - 19ms/step\n",
      "Epoch 27/100\n",
      "1417/1417 - 27s - loss: 0.7931 - accuracy: 0.7156 - val_loss: 0.8647 - val_accuracy: 0.6973 - 27s/epoch - 19ms/step\n",
      "Epoch 28/100\n",
      "1417/1417 - 26s - loss: 0.7819 - accuracy: 0.7180 - val_loss: 0.8698 - val_accuracy: 0.6868 - 26s/epoch - 19ms/step\n",
      "Epoch 29/100\n",
      "1417/1417 - 27s - loss: 0.7736 - accuracy: 0.7221 - val_loss: 0.8760 - val_accuracy: 0.6636 - 27s/epoch - 19ms/step\n",
      "Epoch 29: early stopping\n"
     ]
    }
   ],
   "source": [
    "checkpointer = ModelCheckpoint(filepath=\"models/best_weights_additional.hdf5\", verbose=0, save_best_only=True) # save best model\n",
    "\n",
    "for i in range(5):\n",
    "    print(i)\n",
    "\n",
    "    model = Sequential()\n",
    "    model.add(tf.keras.layers.Conv2D(64, kernel_size=(3, 3), strides=(1, 1), activation='sigmoid', input_shape=(1, x_cols, 1), padding='same'))\n",
    "    model.add(tf.keras.layers.MaxPooling2D(pool_size=(1, 1)))\n",
    "    model.add(tf.keras.layers.Conv2D(128, kernel_size=(3, 3), strides=(1, 1), activation='sigmoid', padding='same'))\n",
    "    model.add(tf.keras.layers.MaxPooling2D(pool_size=(1, 1)))\n",
    "    model.add(tf.keras.layers.Flatten())\n",
    "    model.add(tf.keras.layers.Dense(1024, activation='sigmoid'))\n",
    "    model.add(Dropout(0.5))\n",
    "    model.add(tf.keras.layers.Dense(number_of_classes, activation='softmax'))\n",
    "    model.compile(loss='categorical_crossentropy', optimizer='sgd', metrics=['accuracy'])\n",
    "    monitor = EarlyStopping(monitor='val_loss', min_delta=1e-3, patience=2, verbose=2, mode='auto')\n",
    "    model.fit(x_train, y_train_one_hot, validation_data=(x_test, y_test_one_hot),callbacks=[monitor, checkpointer], verbose=2, epochs=100)"
   ]
  },
  {
   "cell_type": "markdown",
   "metadata": {},
   "source": [
    "### *Model:  tanh and sgd*"
   ]
  },
  {
   "cell_type": "code",
   "execution_count": 25,
   "metadata": {},
   "outputs": [
    {
     "name": "stdout",
     "output_type": "stream",
     "text": [
      "0\n",
      "Epoch 1/100\n",
      "1417/1417 - 27s - loss: 0.8985 - accuracy: 0.6900 - val_loss: 0.9105 - val_accuracy: 0.6443 - 27s/epoch - 19ms/step\n",
      "Epoch 2/100\n",
      "1417/1417 - 27s - loss: 0.7462 - accuracy: 0.7404 - val_loss: 0.8821 - val_accuracy: 0.6727 - 27s/epoch - 19ms/step\n",
      "Epoch 3/100\n",
      "1417/1417 - 26s - loss: 0.7189 - accuracy: 0.7478 - val_loss: 0.9006 - val_accuracy: 0.6630 - 26s/epoch - 19ms/step\n",
      "Epoch 4/100\n",
      "1417/1417 - 26s - loss: 0.7002 - accuracy: 0.7524 - val_loss: 0.8614 - val_accuracy: 0.6833 - 26s/epoch - 19ms/step\n",
      "Epoch 5/100\n",
      "1417/1417 - 27s - loss: 0.6875 - accuracy: 0.7543 - val_loss: 0.8315 - val_accuracy: 0.7039 - 27s/epoch - 19ms/step\n",
      "Epoch 6/100\n",
      "1417/1417 - 28s - loss: 0.6749 - accuracy: 0.7555 - val_loss: 0.8395 - val_accuracy: 0.6997 - 28s/epoch - 19ms/step\n",
      "Epoch 7/100\n",
      "1417/1417 - 27s - loss: 0.6662 - accuracy: 0.7576 - val_loss: 0.8012 - val_accuracy: 0.7275 - 27s/epoch - 19ms/step\n",
      "Epoch 8/100\n",
      "1417/1417 - 26s - loss: 0.6586 - accuracy: 0.7579 - val_loss: 0.8104 - val_accuracy: 0.7062 - 26s/epoch - 18ms/step\n",
      "Epoch 9/100\n",
      "1417/1417 - 26s - loss: 0.6529 - accuracy: 0.7603 - val_loss: 0.7968 - val_accuracy: 0.7198 - 26s/epoch - 19ms/step\n",
      "Epoch 10/100\n",
      "1417/1417 - 26s - loss: 0.6468 - accuracy: 0.7631 - val_loss: 0.8164 - val_accuracy: 0.7013 - 26s/epoch - 18ms/step\n",
      "Epoch 11/100\n",
      "1417/1417 - 26s - loss: 0.6415 - accuracy: 0.7632 - val_loss: 0.8555 - val_accuracy: 0.6920 - 26s/epoch - 18ms/step\n",
      "Epoch 11: early stopping\n",
      "1\n",
      "Epoch 1/100\n",
      "1417/1417 - 27s - loss: 0.8997 - accuracy: 0.6900 - val_loss: 0.8861 - val_accuracy: 0.6700 - 27s/epoch - 19ms/step\n",
      "Epoch 2/100\n",
      "1417/1417 - 26s - loss: 0.7489 - accuracy: 0.7410 - val_loss: 0.9091 - val_accuracy: 0.6692 - 26s/epoch - 19ms/step\n",
      "Epoch 3/100\n",
      "1417/1417 - 27s - loss: 0.7187 - accuracy: 0.7481 - val_loss: 0.8594 - val_accuracy: 0.6849 - 27s/epoch - 19ms/step\n",
      "Epoch 4/100\n",
      "1417/1417 - 26s - loss: 0.6990 - accuracy: 0.7501 - val_loss: 0.8851 - val_accuracy: 0.6747 - 26s/epoch - 18ms/step\n",
      "Epoch 5/100\n",
      "1417/1417 - 26s - loss: 0.6854 - accuracy: 0.7541 - val_loss: 0.8935 - val_accuracy: 0.6733 - 26s/epoch - 19ms/step\n",
      "Epoch 5: early stopping\n",
      "2\n",
      "Epoch 1/100\n",
      "1417/1417 - 26s - loss: 0.9028 - accuracy: 0.6883 - val_loss: 0.8665 - val_accuracy: 0.6936 - 26s/epoch - 19ms/step\n",
      "Epoch 2/100\n",
      "1417/1417 - 26s - loss: 0.7475 - accuracy: 0.7415 - val_loss: 0.9166 - val_accuracy: 0.6461 - 26s/epoch - 18ms/step\n",
      "Epoch 3/100\n",
      "1417/1417 - 26s - loss: 0.7184 - accuracy: 0.7482 - val_loss: 0.8730 - val_accuracy: 0.6775 - 26s/epoch - 18ms/step\n",
      "Epoch 3: early stopping\n",
      "3\n",
      "Epoch 1/100\n",
      "1417/1417 - 27s - loss: 0.8909 - accuracy: 0.6912 - val_loss: 0.9018 - val_accuracy: 0.6641 - 27s/epoch - 19ms/step\n",
      "Epoch 2/100\n",
      "1417/1417 - 27s - loss: 0.7448 - accuracy: 0.7406 - val_loss: 0.9119 - val_accuracy: 0.6617 - 27s/epoch - 19ms/step\n",
      "Epoch 3/100\n",
      "1417/1417 - 26s - loss: 0.7168 - accuracy: 0.7483 - val_loss: 0.8395 - val_accuracy: 0.6933 - 26s/epoch - 18ms/step\n",
      "Epoch 4/100\n",
      "1417/1417 - 26s - loss: 0.7004 - accuracy: 0.7506 - val_loss: 0.8484 - val_accuracy: 0.6976 - 26s/epoch - 18ms/step\n",
      "Epoch 5/100\n",
      "1417/1417 - 26s - loss: 0.6860 - accuracy: 0.7537 - val_loss: 0.8060 - val_accuracy: 0.7175 - 26s/epoch - 18ms/step\n",
      "Epoch 6/100\n",
      "1417/1417 - 26s - loss: 0.6712 - accuracy: 0.7565 - val_loss: 0.8361 - val_accuracy: 0.7021 - 26s/epoch - 18ms/step\n",
      "Epoch 7/100\n",
      "1417/1417 - 26s - loss: 0.6655 - accuracy: 0.7573 - val_loss: 0.8647 - val_accuracy: 0.6750 - 26s/epoch - 19ms/step\n",
      "Epoch 7: early stopping\n",
      "4\n",
      "Epoch 1/100\n",
      "1417/1417 - 27s - loss: 0.8904 - accuracy: 0.6907 - val_loss: 0.8753 - val_accuracy: 0.6785 - 27s/epoch - 19ms/step\n",
      "Epoch 2/100\n",
      "1417/1417 - 27s - loss: 0.7433 - accuracy: 0.7428 - val_loss: 0.8888 - val_accuracy: 0.6666 - 27s/epoch - 19ms/step\n",
      "Epoch 3/100\n",
      "1417/1417 - 27s - loss: 0.7138 - accuracy: 0.7485 - val_loss: 0.8812 - val_accuracy: 0.6759 - 27s/epoch - 19ms/step\n",
      "Epoch 3: early stopping\n"
     ]
    }
   ],
   "source": [
    "checkpointer = ModelCheckpoint(filepath=\"models/best_weights_additional.hdf5\", verbose=0, save_best_only=True) # save best model\n",
    "\n",
    "for i in range(5):\n",
    "    print(i)\n",
    "\n",
    "    model = Sequential()\n",
    "    model.add(tf.keras.layers.Conv2D(64, kernel_size=(3, 3), strides=(1, 1), activation='tanh', input_shape=(1, x_cols, 1), padding='same'))\n",
    "    model.add(tf.keras.layers.MaxPooling2D(pool_size=(1, 1)))\n",
    "    model.add(tf.keras.layers.Conv2D(128, kernel_size=(3, 3), strides=(1, 1), activation='tanh', padding='same'))\n",
    "    model.add(tf.keras.layers.MaxPooling2D(pool_size=(1, 1)))\n",
    "    model.add(tf.keras.layers.Flatten())\n",
    "    model.add(tf.keras.layers.Dense(1024, activation='tanh'))\n",
    "    model.add(Dropout(0.5))\n",
    "    model.add(tf.keras.layers.Dense(number_of_classes, activation='softmax'))\n",
    "    model.compile(loss='categorical_crossentropy', optimizer='sgd', metrics=['accuracy'])\n",
    "    monitor = EarlyStopping(monitor='val_loss', min_delta=1e-3, patience=2, verbose=2, mode='auto')\n",
    "    model.fit(x_train, y_train_one_hot, validation_data=(x_test, y_test_one_hot),callbacks=[monitor, checkpointer], verbose=2, epochs=100)"
   ]
  },
  {
   "cell_type": "markdown",
   "metadata": {},
   "source": [
    "### *Load best model*"
   ]
  },
  {
   "cell_type": "code",
   "execution_count": 76,
   "metadata": {},
   "outputs": [],
   "source": [
    "model.load_weights('models/best_weights_additional.hdf5')"
   ]
  },
  {
   "cell_type": "markdown",
   "metadata": {},
   "source": [
    "### *Weights for best model*"
   ]
  },
  {
   "cell_type": "code",
   "execution_count": 77,
   "metadata": {},
   "outputs": [
    {
     "data": {
      "text/plain": [
       "[<tf.Variable 'conv2d_8/kernel:0' shape=(3, 3, 1, 64) dtype=float32, numpy=\n",
       " array([[[[-0.0992461 ,  0.01273173, -0.07351778,  0.08888906,\n",
       "           -0.05415283, -0.03042571,  0.04470293,  0.05962349,\n",
       "            0.0109472 ,  0.01367365, -0.08871355,  0.07498547,\n",
       "            0.02390723,  0.01041254, -0.02067546,  0.0256775 ,\n",
       "           -0.09563246, -0.0220066 ,  0.07510737, -0.07629427,\n",
       "           -0.02097264, -0.00067791, -0.05514437, -0.07417986,\n",
       "            0.0372598 ,  0.07528363, -0.07357422,  0.01257452,\n",
       "            0.05046044,  0.07458089, -0.05376629,  0.06518273,\n",
       "           -0.00141906,  0.04406181, -0.01134101, -0.07899068,\n",
       "           -0.07833672,  0.03030346, -0.00831354, -0.01023725,\n",
       "            0.07064065,  0.01188903, -0.06612552,  0.01069792,\n",
       "           -0.01104419, -0.0704852 ,  0.03857823, -0.08117343,\n",
       "            0.04841927, -0.09872588,  0.0375988 ,  0.08372532,\n",
       "            0.01973093,  0.10113773, -0.01778972, -0.09366424,\n",
       "           -0.01047723,  0.09311688,  0.02416171, -0.07236129,\n",
       "            0.090884  ,  0.01677119, -0.08669952, -0.0210508 ]],\n",
       " \n",
       "         [[ 0.10102153, -0.09717158, -0.04119959, -0.05797286,\n",
       "           -0.07523582, -0.0959516 ,  0.01484138,  0.07715513,\n",
       "           -0.09815778,  0.05253083,  0.00544742,  0.06918912,\n",
       "           -0.02720848, -0.00432216,  0.03164895,  0.09363727,\n",
       "           -0.04588297,  0.04832713, -0.02931154, -0.10009158,\n",
       "           -0.05677514, -0.04433647, -0.02469744, -0.06891859,\n",
       "           -0.07383728,  0.07802652, -0.05628223,  0.08136687,\n",
       "           -0.05716439, -0.00830135, -0.01567259, -0.07485089,\n",
       "           -0.02194913, -0.03898368, -0.08791138, -0.05078887,\n",
       "           -0.03285573, -0.07038009,  0.06612343, -0.03349447,\n",
       "           -0.08292332,  0.08199702,  0.04812016,  0.05827408,\n",
       "           -0.01049445,  0.06570698, -0.01328828, -0.08473027,\n",
       "            0.00267862, -0.03140351, -0.08576441, -0.02146683,\n",
       "            0.03079142,  0.09756938, -0.06203634,  0.0782925 ,\n",
       "           -0.07432413,  0.04433031,  0.06454188, -0.01598018,\n",
       "           -0.02289936,  0.02508567, -0.03875495, -0.06251116]],\n",
       " \n",
       "         [[-0.02152202,  0.07339782,  0.00332548, -0.01412382,\n",
       "            0.07932428, -0.06731911, -0.08866835,  0.03372294,\n",
       "           -0.08685086,  0.02548152, -0.07997287, -0.08373014,\n",
       "            0.05830406,  0.00795114, -0.06621133, -0.08168812,\n",
       "           -0.0589762 ,  0.01379604,  0.05549207,  0.01014458,\n",
       "           -0.04261522, -0.09718527,  0.08542745,  0.03314061,\n",
       "            0.02734847,  0.03113516,  0.04654835,  0.07662445,\n",
       "           -0.01604576,  0.07571344, -0.01247187,  0.00726222,\n",
       "            0.0837701 , -0.09321334,  0.04048112,  0.05466643,\n",
       "           -0.0096826 ,  0.00115573,  0.08924338, -0.02528555,\n",
       "            0.02938376,  0.09489588, -0.0102497 ,  0.05380009,\n",
       "           -0.04003384,  0.09235881,  0.0754015 , -0.01904602,\n",
       "            0.04319574,  0.0903278 , -0.05385106,  0.06540076,\n",
       "            0.05943415, -0.04206246,  0.02666487, -0.09767226,\n",
       "           -0.093736  , -0.08772039,  0.00402502, -0.08155962,\n",
       "            0.00402825,  0.01418102, -0.08546507, -0.08613782]]],\n",
       " \n",
       " \n",
       "        [[[-0.00331314,  0.06551158, -0.15551355, -0.0491753 ,\n",
       "            0.12092138,  0.02802674,  0.14864282,  0.04692962,\n",
       "           -0.12376931,  0.06302259, -0.24321294,  0.02407764,\n",
       "           -0.09259441,  0.04568469, -0.14638223, -0.06902974,\n",
       "           -0.01797468, -0.29910594, -0.01061378, -0.22231524,\n",
       "            0.07943971, -0.2518015 ,  0.06664012, -0.0236235 ,\n",
       "           -0.19002429,  0.04741148, -0.23674017, -0.19046187,\n",
       "            0.0425388 ,  0.05925271,  0.1008369 ,  0.06047211,\n",
       "            0.00829231, -0.10801832,  0.07389223,  0.00514459,\n",
       "           -0.26413968, -0.04236822, -0.2942875 ,  0.00980884,\n",
       "            0.00034418,  0.01569564, -0.11399016,  0.00802817,\n",
       "           -0.00251592,  0.03864392, -0.31694385,  0.04461925,\n",
       "           -0.25976443, -0.14366229,  0.07660261,  0.04295141,\n",
       "           -0.06576116,  0.03080666,  0.11636981, -0.07834934,\n",
       "            0.04942274, -0.00103574, -0.04558272,  0.06289694,\n",
       "            0.10641881,  0.10501938, -0.04921998, -0.01788911]],\n",
       " \n",
       "         [[-0.00270875,  0.00593612, -0.17411791,  0.0650266 ,\n",
       "           -0.05029822,  0.01070566, -0.16553539,  0.05217847,\n",
       "           -0.12734944, -0.242916  ,  0.20673019, -0.03428938,\n",
       "           -0.06911281, -0.04832061, -0.17016226, -0.10391472,\n",
       "           -0.20421275,  0.09113979,  0.03019755,  0.07064597,\n",
       "           -0.07283595,  0.17382489, -0.04502513, -0.1614306 ,\n",
       "            0.08922986,  0.07434192,  0.09538035,  0.10909779,\n",
       "           -0.20726925,  0.07254868, -0.12354376, -0.00932226,\n",
       "           -0.05168501,  0.06267741,  0.01242527, -0.02507954,\n",
       "            0.10855905, -0.0201416 ,  0.1331888 ,  0.05576314,\n",
       "            0.12076687,  0.01646093, -0.11208843,  0.03004477,\n",
       "            0.06720991, -0.18517466,  0.13797316, -0.19345227,\n",
       "            0.16213618, -0.04746354, -0.3349872 , -0.178419  ,\n",
       "            0.05720167,  0.09027883, -0.1285612 ,  0.03028801,\n",
       "           -0.20322654,  0.07886392, -0.1914459 , -0.0796433 ,\n",
       "           -0.1285301 , -0.10105332, -0.01841909, -0.00212669]],\n",
       " \n",
       "         [[-0.02240337, -0.27480397,  0.04540119, -0.13124615,\n",
       "           -0.2544454 ,  0.08290949, -0.08762183, -0.21863098,\n",
       "            0.04519994, -0.00997735, -0.1584091 , -0.08647101,\n",
       "           -0.11661814, -0.11129402,  0.01601768, -0.04616882,\n",
       "           -0.07041421,  0.11769947,  0.07640972,  0.10628819,\n",
       "            0.00632092, -0.14505935,  0.08684355,  0.1169138 ,\n",
       "           -0.1608911 , -0.25554362, -0.03122927,  0.00742483,\n",
       "           -0.11759169,  0.16005003,  0.06596084, -0.27826184,\n",
       "            0.04947816,  0.21566296, -0.05881308,  0.03481942,\n",
       "           -0.09318678,  0.01107661,  0.06110396,  0.12689091,\n",
       "           -0.15177661,  0.0639446 , -0.03984753, -0.04166038,\n",
       "           -0.247256  , -0.10742184, -0.02298671, -0.11069558,\n",
       "           -0.12646946, -0.0583897 ,  0.02126163, -0.09056663,\n",
       "           -0.20259689,  0.10312908,  0.00138872, -0.28572822,\n",
       "           -0.11053057, -0.12254792,  0.04500946,  0.05707921,\n",
       "            0.11851235,  0.0810618 ,  0.02775061,  0.01448068]]],\n",
       " \n",
       " \n",
       "        [[[-0.05578831,  0.06275146, -0.04254458,  0.08193067,\n",
       "           -0.00187056,  0.10088427, -0.06548414, -0.08190111,\n",
       "           -0.02450799, -0.07202023,  0.00298686,  0.07367416,\n",
       "           -0.03420711, -0.03288788, -0.05849679, -0.04139636,\n",
       "            0.02971527,  0.04931498,  0.00162314,  0.01125059,\n",
       "            0.00916946,  0.02275391,  0.04040122, -0.09778094,\n",
       "           -0.0072784 ,  0.09075475,  0.03226259,  0.05968007,\n",
       "           -0.07450271, -0.03471165,  0.05081034, -0.07686424,\n",
       "            0.01631141,  0.07578194, -0.03656748,  0.09752399,\n",
       "            0.10002288, -0.08416852, -0.09798678, -0.05471154,\n",
       "           -0.07121123, -0.00294489,  0.04678783,  0.04858476,\n",
       "           -0.02699982, -0.08745885,  0.04145375,  0.00769428,\n",
       "            0.02358669, -0.02345601,  0.07607692,  0.08541746,\n",
       "            0.10013878, -0.08352983,  0.08783303, -0.01088426,\n",
       "            0.07906309, -0.03430417,  0.0355701 , -0.01531596,\n",
       "            0.03818135,  0.0092516 ,  0.01406461, -0.02473547]],\n",
       " \n",
       "         [[-0.01670285,  0.0451944 , -0.04984133,  0.00542524,\n",
       "            0.01271372,  0.09897965, -0.05821678,  0.03285111,\n",
       "           -0.08371273,  0.06285754,  0.07286422, -0.0140366 ,\n",
       "            0.023929  , -0.08230422, -0.03439184, -0.01152911,\n",
       "            0.04776692,  0.08887586, -0.02490728,  0.05932224,\n",
       "           -0.03853339, -0.03855292,  0.0496964 , -0.08583781,\n",
       "           -0.01468682,  0.06132156, -0.03438503, -0.08049963,\n",
       "            0.04207873,  0.0797381 ,  0.08222355, -0.01775771,\n",
       "           -0.01304775,  0.08575904, -0.05531057,  0.04476069,\n",
       "           -0.04837518,  0.06014958, -0.09255142, -0.04088331,\n",
       "           -0.09227775,  0.05531967, -0.04412244, -0.03357565,\n",
       "           -0.03785773,  0.02270065, -0.08576199,  0.06987435,\n",
       "           -0.06915604,  0.02568601,  0.08289698,  0.09446034,\n",
       "           -0.02885755, -0.05345406,  0.07240431,  0.10021499,\n",
       "           -0.05522659, -0.07593384,  0.03101161,  0.02409312,\n",
       "            0.07800266, -0.04025717, -0.09057064,  0.03131159]],\n",
       " \n",
       "         [[ 0.01518156,  0.07922842,  0.08266872, -0.06175935,\n",
       "           -0.00407293, -0.05934191, -0.02929302,  0.04233217,\n",
       "            0.06596327,  0.01207528, -0.09819277,  0.08241658,\n",
       "           -0.0844858 , -0.05460539,  0.01806708,  0.07570463,\n",
       "            0.05491427, -0.07410771, -0.03226254, -0.08348398,\n",
       "           -0.0826131 ,  0.07492965,  0.09400107, -0.00043418,\n",
       "           -0.04399633,  0.09300041,  0.01108503, -0.06637   ,\n",
       "            0.03784166,  0.10004449,  0.02055319, -0.05013409,\n",
       "           -0.06455451, -0.06275593,  0.08790283, -0.02222698,\n",
       "            0.04852428, -0.09759205, -0.05503345, -0.0284577 ,\n",
       "            0.09954265, -0.07869378,  0.08730589,  0.08070998,\n",
       "            0.00863238, -0.00090645,  0.07442695,  0.10058053,\n",
       "           -0.01033837, -0.00533347, -0.07581222,  0.0114086 ,\n",
       "           -0.09158345,  0.01889344,  0.03910221,  0.09713012,\n",
       "           -0.04691915,  0.08813603, -0.04090874,  0.07512924,\n",
       "            0.09668203,  0.08870956,  0.02276226, -0.06340067]]]],\n",
       "       dtype=float32)>,\n",
       " <tf.Variable 'conv2d_8/bias:0' shape=(64,) dtype=float32, numpy=\n",
       " array([-0.0369651 ,  0.01704627,  0.01008299, -0.10788282,  0.00020303,\n",
       "        -0.01507214, -0.03595144,  0.01437738, -0.05744526,  0.00630722,\n",
       "         0.00947919, -0.03201953, -0.05671829, -0.01194944,  0.00848649,\n",
       "        -0.04345268,  0.00672165, -0.14142536,  0.02625066,  0.00180514,\n",
       "         0.00767395,  0.00571903,  0.06779589,  0.02108032,  0.00925635,\n",
       "         0.01270866,  0.01306065,  0.00729203, -0.06472058, -0.01498457,\n",
       "         0.00247215,  0.0164164 ,  0.00651908, -0.03321502,  0.07505974,\n",
       "        -0.00121928, -0.00416959, -0.01072638,  0.01595874,  0.07597756,\n",
       "         0.00979785, -0.01424975, -0.06054929, -0.00882385, -0.08150071,\n",
       "        -0.05783371,  0.01503183, -0.05837329,  0.00161044,  0.00386366,\n",
       "         0.01112182, -0.06496195, -0.10960612, -0.14738026,  0.0074367 ,\n",
       "        -0.07564842, -0.07524222,  0.00696659,  0.01436571,  0.00961339,\n",
       "        -0.01279874, -0.12845655, -0.03905231, -0.03073417], dtype=float32)>,\n",
       " <tf.Variable 'conv2d_9/kernel:0' shape=(3, 3, 64, 128) dtype=float32, numpy=\n",
       " array([[[[ 2.23417096e-02, -2.89924070e-03, -1.22199208e-03, ...,\n",
       "            4.33953479e-03, -2.57097185e-03,  1.07875131e-02],\n",
       "          [-5.38823456e-02,  4.62551974e-02,  5.05843796e-02, ...,\n",
       "            5.55243827e-02, -1.99380443e-02, -9.95828956e-03],\n",
       "          [-5.28621301e-03, -3.57656330e-02, -1.90816782e-02, ...,\n",
       "           -9.45508480e-03, -4.54403721e-02,  5.48973121e-02],\n",
       "          ...,\n",
       "          [-1.37185603e-02,  5.73746152e-02, -4.16217297e-02, ...,\n",
       "            2.97121964e-02, -3.78835276e-02,  5.48750125e-02],\n",
       "          [-5.22528328e-02, -4.49380390e-02, -2.94135883e-03, ...,\n",
       "           -2.10623816e-02, -2.54788250e-02, -4.28457558e-02],\n",
       "          [-4.55756634e-02, -4.31816801e-02, -5.08368984e-02, ...,\n",
       "            8.74569640e-03, -4.78018187e-02,  5.03519140e-02]],\n",
       " \n",
       "         [[-4.48413268e-02,  4.81117107e-02,  3.33107375e-02, ...,\n",
       "            4.99349125e-02, -3.58417630e-02,  3.04081626e-02],\n",
       "          [-5.87515123e-02,  2.86303423e-02, -4.57370020e-02, ...,\n",
       "           -5.22281937e-02, -1.09504387e-02,  1.03545003e-02],\n",
       "          [-3.20833176e-03,  5.16844578e-02,  3.74591760e-02, ...,\n",
       "           -3.47947665e-02,  4.33016755e-02, -3.80598009e-02],\n",
       "          ...,\n",
       "          [-3.32996920e-02, -2.80759856e-03,  1.68781094e-02, ...,\n",
       "            1.58289783e-02,  4.59154360e-02,  2.85074972e-02],\n",
       "          [ 4.20917757e-02,  3.29208188e-02, -1.50232986e-02, ...,\n",
       "           -3.40877958e-02,  3.98207940e-02,  5.43519855e-06],\n",
       "          [-5.60406260e-02, -4.43772450e-02,  1.61620639e-02, ...,\n",
       "            4.57262285e-02,  3.51006947e-02, -1.48232989e-02]],\n",
       " \n",
       "         [[-7.71325082e-03,  9.11417231e-03, -2.16348767e-02, ...,\n",
       "            4.86503728e-02, -1.21390373e-02, -2.13996135e-02],\n",
       "          [-2.20184550e-02,  3.38678025e-02, -1.24746524e-02, ...,\n",
       "            5.48282601e-02,  2.57066265e-03, -1.04042441e-02],\n",
       "          [-4.77600917e-02, -3.94955575e-02, -2.78884284e-02, ...,\n",
       "            1.66116469e-02, -1.74686760e-02,  2.55346708e-02],\n",
       "          ...,\n",
       "          [-2.43147984e-02,  4.51035313e-02,  3.59085239e-02, ...,\n",
       "           -5.20118698e-03, -1.70256123e-02, -5.73561415e-02],\n",
       "          [-5.41236326e-02,  5.00659309e-02, -1.90000944e-02, ...,\n",
       "           -5.52369729e-02,  9.68850777e-03,  9.18852910e-03],\n",
       "          [-1.42057762e-02,  1.62396170e-02,  2.99014635e-02, ...,\n",
       "            2.16362141e-02, -1.46307014e-02,  3.25048007e-02]]],\n",
       " \n",
       " \n",
       "        [[[-4.99434248e-02, -6.59722760e-02, -6.20298758e-02, ...,\n",
       "           -8.02936852e-02,  8.94911587e-03,  2.62682475e-02],\n",
       "          [ 1.01887528e-02, -1.12525620e-01, -7.88086280e-02, ...,\n",
       "           -4.53406386e-02,  1.18278721e-02, -2.17331965e-02],\n",
       "          [-2.73505114e-02, -3.32933962e-02, -8.58500376e-02, ...,\n",
       "           -3.25579010e-02, -2.86656749e-02, -3.75009552e-02],\n",
       "          ...,\n",
       "          [-2.29044142e-03, -7.51624107e-02, -3.90479714e-02, ...,\n",
       "           -7.72444755e-02,  3.28374282e-02, -5.99620529e-02],\n",
       "          [ 4.49467339e-02, -2.75793634e-02, -7.06969798e-02, ...,\n",
       "           -5.48548251e-02, -6.21674955e-02,  1.34821385e-02],\n",
       "          [-3.42456438e-02, -6.59082010e-02, -2.15324592e-02, ...,\n",
       "           -1.76856890e-02, -1.56447012e-02, -6.12472184e-02]],\n",
       " \n",
       "         [[-5.49735948e-02, -3.47107463e-02,  3.12124519e-03, ...,\n",
       "           -5.17058708e-02, -4.87610400e-02,  3.13031226e-02],\n",
       "          [-1.89586021e-02, -6.57556653e-02, -2.81665586e-02, ...,\n",
       "           -8.64153579e-02, -8.79484639e-02, -3.40260118e-02],\n",
       "          [-9.86835212e-02, -1.13615416e-01, -5.69546483e-02, ...,\n",
       "           -5.37052751e-02,  4.07988066e-03, -4.97573577e-02],\n",
       "          ...,\n",
       "          [-1.70550682e-02, -6.07835352e-02,  5.26156323e-03, ...,\n",
       "           -5.14465123e-02,  3.42112444e-02, -6.37408271e-02],\n",
       "          [-3.94723415e-02,  3.22822072e-02,  1.95878260e-02, ...,\n",
       "           -1.50442898e-01, -8.50593392e-03, -5.95301837e-02],\n",
       "          [-1.04522943e-01, -6.19110689e-02, -7.89473951e-03, ...,\n",
       "           -4.90832701e-02, -3.84343565e-02, -2.46423483e-03]],\n",
       " \n",
       "         [[-2.35512946e-03, -6.61147311e-02, -3.42449248e-02, ...,\n",
       "            2.50112638e-02, -6.86884522e-02, -2.91246939e-02],\n",
       "          [ 2.84406953e-02,  7.52412854e-03, -7.20394999e-02, ...,\n",
       "           -1.97393037e-02, -3.44442129e-02, -8.23861063e-02],\n",
       "          [-6.19266443e-02, -6.84208646e-02, -9.26038846e-02, ...,\n",
       "            4.85659055e-02,  4.22479436e-02, -1.44445831e-02],\n",
       "          ...,\n",
       "          [-1.63120069e-02, -8.29360634e-03, -2.59557143e-02, ...,\n",
       "           -2.75074318e-02,  5.13423642e-04, -2.07921676e-02],\n",
       "          [ 6.03838218e-03,  2.25356463e-02,  6.39037648e-03, ...,\n",
       "            5.60508408e-02, -3.12847868e-02, -1.87194254e-02],\n",
       "          [ 1.95604581e-02, -1.52001285e-03,  8.17203149e-03, ...,\n",
       "            4.19840291e-02, -2.14209706e-02,  5.58144413e-02]]],\n",
       " \n",
       " \n",
       "        [[[-4.22627665e-02, -1.65436491e-02,  8.78037140e-03, ...,\n",
       "           -2.39583775e-02, -5.17793745e-03,  7.53796473e-03],\n",
       "          [-2.94243917e-03,  4.32331003e-02,  4.54835705e-02, ...,\n",
       "            3.75114568e-02,  3.22304703e-02, -5.68727627e-02],\n",
       "          [-5.49601801e-02,  2.79103182e-02,  1.45122148e-02, ...,\n",
       "           -1.56502910e-02, -4.35230546e-02, -2.62482427e-02],\n",
       "          ...,\n",
       "          [-4.39192653e-02, -3.07129566e-02,  8.13233480e-03, ...,\n",
       "           -2.85086762e-02,  1.46946497e-02,  8.35945085e-03],\n",
       "          [-3.05667780e-02,  1.32436343e-02, -2.53554322e-02, ...,\n",
       "           -2.13140845e-02, -5.35457171e-02,  4.83835973e-02],\n",
       "          [-3.45753804e-02,  1.04940720e-02,  5.78512959e-02, ...,\n",
       "            2.16417052e-02,  1.48048513e-02,  5.79895414e-02]],\n",
       " \n",
       "         [[ 3.16085480e-02, -1.85784139e-02, -4.65787016e-02, ...,\n",
       "            4.78509925e-02,  5.52013554e-02,  1.45465098e-02],\n",
       "          [ 4.51582260e-02, -1.14358179e-02,  2.55265199e-02, ...,\n",
       "           -3.55327278e-02, -4.36330959e-03,  3.97445746e-02],\n",
       "          [-1.58485062e-02,  3.51708122e-02, -4.93235737e-02, ...,\n",
       "            8.99471715e-03,  4.82577048e-02,  3.68524902e-02],\n",
       "          ...,\n",
       "          [-1.09545849e-02, -4.35429066e-03,  4.63966690e-02, ...,\n",
       "           -4.18375880e-02,  2.27063037e-02,  1.74286626e-02],\n",
       "          [ 1.90131031e-02,  7.77377561e-03, -5.63710742e-02, ...,\n",
       "            3.95321585e-02, -4.02007885e-02,  5.31974025e-02],\n",
       "          [ 5.84478863e-02, -1.13109089e-02,  5.60024753e-03, ...,\n",
       "           -3.46542634e-02, -2.32037641e-02,  1.12130530e-02]],\n",
       " \n",
       "         [[-9.32836160e-03,  2.88023055e-03, -5.39628007e-02, ...,\n",
       "           -3.21001932e-02,  2.40092613e-02, -5.86492494e-02],\n",
       "          [ 3.70536856e-02,  3.66354361e-03,  4.65493537e-02, ...,\n",
       "           -2.07186751e-02,  2.22825296e-02,  5.38849421e-02],\n",
       "          [ 5.66524006e-02,  2.37812735e-02, -2.91059539e-02, ...,\n",
       "            2.89898776e-02, -5.52452356e-03, -9.60722566e-04],\n",
       "          ...,\n",
       "          [ 1.68324672e-02,  3.24955843e-02, -5.12790605e-02, ...,\n",
       "            5.32902069e-02,  3.00698690e-02,  1.80770941e-02],\n",
       "          [-3.11064962e-02,  8.63436982e-03, -2.44762488e-02, ...,\n",
       "           -3.04523855e-04,  3.67431715e-03, -5.54818176e-02],\n",
       "          [-2.87915654e-02, -4.30325083e-02, -5.18684462e-03, ...,\n",
       "           -4.23046872e-02,  4.30678166e-02, -5.55813387e-02]]]],\n",
       "       dtype=float32)>,\n",
       " <tf.Variable 'conv2d_9/bias:0' shape=(128,) dtype=float32, numpy=\n",
       " array([-3.14088613e-02,  1.85999405e-02,  6.72548916e-03,  6.91371188e-02,\n",
       "        -9.85922217e-02, -5.07015828e-03,  4.66671027e-02,  5.64356595e-02,\n",
       "         8.86809826e-02,  1.33966386e-01, -6.09470084e-02,  7.22272620e-02,\n",
       "        -2.77461670e-02,  9.01278406e-02, -3.69700342e-02,  1.20828496e-02,\n",
       "         5.53638451e-02, -5.20725548e-02, -7.64706754e-04, -2.21565161e-02,\n",
       "         6.34750025e-03, -8.14195722e-02, -2.94423103e-02, -4.38015210e-03,\n",
       "         4.46929000e-02, -1.16886720e-01,  8.46319571e-02, -2.59266282e-03,\n",
       "        -1.62700769e-02,  4.77531478e-02, -3.41541418e-05,  8.54392350e-02,\n",
       "         7.64657557e-03,  1.08350944e-02, -1.82440076e-02,  7.87690207e-02,\n",
       "         1.37486495e-02,  1.56744325e-03, -6.62613288e-02, -1.32564828e-02,\n",
       "         3.16695198e-02, -7.68876076e-02, -4.04661242e-03, -3.60258445e-02,\n",
       "        -7.60391215e-03,  3.16787437e-02, -6.21547885e-02, -5.48109934e-02,\n",
       "        -3.40556279e-02,  6.84811501e-03,  7.42728487e-02,  2.76642898e-03,\n",
       "        -2.68822853e-02,  5.37264906e-03, -1.09237149e-01, -6.05449267e-02,\n",
       "         8.84882212e-02, -1.15133055e-01,  6.00650795e-02, -3.55327502e-02,\n",
       "        -1.59902439e-01,  4.56330404e-02, -3.36665027e-02, -2.96747703e-02,\n",
       "        -4.63467725e-02, -3.58272754e-02,  5.06733079e-03,  1.87991536e-03,\n",
       "        -2.85015870e-02, -8.13254341e-02, -1.17706642e-01, -1.34234801e-01,\n",
       "         1.03711123e-02,  1.62488762e-02, -1.84539035e-02, -1.14709828e-02,\n",
       "         1.23730199e-02,  2.81379428e-02,  9.75970831e-03,  2.04157028e-02,\n",
       "         8.63049626e-02, -1.88120659e-02,  4.14487952e-03, -1.18671976e-01,\n",
       "        -8.73507857e-02, -5.37413806e-02, -1.18871604e-03,  5.88292144e-02,\n",
       "        -4.40254137e-02,  7.22960234e-02,  1.12018152e-03, -9.61993709e-02,\n",
       "        -4.04826887e-02, -8.34114701e-02,  5.21822423e-02, -5.98645285e-02,\n",
       "         5.36837950e-02,  1.65903699e-02,  7.62855783e-02,  9.75834131e-02,\n",
       "        -8.78210738e-02, -1.34037379e-02, -8.54902640e-02, -8.14277530e-02,\n",
       "        -2.25766040e-02,  5.11975512e-02,  5.01400828e-02,  3.46917361e-02,\n",
       "         2.42965911e-02, -7.95182735e-02,  9.27553326e-03,  2.84828488e-02,\n",
       "         4.85557504e-02, -8.09646994e-02,  1.08757056e-01, -8.35887901e-03,\n",
       "        -4.01022248e-02, -5.64130396e-02, -2.05525309e-02,  5.12050837e-02,\n",
       "         1.00989446e-01,  6.69248551e-02, -3.53860892e-02, -3.30002047e-02,\n",
       "         1.71563197e-02,  9.76709053e-02, -3.84128243e-02, -1.60238426e-02],\n",
       "       dtype=float32)>,\n",
       " <tf.Variable 'dense_8/kernel:0' shape=(5376, 1024) dtype=float32, numpy=\n",
       " array([[-0.01623734,  0.00783165,  0.0229745 , ...,  0.03448053,\n",
       "          0.01486938,  0.00546146],\n",
       "        [ 0.02017245, -0.0172275 , -0.02079592, ...,  0.02443322,\n",
       "         -0.01916686,  0.02181378],\n",
       "        [ 0.01640169, -0.02234802, -0.00707892, ...,  0.00760125,\n",
       "          0.02961392, -0.02717797],\n",
       "        ...,\n",
       "        [-0.13097326, -0.03658586, -0.00262641, ...,  0.10543129,\n",
       "         -0.00939864, -0.04837746],\n",
       "        [-0.05874518, -0.07420788, -0.02120328, ..., -0.00699788,\n",
       "          0.05927163, -0.03212779],\n",
       "        [-0.04436926,  0.00870159, -0.03854773, ..., -0.04837593,\n",
       "         -0.02740377, -0.01904364]], dtype=float32)>,\n",
       " <tf.Variable 'dense_8/bias:0' shape=(1024,) dtype=float32, numpy=\n",
       " array([ 0.02442068,  0.01457856, -0.02129113, ...,  0.00947585,\n",
       "        -0.02391666, -0.03144037], dtype=float32)>,\n",
       " <tf.Variable 'dense_9/kernel:0' shape=(1024, 9) dtype=float32, numpy=\n",
       " array([[-0.01715553, -0.15424469,  0.1403997 , ...,  0.09438211,\n",
       "         -0.198085  ,  0.01412016],\n",
       "        [ 0.00222866, -0.14031671,  0.03702945, ...,  0.04700814,\n",
       "          0.0099688 ,  0.01433893],\n",
       "        [-0.05722192,  0.04546499, -0.06041053, ...,  0.06560726,\n",
       "          0.04297376, -0.06140316],\n",
       "        ...,\n",
       "        [ 0.11831938,  0.00350039, -0.02622974, ..., -0.11153049,\n",
       "         -0.0692927 ,  0.05532175],\n",
       "        [-0.05359942, -0.06393253, -0.21845792, ...,  0.27064234,\n",
       "         -0.00855074, -0.11643569],\n",
       "        [ 0.0158977 ,  0.04167712, -0.10287827, ..., -0.12297152,\n",
       "         -0.13678017,  0.0105124 ]], dtype=float32)>,\n",
       " <tf.Variable 'dense_9/bias:0' shape=(9,) dtype=float32, numpy=\n",
       " array([-0.06254732, -0.06284321, -0.03493361,  0.15540275,  0.03252576,\n",
       "        -0.14643772, -0.01945847, -0.02703243, -0.0762561 ], dtype=float32)>]"
      ]
     },
     "execution_count": 77,
     "metadata": {},
     "output_type": "execute_result"
    }
   ],
   "source": [
    "model.weights"
   ]
  },
  {
   "cell_type": "markdown",
   "metadata": {},
   "source": [
    "### *Best model summary*"
   ]
  },
  {
   "cell_type": "code",
   "execution_count": 78,
   "metadata": {},
   "outputs": [
    {
     "name": "stdout",
     "output_type": "stream",
     "text": [
      "Model: \"sequential_6\"\n",
      "_________________________________________________________________\n",
      " Layer (type)                Output Shape              Param #   \n",
      "=================================================================\n",
      " conv2d_8 (Conv2D)           (None, 1, 42, 64)         640       \n",
      "                                                                 \n",
      " max_pooling2d_8 (MaxPoolin  (None, 1, 42, 64)         0         \n",
      " g2D)                                                            \n",
      "                                                                 \n",
      " conv2d_9 (Conv2D)           (None, 1, 42, 128)        73856     \n",
      "                                                                 \n",
      " max_pooling2d_9 (MaxPoolin  (None, 1, 42, 128)        0         \n",
      " g2D)                                                            \n",
      "                                                                 \n",
      " flatten_4 (Flatten)         (None, 5376)              0         \n",
      "                                                                 \n",
      " dense_8 (Dense)             (None, 1024)              5506048   \n",
      "                                                                 \n",
      " dropout_4 (Dropout)         (None, 1024)              0         \n",
      "                                                                 \n",
      " dense_9 (Dense)             (None, 9)                 9225      \n",
      "                                                                 \n",
      "=================================================================\n",
      "Total params: 5589769 (21.32 MB)\n",
      "Trainable params: 5589769 (21.32 MB)\n",
      "Non-trainable params: 0 (0.00 Byte)\n",
      "_________________________________________________________________\n"
     ]
    }
   ],
   "source": [
    "model.summary()"
   ]
  },
  {
   "cell_type": "markdown",
   "metadata": {},
   "source": [
    "### *Prediction*"
   ]
  },
  {
   "cell_type": "code",
   "execution_count": 79,
   "metadata": {},
   "outputs": [
    {
     "name": "stdout",
     "output_type": "stream",
     "text": [
      "3730/3730 [==============================] - 10s 3ms/step\n"
     ]
    }
   ],
   "source": [
    "prediction = model.predict(x_test)\n",
    "prediction_labels = np.argmax(prediction, axis=1)\n",
    "y_labels = np.argmax(y_test_one_hot, axis=1)"
   ]
  },
  {
   "cell_type": "markdown",
   "metadata": {},
   "source": [
    "### *Accuracy score*"
   ]
  },
  {
   "cell_type": "code",
   "execution_count": 80,
   "metadata": {},
   "outputs": [],
   "source": [
    "accuracy = mt.accuracy_score(y_labels, prediction_labels)"
   ]
  },
  {
   "cell_type": "markdown",
   "metadata": {},
   "source": [
    "###  *Precision score*"
   ]
  },
  {
   "cell_type": "code",
   "execution_count": 81,
   "metadata": {},
   "outputs": [
    {
     "name": "stderr",
     "output_type": "stream",
     "text": [
      "c:\\Users\\cdub6\\anaconda3\\Lib\\site-packages\\sklearn\\metrics\\_classification.py:1344: UndefinedMetricWarning: Precision is ill-defined and being set to 0.0 in labels with no predicted samples. Use `zero_division` parameter to control this behavior.\n",
      "  _warn_prf(average, modifier, msg_start, len(result))\n"
     ]
    }
   ],
   "source": [
    "precision = mt.precision_score(y_labels, prediction_labels, average='weighted')"
   ]
  },
  {
   "cell_type": "markdown",
   "metadata": {},
   "source": [
    "### *F1 score*"
   ]
  },
  {
   "cell_type": "code",
   "execution_count": 82,
   "metadata": {},
   "outputs": [],
   "source": [
    "f1 = mt.f1_score(y_labels, prediction_labels, average='weighted')"
   ]
  },
  {
   "cell_type": "markdown",
   "metadata": {},
   "source": [
    "### *Classification Report*"
   ]
  },
  {
   "cell_type": "code",
   "execution_count": 83,
   "metadata": {},
   "outputs": [
    {
     "name": "stdout",
     "output_type": "stream",
     "text": [
      "                precision    recall  f1-score   support\n",
      "\n",
      "Reconnaissance       0.00      0.00      0.00      2000\n",
      "      Backdoor       0.00      0.00      0.00      1746\n",
      "           DoS       0.33      0.41      0.37     12264\n",
      "      Exploits       0.66      0.68      0.67     33393\n",
      "      Analysis       0.70      0.85      0.77     18184\n",
      "       Fuzzers       1.00      0.98      0.99     40000\n",
      "         Worms       0.69      0.52      0.60     10491\n",
      "     Shellcode       0.63      0.11      0.18      1133\n",
      "       Generic       0.00      0.00      0.00       130\n",
      "\n",
      "      accuracy                           0.74    119341\n",
      "     macro avg       0.44      0.40      0.40    119341\n",
      "  weighted avg       0.73      0.74      0.73    119341\n",
      "\n"
     ]
    },
    {
     "name": "stderr",
     "output_type": "stream",
     "text": [
      "c:\\Users\\cdub6\\anaconda3\\Lib\\site-packages\\sklearn\\metrics\\_classification.py:1344: UndefinedMetricWarning: Precision and F-score are ill-defined and being set to 0.0 in labels with no predicted samples. Use `zero_division` parameter to control this behavior.\n",
      "  _warn_prf(average, modifier, msg_start, len(result))\n",
      "c:\\Users\\cdub6\\anaconda3\\Lib\\site-packages\\sklearn\\metrics\\_classification.py:1344: UndefinedMetricWarning: Precision and F-score are ill-defined and being set to 0.0 in labels with no predicted samples. Use `zero_division` parameter to control this behavior.\n",
      "  _warn_prf(average, modifier, msg_start, len(result))\n",
      "c:\\Users\\cdub6\\anaconda3\\Lib\\site-packages\\sklearn\\metrics\\_classification.py:1344: UndefinedMetricWarning: Precision and F-score are ill-defined and being set to 0.0 in labels with no predicted samples. Use `zero_division` parameter to control this behavior.\n",
      "  _warn_prf(average, modifier, msg_start, len(result))\n"
     ]
    }
   ],
   "source": [
    "class_names = [index_to_category[i] for i in range(len(index_to_category))]\n",
    "print(mt.classification_report(y_labels, prediction_labels, target_names=class_names))"
   ]
  },
  {
   "cell_type": "markdown",
   "metadata": {},
   "source": [
    "### *Root Mean Squared Error (RMSE)*"
   ]
  },
  {
   "cell_type": "code",
   "execution_count": 84,
   "metadata": {},
   "outputs": [
    {
     "name": "stdout",
     "output_type": "stream",
     "text": [
      "RMSE: 0.18984204530715942\n"
     ]
    }
   ],
   "source": [
    "rmse = np.sqrt(mt.mean_squared_error(prediction, y_test_one_hot))\n",
    "print('RMSE: {}'.format(rmse))"
   ]
  },
  {
   "cell_type": "markdown",
   "metadata": {},
   "source": [
    "### *Confusion matrix*"
   ]
  },
  {
   "cell_type": "code",
   "execution_count": 97,
   "metadata": {},
   "outputs": [
    {
     "name": "stdout",
     "output_type": "stream",
     "text": [
      "[[    0     0   824  1035    63     0    77     1     0]\n",
      " [    0     0   780   672   195     8    89     2     0]\n",
      " [    0     0  5066  5406  1067     7   701    17     0]\n",
      " [    0     0  6796 22852  2675    23  1011    36     0]\n",
      " [    0     0   818  1480 15450    76   346    14     0]\n",
      " [    0     0   168   518   168 39109    36     1     0]\n",
      " [    0     0   888  2000  2109     2  5490     2     0]\n",
      " [    0     0     4   349   458     0   200   122     0]\n",
      " [    0     0     0   114    16     0     0     0     0]]\n",
      "Plotting confusion matrix\n"
     ]
    },
    {
     "data": {
      "image/png": "[encoded data removed]",
      "text/plain": [
       "<Figure size 960x720 with 2 Axes>"
      ]
     },
     "metadata": {},
     "output_type": "display_data"
    }
   ],
   "source": [
    "attack_cat = encode_text_index(training_df, 'attack_cat')\n",
    "attack_cat_labels = [class_names[num] for num in attack_cat]\n",
    "\n",
    "#y_test_labels = np.argmax(y_test_one_hot, axis=1)\n",
    "#binary_prediction_labels = np.argmax(binary_prediction, axis=1)\n",
    "cm = confusion_matrix(y_labels, prediction_labels)\n",
    "print(cm)\n",
    "\n",
    "print('Plotting confusion matrix')\n",
    "\n",
    "default_figsize = mpl.rcParams['figure.figsize']\n",
    "new_figsize = [1.5 * default_figsize[0], 1.5 * default_figsize[1]]\n",
    "plt.figure(figsize=new_figsize)\n",
    "plot_confusion_matrix(cm, attack_cat_labels)\n",
    "plt.show()"
   ]
  },
  {
   "cell_type": "markdown",
   "metadata": {},
   "source": [
    "### *Regression lift chart*"
   ]
  },
  {
   "cell_type": "code",
   "execution_count": 86,
   "metadata": {},
   "outputs": [
    {
     "data": {
      "image/png": "[encoded data removed]",
      "text/plain": [
       "<Figure size 1500x1000 with 1 Axes>"
      ]
     },
     "metadata": {},
     "output_type": "display_data"
    }
   ],
   "source": [
    "chart_regression(prediction_labels.flatten(), y_labels, sort=True)"
   ]
  }
 ],
 "metadata": {
  "kernelspec": {
   "display_name": "base",
   "language": "python",
   "name": "python3"
  },
  "language_info": {
   "codemirror_mode": {
    "name": "ipython",
    "version": 3
   },
   "file_extension": ".py",
   "mimetype": "text/x-python",
   "name": "python",
   "nbconvert_exporter": "python",
   "pygments_lexer": "ipython3",
   "version": "3.11.5"
  }
 },
 "nbformat": 4,
 "nbformat_minor": 2
}
