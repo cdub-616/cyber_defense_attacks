{
 "cells": [
  {
   "cell_type": "markdown",
   "metadata": {},
   "source": [
    "# **Additional features**"
   ]
  },
  {
   "cell_type": "markdown",
   "metadata": {},
   "source": [
    "### *Libraries and functions*"
   ]
  },
  {
   "cell_type": "code",
   "execution_count": 10,
   "metadata": {},
   "outputs": [],
   "source": [
    "%matplotlib inline\n",
    "from collections.abc import Sequence\n",
    "from sklearn import preprocessing\n",
    "from sklearn import metrics as mt\n",
    "from sklearn import svm, datasets\n",
    "from sklearn.model_selection import train_test_split\n",
    "from sklearn.metrics import confusion_matrix, classification_report, roc_curve, auc\n",
    "from tensorflow.keras.models import load_model\n",
    "from tensorflow.keras.models import Sequential\n",
    "from tensorflow.keras.layers import Dense, Dropout\n",
    "from tensorflow.keras.callbacks import EarlyStopping\n",
    "from tensorflow.keras.callbacks import ModelCheckpoint\n",
    "\n",
    "import matplotlib.pyplot as plt\n",
    "import numpy as np\n",
    "import pandas as pd\n",
    "import shutil\n",
    "import os\n",
    "import tensorflow as tf\n",
    "\n",
    "\n",
    "\n",
    "# Encode text values to dummy variables(i.e. [1,0,0],[0,1,0],[0,0,1] for red,green,blue)\n",
    "def encode_text_dummy(df, name):\n",
    "    dummies = pd.get_dummies(df[name])\n",
    "    for x in dummies.columns:\n",
    "        dummy_name = \"{}-{}\".format(name, x)\n",
    "        df[dummy_name] = dummies[x]\n",
    "    df.drop(name, axis=1, inplace=True)\n",
    "\n",
    "# Encode text values to a single dummy variable.  The new columns (which do not replace the old) will have a 1\n",
    "# at every location where the original column (name) matches each of the target_values.  One column is added for\n",
    "# each target value.\n",
    "def encode_text_single_dummy(df, name, target_values):\n",
    "    for tv in target_values:\n",
    "        l = list(df[name].astype(str))\n",
    "        l = [1 if str(x) == str(tv) else 0 for x in l]\n",
    "        name2 = \"{}-{}\".format(name, tv)\n",
    "        df[name2] = l\n",
    "\n",
    "# Encode text values to indexes(i.e. [1],[2],[3] for red,green,blue).\n",
    "def encode_text_index(df, name):\n",
    "    le = preprocessing.LabelEncoder()\n",
    "    df[name] = le.fit_transform(df[name])\n",
    "    return le.classes_\n",
    "\n",
    "\n",
    "# Encode a numeric column as zscores\n",
    "def encode_numeric_zscore(df, name, mean=None, sd=None):\n",
    "    if mean is None:\n",
    "        mean = df[name].mean()\n",
    "\n",
    "    if sd is None:\n",
    "        sd = df[name].std()\n",
    "\n",
    "    df[name] = (df[name] - mean) / sd\n",
    "\n",
    "# Convert all missing values in the specified column to the default\n",
    "def missing_default(df, name, default_value):\n",
    "    df[name] = df[name].fillna(default_value)\n",
    "\n",
    "\n",
    "# Convert a Pandas dataframe to the x,y inputs that TensorFlow needs\n",
    "def to_xy(df, target):\n",
    "    result = []\n",
    "    for x in df.columns:\n",
    "        if x != target:\n",
    "            result.append(x)\n",
    "    # find out the type of the target column.\n",
    "    target_type = df[target].dtypes\n",
    "    target_type = target_type[0] if isinstance(target_type, Sequence) else target_type\n",
    "    # Encode to int for classification, float otherwise. TensorFlow likes 32 bits.\n",
    "    if target_type in (np.int64, np.int32):\n",
    "        # Classification\n",
    "        dummies = pd.get_dummies(df[target])\n",
    "        return df[result].values.astype(np.float32), dummies.values.astype(np.float32)\n",
    "    else:\n",
    "        # Regression\n",
    "        return df[result].values.astype(np.float32), df[target].values.astype(np.float32)\n",
    "\n",
    "# Nicely formatted time string\n",
    "def hms_string(sec_elapsed):\n",
    "    h = int(sec_elapsed / (60 * 60))\n",
    "    m = int((sec_elapsed % (60 * 60)) / 60)\n",
    "    s = sec_elapsed % 60\n",
    "    return \"{}:{:>02}:{:>05.2f}\".format(h, m, s)\n",
    "\n",
    "# Regression chart.\n",
    "def chart_regression(pred,y,sort=True):\n",
    "    t = pd.DataFrame({'pred' : pred, 'y' : y.flatten()})\n",
    "    if sort:\n",
    "        t.sort_values(by=['y'],inplace=True)\n",
    "    a = plt.plot(t['y'].tolist(),label='expected')\n",
    "    b = plt.plot(t['pred'].tolist(),label='prediction')\n",
    "    plt.ylabel('output')\n",
    "    plt.legend()\n",
    "    plt.show()\n",
    "\n",
    "# Remove all rows where the specified column is +/- sd standard deviations\n",
    "def remove_outliers(df, name, sd):\n",
    "    drop_rows = df.index[(np.abs(df[name] - df[name].mean()) >= (sd * df[name].std()))]\n",
    "    df.drop(drop_rows, axis=0, inplace=True)\n",
    "\n",
    "# Encode a column to a range between normalized_low and normalized_high.\n",
    "def encode_numeric_range(df, name, normalized_low=-1, normalized_high=1,\n",
    "                         data_low=None, data_high=None):\n",
    "    if data_low is None:\n",
    "        data_low = min(df[name])\n",
    "        data_high = max(df[name])\n",
    "\n",
    "    df[name] = ((df[name] - data_low) / (data_high - data_low)) \\\n",
    "               * (normalized_high - normalized_low) + normalized_low\n",
    "    \n",
    "# Plot a confusion matrix.\n",
    "# cm is the confusion matrix, names are the names of the classes.\n",
    "def plot_confusion_matrix(cm, names, title='Confusion matrix', cmap=plt.cm.Blues):\n",
    "    plt.imshow(cm, interpolation='nearest', cmap=cmap)\n",
    "    plt.title(title)\n",
    "    plt.colorbar()\n",
    "    tick_marks = np.arange(len(names))\n",
    "    plt.xticks(tick_marks, names, rotation=45)\n",
    "    plt.yticks(tick_marks, names)\n",
    "    plt.tight_layout()\n",
    "    plt.ylabel('True label')\n",
    "    plt.xlabel('Predicted label')\n",
    "\n",
    "# Plot an ROC. pred - the predictions, y - the expected output.\n",
    "def plot_roc(pred,y):\n",
    "    fpr, tpr, thresholds = roc_curve(y, pred)\n",
    "    roc_auc = auc(fpr, tpr)\n",
    "\n",
    "    plt.figure()\n",
    "    plt.plot(fpr, tpr, label='ROC curve (area = %0.2f)' % roc_auc)\n",
    "    plt.plot([0, 1], [0, 1], 'k--')\n",
    "    plt.xlim([0.0, 1.0])\n",
    "    plt.ylim([0.0, 1.05])\n",
    "    plt.xlabel('False Positive Rate')\n",
    "    plt.ylabel('True Positive Rate')\n",
    "    plt.title('Receiver Operating Characteristic (ROC)')\n",
    "    plt.legend(loc=\"lower right\")\n",
    "    plt.show()"
   ]
  },
  {
   "cell_type": "markdown",
   "metadata": {},
   "source": [
    "### *Convert training/test files to pandas*"
   ]
  },
  {
   "cell_type": "code",
   "execution_count": 11,
   "metadata": {},
   "outputs": [
    {
     "name": "stdout",
     "output_type": "stream",
     "text": [
      "training_set_df.shape: (82332, 45)\n",
      "testing_set_df.shape: (175341, 45)\n"
     ]
    }
   ],
   "source": [
    "training_set_df = pd.read_csv('data/UNSW_NB15_testing-set.csv')\n",
    "testing_set_df = pd.read_csv('data/UNSW_NB15_training-set.csv')\n",
    "print('training_set_df.shape:', training_set_df.shape)\n",
    "print('testing_set_df.shape:', testing_set_df.shape)"
   ]
  },
  {
   "cell_type": "markdown",
   "metadata": {},
   "source": [
    "### *Remove rows with missing values*"
   ]
  },
  {
   "cell_type": "code",
   "execution_count": 12,
   "metadata": {},
   "outputs": [
    {
     "name": "stdout",
     "output_type": "stream",
     "text": [
      "training_set_df.shape: (82332, 45)\n",
      "testing_set_df.shape: (175341, 45)\n"
     ]
    }
   ],
   "source": [
    "training_set_df.dropna(inplace=True)\n",
    "testing_set_df.dropna(inplace=True)\n",
    "print('training_set_df.shape:', training_set_df.shape)\n",
    "print('testing_set_df.shape:', testing_set_df.shape)"
   ]
  },
  {
   "cell_type": "markdown",
   "metadata": {},
   "source": [
    "### *Remove rows with normal activity*"
   ]
  },
  {
   "cell_type": "code",
   "execution_count": 13,
   "metadata": {},
   "outputs": [
    {
     "name": "stdout",
     "output_type": "stream",
     "text": [
      "training_set_df.shape: (45332, 45)\n",
      "testing_set_df.shape: (119341, 45)\n"
     ]
    }
   ],
   "source": [
    "training_set_df = training_set_df[training_set_df['label'] != 0]\n",
    "testing_set_df = testing_set_df[testing_set_df['label'] != 0]\n",
    "print('training_set_df.shape:', training_set_df.shape)\n",
    "print('testing_set_df.shape:', testing_set_df.shape)"
   ]
  },
  {
   "cell_type": "markdown",
   "metadata": {},
   "source": [
    "### *Remove unnecessary columns*"
   ]
  },
  {
   "cell_type": "code",
   "execution_count": 14,
   "metadata": {},
   "outputs": [
    {
     "name": "stdout",
     "output_type": "stream",
     "text": [
      "training_set_df.shape: (45332, 43)\n",
      "testing_set_df.shape: (119341, 43)\n"
     ]
    }
   ],
   "source": [
    "training_set_df.drop(['id', 'label'], axis=1, inplace=True)\n",
    "testing_set_df.drop(['id', 'label'], axis=1, inplace=True)\n",
    "print('training_set_df.shape:', training_set_df.shape)\n",
    "print('testing_set_df.shape:', testing_set_df.shape)"
   ]
  },
  {
   "cell_type": "markdown",
   "metadata": {},
   "source": [
    "### *Obtain map of index value to category value*"
   ]
  },
  {
   "cell_type": "code",
   "execution_count": 15,
   "metadata": {},
   "outputs": [
    {
     "name": "stdout",
     "output_type": "stream",
     "text": [
      "index_to_category: {0: 'Reconnaissance', 1: 'Backdoor', 2: 'DoS', 3: 'Exploits', 4: 'Analysis', 5: 'Fuzzers', 6: 'Worms', 7: 'Shellcode', 8: 'Generic'}\n"
     ]
    }
   ],
   "source": [
    "unique_categories = training_set_df['attack_cat'].unique()\n",
    "index_to_category = {index: category for index, category in enumerate(unique_categories)}\n",
    "print('index_to_category:', index_to_category)"
   ]
  },
  {
   "cell_type": "markdown",
   "metadata": {},
   "source": [
    "### *Encode categorical features index*"
   ]
  },
  {
   "cell_type": "code",
   "execution_count": 16,
   "metadata": {},
   "outputs": [],
   "source": [
    "binary_columns = ['attack_cat', 'is_ftp_login', 'is_sm_ips_ports'] #They see these as integers, not binary objects\n",
    "\n",
    "training_df = training_set_df.copy()\n",
    "testing_df = testing_set_df.copy()\n",
    "\n",
    "for column in training_df.select_dtypes(include=['object']).columns: \n",
    "    encode_text_index(training_df, column)\n",
    "    encode_text_index(testing_df, column)\n",
    "\n",
    "for column in binary_columns:\n",
    "    encode_text_index(training_df, column)\n",
    "    encode_text_index(testing_df, column)"
   ]
  },
  {
   "cell_type": "markdown",
   "metadata": {},
   "source": [
    "### *Normalize numeric features*"
   ]
  },
  {
   "cell_type": "code",
   "execution_count": 17,
   "metadata": {},
   "outputs": [],
   "source": [
    "for column in training_set_df.select_dtypes(include=['float64', 'int64']).columns:\n",
    "    if column not in binary_columns:\n",
    "        encode_numeric_zscore(training_df, column)\n",
    "        encode_numeric_zscore(testing_df, column)"
   ]
  },
  {
   "cell_type": "markdown",
   "metadata": {},
   "source": [
    "### *Save dataframes*"
   ]
  },
  {
   "cell_type": "code",
   "execution_count": 18,
   "metadata": {},
   "outputs": [],
   "source": [
    "training_df.to_pickle('data/training_df_additional.pkl');\n",
    "testing_df.to_pickle('data/testing_df_additional.pkl');"
   ]
  },
  {
   "cell_type": "markdown",
   "metadata": {},
   "source": [
    "### *Load dataframes (optional starting point)*"
   ]
  },
  {
   "cell_type": "code",
   "execution_count": 19,
   "metadata": {},
   "outputs": [],
   "source": [
    "training_df = pd.read_pickle('./data/training_df_additional.pkl')\n",
    "testing_df = pd.read_pickle('./data/testing_df_additional.pkl')"
   ]
  },
  {
   "cell_type": "markdown",
   "metadata": {},
   "source": [
    "### *Use dataframe to configure x,y*"
   ]
  },
  {
   "cell_type": "code",
   "execution_count": 20,
   "metadata": {},
   "outputs": [],
   "source": [
    "training_df['attack_cat'] = training_df['attack_cat'].astype('category')\n",
    "testing_df['attack_cat'] = testing_df['attack_cat'].astype('category')\n",
    "x_train, y_train = to_xy(training_df, 'attack_cat')\n",
    "x_test, y_test = to_xy(testing_df, 'attack_cat')"
   ]
  },
  {
   "cell_type": "markdown",
   "metadata": {},
   "source": [
    "### *Shape*"
   ]
  },
  {
   "cell_type": "code",
   "execution_count": 21,
   "metadata": {},
   "outputs": [
    {
     "name": "stdout",
     "output_type": "stream",
     "text": [
      "x_train shape: (45332, 42)\n",
      "y_train shape: (45332,)\n",
      "x_test shape: (119341, 42)\n",
      "y_test shape: (119341,)\n"
     ]
    }
   ],
   "source": [
    "print('x_train shape:', x_train.shape)\n",
    "print('y_train shape:', y_train.shape)\n",
    "print('x_test shape:', x_test.shape)\n",
    "print('y_test shape:', y_test.shape)"
   ]
  },
  {
   "cell_type": "markdown",
   "metadata": {},
   "source": [
    "### *Reshape x's*"
   ]
  },
  {
   "cell_type": "code",
   "execution_count": 22,
   "metadata": {},
   "outputs": [],
   "source": [
    "x_train_rows = x_train.shape[0]\n",
    "x_cols = x_train.shape[1]\n",
    "x_test_rows = x_test.shape[0]\n",
    "x_train = x_train.reshape((x_train_rows, 1, x_cols, 1))\n",
    "x_test = x_test.reshape((x_test_rows, 1, x_cols, 1))"
   ]
  },
  {
   "cell_type": "markdown",
   "metadata": {},
   "source": [
    "### *x_train*"
   ]
  },
  {
   "cell_type": "code",
   "execution_count": 23,
   "metadata": {},
   "outputs": [
    {
     "name": "stdout",
     "output_type": "stream",
     "text": [
      "x_train shape: (45332, 1, 42, 1)\n",
      "[[[[-1.5427328e-02]\n",
      "   [ 7.5000000e+01]\n",
      "   [ 0.0000000e+00]\n",
      "   ...\n",
      "   [-7.2732645e-01]\n",
      "   [-8.3137202e-01]\n",
      "   [ 0.0000000e+00]]]\n",
      "\n",
      "\n",
      " [[[-1.5427328e-02]\n",
      "   [ 7.5000000e+01]\n",
      "   [ 0.0000000e+00]\n",
      "   ...\n",
      "   [-7.2732645e-01]\n",
      "   [-8.3137202e-01]\n",
      "   [ 0.0000000e+00]]]\n",
      "\n",
      "\n",
      " [[[-1.5427328e-02]\n",
      "   [ 7.5000000e+01]\n",
      "   [ 0.0000000e+00]\n",
      "   ...\n",
      "   [-7.2732645e-01]\n",
      "   [-8.3137202e-01]\n",
      "   [ 0.0000000e+00]]]\n",
      "\n",
      "\n",
      " ...\n",
      "\n",
      "\n",
      " [[[ 3.7732542e+00]\n",
      "   [ 1.1500000e+02]\n",
      "   [ 0.0000000e+00]\n",
      "   ...\n",
      "   [-7.2732645e-01]\n",
      "   [-4.5713210e-01]\n",
      "   [ 0.0000000e+00]]]\n",
      "\n",
      "\n",
      " [[[-7.2383285e-02]\n",
      "   [ 1.0900000e+02]\n",
      "   [ 0.0000000e+00]\n",
      "   ...\n",
      "   [-7.2732645e-01]\n",
      "   [-5.3198010e-01]\n",
      "   [ 0.0000000e+00]]]\n",
      "\n",
      "\n",
      " [[[-1.2798063e-01]\n",
      "   [ 1.0900000e+02]\n",
      "   [ 0.0000000e+00]\n",
      "   ...\n",
      "   [-6.3165802e-01]\n",
      "   [-6.0682809e-01]\n",
      "   [ 0.0000000e+00]]]]\n"
     ]
    }
   ],
   "source": [
    "print('x_train shape:', x_train.shape)\n",
    "print (x_train)"
   ]
  },
  {
   "cell_type": "markdown",
   "metadata": {},
   "source": [
    "### *x_test*"
   ]
  },
  {
   "cell_type": "code",
   "execution_count": 24,
   "metadata": {},
   "outputs": [
    {
     "name": "stdout",
     "output_type": "stream",
     "text": [
      "x_test shape: (119341, 1, 42, 1)\n",
      "[[[[-2.1380657e-01]\n",
      "   [ 1.9000000e+01]\n",
      "   [ 0.0000000e+00]\n",
      "   ...\n",
      "   [-6.7011690e-01]\n",
      "   [-5.6223780e-01]\n",
      "   [ 0.0000000e+00]]]\n",
      "\n",
      "\n",
      " [[[-2.1380657e-01]\n",
      "   [ 5.0000000e+01]\n",
      "   [ 0.0000000e+00]\n",
      "   ...\n",
      "   [-6.7011690e-01]\n",
      "   [-3.1350216e-01]\n",
      "   [ 0.0000000e+00]]]\n",
      "\n",
      "\n",
      " [[[-2.1380657e-01]\n",
      "   [ 1.1000000e+01]\n",
      "   [ 0.0000000e+00]\n",
      "   ...\n",
      "   [-7.7625304e-01]\n",
      "   [-3.9641404e-01]\n",
      "   [ 0.0000000e+00]]]\n",
      "\n",
      "\n",
      " ...\n",
      "\n",
      "\n",
      " [[[-2.1380657e-01]\n",
      "   [ 1.1500000e+02]\n",
      "   [ 2.0000000e+00]\n",
      "   ...\n",
      "   [-5.6398076e-01]\n",
      "   [ 1.0105731e-01]\n",
      "   [ 0.0000000e+00]]]\n",
      "\n",
      "\n",
      " [[[-2.1380657e-01]\n",
      "   [ 1.1500000e+02]\n",
      "   [ 2.0000000e+00]\n",
      "   ...\n",
      "   [ 2.3016953e+00]\n",
      "   [ 1.5934714e+00]\n",
      "   [ 0.0000000e+00]]]\n",
      "\n",
      "\n",
      " [[[-2.1380657e-01]\n",
      "   [ 1.1500000e+02]\n",
      "   [ 2.0000000e+00]\n",
      "   ...\n",
      "   [ 2.3016953e+00]\n",
      "   [ 1.5934714e+00]\n",
      "   [ 0.0000000e+00]]]]\n"
     ]
    }
   ],
   "source": [
    "print('x_test shape:', x_test.shape)\n",
    "print (x_test)"
   ]
  },
  {
   "cell_type": "markdown",
   "metadata": {},
   "source": [
    "### *Convert y's to one-hot encoding*"
   ]
  },
  {
   "cell_type": "code",
   "execution_count": 25,
   "metadata": {},
   "outputs": [
    {
     "name": "stdout",
     "output_type": "stream",
     "text": [
      "number_of_classes: 9\n"
     ]
    }
   ],
   "source": [
    "number_of_classes = len(index_to_category)\n",
    "print('number_of_classes:', number_of_classes)\n",
    "y_train_one_hot = tf.keras.utils.to_categorical(y_train, number_of_classes)\n",
    "y_test_one_hot = tf.keras.utils.to_categorical(y_test, number_of_classes)"
   ]
  },
  {
   "cell_type": "markdown",
   "metadata": {},
   "source": [
    "### *y_train_one_hot*"
   ]
  },
  {
   "cell_type": "code",
   "execution_count": 26,
   "metadata": {},
   "outputs": [
    {
     "name": "stdout",
     "output_type": "stream",
     "text": [
      "y_train_one_hot shape: (45332, 9)\n",
      "[[0. 0. 0. ... 1. 0. 0.]\n",
      " [0. 0. 0. ... 1. 0. 0.]\n",
      " [0. 1. 0. ... 0. 0. 0.]\n",
      " ...\n",
      " [0. 0. 0. ... 0. 0. 0.]\n",
      " [0. 0. 0. ... 0. 0. 0.]\n",
      " [0. 0. 0. ... 0. 0. 0.]]\n"
     ]
    }
   ],
   "source": [
    "print('y_train_one_hot shape:', y_train_one_hot.shape)\n",
    "print(y_train_one_hot)"
   ]
  },
  {
   "cell_type": "markdown",
   "metadata": {},
   "source": [
    "### *y_test_one_hot*"
   ]
  },
  {
   "cell_type": "code",
   "execution_count": 27,
   "metadata": {},
   "outputs": [
    {
     "name": "stdout",
     "output_type": "stream",
     "text": [
      "y_test_one_hot shape: (119341, 9)\n",
      "[[0. 1. 0. ... 0. 0. 0.]\n",
      " [0. 1. 0. ... 0. 0. 0.]\n",
      " [0. 1. 0. ... 0. 0. 0.]\n",
      " ...\n",
      " [0. 0. 0. ... 0. 0. 0.]\n",
      " [0. 0. 0. ... 0. 0. 0.]\n",
      " [0. 0. 0. ... 0. 0. 0.]]\n"
     ]
    }
   ],
   "source": [
    "print('y_test_one_hot shape:', y_test_one_hot.shape)\n",
    "print (y_test_one_hot)"
   ]
  },
  {
   "cell_type": "markdown",
   "metadata": {},
   "source": [
    "### *Model:  relu and adam*"
   ]
  },
  {
   "cell_type": "code",
   "execution_count": 28,
   "metadata": {},
   "outputs": [
    {
     "name": "stdout",
     "output_type": "stream",
     "text": [
      "0\n",
      "WARNING:tensorflow:From c:\\Users\\cdub6\\anaconda3\\Lib\\site-packages\\keras\\src\\layers\\pooling\\max_pooling2d.py:161: The name tf.nn.max_pool is deprecated. Please use tf.nn.max_pool2d instead.\n",
      "\n",
      "WARNING:tensorflow:From c:\\Users\\cdub6\\anaconda3\\Lib\\site-packages\\keras\\src\\optimizers\\__init__.py:309: The name tf.train.Optimizer is deprecated. Please use tf.compat.v1.train.Optimizer instead.\n",
      "\n",
      "Epoch 1/100\n",
      "WARNING:tensorflow:From c:\\Users\\cdub6\\anaconda3\\Lib\\site-packages\\keras\\src\\utils\\tf_utils.py:492: The name tf.ragged.RaggedTensorValue is deprecated. Please use tf.compat.v1.ragged.RaggedTensorValue instead.\n",
      "\n",
      "WARNING:tensorflow:From c:\\Users\\cdub6\\anaconda3\\Lib\\site-packages\\keras\\src\\engine\\base_layer_utils.py:384: The name tf.executing_eagerly_outside_functions is deprecated. Please use tf.compat.v1.executing_eagerly_outside_functions instead.\n",
      "\n",
      "1417/1417 - 65s - loss: 0.6831 - accuracy: 0.7514 - val_loss: 0.7484 - val_accuracy: 0.7281 - 65s/epoch - 46ms/step\n",
      "Epoch 2/100\n"
     ]
    },
    {
     "name": "stderr",
     "output_type": "stream",
     "text": [
      "c:\\Users\\cdub6\\anaconda3\\Lib\\site-packages\\keras\\src\\engine\\training.py:3103: UserWarning: You are saving your model as an HDF5 file via `model.save()`. This file format is considered legacy. We recommend using instead the native Keras format, e.g. `model.save('my_model.keras')`.\n",
      "  saving_api.save_model(\n"
     ]
    },
    {
     "name": "stdout",
     "output_type": "stream",
     "text": [
      "1417/1417 - 65s - loss: 0.5690 - accuracy: 0.7828 - val_loss: 0.7396 - val_accuracy: 0.7446 - 65s/epoch - 46ms/step\n",
      "Epoch 3/100\n",
      "1417/1417 - 65s - loss: 0.5372 - accuracy: 0.7900 - val_loss: 0.7355 - val_accuracy: 0.7443 - 65s/epoch - 46ms/step\n",
      "Epoch 4/100\n",
      "1417/1417 - 64s - loss: 0.5166 - accuracy: 0.7952 - val_loss: 0.7736 - val_accuracy: 0.7240 - 64s/epoch - 45ms/step\n",
      "Epoch 5/100\n",
      "1417/1417 - 64s - loss: 0.5049 - accuracy: 0.7977 - val_loss: 0.7804 - val_accuracy: 0.7221 - 64s/epoch - 45ms/step\n",
      "Epoch 5: early stopping\n",
      "1\n",
      "Epoch 1/100\n",
      "1417/1417 - 65s - loss: 0.6737 - accuracy: 0.7532 - val_loss: 0.7535 - val_accuracy: 0.7166 - 65s/epoch - 46ms/step\n",
      "Epoch 2/100\n",
      "1417/1417 - 64s - loss: 0.5675 - accuracy: 0.7840 - val_loss: 0.7465 - val_accuracy: 0.7371 - 64s/epoch - 45ms/step\n",
      "Epoch 3/100\n",
      "1417/1417 - 65s - loss: 0.5350 - accuracy: 0.7907 - val_loss: 0.7491 - val_accuracy: 0.7256 - 65s/epoch - 46ms/step\n",
      "Epoch 4/100\n",
      "1417/1417 - 66s - loss: 0.5178 - accuracy: 0.7958 - val_loss: 0.7090 - val_accuracy: 0.7431 - 66s/epoch - 47ms/step\n",
      "Epoch 5/100\n",
      "1417/1417 - 65s - loss: 0.5042 - accuracy: 0.7946 - val_loss: 0.7582 - val_accuracy: 0.7298 - 65s/epoch - 46ms/step\n",
      "Epoch 6/100\n",
      "1417/1417 - 64s - loss: 0.4912 - accuracy: 0.8032 - val_loss: 0.7287 - val_accuracy: 0.7438 - 64s/epoch - 45ms/step\n",
      "Epoch 6: early stopping\n",
      "2\n",
      "Epoch 1/100\n",
      "1417/1417 - 65s - loss: 0.6683 - accuracy: 0.7545 - val_loss: 0.7643 - val_accuracy: 0.7328 - 65s/epoch - 46ms/step\n",
      "Epoch 2/100\n",
      "1417/1417 - 65s - loss: 0.5687 - accuracy: 0.7819 - val_loss: 0.7859 - val_accuracy: 0.7178 - 65s/epoch - 46ms/step\n",
      "Epoch 3/100\n",
      "1417/1417 - 64s - loss: 0.5365 - accuracy: 0.7904 - val_loss: 0.7440 - val_accuracy: 0.7327 - 64s/epoch - 45ms/step\n",
      "Epoch 4/100\n",
      "1417/1417 - 64s - loss: 0.5162 - accuracy: 0.7949 - val_loss: 0.7480 - val_accuracy: 0.7352 - 64s/epoch - 45ms/step\n",
      "Epoch 5/100\n",
      "1417/1417 - 66s - loss: 0.5015 - accuracy: 0.7994 - val_loss: 0.7054 - val_accuracy: 0.7450 - 66s/epoch - 46ms/step\n",
      "Epoch 6/100\n",
      "1417/1417 - 64s - loss: 0.4934 - accuracy: 0.8011 - val_loss: 0.7206 - val_accuracy: 0.7392 - 64s/epoch - 45ms/step\n",
      "Epoch 7/100\n",
      "1417/1417 - 64s - loss: 0.4831 - accuracy: 0.8048 - val_loss: 0.7673 - val_accuracy: 0.7289 - 64s/epoch - 45ms/step\n",
      "Epoch 7: early stopping\n",
      "3\n",
      "Epoch 1/100\n",
      "1417/1417 - 65s - loss: 0.6766 - accuracy: 0.7531 - val_loss: 0.7789 - val_accuracy: 0.7088 - 65s/epoch - 46ms/step\n",
      "Epoch 2/100\n",
      "1417/1417 - 62s - loss: 0.5686 - accuracy: 0.7826 - val_loss: 0.7959 - val_accuracy: 0.7159 - 62s/epoch - 44ms/step\n",
      "Epoch 3/100\n",
      "1417/1417 - 62s - loss: 0.5356 - accuracy: 0.7908 - val_loss: 0.7369 - val_accuracy: 0.7214 - 62s/epoch - 44ms/step\n",
      "Epoch 4/100\n",
      "1417/1417 - 62s - loss: 0.5146 - accuracy: 0.7963 - val_loss: 0.6985 - val_accuracy: 0.7381 - 62s/epoch - 44ms/step\n",
      "Epoch 5/100\n",
      "1417/1417 - 62s - loss: 0.5036 - accuracy: 0.7996 - val_loss: 0.7739 - val_accuracy: 0.7240 - 62s/epoch - 44ms/step\n",
      "Epoch 6/100\n",
      "1417/1417 - 62s - loss: 0.4936 - accuracy: 0.8006 - val_loss: 0.7223 - val_accuracy: 0.7427 - 62s/epoch - 44ms/step\n",
      "Epoch 6: early stopping\n",
      "4\n",
      "Epoch 1/100\n",
      "1417/1417 - 63s - loss: 0.6818 - accuracy: 0.7511 - val_loss: 0.7696 - val_accuracy: 0.7144 - 63s/epoch - 45ms/step\n",
      "Epoch 2/100\n",
      "1417/1417 - 61s - loss: 0.5669 - accuracy: 0.7823 - val_loss: 0.7213 - val_accuracy: 0.7282 - 61s/epoch - 43ms/step\n",
      "Epoch 3/100\n",
      "1417/1417 - 62s - loss: 0.5376 - accuracy: 0.7909 - val_loss: 0.7170 - val_accuracy: 0.7481 - 62s/epoch - 44ms/step\n",
      "Epoch 4/100\n",
      "1417/1417 - 63s - loss: 0.5204 - accuracy: 0.7926 - val_loss: 0.7727 - val_accuracy: 0.7300 - 63s/epoch - 44ms/step\n",
      "Epoch 5/100\n",
      "1417/1417 - 63s - loss: 0.5045 - accuracy: 0.7984 - val_loss: 0.7309 - val_accuracy: 0.7470 - 63s/epoch - 45ms/step\n",
      "Epoch 5: early stopping\n"
     ]
    }
   ],
   "source": [
    "checkpointer = ModelCheckpoint(filepath=\"best_weights_additional.hdf5\", verbose=0, save_best_only=True) # save best model\n",
    "\n",
    "for i in range(5):\n",
    "    print(i)\n",
    "\n",
    "    model = Sequential()\n",
    "    model.add(tf.keras.layers.Conv2D(64, kernel_size=(3, 3), strides=(1, 1), activation='relu', input_shape=(1, x_cols, 1), padding='same'))\n",
    "    model.add(tf.keras.layers.MaxPooling2D(pool_size=(1, 1)))\n",
    "    model.add(tf.keras.layers.Conv2D(128, kernel_size=(3, 3), strides=(1, 1), activation='relu', padding='same'))\n",
    "    model.add(tf.keras.layers.MaxPooling2D(pool_size=(1, 1)))\n",
    "    model.add(tf.keras.layers.Flatten())\n",
    "    model.add(tf.keras.layers.Dense(1024, activation='relu'))\n",
    "    model.add(Dropout(0.5))\n",
    "    model.add(tf.keras.layers.Dense(number_of_classes, activation='softmax'))\n",
    "    model.compile(loss='categorical_crossentropy', optimizer='adam', metrics=['accuracy'])\n",
    "    monitor = EarlyStopping(monitor='val_loss', min_delta=1e-3, patience=2, verbose=2, mode='auto')\n",
    "    model.fit(x_train, y_train_one_hot, validation_data=(x_test, y_test_one_hot),callbacks=[monitor, checkpointer], verbose=2, epochs=100)"
   ]
  },
  {
   "cell_type": "markdown",
   "metadata": {},
   "source": [
    "### *Model:  sigmoid and adam*"
   ]
  },
  {
   "cell_type": "code",
   "execution_count": 21,
   "metadata": {},
   "outputs": [
    {
     "name": "stdout",
     "output_type": "stream",
     "text": [
      "0\n",
      "Epoch 1/100\n",
      "1417/1417 - 65s - loss: 1.0473 - accuracy: 0.6267 - val_loss: 0.8517 - val_accuracy: 0.7054 - 65s/epoch - 46ms/step\n",
      "Epoch 2/100\n",
      "1417/1417 - 64s - loss: 0.7118 - accuracy: 0.7354 - val_loss: 0.8151 - val_accuracy: 0.6836 - 64s/epoch - 45ms/step\n",
      "Epoch 3/100\n",
      "1417/1417 - 64s - loss: 0.6632 - accuracy: 0.7504 - val_loss: 0.8210 - val_accuracy: 0.6809 - 64s/epoch - 45ms/step\n",
      "Epoch 4/100\n",
      "1417/1417 - 64s - loss: 0.6391 - accuracy: 0.7585 - val_loss: 0.7876 - val_accuracy: 0.7073 - 64s/epoch - 45ms/step\n",
      "Epoch 5/100\n",
      "1417/1417 - 64s - loss: 0.6244 - accuracy: 0.7652 - val_loss: 0.7611 - val_accuracy: 0.7336 - 64s/epoch - 45ms/step\n",
      "Epoch 6/100\n",
      "1417/1417 - 64s - loss: 0.6094 - accuracy: 0.7701 - val_loss: 0.8084 - val_accuracy: 0.7192 - 64s/epoch - 45ms/step\n",
      "Epoch 7/100\n",
      "1417/1417 - 64s - loss: 0.6037 - accuracy: 0.7713 - val_loss: 0.7995 - val_accuracy: 0.7262 - 64s/epoch - 45ms/step\n",
      "Epoch 7: early stopping\n",
      "1\n",
      "Epoch 1/100\n",
      "1417/1417 - 77s - loss: 1.2100 - accuracy: 0.5633 - val_loss: 0.8418 - val_accuracy: 0.6901 - 77s/epoch - 55ms/step\n",
      "Epoch 2/100\n",
      "1417/1417 - 66s - loss: 0.7070 - accuracy: 0.7371 - val_loss: 0.8628 - val_accuracy: 0.6659 - 66s/epoch - 46ms/step\n",
      "Epoch 3/100\n",
      "1417/1417 - 70s - loss: 0.6562 - accuracy: 0.7530 - val_loss: 0.8958 - val_accuracy: 0.6793 - 70s/epoch - 49ms/step\n",
      "Epoch 3: early stopping\n",
      "2\n",
      "Epoch 1/100\n",
      "1417/1417 - 65s - loss: 1.1558 - accuracy: 0.5875 - val_loss: 0.8567 - val_accuracy: 0.6986 - 65s/epoch - 46ms/step\n",
      "Epoch 2/100\n",
      "1417/1417 - 64s - loss: 0.7183 - accuracy: 0.7337 - val_loss: 0.8086 - val_accuracy: 0.7094 - 64s/epoch - 45ms/step\n",
      "Epoch 3/100\n",
      "1417/1417 - 64s - loss: 0.6664 - accuracy: 0.7508 - val_loss: 0.7806 - val_accuracy: 0.7186 - 64s/epoch - 45ms/step\n",
      "Epoch 4/100\n",
      "1417/1417 - 64s - loss: 0.6400 - accuracy: 0.7598 - val_loss: 0.8275 - val_accuracy: 0.6998 - 64s/epoch - 45ms/step\n",
      "Epoch 5/100\n",
      "1417/1417 - 64s - loss: 0.6242 - accuracy: 0.7657 - val_loss: 0.8411 - val_accuracy: 0.7057 - 64s/epoch - 46ms/step\n",
      "Epoch 5: early stopping\n",
      "3\n",
      "Epoch 1/100\n",
      "1417/1417 - 65s - loss: 1.2479 - accuracy: 0.5462 - val_loss: 0.8809 - val_accuracy: 0.6748 - 65s/epoch - 46ms/step\n",
      "Epoch 2/100\n",
      "1417/1417 - 64s - loss: 0.7092 - accuracy: 0.7371 - val_loss: 0.8309 - val_accuracy: 0.6824 - 64s/epoch - 45ms/step\n",
      "Epoch 3/100\n",
      "1417/1417 - 64s - loss: 0.6563 - accuracy: 0.7538 - val_loss: 0.7673 - val_accuracy: 0.7122 - 64s/epoch - 45ms/step\n",
      "Epoch 4/100\n",
      "1417/1417 - 64s - loss: 0.6295 - accuracy: 0.7640 - val_loss: 0.7601 - val_accuracy: 0.7189 - 64s/epoch - 45ms/step\n",
      "Epoch 5/100\n",
      "1417/1417 - 65s - loss: 0.6153 - accuracy: 0.7688 - val_loss: 0.7517 - val_accuracy: 0.7331 - 65s/epoch - 46ms/step\n",
      "Epoch 6/100\n",
      "1417/1417 - 65s - loss: 0.6045 - accuracy: 0.7720 - val_loss: 0.7530 - val_accuracy: 0.7427 - 65s/epoch - 46ms/step\n",
      "Epoch 7/100\n",
      "1417/1417 - 64s - loss: 0.5931 - accuracy: 0.7741 - val_loss: 0.7627 - val_accuracy: 0.7358 - 64s/epoch - 45ms/step\n",
      "Epoch 7: early stopping\n",
      "4\n",
      "Epoch 1/100\n",
      "1417/1417 - 64s - loss: 1.1020 - accuracy: 0.6070 - val_loss: 0.8607 - val_accuracy: 0.6758 - 64s/epoch - 45ms/step\n",
      "Epoch 2/100\n",
      "1417/1417 - 64s - loss: 0.7148 - accuracy: 0.7324 - val_loss: 0.7934 - val_accuracy: 0.7194 - 64s/epoch - 45ms/step\n",
      "Epoch 3/100\n",
      "1417/1417 - 64s - loss: 0.6682 - accuracy: 0.7483 - val_loss: 0.8155 - val_accuracy: 0.7068 - 64s/epoch - 45ms/step\n",
      "Epoch 4/100\n",
      "1417/1417 - 64s - loss: 0.6381 - accuracy: 0.7602 - val_loss: 0.8052 - val_accuracy: 0.6957 - 64s/epoch - 45ms/step\n",
      "Epoch 4: early stopping\n"
     ]
    }
   ],
   "source": [
    "checkpointer = ModelCheckpoint(filepath=\"models/best_weights_additional.hdf5\", verbose=0, save_best_only=True) # save best model\n",
    "\n",
    "for i in range(5):\n",
    "    print(i)\n",
    "\n",
    "    model = Sequential()\n",
    "    model.add(tf.keras.layers.Conv2D(64, kernel_size=(3, 3), strides=(1, 1), activation='sigmoid', input_shape=(1, x_cols, 1), padding='same'))\n",
    "    model.add(tf.keras.layers.MaxPooling2D(pool_size=(1, 1)))\n",
    "    model.add(tf.keras.layers.Conv2D(128, kernel_size=(3, 3), strides=(1, 1), activation='sigmoid', padding='same'))\n",
    "    model.add(tf.keras.layers.MaxPooling2D(pool_size=(1, 1)))\n",
    "    model.add(tf.keras.layers.Flatten())\n",
    "    model.add(tf.keras.layers.Dense(1024, activation='sigmoid'))\n",
    "    model.add(Dropout(0.5))\n",
    "    model.add(tf.keras.layers.Dense(number_of_classes, activation='softmax'))\n",
    "    model.compile(loss='categorical_crossentropy', optimizer='adam', metrics=['accuracy'])\n",
    "    monitor = EarlyStopping(monitor='val_loss', min_delta=1e-3, patience=2, verbose=2, mode='auto')\n",
    "    model.fit(x_train, y_train_one_hot, validation_data=(x_test, y_test_one_hot),callbacks=[monitor, checkpointer], verbose=2, epochs=100)"
   ]
  },
  {
   "cell_type": "markdown",
   "metadata": {},
   "source": [
    "### *Model:  tanh and adam*"
   ]
  },
  {
   "cell_type": "code",
   "execution_count": 22,
   "metadata": {},
   "outputs": [
    {
     "name": "stdout",
     "output_type": "stream",
     "text": [
      "0\n",
      "Epoch 1/100\n",
      "1417/1417 - 67s - loss: 0.8058 - accuracy: 0.7189 - val_loss: 0.8287 - val_accuracy: 0.7166 - 67s/epoch - 47ms/step\n",
      "Epoch 2/100\n",
      "1417/1417 - 63s - loss: 0.7230 - accuracy: 0.7408 - val_loss: 0.8065 - val_accuracy: 0.7214 - 63s/epoch - 45ms/step\n",
      "Epoch 3/100\n",
      "1417/1417 - 64s - loss: 0.7085 - accuracy: 0.7447 - val_loss: 0.8685 - val_accuracy: 0.7012 - 64s/epoch - 45ms/step\n",
      "Epoch 4/100\n",
      "1417/1417 - 63s - loss: 0.6999 - accuracy: 0.7505 - val_loss: 0.9007 - val_accuracy: 0.6761 - 63s/epoch - 44ms/step\n",
      "Epoch 4: early stopping\n",
      "1\n",
      "Epoch 1/100\n",
      "1417/1417 - 64s - loss: 0.8008 - accuracy: 0.7196 - val_loss: 0.8782 - val_accuracy: 0.6816 - 64s/epoch - 45ms/step\n",
      "Epoch 2/100\n",
      "1417/1417 - 65s - loss: 0.7245 - accuracy: 0.7383 - val_loss: 0.8189 - val_accuracy: 0.7101 - 65s/epoch - 46ms/step\n",
      "Epoch 3/100\n",
      "1417/1417 - 64s - loss: 0.7066 - accuracy: 0.7453 - val_loss: 0.8246 - val_accuracy: 0.7170 - 64s/epoch - 45ms/step\n",
      "Epoch 4/100\n",
      "1417/1417 - 65s - loss: 0.6904 - accuracy: 0.7524 - val_loss: 0.7922 - val_accuracy: 0.7059 - 65s/epoch - 46ms/step\n",
      "Epoch 5/100\n",
      "1417/1417 - 66s - loss: 0.6865 - accuracy: 0.7541 - val_loss: 0.8125 - val_accuracy: 0.7308 - 66s/epoch - 46ms/step\n",
      "Epoch 6/100\n",
      "1417/1417 - 64s - loss: 0.6815 - accuracy: 0.7573 - val_loss: 0.7692 - val_accuracy: 0.7202 - 64s/epoch - 45ms/step\n",
      "Epoch 7/100\n",
      "1417/1417 - 64s - loss: 0.6783 - accuracy: 0.7593 - val_loss: 0.8327 - val_accuracy: 0.7068 - 64s/epoch - 45ms/step\n",
      "Epoch 8/100\n",
      "1417/1417 - 64s - loss: 0.6795 - accuracy: 0.7596 - val_loss: 0.8077 - val_accuracy: 0.7261 - 64s/epoch - 45ms/step\n",
      "Epoch 8: early stopping\n",
      "2\n",
      "Epoch 1/100\n",
      "1417/1417 - 65s - loss: 0.8000 - accuracy: 0.7222 - val_loss: 0.9960 - val_accuracy: 0.6289 - 65s/epoch - 46ms/step\n",
      "Epoch 2/100\n",
      "1417/1417 - 64s - loss: 0.7170 - accuracy: 0.7389 - val_loss: 0.9222 - val_accuracy: 0.6664 - 64s/epoch - 45ms/step\n",
      "Epoch 3/100\n",
      "1417/1417 - 64s - loss: 0.7014 - accuracy: 0.7483 - val_loss: 0.8040 - val_accuracy: 0.7165 - 64s/epoch - 45ms/step\n",
      "Epoch 4/100\n",
      "1417/1417 - 64s - loss: 0.6920 - accuracy: 0.7515 - val_loss: 0.7956 - val_accuracy: 0.7236 - 64s/epoch - 45ms/step\n",
      "Epoch 5/100\n",
      "1417/1417 - 64s - loss: 0.6777 - accuracy: 0.7549 - val_loss: 0.8642 - val_accuracy: 0.6889 - 64s/epoch - 45ms/step\n",
      "Epoch 6/100\n",
      "1417/1417 - 64s - loss: 0.6786 - accuracy: 0.7552 - val_loss: 0.8183 - val_accuracy: 0.7193 - 64s/epoch - 45ms/step\n",
      "Epoch 6: early stopping\n",
      "3\n",
      "Epoch 1/100\n",
      "1417/1417 - 65s - loss: 0.8066 - accuracy: 0.7197 - val_loss: 0.9590 - val_accuracy: 0.6777 - 65s/epoch - 46ms/step\n",
      "Epoch 2/100\n",
      "1417/1417 - 64s - loss: 0.7232 - accuracy: 0.7384 - val_loss: 0.8602 - val_accuracy: 0.6859 - 64s/epoch - 45ms/step\n",
      "Epoch 3/100\n",
      "1417/1417 - 63s - loss: 0.7034 - accuracy: 0.7470 - val_loss: 0.8422 - val_accuracy: 0.7077 - 63s/epoch - 45ms/step\n",
      "Epoch 4/100\n",
      "1417/1417 - 64s - loss: 0.6884 - accuracy: 0.7531 - val_loss: 0.8510 - val_accuracy: 0.7044 - 64s/epoch - 45ms/step\n",
      "Epoch 5/100\n",
      "1417/1417 - 66s - loss: 0.6871 - accuracy: 0.7531 - val_loss: 0.8929 - val_accuracy: 0.6730 - 66s/epoch - 46ms/step\n",
      "Epoch 5: early stopping\n",
      "4\n",
      "Epoch 1/100\n",
      "1417/1417 - 66s - loss: 0.8082 - accuracy: 0.7173 - val_loss: 0.8569 - val_accuracy: 0.6956 - 66s/epoch - 46ms/step\n",
      "Epoch 2/100\n",
      "1417/1417 - 64s - loss: 0.7229 - accuracy: 0.7391 - val_loss: 0.8949 - val_accuracy: 0.6867 - 64s/epoch - 45ms/step\n",
      "Epoch 3/100\n",
      "1417/1417 - 63s - loss: 0.7031 - accuracy: 0.7455 - val_loss: 0.8543 - val_accuracy: 0.6831 - 63s/epoch - 45ms/step\n",
      "Epoch 4/100\n",
      "1417/1417 - 64s - loss: 0.6986 - accuracy: 0.7514 - val_loss: 0.9514 - val_accuracy: 0.6668 - 64s/epoch - 45ms/step\n",
      "Epoch 5/100\n",
      "1417/1417 - 64s - loss: 0.6912 - accuracy: 0.7530 - val_loss: 0.8057 - val_accuracy: 0.7292 - 64s/epoch - 45ms/step\n",
      "Epoch 6/100\n",
      "1417/1417 - 64s - loss: 0.6846 - accuracy: 0.7570 - val_loss: 0.7805 - val_accuracy: 0.7237 - 64s/epoch - 45ms/step\n",
      "Epoch 7/100\n",
      "1417/1417 - 64s - loss: 0.6883 - accuracy: 0.7584 - val_loss: 0.7951 - val_accuracy: 0.7229 - 64s/epoch - 45ms/step\n",
      "Epoch 8/100\n",
      "1417/1417 - 64s - loss: 0.6965 - accuracy: 0.7556 - val_loss: 0.7976 - val_accuracy: 0.7318 - 64s/epoch - 45ms/step\n",
      "Epoch 8: early stopping\n"
     ]
    }
   ],
   "source": [
    "checkpointer = ModelCheckpoint(filepath=\"models/best_weights_additional.hdf5\", verbose=0, save_best_only=True) # save best model\n",
    "\n",
    "for i in range(5):\n",
    "    print(i)\n",
    "\n",
    "    model = Sequential()\n",
    "    model.add(tf.keras.layers.Conv2D(64, kernel_size=(3, 3), strides=(1, 1), activation='tanh', input_shape=(1, x_cols, 1), padding='same'))\n",
    "    model.add(tf.keras.layers.MaxPooling2D(pool_size=(1, 1)))\n",
    "    model.add(tf.keras.layers.Conv2D(128, kernel_size=(3, 3), strides=(1, 1), activation='tanh', padding='same'))\n",
    "    model.add(tf.keras.layers.MaxPooling2D(pool_size=(1, 1)))\n",
    "    model.add(tf.keras.layers.Flatten())\n",
    "    model.add(tf.keras.layers.Dense(1024, activation='tanh'))\n",
    "    model.add(Dropout(0.5))\n",
    "    model.add(tf.keras.layers.Dense(number_of_classes, activation='softmax'))\n",
    "    model.compile(loss='categorical_crossentropy', optimizer='adam', metrics=['accuracy'])\n",
    "    monitor = EarlyStopping(monitor='val_loss', min_delta=1e-3, patience=2, verbose=2, mode='auto')\n",
    "    model.fit(x_train, y_train_one_hot, validation_data=(x_test, y_test_one_hot),callbacks=[monitor, checkpointer], verbose=2, epochs=100)"
   ]
  },
  {
   "cell_type": "markdown",
   "metadata": {},
   "source": [
    "### *Model:  relu and sgd*"
   ]
  },
  {
   "cell_type": "code",
   "execution_count": 23,
   "metadata": {},
   "outputs": [
    {
     "name": "stdout",
     "output_type": "stream",
     "text": [
      "0\n",
      "Epoch 1/100\n",
      "1417/1417 - 28s - loss: 1.1078 - accuracy: 0.6154 - val_loss: 0.9816 - val_accuracy: 0.6308 - 28s/epoch - 20ms/step\n",
      "Epoch 2/100\n",
      "1417/1417 - 27s - loss: 0.7936 - accuracy: 0.7207 - val_loss: 0.9461 - val_accuracy: 0.6756 - 27s/epoch - 19ms/step\n",
      "Epoch 3/100\n",
      "1417/1417 - 27s - loss: 0.6965 - accuracy: 0.7521 - val_loss: 0.8344 - val_accuracy: 0.6989 - 27s/epoch - 19ms/step\n",
      "Epoch 4/100\n",
      "1417/1417 - 27s - loss: 0.6585 - accuracy: 0.7616 - val_loss: 0.8031 - val_accuracy: 0.7031 - 27s/epoch - 19ms/step\n",
      "Epoch 5/100\n",
      "1417/1417 - 27s - loss: 0.6355 - accuracy: 0.7648 - val_loss: 0.7905 - val_accuracy: 0.7256 - 27s/epoch - 19ms/step\n",
      "Epoch 6/100\n",
      "1417/1417 - 27s - loss: 0.6201 - accuracy: 0.7696 - val_loss: 0.7910 - val_accuracy: 0.7099 - 27s/epoch - 19ms/step\n",
      "Epoch 7/100\n",
      "1417/1417 - 29s - loss: 0.6065 - accuracy: 0.7718 - val_loss: 0.7684 - val_accuracy: 0.7308 - 29s/epoch - 20ms/step\n",
      "Epoch 8/100\n",
      "1417/1417 - 27s - loss: 0.5979 - accuracy: 0.7731 - val_loss: 0.7833 - val_accuracy: 0.7114 - 27s/epoch - 19ms/step\n",
      "Epoch 9/100\n",
      "1417/1417 - 27s - loss: 0.5902 - accuracy: 0.7761 - val_loss: 0.7669 - val_accuracy: 0.7301 - 27s/epoch - 19ms/step\n",
      "Epoch 10/100\n",
      "1417/1417 - 27s - loss: 0.5833 - accuracy: 0.7787 - val_loss: 0.8007 - val_accuracy: 0.7103 - 27s/epoch - 19ms/step\n",
      "Epoch 11/100\n",
      "1417/1417 - 27s - loss: 0.5785 - accuracy: 0.7789 - val_loss: 0.7973 - val_accuracy: 0.7230 - 27s/epoch - 19ms/step\n",
      "Epoch 11: early stopping\n",
      "1\n",
      "Epoch 1/100\n",
      "1417/1417 - 27s - loss: 1.1142 - accuracy: 0.6108 - val_loss: 0.9569 - val_accuracy: 0.6464 - 27s/epoch - 19ms/step\n",
      "Epoch 2/100\n",
      "1417/1417 - 26s - loss: 0.8078 - accuracy: 0.7139 - val_loss: 0.8552 - val_accuracy: 0.6981 - 26s/epoch - 18ms/step\n",
      "Epoch 3/100\n",
      "1417/1417 - 27s - loss: 0.7065 - accuracy: 0.7468 - val_loss: 0.8066 - val_accuracy: 0.7197 - 27s/epoch - 19ms/step\n",
      "Epoch 4/100\n",
      "1417/1417 - 26s - loss: 0.6706 - accuracy: 0.7568 - val_loss: 0.8443 - val_accuracy: 0.6925 - 26s/epoch - 18ms/step\n",
      "Epoch 5/100\n",
      "1417/1417 - 26s - loss: 0.6468 - accuracy: 0.7623 - val_loss: 0.7879 - val_accuracy: 0.7192 - 26s/epoch - 18ms/step\n",
      "Epoch 6/100\n",
      "1417/1417 - 27s - loss: 0.6295 - accuracy: 0.7664 - val_loss: 0.7826 - val_accuracy: 0.7231 - 27s/epoch - 19ms/step\n",
      "Epoch 7/100\n",
      "1417/1417 - 27s - loss: 0.6170 - accuracy: 0.7703 - val_loss: 0.8051 - val_accuracy: 0.6987 - 27s/epoch - 19ms/step\n",
      "Epoch 8/100\n",
      "1417/1417 - 27s - loss: 0.6071 - accuracy: 0.7714 - val_loss: 0.7757 - val_accuracy: 0.7225 - 27s/epoch - 19ms/step\n",
      "Epoch 9/100\n",
      "1417/1417 - 27s - loss: 0.5991 - accuracy: 0.7732 - val_loss: 0.7530 - val_accuracy: 0.7208 - 27s/epoch - 19ms/step\n",
      "Epoch 10/100\n",
      "1417/1417 - 27s - loss: 0.5920 - accuracy: 0.7740 - val_loss: 0.7813 - val_accuracy: 0.7107 - 27s/epoch - 19ms/step\n",
      "Epoch 11/100\n",
      "1417/1417 - 27s - loss: 0.5854 - accuracy: 0.7768 - val_loss: 0.7885 - val_accuracy: 0.7214 - 27s/epoch - 19ms/step\n",
      "Epoch 11: early stopping\n",
      "2\n",
      "Epoch 1/100\n",
      "1417/1417 - 27s - loss: 1.1286 - accuracy: 0.6042 - val_loss: 0.9772 - val_accuracy: 0.6018 - 27s/epoch - 19ms/step\n",
      "Epoch 2/100\n",
      "1417/1417 - 28s - loss: 0.8065 - accuracy: 0.7145 - val_loss: 0.8551 - val_accuracy: 0.7016 - 28s/epoch - 19ms/step\n",
      "Epoch 3/100\n",
      "1417/1417 - 27s - loss: 0.7041 - accuracy: 0.7483 - val_loss: 0.8434 - val_accuracy: 0.6909 - 27s/epoch - 19ms/step\n",
      "Epoch 4/100\n",
      "1417/1417 - 27s - loss: 0.6662 - accuracy: 0.7574 - val_loss: 0.8421 - val_accuracy: 0.6988 - 27s/epoch - 19ms/step\n",
      "Epoch 5/100\n",
      "1417/1417 - 28s - loss: 0.6440 - accuracy: 0.7624 - val_loss: 0.8090 - val_accuracy: 0.7012 - 28s/epoch - 20ms/step\n",
      "Epoch 6/100\n",
      "1417/1417 - 27s - loss: 0.6272 - accuracy: 0.7662 - val_loss: 0.8475 - val_accuracy: 0.6985 - 27s/epoch - 19ms/step\n",
      "Epoch 7/100\n",
      "1417/1417 - 27s - loss: 0.6142 - accuracy: 0.7706 - val_loss: 0.8333 - val_accuracy: 0.6943 - 27s/epoch - 19ms/step\n",
      "Epoch 7: early stopping\n",
      "3\n",
      "Epoch 1/100\n",
      "1417/1417 - 28s - loss: 1.1181 - accuracy: 0.6106 - val_loss: 0.9404 - val_accuracy: 0.6659 - 28s/epoch - 20ms/step\n",
      "Epoch 2/100\n",
      "1417/1417 - 27s - loss: 0.8369 - accuracy: 0.7065 - val_loss: 0.8525 - val_accuracy: 0.7010 - 27s/epoch - 19ms/step\n",
      "Epoch 3/100\n",
      "1417/1417 - 28s - loss: 0.7089 - accuracy: 0.7463 - val_loss: 0.8235 - val_accuracy: 0.6993 - 28s/epoch - 20ms/step\n",
      "Epoch 4/100\n",
      "1417/1417 - 28s - loss: 0.6684 - accuracy: 0.7577 - val_loss: 0.8163 - val_accuracy: 0.7097 - 28s/epoch - 20ms/step\n",
      "Epoch 5/100\n",
      "1417/1417 - 28s - loss: 0.6416 - accuracy: 0.7656 - val_loss: 0.7884 - val_accuracy: 0.7254 - 28s/epoch - 20ms/step\n",
      "Epoch 6/100\n",
      "1417/1417 - 28s - loss: 0.6259 - accuracy: 0.7652 - val_loss: 0.7894 - val_accuracy: 0.7141 - 28s/epoch - 20ms/step\n",
      "Epoch 7/100\n",
      "1417/1417 - 28s - loss: 0.6126 - accuracy: 0.7704 - val_loss: 0.7782 - val_accuracy: 0.7163 - 28s/epoch - 20ms/step\n",
      "Epoch 8/100\n",
      "1417/1417 - 34s - loss: 0.6023 - accuracy: 0.7741 - val_loss: 0.7980 - val_accuracy: 0.7150 - 34s/epoch - 24ms/step\n",
      "Epoch 9/100\n",
      "1417/1417 - 30s - loss: 0.5944 - accuracy: 0.7744 - val_loss: 0.7689 - val_accuracy: 0.7288 - 30s/epoch - 21ms/step\n",
      "Epoch 10/100\n",
      "1417/1417 - 28s - loss: 0.5871 - accuracy: 0.7746 - val_loss: 0.7636 - val_accuracy: 0.7195 - 28s/epoch - 20ms/step\n",
      "Epoch 11/100\n",
      "1417/1417 - 28s - loss: 0.5808 - accuracy: 0.7767 - val_loss: 0.7828 - val_accuracy: 0.7161 - 28s/epoch - 20ms/step\n",
      "Epoch 12/100\n",
      "1417/1417 - 29s - loss: 0.5741 - accuracy: 0.7814 - val_loss: 0.7878 - val_accuracy: 0.7165 - 29s/epoch - 20ms/step\n",
      "Epoch 12: early stopping\n",
      "4\n",
      "Epoch 1/100\n",
      "1417/1417 - 29s - loss: 1.1079 - accuracy: 0.6148 - val_loss: 0.9182 - val_accuracy: 0.6688 - 29s/epoch - 21ms/step\n",
      "Epoch 2/100\n",
      "1417/1417 - 28s - loss: 0.7942 - accuracy: 0.7195 - val_loss: 0.8807 - val_accuracy: 0.6953 - 28s/epoch - 20ms/step\n",
      "Epoch 3/100\n",
      "1417/1417 - 28s - loss: 0.6994 - accuracy: 0.7505 - val_loss: 0.8179 - val_accuracy: 0.7178 - 28s/epoch - 20ms/step\n",
      "Epoch 4/100\n",
      "1417/1417 - 29s - loss: 0.6607 - accuracy: 0.7610 - val_loss: 0.8423 - val_accuracy: 0.6910 - 29s/epoch - 21ms/step\n",
      "Epoch 5/100\n",
      "1417/1417 - 28s - loss: 0.6381 - accuracy: 0.7636 - val_loss: 0.7827 - val_accuracy: 0.7151 - 28s/epoch - 19ms/step\n",
      "Epoch 6/100\n",
      "1417/1417 - 28s - loss: 0.6218 - accuracy: 0.7686 - val_loss: 0.7984 - val_accuracy: 0.7003 - 28s/epoch - 20ms/step\n",
      "Epoch 7/100\n",
      "1417/1417 - 30s - loss: 0.6097 - accuracy: 0.7719 - val_loss: 0.7740 - val_accuracy: 0.7194 - 30s/epoch - 21ms/step\n",
      "Epoch 8/100\n",
      "1417/1417 - 29s - loss: 0.5997 - accuracy: 0.7741 - val_loss: 0.8388 - val_accuracy: 0.6898 - 29s/epoch - 20ms/step\n",
      "Epoch 9/100\n",
      "1417/1417 - 28s - loss: 0.5903 - accuracy: 0.7765 - val_loss: 0.8025 - val_accuracy: 0.7118 - 28s/epoch - 20ms/step\n",
      "Epoch 9: early stopping\n"
     ]
    }
   ],
   "source": [
    "checkpointer = ModelCheckpoint(filepath=\"models/best_weights_additional.hdf5\", verbose=0, save_best_only=True) # save best model\n",
    "\n",
    "for i in range(5):\n",
    "    print(i)\n",
    "\n",
    "    model = Sequential()\n",
    "    model.add(tf.keras.layers.Conv2D(64, kernel_size=(3, 3), strides=(1, 1), activation='relu', input_shape=(1, x_cols, 1), padding='same'))\n",
    "    model.add(tf.keras.layers.MaxPooling2D(pool_size=(1, 1)))\n",
    "    model.add(tf.keras.layers.Conv2D(128, kernel_size=(3, 3), strides=(1, 1), activation='relu', padding='same'))\n",
    "    model.add(tf.keras.layers.MaxPooling2D(pool_size=(1, 1)))\n",
    "    model.add(tf.keras.layers.Flatten())\n",
    "    model.add(tf.keras.layers.Dense(1024, activation='relu'))\n",
    "    model.add(Dropout(0.5))\n",
    "    model.add(tf.keras.layers.Dense(number_of_classes, activation='softmax'))\n",
    "    model.compile(loss='categorical_crossentropy', optimizer='sgd', metrics=['accuracy'])\n",
    "    monitor = EarlyStopping(monitor='val_loss', min_delta=1e-3, patience=2, verbose=2, mode='auto')\n",
    "    model.fit(x_train, y_train_one_hot, validation_data=(x_test, y_test_one_hot),callbacks=[monitor, checkpointer], verbose=2, epochs=100)"
   ]
  },
  {
   "cell_type": "markdown",
   "metadata": {},
   "source": [
    "### *Model:  sigmoid and sgd*"
   ]
  },
  {
   "cell_type": "code",
   "execution_count": 24,
   "metadata": {},
   "outputs": [
    {
     "name": "stdout",
     "output_type": "stream",
     "text": [
      "0\n",
      "Epoch 1/100\n",
      "1417/1417 - 29s - loss: 1.6309 - accuracy: 0.3884 - val_loss: 1.6605 - val_accuracy: 0.3352 - 29s/epoch - 21ms/step\n",
      "Epoch 2/100\n",
      "1417/1417 - 30s - loss: 1.5734 - accuracy: 0.4130 - val_loss: 1.6562 - val_accuracy: 0.3352 - 30s/epoch - 21ms/step\n",
      "Epoch 3/100\n",
      "1417/1417 - 30s - loss: 1.5664 - accuracy: 0.4157 - val_loss: 1.6563 - val_accuracy: 0.3352 - 30s/epoch - 21ms/step\n",
      "Epoch 4/100\n",
      "1417/1417 - 29s - loss: 1.5624 - accuracy: 0.4164 - val_loss: 1.6523 - val_accuracy: 0.3352 - 29s/epoch - 21ms/step\n",
      "Epoch 5/100\n",
      "1417/1417 - 28s - loss: 1.5613 - accuracy: 0.4164 - val_loss: 1.6495 - val_accuracy: 0.3352 - 28s/epoch - 20ms/step\n",
      "Epoch 6/100\n",
      "1417/1417 - 29s - loss: 1.5531 - accuracy: 0.4175 - val_loss: 1.6256 - val_accuracy: 0.3352 - 29s/epoch - 20ms/step\n",
      "Epoch 7/100\n",
      "1417/1417 - 28s - loss: 1.5093 - accuracy: 0.4460 - val_loss: 1.4662 - val_accuracy: 0.4966 - 28s/epoch - 20ms/step\n",
      "Epoch 8/100\n",
      "1417/1417 - 28s - loss: 1.2811 - accuracy: 0.5632 - val_loss: 1.2138 - val_accuracy: 0.5007 - 28s/epoch - 20ms/step\n",
      "Epoch 9/100\n",
      "1417/1417 - 28s - loss: 1.1968 - accuracy: 0.5778 - val_loss: 1.1613 - val_accuracy: 0.5089 - 28s/epoch - 20ms/step\n",
      "Epoch 10/100\n",
      "1417/1417 - 28s - loss: 1.1706 - accuracy: 0.5826 - val_loss: 1.1429 - val_accuracy: 0.5113 - 28s/epoch - 20ms/step\n",
      "Epoch 11/100\n",
      "1417/1417 - 28s - loss: 1.1473 - accuracy: 0.5883 - val_loss: 1.0919 - val_accuracy: 0.5611 - 28s/epoch - 20ms/step\n",
      "Epoch 12/100\n",
      "1417/1417 - 28s - loss: 1.1199 - accuracy: 0.6044 - val_loss: 1.0531 - val_accuracy: 0.6228 - 28s/epoch - 20ms/step\n",
      "Epoch 13/100\n",
      "1417/1417 - 28s - loss: 1.0935 - accuracy: 0.6165 - val_loss: 1.0505 - val_accuracy: 0.6019 - 28s/epoch - 19ms/step\n",
      "Epoch 14/100\n",
      "1417/1417 - 28s - loss: 1.0762 - accuracy: 0.6254 - val_loss: 1.0228 - val_accuracy: 0.6034 - 28s/epoch - 20ms/step\n",
      "Epoch 15/100\n",
      "1417/1417 - 28s - loss: 1.0565 - accuracy: 0.6337 - val_loss: 1.0116 - val_accuracy: 0.6128 - 28s/epoch - 20ms/step\n",
      "Epoch 16/100\n",
      "1417/1417 - 28s - loss: 1.0422 - accuracy: 0.6389 - val_loss: 0.9865 - val_accuracy: 0.6417 - 28s/epoch - 20ms/step\n",
      "Epoch 17/100\n",
      "1417/1417 - 28s - loss: 1.0285 - accuracy: 0.6421 - val_loss: 0.9951 - val_accuracy: 0.6319 - 28s/epoch - 20ms/step\n",
      "Epoch 18/100\n",
      "1417/1417 - 28s - loss: 1.0138 - accuracy: 0.6505 - val_loss: 0.9645 - val_accuracy: 0.6498 - 28s/epoch - 20ms/step\n",
      "Epoch 19/100\n",
      "1417/1417 - 28s - loss: 1.0005 - accuracy: 0.6529 - val_loss: 0.9558 - val_accuracy: 0.6530 - 28s/epoch - 20ms/step\n",
      "Epoch 20/100\n",
      "1417/1417 - 28s - loss: 0.9838 - accuracy: 0.6630 - val_loss: 0.9436 - val_accuracy: 0.6513 - 28s/epoch - 20ms/step\n",
      "Epoch 21/100\n",
      "1417/1417 - 28s - loss: 0.9698 - accuracy: 0.6654 - val_loss: 0.9424 - val_accuracy: 0.6440 - 28s/epoch - 20ms/step\n",
      "Epoch 22/100\n",
      "1417/1417 - 28s - loss: 0.9529 - accuracy: 0.6721 - val_loss: 0.9343 - val_accuracy: 0.6562 - 28s/epoch - 19ms/step\n",
      "Epoch 23/100\n",
      "1417/1417 - 28s - loss: 0.9334 - accuracy: 0.6795 - val_loss: 0.9107 - val_accuracy: 0.6723 - 28s/epoch - 20ms/step\n",
      "Epoch 24/100\n",
      "1417/1417 - 29s - loss: 0.9112 - accuracy: 0.6868 - val_loss: 0.8997 - val_accuracy: 0.6639 - 29s/epoch - 20ms/step\n",
      "Epoch 25/100\n",
      "1417/1417 - 28s - loss: 0.8796 - accuracy: 0.6965 - val_loss: 0.8907 - val_accuracy: 0.6639 - 28s/epoch - 20ms/step\n",
      "Epoch 26/100\n",
      "1417/1417 - 28s - loss: 0.8493 - accuracy: 0.7036 - val_loss: 0.8843 - val_accuracy: 0.6648 - 28s/epoch - 20ms/step\n",
      "Epoch 27/100\n",
      "1417/1417 - 29s - loss: 0.8157 - accuracy: 0.7128 - val_loss: 0.8733 - val_accuracy: 0.6806 - 29s/epoch - 20ms/step\n",
      "Epoch 28/100\n",
      "1417/1417 - 29s - loss: 0.7951 - accuracy: 0.7148 - val_loss: 0.8845 - val_accuracy: 0.6622 - 29s/epoch - 20ms/step\n",
      "Epoch 29/100\n",
      "1417/1417 - 28s - loss: 0.7804 - accuracy: 0.7183 - val_loss: 0.8677 - val_accuracy: 0.6857 - 28s/epoch - 20ms/step\n",
      "Epoch 30/100\n",
      "1417/1417 - 28s - loss: 0.7705 - accuracy: 0.7232 - val_loss: 0.8695 - val_accuracy: 0.6851 - 28s/epoch - 20ms/step\n",
      "Epoch 31/100\n",
      "1417/1417 - 29s - loss: 0.7627 - accuracy: 0.7245 - val_loss: 0.8732 - val_accuracy: 0.6793 - 29s/epoch - 21ms/step\n",
      "Epoch 31: early stopping\n",
      "1\n",
      "Epoch 1/100\n",
      "1417/1417 - 29s - loss: 1.6320 - accuracy: 0.3859 - val_loss: 1.6561 - val_accuracy: 0.3352 - 29s/epoch - 20ms/step\n",
      "Epoch 2/100\n",
      "1417/1417 - 27s - loss: 1.5747 - accuracy: 0.4135 - val_loss: 1.6899 - val_accuracy: 0.3352 - 27s/epoch - 19ms/step\n",
      "Epoch 3/100\n",
      "1417/1417 - 28s - loss: 1.5676 - accuracy: 0.4160 - val_loss: 1.6778 - val_accuracy: 0.3352 - 28s/epoch - 20ms/step\n",
      "Epoch 3: early stopping\n",
      "2\n",
      "Epoch 1/100\n",
      "1417/1417 - 28s - loss: 1.6332 - accuracy: 0.3873 - val_loss: 1.7004 - val_accuracy: 0.3352 - 28s/epoch - 20ms/step\n",
      "Epoch 2/100\n",
      "1417/1417 - 28s - loss: 1.5748 - accuracy: 0.4139 - val_loss: 1.6754 - val_accuracy: 0.3352 - 28s/epoch - 20ms/step\n",
      "Epoch 3/100\n",
      "1417/1417 - 27s - loss: 1.5668 - accuracy: 0.4156 - val_loss: 1.6852 - val_accuracy: 0.3352 - 27s/epoch - 19ms/step\n",
      "Epoch 4/100\n",
      "1417/1417 - 27s - loss: 1.5642 - accuracy: 0.4162 - val_loss: 1.6739 - val_accuracy: 0.3352 - 27s/epoch - 19ms/step\n",
      "Epoch 5/100\n",
      "1417/1417 - 27s - loss: 1.5596 - accuracy: 0.4162 - val_loss: 1.6422 - val_accuracy: 0.3352 - 27s/epoch - 19ms/step\n",
      "Epoch 6/100\n",
      "1417/1417 - 28s - loss: 1.5506 - accuracy: 0.4169 - val_loss: 1.6226 - val_accuracy: 0.3352 - 28s/epoch - 20ms/step\n",
      "Epoch 7/100\n",
      "1417/1417 - 28s - loss: 1.4906 - accuracy: 0.4604 - val_loss: 1.4151 - val_accuracy: 0.4955 - 28s/epoch - 20ms/step\n",
      "Epoch 8/100\n",
      "1417/1417 - 28s - loss: 1.2606 - accuracy: 0.5685 - val_loss: 1.2119 - val_accuracy: 0.5006 - 28s/epoch - 20ms/step\n",
      "Epoch 9/100\n",
      "1417/1417 - 28s - loss: 1.1918 - accuracy: 0.5790 - val_loss: 1.1611 - val_accuracy: 0.5183 - 28s/epoch - 19ms/step\n",
      "Epoch 10/100\n",
      "1417/1417 - 28s - loss: 1.1678 - accuracy: 0.5818 - val_loss: 1.1519 - val_accuracy: 0.5026 - 28s/epoch - 19ms/step\n",
      "Epoch 11/100\n",
      "1417/1417 - 28s - loss: 1.1425 - accuracy: 0.5911 - val_loss: 1.0818 - val_accuracy: 0.5621 - 28s/epoch - 20ms/step\n",
      "Epoch 12/100\n",
      "1417/1417 - 28s - loss: 1.1152 - accuracy: 0.6057 - val_loss: 1.0571 - val_accuracy: 0.6093 - 28s/epoch - 20ms/step\n",
      "Epoch 13/100\n",
      "1417/1417 - 28s - loss: 1.0908 - accuracy: 0.6175 - val_loss: 1.0632 - val_accuracy: 0.5801 - 28s/epoch - 20ms/step\n",
      "Epoch 14/100\n",
      "1417/1417 - 28s - loss: 1.0729 - accuracy: 0.6259 - val_loss: 1.0222 - val_accuracy: 0.6157 - 28s/epoch - 20ms/step\n",
      "Epoch 15/100\n",
      "1417/1417 - 28s - loss: 1.0532 - accuracy: 0.6335 - val_loss: 1.0086 - val_accuracy: 0.6238 - 28s/epoch - 20ms/step\n",
      "Epoch 16/100\n",
      "1417/1417 - 28s - loss: 1.0412 - accuracy: 0.6374 - val_loss: 0.9978 - val_accuracy: 0.6384 - 28s/epoch - 20ms/step\n",
      "Epoch 17/100\n",
      "1417/1417 - 27s - loss: 1.0256 - accuracy: 0.6438 - val_loss: 0.9864 - val_accuracy: 0.6387 - 27s/epoch - 19ms/step\n",
      "Epoch 18/100\n",
      "1417/1417 - 26s - loss: 1.0112 - accuracy: 0.6475 - val_loss: 0.9816 - val_accuracy: 0.6336 - 26s/epoch - 19ms/step\n",
      "Epoch 19/100\n",
      "1417/1417 - 27s - loss: 0.9958 - accuracy: 0.6562 - val_loss: 0.9518 - val_accuracy: 0.6600 - 27s/epoch - 19ms/step\n",
      "Epoch 20/100\n",
      "1417/1417 - 27s - loss: 0.9807 - accuracy: 0.6622 - val_loss: 0.9595 - val_accuracy: 0.6414 - 27s/epoch - 19ms/step\n",
      "Epoch 21/100\n",
      "1417/1417 - 27s - loss: 0.9642 - accuracy: 0.6673 - val_loss: 0.9316 - val_accuracy: 0.6640 - 27s/epoch - 19ms/step\n",
      "Epoch 22/100\n",
      "1417/1417 - 27s - loss: 0.9454 - accuracy: 0.6736 - val_loss: 0.9235 - val_accuracy: 0.6744 - 27s/epoch - 19ms/step\n",
      "Epoch 23/100\n",
      "1417/1417 - 26s - loss: 0.9217 - accuracy: 0.6812 - val_loss: 0.8987 - val_accuracy: 0.6777 - 26s/epoch - 19ms/step\n",
      "Epoch 24/100\n",
      "1417/1417 - 27s - loss: 0.8896 - accuracy: 0.6916 - val_loss: 0.8848 - val_accuracy: 0.6833 - 27s/epoch - 19ms/step\n",
      "Epoch 25/100\n",
      "1417/1417 - 27s - loss: 0.8522 - accuracy: 0.7021 - val_loss: 0.8893 - val_accuracy: 0.6637 - 27s/epoch - 19ms/step\n",
      "Epoch 26/100\n",
      "1417/1417 - 27s - loss: 0.8228 - accuracy: 0.7106 - val_loss: 0.8801 - val_accuracy: 0.6738 - 27s/epoch - 19ms/step\n",
      "Epoch 27/100\n",
      "1417/1417 - 27s - loss: 0.8025 - accuracy: 0.7154 - val_loss: 0.8812 - val_accuracy: 0.6680 - 27s/epoch - 19ms/step\n",
      "Epoch 28/100\n",
      "1417/1417 - 27s - loss: 0.7852 - accuracy: 0.7198 - val_loss: 0.8644 - val_accuracy: 0.6894 - 27s/epoch - 19ms/step\n",
      "Epoch 29/100\n",
      "1417/1417 - 26s - loss: 0.7754 - accuracy: 0.7222 - val_loss: 0.8738 - val_accuracy: 0.6763 - 26s/epoch - 19ms/step\n",
      "Epoch 30/100\n",
      "1417/1417 - 26s - loss: 0.7655 - accuracy: 0.7241 - val_loss: 0.8625 - val_accuracy: 0.6897 - 26s/epoch - 19ms/step\n",
      "Epoch 31/100\n",
      "1417/1417 - 27s - loss: 0.7589 - accuracy: 0.7256 - val_loss: 0.8657 - val_accuracy: 0.6859 - 27s/epoch - 19ms/step\n",
      "Epoch 32/100\n",
      "1417/1417 - 26s - loss: 0.7515 - accuracy: 0.7281 - val_loss: 0.8617 - val_accuracy: 0.6827 - 26s/epoch - 19ms/step\n",
      "Epoch 32: early stopping\n",
      "3\n",
      "Epoch 1/100\n",
      "1417/1417 - 29s - loss: 1.6306 - accuracy: 0.3888 - val_loss: 1.6619 - val_accuracy: 0.3352 - 29s/epoch - 20ms/step\n",
      "Epoch 2/100\n",
      "1417/1417 - 27s - loss: 1.5754 - accuracy: 0.4145 - val_loss: 1.6495 - val_accuracy: 0.3352 - 27s/epoch - 19ms/step\n",
      "Epoch 3/100\n",
      "1417/1417 - 27s - loss: 1.5672 - accuracy: 0.4160 - val_loss: 1.6484 - val_accuracy: 0.3352 - 27s/epoch - 19ms/step\n",
      "Epoch 4/100\n",
      "1417/1417 - 27s - loss: 1.5655 - accuracy: 0.4160 - val_loss: 1.6638 - val_accuracy: 0.3352 - 27s/epoch - 19ms/step\n",
      "Epoch 5/100\n",
      "1417/1417 - 27s - loss: 1.5618 - accuracy: 0.4163 - val_loss: 1.6540 - val_accuracy: 0.3352 - 27s/epoch - 19ms/step\n",
      "Epoch 5: early stopping\n",
      "4\n",
      "Epoch 1/100\n",
      "1417/1417 - 28s - loss: 1.6305 - accuracy: 0.3886 - val_loss: 1.6600 - val_accuracy: 0.3352 - 28s/epoch - 20ms/step\n",
      "Epoch 2/100\n",
      "1417/1417 - 27s - loss: 1.5753 - accuracy: 0.4124 - val_loss: 1.6606 - val_accuracy: 0.3352 - 27s/epoch - 19ms/step\n",
      "Epoch 3/100\n",
      "1417/1417 - 27s - loss: 1.5663 - accuracy: 0.4159 - val_loss: 1.6454 - val_accuracy: 0.3352 - 27s/epoch - 19ms/step\n",
      "Epoch 4/100\n",
      "1417/1417 - 27s - loss: 1.5643 - accuracy: 0.4158 - val_loss: 1.6555 - val_accuracy: 0.3352 - 27s/epoch - 19ms/step\n",
      "Epoch 5/100\n",
      "1417/1417 - 28s - loss: 1.5612 - accuracy: 0.4163 - val_loss: 1.6379 - val_accuracy: 0.3352 - 28s/epoch - 19ms/step\n",
      "Epoch 6/100\n",
      "1417/1417 - 27s - loss: 1.5558 - accuracy: 0.4165 - val_loss: 1.6281 - val_accuracy: 0.3352 - 27s/epoch - 19ms/step\n",
      "Epoch 7/100\n",
      "1417/1417 - 27s - loss: 1.5277 - accuracy: 0.4333 - val_loss: 1.5425 - val_accuracy: 0.4179 - 27s/epoch - 19ms/step\n",
      "Epoch 8/100\n",
      "1417/1417 - 27s - loss: 1.3341 - accuracy: 0.5469 - val_loss: 1.2287 - val_accuracy: 0.5013 - 27s/epoch - 19ms/step\n",
      "Epoch 9/100\n",
      "1417/1417 - 27s - loss: 1.2029 - accuracy: 0.5781 - val_loss: 1.1729 - val_accuracy: 0.5033 - 27s/epoch - 19ms/step\n",
      "Epoch 10/100\n",
      "1417/1417 - 27s - loss: 1.1744 - accuracy: 0.5811 - val_loss: 1.1292 - val_accuracy: 0.5347 - 27s/epoch - 19ms/step\n",
      "Epoch 11/100\n",
      "1417/1417 - 27s - loss: 1.1512 - accuracy: 0.5875 - val_loss: 1.1042 - val_accuracy: 0.5280 - 27s/epoch - 19ms/step\n",
      "Epoch 12/100\n",
      "1417/1417 - 27s - loss: 1.1251 - accuracy: 0.5998 - val_loss: 1.0601 - val_accuracy: 0.5682 - 27s/epoch - 19ms/step\n",
      "Epoch 13/100\n",
      "1417/1417 - 27s - loss: 1.0966 - accuracy: 0.6167 - val_loss: 1.0329 - val_accuracy: 0.6238 - 27s/epoch - 19ms/step\n",
      "Epoch 14/100\n",
      "1417/1417 - 27s - loss: 1.0768 - accuracy: 0.6247 - val_loss: 1.0350 - val_accuracy: 0.6118 - 27s/epoch - 19ms/step\n",
      "Epoch 15/100\n",
      "1417/1417 - 27s - loss: 1.0582 - accuracy: 0.6331 - val_loss: 1.0001 - val_accuracy: 0.6251 - 27s/epoch - 19ms/step\n",
      "Epoch 16/100\n",
      "1417/1417 - 27s - loss: 1.0435 - accuracy: 0.6383 - val_loss: 0.9970 - val_accuracy: 0.6234 - 27s/epoch - 19ms/step\n",
      "Epoch 17/100\n",
      "1417/1417 - 26s - loss: 1.0262 - accuracy: 0.6442 - val_loss: 0.9866 - val_accuracy: 0.6300 - 26s/epoch - 19ms/step\n",
      "Epoch 18/100\n",
      "1417/1417 - 27s - loss: 1.0140 - accuracy: 0.6485 - val_loss: 0.9665 - val_accuracy: 0.6432 - 27s/epoch - 19ms/step\n",
      "Epoch 19/100\n",
      "1417/1417 - 27s - loss: 0.9976 - accuracy: 0.6557 - val_loss: 0.9585 - val_accuracy: 0.6583 - 27s/epoch - 19ms/step\n",
      "Epoch 20/100\n",
      "1417/1417 - 28s - loss: 0.9772 - accuracy: 0.6644 - val_loss: 0.9353 - val_accuracy: 0.6572 - 28s/epoch - 19ms/step\n",
      "Epoch 21/100\n",
      "1417/1417 - 27s - loss: 0.9603 - accuracy: 0.6691 - val_loss: 0.9226 - val_accuracy: 0.6625 - 27s/epoch - 19ms/step\n",
      "Epoch 22/100\n",
      "1417/1417 - 27s - loss: 0.9374 - accuracy: 0.6771 - val_loss: 0.9042 - val_accuracy: 0.6722 - 27s/epoch - 19ms/step\n",
      "Epoch 23/100\n",
      "1417/1417 - 27s - loss: 0.9034 - accuracy: 0.6870 - val_loss: 0.8953 - val_accuracy: 0.6791 - 27s/epoch - 19ms/step\n",
      "Epoch 24/100\n",
      "1417/1417 - 27s - loss: 0.8707 - accuracy: 0.6956 - val_loss: 0.8816 - val_accuracy: 0.6861 - 27s/epoch - 19ms/step\n",
      "Epoch 25/100\n",
      "1417/1417 - 27s - loss: 0.8337 - accuracy: 0.7064 - val_loss: 0.8775 - val_accuracy: 0.6806 - 27s/epoch - 19ms/step\n",
      "Epoch 26/100\n",
      "1417/1417 - 27s - loss: 0.8100 - accuracy: 0.7108 - val_loss: 0.8958 - val_accuracy: 0.6587 - 27s/epoch - 19ms/step\n",
      "Epoch 27/100\n",
      "1417/1417 - 27s - loss: 0.7931 - accuracy: 0.7156 - val_loss: 0.8647 - val_accuracy: 0.6973 - 27s/epoch - 19ms/step\n",
      "Epoch 28/100\n",
      "1417/1417 - 26s - loss: 0.7819 - accuracy: 0.7180 - val_loss: 0.8698 - val_accuracy: 0.6868 - 26s/epoch - 19ms/step\n",
      "Epoch 29/100\n",
      "1417/1417 - 27s - loss: 0.7736 - accuracy: 0.7221 - val_loss: 0.8760 - val_accuracy: 0.6636 - 27s/epoch - 19ms/step\n",
      "Epoch 29: early stopping\n"
     ]
    }
   ],
   "source": [
    "checkpointer = ModelCheckpoint(filepath=\"models/best_weights_additional.hdf5\", verbose=0, save_best_only=True) # save best model\n",
    "\n",
    "for i in range(5):\n",
    "    print(i)\n",
    "\n",
    "    model = Sequential()\n",
    "    model.add(tf.keras.layers.Conv2D(64, kernel_size=(3, 3), strides=(1, 1), activation='sigmoid', input_shape=(1, x_cols, 1), padding='same'))\n",
    "    model.add(tf.keras.layers.MaxPooling2D(pool_size=(1, 1)))\n",
    "    model.add(tf.keras.layers.Conv2D(128, kernel_size=(3, 3), strides=(1, 1), activation='sigmoid', padding='same'))\n",
    "    model.add(tf.keras.layers.MaxPooling2D(pool_size=(1, 1)))\n",
    "    model.add(tf.keras.layers.Flatten())\n",
    "    model.add(tf.keras.layers.Dense(1024, activation='sigmoid'))\n",
    "    model.add(Dropout(0.5))\n",
    "    model.add(tf.keras.layers.Dense(number_of_classes, activation='softmax'))\n",
    "    model.compile(loss='categorical_crossentropy', optimizer='sgd', metrics=['accuracy'])\n",
    "    monitor = EarlyStopping(monitor='val_loss', min_delta=1e-3, patience=2, verbose=2, mode='auto')\n",
    "    model.fit(x_train, y_train_one_hot, validation_data=(x_test, y_test_one_hot),callbacks=[monitor, checkpointer], verbose=2, epochs=100)"
   ]
  },
  {
   "cell_type": "markdown",
   "metadata": {},
   "source": [
    "### *Model:  tanh and sgd*"
   ]
  },
  {
   "cell_type": "code",
   "execution_count": 25,
   "metadata": {},
   "outputs": [
    {
     "name": "stdout",
     "output_type": "stream",
     "text": [
      "0\n",
      "Epoch 1/100\n",
      "1417/1417 - 27s - loss: 0.8985 - accuracy: 0.6900 - val_loss: 0.9105 - val_accuracy: 0.6443 - 27s/epoch - 19ms/step\n",
      "Epoch 2/100\n",
      "1417/1417 - 27s - loss: 0.7462 - accuracy: 0.7404 - val_loss: 0.8821 - val_accuracy: 0.6727 - 27s/epoch - 19ms/step\n",
      "Epoch 3/100\n",
      "1417/1417 - 26s - loss: 0.7189 - accuracy: 0.7478 - val_loss: 0.9006 - val_accuracy: 0.6630 - 26s/epoch - 19ms/step\n",
      "Epoch 4/100\n",
      "1417/1417 - 26s - loss: 0.7002 - accuracy: 0.7524 - val_loss: 0.8614 - val_accuracy: 0.6833 - 26s/epoch - 19ms/step\n",
      "Epoch 5/100\n",
      "1417/1417 - 27s - loss: 0.6875 - accuracy: 0.7543 - val_loss: 0.8315 - val_accuracy: 0.7039 - 27s/epoch - 19ms/step\n",
      "Epoch 6/100\n",
      "1417/1417 - 28s - loss: 0.6749 - accuracy: 0.7555 - val_loss: 0.8395 - val_accuracy: 0.6997 - 28s/epoch - 19ms/step\n",
      "Epoch 7/100\n",
      "1417/1417 - 27s - loss: 0.6662 - accuracy: 0.7576 - val_loss: 0.8012 - val_accuracy: 0.7275 - 27s/epoch - 19ms/step\n",
      "Epoch 8/100\n",
      "1417/1417 - 26s - loss: 0.6586 - accuracy: 0.7579 - val_loss: 0.8104 - val_accuracy: 0.7062 - 26s/epoch - 18ms/step\n",
      "Epoch 9/100\n",
      "1417/1417 - 26s - loss: 0.6529 - accuracy: 0.7603 - val_loss: 0.7968 - val_accuracy: 0.7198 - 26s/epoch - 19ms/step\n",
      "Epoch 10/100\n",
      "1417/1417 - 26s - loss: 0.6468 - accuracy: 0.7631 - val_loss: 0.8164 - val_accuracy: 0.7013 - 26s/epoch - 18ms/step\n",
      "Epoch 11/100\n",
      "1417/1417 - 26s - loss: 0.6415 - accuracy: 0.7632 - val_loss: 0.8555 - val_accuracy: 0.6920 - 26s/epoch - 18ms/step\n",
      "Epoch 11: early stopping\n",
      "1\n",
      "Epoch 1/100\n",
      "1417/1417 - 27s - loss: 0.8997 - accuracy: 0.6900 - val_loss: 0.8861 - val_accuracy: 0.6700 - 27s/epoch - 19ms/step\n",
      "Epoch 2/100\n",
      "1417/1417 - 26s - loss: 0.7489 - accuracy: 0.7410 - val_loss: 0.9091 - val_accuracy: 0.6692 - 26s/epoch - 19ms/step\n",
      "Epoch 3/100\n",
      "1417/1417 - 27s - loss: 0.7187 - accuracy: 0.7481 - val_loss: 0.8594 - val_accuracy: 0.6849 - 27s/epoch - 19ms/step\n",
      "Epoch 4/100\n",
      "1417/1417 - 26s - loss: 0.6990 - accuracy: 0.7501 - val_loss: 0.8851 - val_accuracy: 0.6747 - 26s/epoch - 18ms/step\n",
      "Epoch 5/100\n",
      "1417/1417 - 26s - loss: 0.6854 - accuracy: 0.7541 - val_loss: 0.8935 - val_accuracy: 0.6733 - 26s/epoch - 19ms/step\n",
      "Epoch 5: early stopping\n",
      "2\n",
      "Epoch 1/100\n",
      "1417/1417 - 26s - loss: 0.9028 - accuracy: 0.6883 - val_loss: 0.8665 - val_accuracy: 0.6936 - 26s/epoch - 19ms/step\n",
      "Epoch 2/100\n",
      "1417/1417 - 26s - loss: 0.7475 - accuracy: 0.7415 - val_loss: 0.9166 - val_accuracy: 0.6461 - 26s/epoch - 18ms/step\n",
      "Epoch 3/100\n",
      "1417/1417 - 26s - loss: 0.7184 - accuracy: 0.7482 - val_loss: 0.8730 - val_accuracy: 0.6775 - 26s/epoch - 18ms/step\n",
      "Epoch 3: early stopping\n",
      "3\n",
      "Epoch 1/100\n",
      "1417/1417 - 27s - loss: 0.8909 - accuracy: 0.6912 - val_loss: 0.9018 - val_accuracy: 0.6641 - 27s/epoch - 19ms/step\n",
      "Epoch 2/100\n",
      "1417/1417 - 27s - loss: 0.7448 - accuracy: 0.7406 - val_loss: 0.9119 - val_accuracy: 0.6617 - 27s/epoch - 19ms/step\n",
      "Epoch 3/100\n",
      "1417/1417 - 26s - loss: 0.7168 - accuracy: 0.7483 - val_loss: 0.8395 - val_accuracy: 0.6933 - 26s/epoch - 18ms/step\n",
      "Epoch 4/100\n",
      "1417/1417 - 26s - loss: 0.7004 - accuracy: 0.7506 - val_loss: 0.8484 - val_accuracy: 0.6976 - 26s/epoch - 18ms/step\n",
      "Epoch 5/100\n",
      "1417/1417 - 26s - loss: 0.6860 - accuracy: 0.7537 - val_loss: 0.8060 - val_accuracy: 0.7175 - 26s/epoch - 18ms/step\n",
      "Epoch 6/100\n",
      "1417/1417 - 26s - loss: 0.6712 - accuracy: 0.7565 - val_loss: 0.8361 - val_accuracy: 0.7021 - 26s/epoch - 18ms/step\n",
      "Epoch 7/100\n",
      "1417/1417 - 26s - loss: 0.6655 - accuracy: 0.7573 - val_loss: 0.8647 - val_accuracy: 0.6750 - 26s/epoch - 19ms/step\n",
      "Epoch 7: early stopping\n",
      "4\n",
      "Epoch 1/100\n",
      "1417/1417 - 27s - loss: 0.8904 - accuracy: 0.6907 - val_loss: 0.8753 - val_accuracy: 0.6785 - 27s/epoch - 19ms/step\n",
      "Epoch 2/100\n",
      "1417/1417 - 27s - loss: 0.7433 - accuracy: 0.7428 - val_loss: 0.8888 - val_accuracy: 0.6666 - 27s/epoch - 19ms/step\n",
      "Epoch 3/100\n",
      "1417/1417 - 27s - loss: 0.7138 - accuracy: 0.7485 - val_loss: 0.8812 - val_accuracy: 0.6759 - 27s/epoch - 19ms/step\n",
      "Epoch 3: early stopping\n"
     ]
    }
   ],
   "source": [
    "checkpointer = ModelCheckpoint(filepath=\"models/best_weights_additional.hdf5\", verbose=0, save_best_only=True) # save best model\n",
    "\n",
    "for i in range(5):\n",
    "    print(i)\n",
    "\n",
    "    model = Sequential()\n",
    "    model.add(tf.keras.layers.Conv2D(64, kernel_size=(3, 3), strides=(1, 1), activation='tanh', input_shape=(1, x_cols, 1), padding='same'))\n",
    "    model.add(tf.keras.layers.MaxPooling2D(pool_size=(1, 1)))\n",
    "    model.add(tf.keras.layers.Conv2D(128, kernel_size=(3, 3), strides=(1, 1), activation='tanh', padding='same'))\n",
    "    model.add(tf.keras.layers.MaxPooling2D(pool_size=(1, 1)))\n",
    "    model.add(tf.keras.layers.Flatten())\n",
    "    model.add(tf.keras.layers.Dense(1024, activation='tanh'))\n",
    "    model.add(Dropout(0.5))\n",
    "    model.add(tf.keras.layers.Dense(number_of_classes, activation='softmax'))\n",
    "    model.compile(loss='categorical_crossentropy', optimizer='sgd', metrics=['accuracy'])\n",
    "    monitor = EarlyStopping(monitor='val_loss', min_delta=1e-3, patience=2, verbose=2, mode='auto')\n",
    "    model.fit(x_train, y_train_one_hot, validation_data=(x_test, y_test_one_hot),callbacks=[monitor, checkpointer], verbose=2, epochs=100)"
   ]
  },
  {
   "cell_type": "markdown",
   "metadata": {},
   "source": [
    "### *Load best model*"
   ]
  },
  {
   "cell_type": "code",
   "execution_count": 30,
   "metadata": {},
   "outputs": [],
   "source": [
    "model.load_weights('models/best_weights_additional.hdf5')"
   ]
  },
  {
   "cell_type": "markdown",
   "metadata": {},
   "source": [
    "### *Weights for best model*"
   ]
  },
  {
   "cell_type": "code",
   "execution_count": 31,
   "metadata": {},
   "outputs": [
    {
     "data": {
      "text/plain": [
       "[<tf.Variable 'conv2d_8/kernel:0' shape=(3, 3, 1, 64) dtype=float32, numpy=\n",
       " array([[[[ 5.21252602e-02,  1.42185614e-02, -5.28424047e-02,\n",
       "            8.44657868e-02,  7.51330554e-02, -7.90015906e-02,\n",
       "           -3.80245224e-02, -3.22110876e-02, -9.63411853e-02,\n",
       "           -5.15082143e-02, -2.88085639e-03, -5.63463382e-02,\n",
       "           -2.40157098e-02, -3.40320244e-02, -3.77707258e-02,\n",
       "           -8.74789134e-02, -7.32648671e-02,  6.51351362e-02,\n",
       "           -2.52684057e-02,  4.45061177e-03, -7.46091008e-02,\n",
       "           -8.61137658e-02,  6.39543235e-02, -2.17590854e-02,\n",
       "           -7.35795498e-02,  4.95414287e-02, -7.56813288e-02,\n",
       "           -3.94738615e-02,  2.63992697e-02, -4.27016653e-02,\n",
       "            8.84143412e-02,  4.73531038e-02, -5.40531836e-02,\n",
       "            9.55521762e-02, -5.57775162e-02,  3.65145355e-02,\n",
       "            7.22737610e-03, -2.25680098e-02,  1.64967477e-02,\n",
       "            8.37862045e-02, -9.69599187e-02, -4.34609503e-02,\n",
       "           -3.19905877e-02,  7.84459710e-02,  5.77369332e-02,\n",
       "           -6.68179914e-02, -8.88674036e-02,  9.60467309e-02,\n",
       "            9.61373746e-02,  6.70163482e-02,  5.27148694e-02,\n",
       "           -8.16792622e-02,  9.69333351e-02, -1.66117996e-02,\n",
       "            3.16466391e-03,  7.92181045e-02,  7.19907433e-02,\n",
       "            7.64012039e-02,  3.01626027e-02,  7.07464963e-02,\n",
       "           -3.35486755e-02, -9.66521129e-02,  3.53851169e-02,\n",
       "            8.56284946e-02]],\n",
       " \n",
       "         [[-2.59533450e-02, -9.18675214e-02,  9.95923132e-02,\n",
       "           -9.76972505e-02, -2.85691321e-02, -1.71368271e-02,\n",
       "            5.97120374e-02, -4.49389480e-02, -8.72877017e-02,\n",
       "            5.75238168e-02, -8.18243027e-02, -8.66188854e-03,\n",
       "            8.07386488e-02, -4.81554791e-02,  7.68507421e-02,\n",
       "            1.58899948e-02,  7.77842849e-03,  4.44775969e-02,\n",
       "           -8.08335394e-02, -6.89472258e-02,  5.36593646e-02,\n",
       "           -2.50127017e-02,  8.51479918e-03,  5.48598468e-02,\n",
       "            9.00412351e-02,  7.63608366e-02, -5.35432994e-03,\n",
       "           -8.18028301e-03,  2.67377347e-02, -5.88245690e-02,\n",
       "           -2.18728855e-02, -6.03120811e-02,  6.35406077e-02,\n",
       "            2.13476196e-02,  9.26893204e-02, -9.06772166e-02,\n",
       "            8.34726542e-02,  1.00889608e-01,  2.18689218e-02,\n",
       "            8.30767155e-02, -8.94991010e-02,  1.84629112e-03,\n",
       "           -4.52067479e-02, -9.69474390e-02,  5.40168136e-02,\n",
       "           -7.01050758e-02,  9.21992362e-02, -3.94526124e-02,\n",
       "           -6.15983196e-02, -4.87539284e-02, -7.19107985e-02,\n",
       "           -9.54285264e-04,  2.76921839e-02, -5.64669073e-03,\n",
       "            3.07436585e-02, -7.77182505e-02,  1.17997080e-03,\n",
       "           -2.55153179e-02, -4.48929258e-02, -4.92411144e-02,\n",
       "           -5.45893833e-02,  6.44249767e-02, -1.75103545e-04,\n",
       "           -4.11033966e-02]],\n",
       " \n",
       "         [[ 9.75551456e-03,  7.77272135e-02, -2.55890191e-03,\n",
       "           -7.54896402e-02,  9.59271640e-02,  5.26696146e-02,\n",
       "           -1.78204104e-02,  8.18753690e-02, -5.55303134e-02,\n",
       "           -3.98228839e-02,  6.82921559e-02,  3.48280370e-02,\n",
       "            9.80394632e-02,  5.88657856e-02,  6.40659779e-02,\n",
       "            2.73776501e-02, -3.62932608e-02, -3.88271436e-02,\n",
       "            7.21801221e-02, -2.53207758e-02, -1.70743838e-02,\n",
       "           -1.64966062e-02,  2.03997865e-02,  9.63256359e-02,\n",
       "            8.59915614e-02, -8.83969739e-02,  9.32230949e-02,\n",
       "            1.72510818e-02, -3.91003750e-02,  9.44573730e-02,\n",
       "            6.02354258e-02,  5.46428263e-02, -4.03138623e-02,\n",
       "           -7.56333023e-02, -3.19227353e-02,  2.28163749e-02,\n",
       "           -3.30913067e-03, -4.64943834e-02,  3.32241654e-02,\n",
       "            6.92046434e-03,  2.34666839e-02, -4.54663374e-02,\n",
       "           -6.91548437e-02, -5.88202961e-02, -9.96648073e-02,\n",
       "           -7.65094310e-02, -6.42555356e-02, -6.09359816e-02,\n",
       "            9.14070308e-02,  5.12579978e-02,  8.51814151e-02,\n",
       "           -4.02982384e-02,  3.51329893e-02,  6.01117015e-02,\n",
       "            2.87574232e-02, -1.28509104e-02, -3.46986577e-02,\n",
       "           -1.04907304e-02, -8.04601014e-02,  4.60765958e-02,\n",
       "           -6.47170842e-02,  2.25665644e-02,  6.53604418e-02,\n",
       "            9.51221436e-02]]],\n",
       " \n",
       " \n",
       "        [[[ 4.05723900e-01, -4.52201925e-02,  4.13453102e-01,\n",
       "           -3.01978230e-01,  3.39709908e-01, -1.13971159e-02,\n",
       "           -2.56568789e-02,  4.37362939e-02,  1.10793673e-01,\n",
       "            3.66597146e-01,  2.59400140e-02, -1.47751227e-01,\n",
       "            3.58418822e-02,  1.78942621e-01, -3.32888693e-01,\n",
       "           -1.50050707e-02, -2.40874931e-01,  1.48999572e-01,\n",
       "            1.66535631e-01, -2.23684162e-01,  2.34356239e-01,\n",
       "           -4.20722216e-02, -2.58648098e-01,  2.61526972e-01,\n",
       "           -2.44805869e-02, -1.36314094e-01, -7.65098214e-01,\n",
       "           -2.69091278e-01,  2.50203013e-01, -3.54012877e-01,\n",
       "           -1.74961407e-02,  1.95850898e-02, -1.77517951e-01,\n",
       "           -3.12394172e-01,  2.30745301e-02,  1.21075977e-02,\n",
       "           -4.20129895e-01,  4.71008979e-02, -4.36207652e-01,\n",
       "            3.10921632e-02, -7.30220461e-03, -2.48697940e-02,\n",
       "           -1.79866880e-01,  7.09075212e-01,  5.61038375e-01,\n",
       "            3.94045442e-01,  4.24444139e-01, -3.10764432e-01,\n",
       "            6.26217782e-01,  5.78287899e-01,  2.95447409e-01,\n",
       "            1.95313632e-01, -2.29189888e-01, -3.56509507e-01,\n",
       "            3.59165639e-01, -1.27875283e-01, -5.51600814e-01,\n",
       "            1.61229819e-01,  2.15958178e-01, -3.99547964e-02,\n",
       "           -1.32997349e-01, -1.84205860e-01, -3.07890207e-01,\n",
       "           -3.04481387e-01]],\n",
       " \n",
       "         [[ 1.42102772e-02,  1.31326333e-01, -4.90365177e-02,\n",
       "           -2.84640081e-02,  1.56592689e-02, -1.54135153e-02,\n",
       "           -2.15663612e-01,  1.72851503e-01,  1.46766871e-01,\n",
       "           -1.68899018e-02, -1.35328561e-01, -1.46986125e-02,\n",
       "           -1.94639370e-01,  5.01171313e-02,  1.37567088e-01,\n",
       "           -8.77651945e-02,  1.16308525e-01,  1.24384373e-01,\n",
       "            1.59611516e-02,  1.40889868e-01,  6.23531789e-02,\n",
       "           -1.84833601e-01,  1.94383070e-01, -1.35744050e-01,\n",
       "           -1.23463333e-01, -4.07076925e-02,  1.70064509e-01,\n",
       "           -3.44396569e-02, -2.65368849e-01, -1.52373062e-02,\n",
       "           -6.62566647e-02,  4.68582399e-02, -7.70590827e-02,\n",
       "           -2.45858990e-02,  1.93334535e-01, -1.59498043e-02,\n",
       "            1.64023917e-02,  1.03082493e-01, -1.52191464e-02,\n",
       "            1.73611984e-01,  1.44158453e-02, -2.60885149e-01,\n",
       "           -5.62451109e-02, -6.16864786e-02, -1.82552934e-02,\n",
       "            1.72399953e-02,  1.78671069e-02,  1.47771249e-02,\n",
       "           -1.72345843e-02, -1.94223188e-02,  3.41476463e-02,\n",
       "            3.39900181e-02,  1.63734078e-01,  6.73980415e-02,\n",
       "            2.56619863e-02,  6.58222660e-02, -2.61322912e-02,\n",
       "           -1.29460087e-02, -1.20113930e-02, -1.34882107e-01,\n",
       "           -3.21301036e-02, -1.29799902e-01, -2.82285120e-02,\n",
       "           -1.63924694e-02]],\n",
       " \n",
       "         [[ 1.28920972e-01, -1.69216350e-01, -1.36473039e-02,\n",
       "            1.51991993e-01, -1.57342162e-02, -1.01274237e-01,\n",
       "           -2.86837280e-01, -1.04448181e-02, -1.20467264e-02,\n",
       "           -1.67203434e-02, -2.32855558e-01, -1.74760416e-01,\n",
       "            1.26158334e-02, -8.85891169e-02, -1.48185380e-02,\n",
       "            1.04256310e-02, -1.44710153e-01, -2.49754563e-01,\n",
       "            1.28971338e-02, -1.30637378e-01,  2.86631156e-02,\n",
       "           -2.16071770e-01,  3.94750126e-02, -1.42039377e-02,\n",
       "            1.93868339e-01,  1.94333553e-01, -1.53444484e-01,\n",
       "            2.56989092e-01,  1.46869998e-02,  1.57284401e-02,\n",
       "            8.50201324e-02, -1.23018682e-01,  1.30230207e-02,\n",
       "           -1.65941715e-01,  2.56858319e-01,  7.69957751e-02,\n",
       "           -6.39343634e-02,  2.18639821e-01, -9.76650510e-03,\n",
       "            2.50956088e-01, -1.58007070e-01, -2.10608855e-01,\n",
       "           -1.44882172e-01,  5.14900647e-02, -5.87761141e-02,\n",
       "            1.97096944e-01, -1.65492091e-02,  2.03881308e-01,\n",
       "            1.16876904e-02,  9.90122557e-03,  8.17780569e-02,\n",
       "           -2.31289983e-01,  7.44425058e-02,  1.73457284e-02,\n",
       "            1.35769799e-01,  1.96716264e-01,  1.34187669e-01,\n",
       "            1.49510121e-02, -1.66402180e-02,  1.18483240e-02,\n",
       "           -2.23236024e-01,  1.27785290e-02,  1.92673162e-01,\n",
       "            1.55878905e-02]]],\n",
       " \n",
       " \n",
       "        [[[ 8.70370269e-02, -6.94474205e-02, -3.80546823e-02,\n",
       "           -8.99570957e-02,  3.37979347e-02, -8.24443847e-02,\n",
       "            6.65325671e-02, -8.85932893e-03, -2.84767970e-02,\n",
       "            4.45342511e-02,  3.46031636e-02, -3.72540578e-02,\n",
       "           -7.46681318e-02, -5.63120507e-02, -6.45362586e-02,\n",
       "            7.00673312e-02,  3.01961899e-02, -5.48008531e-02,\n",
       "            9.37926173e-02, -7.79025555e-02, -8.23305920e-02,\n",
       "            4.82798219e-02,  1.04439110e-02,  5.64890355e-02,\n",
       "            5.58716059e-02, -4.81644124e-02, -8.99559855e-02,\n",
       "           -7.52889663e-02, -7.94774741e-02, -3.89490798e-02,\n",
       "           -5.88393956e-03, -5.36391884e-03, -2.01636702e-02,\n",
       "           -7.04917908e-02,  3.95589769e-02, -5.86204678e-02,\n",
       "            6.62936270e-03, -4.56112809e-02,  6.53969198e-02,\n",
       "            7.86279142e-02,  8.77121836e-02, -4.50914986e-02,\n",
       "            9.77821201e-02,  4.89061177e-02, -6.15318939e-02,\n",
       "           -4.63656858e-02, -6.61795810e-02,  9.49449688e-02,\n",
       "            4.56044525e-02,  4.95070517e-02, -7.00577497e-02,\n",
       "           -4.35519293e-02,  9.06841904e-02,  4.06633019e-02,\n",
       "            2.06622258e-02,  6.19842112e-02,  3.86998951e-02,\n",
       "            3.14108580e-02, -9.76850837e-02,  7.60667920e-02,\n",
       "           -6.04332462e-02, -5.45814671e-02, -3.56062949e-02,\n",
       "           -6.83331788e-02]],\n",
       " \n",
       "         [[-4.19478863e-03,  6.07593805e-02,  7.59680569e-03,\n",
       "           -5.23270890e-02,  6.59029633e-02,  3.19257826e-02,\n",
       "            5.48472852e-02, -2.26260126e-02, -7.22371042e-03,\n",
       "            8.90091062e-03, -8.01684484e-02, -4.19086516e-02,\n",
       "           -5.16963564e-02, -3.42511907e-02, -3.02547812e-02,\n",
       "            9.25840139e-02,  5.58234602e-02, -6.04647063e-02,\n",
       "            4.74318564e-02,  6.64551556e-02,  3.66016179e-02,\n",
       "            1.47268996e-02, -3.60993221e-02, -7.62408823e-02,\n",
       "           -5.95876686e-02, -5.78512140e-02, -6.94822147e-02,\n",
       "            9.52712446e-02, -3.05318087e-02,  9.98958498e-02,\n",
       "            3.50706279e-02, -1.32481754e-03, -6.91720694e-02,\n",
       "           -2.50539705e-02,  5.86144030e-02, -1.03124827e-02,\n",
       "            8.09904337e-02, -1.31562576e-02, -1.69828758e-02,\n",
       "           -2.53270790e-02, -7.98261166e-02, -6.15788102e-02,\n",
       "            5.09452820e-02,  5.47938496e-02,  6.39005452e-02,\n",
       "           -9.87537950e-02,  3.20558697e-02, -5.58832027e-02,\n",
       "           -7.37696737e-02, -4.92471270e-02,  6.61674589e-02,\n",
       "            9.57767069e-02, -7.84782842e-02,  6.07582480e-02,\n",
       "            9.46175605e-02, -4.58849482e-02,  3.62395048e-02,\n",
       "            8.83726627e-02,  1.12050772e-02,  3.83539349e-02,\n",
       "           -7.03926682e-02,  2.97178626e-02,  1.93134993e-02,\n",
       "            9.70538706e-02]],\n",
       " \n",
       "         [[-5.27573861e-02, -4.01317067e-02, -1.00218728e-01,\n",
       "            7.54348338e-02,  1.32875815e-02, -6.48147315e-02,\n",
       "           -2.87621021e-02,  1.15599409e-02, -9.15463790e-02,\n",
       "           -8.11034366e-02, -1.49816871e-02, -6.38374388e-02,\n",
       "           -3.20588946e-02,  4.02427763e-02,  1.10313743e-02,\n",
       "            9.08923745e-02, -1.22623369e-02,  6.95388615e-02,\n",
       "           -4.35842127e-02, -7.81578943e-02, -1.00567803e-01,\n",
       "            6.71233535e-02, -4.62106019e-02, -5.89580461e-02,\n",
       "            7.63956308e-02,  1.62157193e-02, -8.41849223e-02,\n",
       "           -7.01843202e-02, -1.32004172e-03,  9.89514440e-02,\n",
       "            1.09060556e-02,  7.60470182e-02,  2.10637152e-02,\n",
       "            2.56574601e-02, -2.69265547e-02, -8.68764296e-02,\n",
       "            5.58141917e-02, -1.01111732e-01, -8.82303715e-02,\n",
       "            2.88487822e-02,  3.13609689e-02,  5.56824356e-02,\n",
       "            8.02891701e-03,  8.33718479e-03,  6.69903606e-02,\n",
       "            2.50476897e-02, -7.21468776e-02, -1.21851936e-02,\n",
       "           -7.63896108e-03, -2.51534507e-02, -6.61819428e-02,\n",
       "           -8.14738572e-02, -9.16349217e-02,  5.90035170e-02,\n",
       "            4.70650941e-02, -5.41744679e-02, -6.48407564e-02,\n",
       "            8.56276751e-02,  2.30431035e-02, -3.64732891e-02,\n",
       "            6.22422844e-02,  3.10470015e-02,  2.52612084e-02,\n",
       "            8.23897719e-02]]]], dtype=float32)>,\n",
       " <tf.Variable 'conv2d_8/bias:0' shape=(64,) dtype=float32, numpy=\n",
       " array([ 0.09358177, -0.0067326 ,  0.10878111, -0.03982837,  0.07526999,\n",
       "         0.00549292, -0.10714046,  0.03717779,  0.02699758,  0.08189729,\n",
       "        -0.06717035, -0.07811988, -0.01891403,  0.01388641, -0.01271191,\n",
       "        -0.01061062, -0.05963546, -0.02285323, -0.02193174, -0.05078809,\n",
       "         0.06006155, -0.05596054, -0.00588209,  0.07304312,  0.0139308 ,\n",
       "         0.05988421, -0.24623552,  0.04564876, -0.07227039, -0.05045944,\n",
       "        -0.02555681, -0.02991528, -0.04086342, -0.11035888,  0.0685332 ,\n",
       "         0.02476939, -0.09679101,  0.04963331, -0.06720053,  0.0890329 ,\n",
       "        -0.00083155, -0.12320893, -0.05097992,  0.21024884,  0.14785753,\n",
       "         0.12647246,  0.08194201, -0.04438841,  0.12000334,  0.14745116,\n",
       "         0.06806783, -0.01828434,  0.03722883, -0.08353053,  0.09456645,\n",
       "         0.04181818, -0.10761373,  0.00747005,  0.0449599 , -0.03088088,\n",
       "        -0.05262062, -0.08921627, -0.00053197, -0.0877235 ], dtype=float32)>,\n",
       " <tf.Variable 'conv2d_9/kernel:0' shape=(3, 3, 64, 128) dtype=float32, numpy=\n",
       " array([[[[-0.05815697, -0.01928277, -0.04142101, ..., -0.01175974,\n",
       "           -0.02857535,  0.04498774],\n",
       "          [ 0.04457377,  0.03255307, -0.02213173, ...,  0.01913106,\n",
       "           -0.03175817,  0.04399156],\n",
       "          [-0.03462286, -0.05194513,  0.02170299, ..., -0.02219741,\n",
       "           -0.01418784,  0.01603479],\n",
       "          ...,\n",
       "          [ 0.03654685, -0.05314102, -0.00161327, ..., -0.04236041,\n",
       "           -0.0428466 , -0.01469769],\n",
       "          [-0.00115412, -0.00663775, -0.04548602, ...,  0.03862874,\n",
       "            0.0519275 ,  0.00949477],\n",
       "          [-0.0227447 , -0.04260004,  0.01486415, ..., -0.01336682,\n",
       "            0.03412622, -0.02259074]],\n",
       " \n",
       "         [[-0.03944441, -0.05787067,  0.01609855, ..., -0.04571649,\n",
       "            0.00397227,  0.03932853],\n",
       "          [-0.03696112,  0.02505825,  0.00434839, ...,  0.00807326,\n",
       "           -0.04057931,  0.03151712],\n",
       "          [-0.02932708,  0.03278154,  0.0185794 , ...,  0.04413826,\n",
       "           -0.0528536 ,  0.02323947],\n",
       "          ...,\n",
       "          [ 0.02424512,  0.03870371, -0.00844074, ..., -0.01282798,\n",
       "            0.01535755,  0.04417865],\n",
       "          [ 0.00029236, -0.02709011, -0.01186449, ...,  0.04488818,\n",
       "            0.05340515,  0.05408606],\n",
       "          [-0.03986045, -0.00018559,  0.05081411, ..., -0.02455653,\n",
       "            0.03740318, -0.01015999]],\n",
       " \n",
       "         [[ 0.03259102, -0.02729111, -0.02801821, ...,  0.01624176,\n",
       "           -0.03077448,  0.02414149],\n",
       "          [-0.03326321,  0.05311583, -0.04217111, ..., -0.05873076,\n",
       "           -0.0380046 , -0.00736831],\n",
       "          [-0.01705385,  0.05614719, -0.03755866, ...,  0.0275601 ,\n",
       "           -0.05228303,  0.04925371],\n",
       "          ...,\n",
       "          [ 0.01741676,  0.04376033,  0.03189563, ..., -0.01450807,\n",
       "           -0.05841722, -0.00469155],\n",
       "          [ 0.04200987,  0.01957155,  0.00273508, ..., -0.03926624,\n",
       "           -0.01040056, -0.01195501],\n",
       "          [ 0.02455818,  0.02708702,  0.05466852, ..., -0.02795392,\n",
       "            0.00678782,  0.0281655 ]]],\n",
       " \n",
       " \n",
       "        [[[ 0.012941  ,  0.00863168, -0.03717449, ..., -0.02110425,\n",
       "           -0.04881621, -0.05095177],\n",
       "          [-0.03977403,  0.04370891, -0.03253355, ..., -0.05654153,\n",
       "            0.01037201, -0.04391433],\n",
       "          [-0.04225611,  0.01036506,  0.0553023 , ..., -0.03683569,\n",
       "            0.02416222, -0.04238653],\n",
       "          ...,\n",
       "          [-0.04932198, -0.01750125,  0.03549908, ..., -0.02608048,\n",
       "            0.02057185, -0.02228533],\n",
       "          [ 0.03550964,  0.04735243, -0.00028049, ..., -0.03248756,\n",
       "           -0.03795082,  0.00668361],\n",
       "          [-0.00017873,  0.02420068, -0.03581823, ...,  0.04472761,\n",
       "            0.00422458, -0.05650203]],\n",
       " \n",
       "         [[ 0.02521738, -0.04473183, -0.01708749, ...,  0.04941494,\n",
       "           -0.05154639, -0.02673585],\n",
       "          [ 0.0040991 , -0.00272985,  0.02201558, ..., -0.05034941,\n",
       "           -0.03849665,  0.01983183],\n",
       "          [ 0.04362959, -0.07521316,  0.04882672, ..., -0.0165188 ,\n",
       "            0.0216491 , -0.03307038],\n",
       "          ...,\n",
       "          [-0.04643356,  0.04900493, -0.01990224, ..., -0.04280042,\n",
       "            0.02746585,  0.00351787],\n",
       "          [-0.06852849, -0.02502061, -0.03643606, ...,  0.03446499,\n",
       "            0.02879375, -0.02472641],\n",
       "          [-0.01526758,  0.02104736,  0.03766331, ..., -0.01519556,\n",
       "           -0.06251505,  0.01356685]],\n",
       " \n",
       "         [[ 0.00928722, -0.00144174,  0.0397415 , ..., -0.01601371,\n",
       "           -0.01674412, -0.01445775],\n",
       "          [ 0.04360157, -0.00926895, -0.03040938, ...,  0.00679439,\n",
       "           -0.00283781, -0.02072528],\n",
       "          [-0.05131203,  0.04598383,  0.00449327, ..., -0.01516555,\n",
       "           -0.03010085,  0.00556854],\n",
       "          ...,\n",
       "          [-0.03847392, -0.00648889, -0.02045711, ...,  0.02198151,\n",
       "            0.02064461,  0.04212837],\n",
       "          [ 0.04355878,  0.00986109, -0.01285102, ...,  0.03074159,\n",
       "           -0.0091453 , -0.05506482],\n",
       "          [ 0.00380327, -0.00728474,  0.05972458, ..., -0.00629104,\n",
       "            0.01871455, -0.05577264]]],\n",
       " \n",
       " \n",
       "        [[[ 0.05412496,  0.00013819,  0.05273769, ...,  0.04447583,\n",
       "            0.03888476,  0.05674719],\n",
       "          [-0.01704153, -0.02983786, -0.01005096, ...,  0.05795276,\n",
       "           -0.00055836,  0.01464294],\n",
       "          [ 0.00463364, -0.0400278 , -0.00161706, ...,  0.00226175,\n",
       "           -0.02051283,  0.05230292],\n",
       "          ...,\n",
       "          [ 0.02435653,  0.03771817,  0.00922479, ...,  0.01120568,\n",
       "           -0.02730068,  0.0383171 ],\n",
       "          [-0.00526822,  0.02768389, -0.04922381, ..., -0.03128354,\n",
       "            0.00673865, -0.01056147],\n",
       "          [-0.01153107,  0.01421081, -0.02985832, ...,  0.01196732,\n",
       "           -0.04681147,  0.01880439]],\n",
       " \n",
       "         [[ 0.04691232, -0.04735495, -0.01448865, ...,  0.0351312 ,\n",
       "            0.03717255,  0.02204595],\n",
       "          [ 0.02111057,  0.01483702,  0.01683254, ...,  0.02137185,\n",
       "            0.02931214, -0.05820467],\n",
       "          [-0.01870938, -0.0406382 , -0.04136766, ..., -0.00350665,\n",
       "           -0.05768843, -0.03824041],\n",
       "          ...,\n",
       "          [-0.05252663,  0.03419797,  0.00755472, ...,  0.01405072,\n",
       "           -0.022154  ,  0.03703583],\n",
       "          [ 0.01522171,  0.04868047, -0.0586353 , ..., -0.00048376,\n",
       "            0.00433714,  0.02306656],\n",
       "          [ 0.01839634, -0.0075552 , -0.05548895, ...,  0.04033938,\n",
       "           -0.01814724, -0.01786854]],\n",
       " \n",
       "         [[ 0.00853183,  0.03227843,  0.0421504 , ...,  0.00378858,\n",
       "           -0.04165942,  0.05589386],\n",
       "          [-0.04349799,  0.05759659, -0.05090158, ..., -0.04331482,\n",
       "            0.03315922, -0.03722578],\n",
       "          [-0.006432  , -0.00560063, -0.0094042 , ..., -0.03737591,\n",
       "            0.0302036 , -0.00324375],\n",
       "          ...,\n",
       "          [ 0.02322992,  0.00371142,  0.05365903, ...,  0.02653478,\n",
       "            0.02435142,  0.03949667],\n",
       "          [ 0.04154241,  0.01037711, -0.04251135, ...,  0.04841036,\n",
       "           -0.00944316, -0.00676118],\n",
       "          [-0.04537937,  0.03819565, -0.01008949, ..., -0.05563391,\n",
       "           -0.03516074,  0.00538174]]]], dtype=float32)>,\n",
       " <tf.Variable 'conv2d_9/bias:0' shape=(128,) dtype=float32, numpy=\n",
       " array([ 0.00392603, -0.0034906 ,  0.00907258, -0.00536258,  0.01301307,\n",
       "        -0.01831289,  0.07322628,  0.02284446,  0.00056098,  0.01166865,\n",
       "        -0.06351742, -0.02229558, -0.02485798,  0.00875523,  0.00327322,\n",
       "        -0.00372306,  0.02829592, -0.0051267 ,  0.02332185, -0.02570976,\n",
       "         0.01548959,  0.00497474,  0.00251566,  0.00366577,  0.00548163,\n",
       "        -0.01211205, -0.01043477, -0.01496359, -0.01032434,  0.0134236 ,\n",
       "        -0.00535701, -0.0212107 ,  0.04450131, -0.01475131, -0.00810476,\n",
       "         0.00668439,  0.06546529,  0.00843704,  0.04194662,  0.0148211 ,\n",
       "        -0.0051696 ,  0.00596352, -0.01883991, -0.00367457,  0.05451763,\n",
       "         0.00577284,  0.01528976,  0.01583199,  0.01802761, -0.00972418,\n",
       "        -0.01164279,  0.02273776, -0.00902465,  0.00797168, -0.01538294,\n",
       "        -0.02300218, -0.00352304, -0.00752441,  0.00457874,  0.00952453,\n",
       "        -0.00699589,  0.00880505,  0.00109872, -0.00765351, -0.06461983,\n",
       "         0.00296238,  0.00582299,  0.00703024, -0.13463111,  0.00549038,\n",
       "        -0.01831773, -0.00579327,  0.01696556,  0.00783895, -0.09392087,\n",
       "         0.00499358, -0.00782179, -0.0142615 , -0.00156694, -0.00783344,\n",
       "         0.00217132,  0.14230444,  0.01847838, -0.1449913 ,  0.01842689,\n",
       "         0.00271828,  0.0018001 , -0.00651439,  0.00638582,  0.04318134,\n",
       "        -0.00898759,  0.00263001, -0.01697449, -0.01565306, -0.02047686,\n",
       "         0.00419044,  0.0204024 , -0.01368711, -0.0161364 , -0.00419861,\n",
       "         0.00773888,  0.00449831,  0.04584286, -0.04153085, -0.01234841,\n",
       "         0.00140632, -0.01155165,  0.00178519,  0.00575213, -0.00060171,\n",
       "        -0.00314419,  0.01553344,  0.01703177,  0.0025746 , -0.00280788,\n",
       "         0.01158604,  0.00064879,  0.00258303,  0.00840641, -0.00945826,\n",
       "         0.00393788,  0.02023764, -0.00172918,  0.00459439,  0.00959161,\n",
       "        -0.00400102, -0.0018967 ,  0.02418582], dtype=float32)>,\n",
       " <tf.Variable 'dense_8/kernel:0' shape=(5376, 1024) dtype=float32, numpy=\n",
       " array([[-0.02283873,  0.00312395,  0.01459721, ...,  0.01518424,\n",
       "          0.01215109, -0.02751248],\n",
       "        [ 0.02595811, -0.01209166,  0.02012723, ..., -0.02738886,\n",
       "          0.0046729 ,  0.02961663],\n",
       "        [-0.01368404, -0.01902534,  0.01335552, ..., -0.00194586,\n",
       "         -0.00050925, -0.01805179],\n",
       "        ...,\n",
       "        [ 0.01421881,  0.0080668 ,  0.00347906, ...,  0.01233394,\n",
       "          0.02655223, -0.01062985],\n",
       "        [-0.02466835, -0.0246393 ,  0.00498777, ...,  0.00662052,\n",
       "         -0.02029593, -0.0104117 ],\n",
       "        [ 0.01477538, -0.01340108, -0.019864  , ..., -0.01162005,\n",
       "         -0.00256352, -0.00296867]], dtype=float32)>,\n",
       " <tf.Variable 'dense_8/bias:0' shape=(1024,) dtype=float32, numpy=\n",
       " array([-6.9854781e-04, -5.0768314e-04,  4.0862178e-03, ...,\n",
       "         2.1534433e-06,  9.2952439e-05,  1.7479229e-03], dtype=float32)>,\n",
       " <tf.Variable 'dense_9/kernel:0' shape=(1024, 9) dtype=float32, numpy=\n",
       " array([[ 0.08814785,  0.0528416 , -0.02442017, ..., -0.04516155,\n",
       "          0.00303858, -0.08299062],\n",
       "        [-0.02337012,  0.0442453 ,  0.02541786, ..., -0.03919175,\n",
       "         -0.059337  ,  0.04426725],\n",
       "        [ 0.04498943,  0.0177982 ,  0.06269484, ..., -0.0416536 ,\n",
       "         -0.02292566, -0.03973478],\n",
       "        ...,\n",
       "        [-0.02804875,  0.00706898,  0.02406929, ..., -0.00121294,\n",
       "          0.03961672,  0.04382826],\n",
       "        [-0.05684981,  0.05851613,  0.03106024, ...,  0.07265827,\n",
       "          0.07950345,  0.07038227],\n",
       "        [ 0.06842078, -0.03742726,  0.06064012, ..., -0.00155592,\n",
       "         -0.05958897, -0.00458148]], dtype=float32)>,\n",
       " <tf.Variable 'dense_9/bias:0' shape=(9,) dtype=float32, numpy=\n",
       " array([-0.01885519, -0.01806557,  0.03674022,  0.1176945 ,  0.01807254,\n",
       "         0.0092508 , -0.02019016, -0.05669971, -0.0679472 ], dtype=float32)>]"
      ]
     },
     "execution_count": 31,
     "metadata": {},
     "output_type": "execute_result"
    }
   ],
   "source": [
    "model.weights"
   ]
  },
  {
   "cell_type": "markdown",
   "metadata": {},
   "source": [
    "### *Best model summary*"
   ]
  },
  {
   "cell_type": "code",
   "execution_count": 32,
   "metadata": {},
   "outputs": [
    {
     "name": "stdout",
     "output_type": "stream",
     "text": [
      "Model: \"sequential_6\"\n",
      "_________________________________________________________________\n",
      " Layer (type)                Output Shape              Param #   \n",
      "=================================================================\n",
      " conv2d_8 (Conv2D)           (None, 1, 42, 64)         640       \n",
      "                                                                 \n",
      " max_pooling2d_8 (MaxPoolin  (None, 1, 42, 64)         0         \n",
      " g2D)                                                            \n",
      "                                                                 \n",
      " conv2d_9 (Conv2D)           (None, 1, 42, 128)        73856     \n",
      "                                                                 \n",
      " max_pooling2d_9 (MaxPoolin  (None, 1, 42, 128)        0         \n",
      " g2D)                                                            \n",
      "                                                                 \n",
      " flatten_4 (Flatten)         (None, 5376)              0         \n",
      "                                                                 \n",
      " dense_8 (Dense)             (None, 1024)              5506048   \n",
      "                                                                 \n",
      " dropout_4 (Dropout)         (None, 1024)              0         \n",
      "                                                                 \n",
      " dense_9 (Dense)             (None, 9)                 9225      \n",
      "                                                                 \n",
      "=================================================================\n",
      "Total params: 5589769 (21.32 MB)\n",
      "Trainable params: 5589769 (21.32 MB)\n",
      "Non-trainable params: 0 (0.00 Byte)\n",
      "_________________________________________________________________\n"
     ]
    }
   ],
   "source": [
    "model.summary()"
   ]
  },
  {
   "cell_type": "markdown",
   "metadata": {},
   "source": [
    "### *Prediction*"
   ]
  },
  {
   "cell_type": "code",
   "execution_count": 33,
   "metadata": {},
   "outputs": [
    {
     "name": "stdout",
     "output_type": "stream",
     "text": [
      "3730/3730 [==============================] - 9s 2ms/step\n"
     ]
    }
   ],
   "source": [
    "prediction = model.predict(x_test)\n",
    "prediction_labels = np.argmax(prediction, axis=1)\n",
    "y_labels = np.argmax(y_test_one_hot, axis=1)"
   ]
  },
  {
   "cell_type": "markdown",
   "metadata": {},
   "source": [
    "### *Accuracy score*"
   ]
  },
  {
   "cell_type": "code",
   "execution_count": 34,
   "metadata": {},
   "outputs": [],
   "source": [
    "accuracy = mt.accuracy_score(y_labels, prediction_labels)"
   ]
  },
  {
   "cell_type": "markdown",
   "metadata": {},
   "source": [
    "###  *Precision score*"
   ]
  },
  {
   "cell_type": "code",
   "execution_count": 35,
   "metadata": {},
   "outputs": [
    {
     "name": "stderr",
     "output_type": "stream",
     "text": [
      "c:\\Users\\cdub6\\anaconda3\\Lib\\site-packages\\sklearn\\metrics\\_classification.py:1344: UndefinedMetricWarning: Precision is ill-defined and being set to 0.0 in labels with no predicted samples. Use `zero_division` parameter to control this behavior.\n",
      "  _warn_prf(average, modifier, msg_start, len(result))\n"
     ]
    }
   ],
   "source": [
    "precision = mt.precision_score(y_labels, prediction_labels, average='weighted')"
   ]
  },
  {
   "cell_type": "markdown",
   "metadata": {},
   "source": [
    "### *F1 score*"
   ]
  },
  {
   "cell_type": "code",
   "execution_count": 36,
   "metadata": {},
   "outputs": [],
   "source": [
    "f1 = mt.f1_score(y_labels, prediction_labels, average='weighted')"
   ]
  },
  {
   "cell_type": "markdown",
   "metadata": {},
   "source": [
    "### *Classification Report*"
   ]
  },
  {
   "cell_type": "code",
   "execution_count": 37,
   "metadata": {},
   "outputs": [
    {
     "name": "stdout",
     "output_type": "stream",
     "text": [
      "                precision    recall  f1-score   support\n",
      "\n",
      "Reconnaissance       0.00      0.00      0.00      2000\n",
      "      Backdoor       0.00      0.00      0.00      1746\n",
      "           DoS       0.37      0.00      0.00     12264\n",
      "      Exploits       0.28      1.00      0.44     33393\n",
      "      Analysis       0.00      0.00      0.00     18184\n",
      "       Fuzzers       0.00      0.00      0.00     40000\n",
      "         Worms       0.00      0.00      0.00     10491\n",
      "     Shellcode       0.00      0.00      0.00      1133\n",
      "       Generic       0.00      0.00      0.00       130\n",
      "\n",
      "      accuracy                           0.28    119341\n",
      "     macro avg       0.07      0.11      0.05    119341\n",
      "  weighted avg       0.12      0.28      0.12    119341\n",
      "\n"
     ]
    },
    {
     "name": "stderr",
     "output_type": "stream",
     "text": [
      "c:\\Users\\cdub6\\anaconda3\\Lib\\site-packages\\sklearn\\metrics\\_classification.py:1344: UndefinedMetricWarning: Precision and F-score are ill-defined and being set to 0.0 in labels with no predicted samples. Use `zero_division` parameter to control this behavior.\n",
      "  _warn_prf(average, modifier, msg_start, len(result))\n",
      "c:\\Users\\cdub6\\anaconda3\\Lib\\site-packages\\sklearn\\metrics\\_classification.py:1344: UndefinedMetricWarning: Precision and F-score are ill-defined and being set to 0.0 in labels with no predicted samples. Use `zero_division` parameter to control this behavior.\n",
      "  _warn_prf(average, modifier, msg_start, len(result))\n",
      "c:\\Users\\cdub6\\anaconda3\\Lib\\site-packages\\sklearn\\metrics\\_classification.py:1344: UndefinedMetricWarning: Precision and F-score are ill-defined and being set to 0.0 in labels with no predicted samples. Use `zero_division` parameter to control this behavior.\n",
      "  _warn_prf(average, modifier, msg_start, len(result))\n"
     ]
    }
   ],
   "source": [
    "class_names = [index_to_category[i] for i in range(len(index_to_category))]\n",
    "print(mt.classification_report(y_labels, prediction_labels, target_names=class_names))"
   ]
  },
  {
   "cell_type": "markdown",
   "metadata": {},
   "source": [
    "### *Root Mean Squared Error (RMSE)*"
   ]
  },
  {
   "cell_type": "code",
   "execution_count": 39,
   "metadata": {},
   "outputs": [
    {
     "name": "stdout",
     "output_type": "stream",
     "text": [
      "RMSE: 0.39504027366638184\n"
     ]
    }
   ],
   "source": [
    "rmse = np.sqrt(mt.mean_squared_error(prediction, y_test_one_hot))\n",
    "print('RMSE: {}'.format(rmse))"
   ]
  },
  {
   "cell_type": "markdown",
   "metadata": {},
   "source": [
    "### *Confusion matrix*"
   ]
  },
  {
   "cell_type": "code",
   "execution_count": 43,
   "metadata": {},
   "outputs": [
    {
     "name": "stdout",
     "output_type": "stream",
     "text": [
      "[[    0     0     0  2000     0     0     0     0     0]\n",
      " [    0     0     0  1746     0     0     0     0     0]\n",
      " [    0     0    13 12251     0     0     0     0     0]\n",
      " [    0     0    20 33373     0     0     0     0     0]\n",
      " [    0     0     0 18184     0     0     0     0     0]\n",
      " [    0     0     2 39998     0     0     0     0     0]\n",
      " [    0     0     0 10491     0     0     0     0     0]\n",
      " [    0     0     0  1133     0     0     0     0     0]\n",
      " [    0     0     0   130     0     0     0     0     0]]\n",
      "Plotting confusion matrix\n"
     ]
    },
    {
     "data": {
      "image/png": "[encoded data removed]",
      "text/plain": [
       "<Figure size 640x480 with 2 Axes>"
      ]
     },
     "metadata": {},
     "output_type": "display_data"
    }
   ],
   "source": [
    "diagnosis = encode_text_index(training_df, 'attack_cat')\n",
    "\n",
    "#y_test_labels = np.argmax(y_test_one_hot, axis=1)\n",
    "#binary_prediction_labels = np.argmax(binary_prediction, axis=1)\n",
    "cm = confusion_matrix(y_labels, prediction_labels)\n",
    "print(cm)\n",
    "\n",
    "print('Plotting confusion matrix')\n",
    "\n",
    "plt.figure()\n",
    "plot_confusion_matrix(cm, diagnosis)\n",
    "plt.show()"
   ]
  },
  {
   "cell_type": "markdown",
   "metadata": {},
   "source": [
    "### *Regression lift chart*"
   ]
  },
  {
   "cell_type": "code",
   "execution_count": 47,
   "metadata": {},
   "outputs": [
    {
     "data": {
      "image/png": "[encoded data removed]",
      "text/plain": [
       "<Figure size 640x480 with 1 Axes>"
      ]
     },
     "metadata": {},
     "output_type": "display_data"
    }
   ],
   "source": [
    "chart_regression(prediction_labels, y_labels, sort=True)"
   ]
  }
 ],
 "metadata": {
  "kernelspec": {
   "display_name": "base",
   "language": "python",
   "name": "python3"
  },
  "language_info": {
   "codemirror_mode": {
    "name": "ipython",
    "version": 3
   },
   "file_extension": ".py",
   "mimetype": "text/x-python",
   "name": "python",
   "nbconvert_exporter": "python",
   "pygments_lexer": "ipython3",
   "version": "3.11.5"
  }
 },
 "nbformat": 4,
 "nbformat_minor": 2
}
