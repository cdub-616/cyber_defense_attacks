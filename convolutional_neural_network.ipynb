{
 "cells": [
  {
   "cell_type": "markdown",
   "metadata": {},
   "source": [
    "# **Convolutional Neural Network**"
   ]
  },
  {
   "cell_type": "markdown",
   "metadata": {},
   "source": [
    "### *Libraries and functions*"
   ]
  },
  {
   "cell_type": "code",
   "execution_count": 24,
   "metadata": {},
   "outputs": [],
   "source": [
    "%matplotlib inline\n",
    "from collections.abc import Sequence\n",
    "from sklearn import preprocessing\n",
    "from sklearn import metrics as mt\n",
    "from sklearn import svm, datasets\n",
    "from sklearn.model_selection import train_test_split\n",
    "from sklearn.metrics import confusion_matrix, classification_report, roc_curve, auc\n",
    "from tensorflow.keras.models import load_model\n",
    "from tensorflow.keras.models import Sequential\n",
    "from tensorflow.keras.layers import Dense, Dropout\n",
    "from tensorflow.keras.callbacks import EarlyStopping\n",
    "from tensorflow.keras.callbacks import ModelCheckpoint\n",
    "\n",
    "import matplotlib.pyplot as plt\n",
    "import numpy as np\n",
    "import pandas as pd\n",
    "import shutil\n",
    "import os\n",
    "import tensorflow as tf\n",
    "\n",
    "\n",
    "\n",
    "# Encode text values to dummy variables(i.e. [1,0,0],[0,1,0],[0,0,1] for red,green,blue)\n",
    "def encode_text_dummy(df, name):\n",
    "    dummies = pd.get_dummies(df[name])\n",
    "    for x in dummies.columns:\n",
    "        dummy_name = \"{}-{}\".format(name, x)\n",
    "        df[dummy_name] = dummies[x]\n",
    "    df.drop(name, axis=1, inplace=True)\n",
    "\n",
    "# Encode text values to a single dummy variable.  The new columns (which do not replace the old) will have a 1\n",
    "# at every location where the original column (name) matches each of the target_values.  One column is added for\n",
    "# each target value.\n",
    "def encode_text_single_dummy(df, name, target_values):\n",
    "    for tv in target_values:\n",
    "        l = list(df[name].astype(str))\n",
    "        l = [1 if str(x) == str(tv) else 0 for x in l]\n",
    "        name2 = \"{}-{}\".format(name, tv)\n",
    "        df[name2] = l\n",
    "\n",
    "\n",
    "# Encode text values to indexes(i.e. [1],[2],[3] for red,green,blue).\n",
    "def encode_text_index(df, name):\n",
    "    le = preprocessing.LabelEncoder()\n",
    "    df[name] = le.fit_transform(df[name])\n",
    "    return le.classes_\n",
    "\n",
    "\n",
    "# Encode a numeric column as zscores\n",
    "def encode_numeric_zscore(df, name, mean=None, sd=None):\n",
    "    if mean is None:\n",
    "        mean = df[name].mean()\n",
    "\n",
    "    if sd is None:\n",
    "        sd = df[name].std()\n",
    "\n",
    "    df[name] = (df[name] - mean) / sd\n",
    "\n",
    "# Convert all missing values in the specified column to the default\n",
    "def missing_default(df, name, default_value):\n",
    "    df[name] = df[name].fillna(default_value)\n",
    "\n",
    "\n",
    "# Convert a Pandas dataframe to the x,y inputs that TensorFlow needs\n",
    "def to_xy(df, target):\n",
    "    result = []\n",
    "    for x in df.columns:\n",
    "        if x != target:\n",
    "            result.append(x)\n",
    "    # find out the type of the target column.\n",
    "    target_type = df[target].dtypes\n",
    "    target_type = target_type[0] if isinstance(target_type, Sequence) else target_type\n",
    "    # Encode to int for classification, float otherwise. TensorFlow likes 32 bits.\n",
    "    if target_type in (np.int64, np.int32):\n",
    "        # Classification\n",
    "        dummies = pd.get_dummies(df[target])\n",
    "        return df[result].values.astype(np.float32), dummies.values.astype(np.float32)\n",
    "    else:\n",
    "        # Regression\n",
    "        return df[result].values.astype(np.float32), df[target].values.astype(np.float32)\n",
    "\n",
    "# Nicely formatted time string\n",
    "def hms_string(sec_elapsed):\n",
    "    h = int(sec_elapsed / (60 * 60))\n",
    "    m = int((sec_elapsed % (60 * 60)) / 60)\n",
    "    s = sec_elapsed % 60\n",
    "    return \"{}:{:>02}:{:>05.2f}\".format(h, m, s)\n",
    "\n",
    "# Regression chart.\n",
    "def chart_regression(pred,y,sort=True):\n",
    "    t = pd.DataFrame({'pred' : pred, 'y' : y.flatten()})\n",
    "    if sort:\n",
    "        t.sort_values(by=['y'],inplace=True)\n",
    "    a = plt.plot(t['y'].tolist(),label='expected')\n",
    "    b = plt.plot(t['pred'].tolist(),label='prediction')\n",
    "    plt.ylabel('output')\n",
    "    plt.legend()\n",
    "    plt.show()\n",
    "\n",
    "# Remove all rows where the specified column is +/- sd standard deviations\n",
    "def remove_outliers(df, name, sd):\n",
    "    drop_rows = df.index[(np.abs(df[name] - df[name].mean()) >= (sd * df[name].std()))]\n",
    "    df.drop(drop_rows, axis=0, inplace=True)\n",
    "\n",
    "# Encode a column to a range between normalized_low and normalized_high.\n",
    "def encode_numeric_range(df, name, normalized_low=-1, normalized_high=1,\n",
    "                         data_low=None, data_high=None):\n",
    "    if data_low is None:\n",
    "        data_low = min(df[name])\n",
    "        data_high = max(df[name])\n",
    "\n",
    "    df[name] = ((df[name] - data_low) / (data_high - data_low)) \\\n",
    "               * (normalized_high - normalized_low) + normalized_low\n",
    "    \n",
    "# Plot a confusion matrix.\n",
    "# cm is the confusion matrix, names are the names of the classes.\n",
    "def plot_confusion_matrix(cm, names, title='Confusion matrix', cmap=plt.cm.Blues):\n",
    "    plt.imshow(cm, interpolation='nearest', cmap=cmap)\n",
    "    plt.title(title)\n",
    "    plt.colorbar()\n",
    "    tick_marks = np.arange(len(names))\n",
    "    plt.xticks(tick_marks, names, rotation=45)\n",
    "    plt.yticks(tick_marks, names)\n",
    "    plt.tight_layout()\n",
    "    plt.ylabel('True label')\n",
    "    plt.xlabel('Predicted label')\n",
    "\n",
    "# Plot an ROC. pred - the predictions, y - the expected output.\n",
    "def plot_roc(pred,y):\n",
    "    fpr, tpr, thresholds = roc_curve(y, pred)\n",
    "    roc_auc = auc(fpr, tpr)\n",
    "\n",
    "    plt.figure()\n",
    "    plt.plot(fpr, tpr, label='ROC curve (area = %0.2f)' % roc_auc)\n",
    "    plt.plot([0, 1], [0, 1], 'k--')\n",
    "    plt.xlim([0.0, 1.0])\n",
    "    plt.ylim([0.0, 1.05])\n",
    "    plt.xlabel('False Positive Rate')\n",
    "    plt.ylabel('True Positive Rate')\n",
    "    plt.title('Receiver Operating Characteristic (ROC)')\n",
    "    plt.legend(loc=\"lower right\")\n",
    "    plt.show()"
   ]
  },
  {
   "cell_type": "markdown",
   "metadata": {},
   "source": [
    "### *Load dataframes from file*"
   ]
  },
  {
   "cell_type": "code",
   "execution_count": 25,
   "metadata": {},
   "outputs": [],
   "source": [
    "training_df = pd.read_pickle('./data/training_index.pkl')\n",
    "testing_df = pd.read_pickle('./data/testing_index.pkl')"
   ]
  },
  {
   "cell_type": "markdown",
   "metadata": {},
   "source": [
    "### *Use dataframe to configure x,y*"
   ]
  },
  {
   "cell_type": "code",
   "execution_count": 26,
   "metadata": {},
   "outputs": [],
   "source": [
    "training_df['label'] = training_df['label'].astype('category')\n",
    "testing_df['label'] = testing_df['label'].astype('category')\n",
    "x_train, y_train = to_xy(training_df, 'label')\n",
    "x_test, y_test = to_xy(testing_df, 'label')"
   ]
  },
  {
   "cell_type": "markdown",
   "metadata": {},
   "source": [
    "### *Shape*"
   ]
  },
  {
   "cell_type": "code",
   "execution_count": 27,
   "metadata": {},
   "outputs": [
    {
     "name": "stdout",
     "output_type": "stream",
     "text": [
      "x_train shape: (82332, 42)\n",
      "y_train shape: (82332,)\n",
      "x_test shape: (175341, 42)\n",
      "y_test shape: (175341,)\n"
     ]
    }
   ],
   "source": [
    "print('x_train shape:', x_train.shape)\n",
    "print('y_train shape:', y_train.shape)\n",
    "print('x_test shape:', x_test.shape)\n",
    "print('y_test shape:', y_test.shape)"
   ]
  },
  {
   "cell_type": "markdown",
   "metadata": {},
   "source": [
    "### *Reshape x's*"
   ]
  },
  {
   "cell_type": "code",
   "execution_count": 28,
   "metadata": {},
   "outputs": [],
   "source": [
    "x_train_rows = x_train.shape[0]\n",
    "x_cols = x_train.shape[1]\n",
    "x_test_rows = x_test.shape[0]\n",
    "x_train = x_train.reshape((x_train_rows, 1, x_cols, 1))\n",
    "x_test = x_test.reshape((x_test_rows, 1, x_cols, 1))"
   ]
  },
  {
   "cell_type": "markdown",
   "metadata": {},
   "source": [
    "### *x_train*"
   ]
  },
  {
   "cell_type": "code",
   "execution_count": 29,
   "metadata": {},
   "outputs": [
    {
     "name": "stdout",
     "output_type": "stream",
     "text": [
      "x_train shape: (82332, 1, 42, 1)\n",
      "[[[[ -0.21372615]\n",
      "   [117.        ]\n",
      "   [  0.        ]\n",
      "   ...\n",
      "   [ -0.6400289 ]\n",
      "   [ -0.64418626]\n",
      "   [  0.        ]]]\n",
      "\n",
      "\n",
      " [[[ -0.21372679]\n",
      "   [117.        ]\n",
      "   [  0.        ]\n",
      "   ...\n",
      "   [ -0.6400289 ]\n",
      "   [ -0.64418626]\n",
      "   [  0.        ]]]\n",
      "\n",
      "\n",
      " [[[ -0.21372743]\n",
      "   [117.        ]\n",
      "   [  0.        ]\n",
      "   ...\n",
      "   [ -0.6400289 ]\n",
      "   [ -0.5542696 ]\n",
      "   [  0.        ]]]\n",
      "\n",
      "\n",
      " ...\n",
      "\n",
      "\n",
      " [[[ -0.21372849]\n",
      "   [  6.        ]\n",
      "   [  0.        ]\n",
      "   ...\n",
      "   [ -0.6400289 ]\n",
      "   [ -0.7341029 ]\n",
      "   [  1.        ]]]\n",
      "\n",
      "\n",
      " [[[ -0.21372849]\n",
      "   [  6.        ]\n",
      "   [  0.        ]\n",
      "   ...\n",
      "   [ -0.6400289 ]\n",
      "   [ -0.7341029 ]\n",
      "   [  1.        ]]]\n",
      "\n",
      "\n",
      " [[[ -0.21372658]\n",
      "   [117.        ]\n",
      "   [  0.        ]\n",
      "   ...\n",
      "   [ -0.6400289 ]\n",
      "   [ -0.7341029 ]\n",
      "   [  0.        ]]]]\n"
     ]
    }
   ],
   "source": [
    "print('x_train shape:', x_train.shape)\n",
    "print (x_train)"
   ]
  },
  {
   "cell_type": "markdown",
   "metadata": {},
   "source": [
    "### *x_test*"
   ]
  },
  {
   "cell_type": "code",
   "execution_count": 30,
   "metadata": {},
   "outputs": [
    {
     "name": "stdout",
     "output_type": "stream",
     "text": [
      "x_test shape: (175341, 1, 42, 1)\n",
      "[[[[-1.9102827e-01]\n",
      "   [ 1.1300000e+02]\n",
      "   [ 0.0000000e+00]\n",
      "   ...\n",
      "   [-7.1571159e-01]\n",
      "   [-7.5307184e-01]\n",
      "   [ 0.0000000e+00]]]\n",
      "\n",
      "\n",
      " [[[-1.0948448e-01]\n",
      "   [ 1.1300000e+02]\n",
      "   [ 0.0000000e+00]\n",
      "   ...\n",
      "   [-7.1571159e-01]\n",
      "   [-2.8825620e-01]\n",
      "   [ 0.0000000e+00]]]\n",
      "\n",
      "\n",
      " [[[ 4.0699102e-02]\n",
      "   [ 1.1300000e+02]\n",
      "   [ 0.0000000e+00]\n",
      "   ...\n",
      "   [-5.9554088e-01]\n",
      "   [-2.8825620e-01]\n",
      "   [ 0.0000000e+00]]]\n",
      "\n",
      "\n",
      " ...\n",
      "\n",
      "\n",
      " [[[-2.0977277e-01]\n",
      "   [ 1.1900000e+02]\n",
      "   [ 2.0000000e+00]\n",
      "   ...\n",
      "   [-4.7537011e-01]\n",
      "   [ 2.6952264e-01]\n",
      "   [ 0.0000000e+00]]]\n",
      "\n",
      "\n",
      " [[[-2.0977277e-01]\n",
      "   [ 1.1900000e+02]\n",
      "   [ 2.0000000e+00]\n",
      "   ...\n",
      "   [ 2.7692401e+00]\n",
      "   [ 1.9428591e+00]\n",
      "   [ 0.0000000e+00]]]\n",
      "\n",
      "\n",
      " [[[-2.0977277e-01]\n",
      "   [ 1.1900000e+02]\n",
      "   [ 2.0000000e+00]\n",
      "   ...\n",
      "   [ 2.7692401e+00]\n",
      "   [ 1.9428591e+00]\n",
      "   [ 0.0000000e+00]]]]\n"
     ]
    }
   ],
   "source": [
    "print('x_test shape:', x_test.shape)\n",
    "print (x_test)"
   ]
  },
  {
   "cell_type": "markdown",
   "metadata": {},
   "source": [
    "### *Convert y's to one-hot encoding*"
   ]
  },
  {
   "cell_type": "code",
   "execution_count": 31,
   "metadata": {},
   "outputs": [],
   "source": [
    "y_train_one_hot = tf.keras.utils.to_categorical(y_train, 2)\n",
    "y_test_one_hot = tf.keras.utils.to_categorical(y_test, 2)"
   ]
  },
  {
   "cell_type": "markdown",
   "metadata": {},
   "source": [
    "### *y_train_one_hot*"
   ]
  },
  {
   "cell_type": "code",
   "execution_count": 32,
   "metadata": {},
   "outputs": [
    {
     "name": "stdout",
     "output_type": "stream",
     "text": [
      "y_train_one_hot shape: (82332, 2)\n",
      "[[1. 0.]\n",
      " [1. 0.]\n",
      " [1. 0.]\n",
      " ...\n",
      " [1. 0.]\n",
      " [1. 0.]\n",
      " [1. 0.]]\n"
     ]
    }
   ],
   "source": [
    "print('y_train_one_hot shape:', y_train_one_hot.shape)\n",
    "print(y_train_one_hot)"
   ]
  },
  {
   "cell_type": "markdown",
   "metadata": {},
   "source": [
    "### *y_test_one_hot*"
   ]
  },
  {
   "cell_type": "code",
   "execution_count": 33,
   "metadata": {},
   "outputs": [
    {
     "name": "stdout",
     "output_type": "stream",
     "text": [
      "y_test_one_hot shape: (175341, 2)\n",
      "[[1. 0.]\n",
      " [1. 0.]\n",
      " [1. 0.]\n",
      " ...\n",
      " [0. 1.]\n",
      " [0. 1.]\n",
      " [0. 1.]]\n"
     ]
    }
   ],
   "source": [
    "print('y_test_one_hot shape:', y_test_one_hot.shape)\n",
    "print (y_test_one_hot)"
   ]
  },
  {
   "cell_type": "markdown",
   "metadata": {},
   "source": [
    "### *Model:  relu and adam*"
   ]
  },
  {
   "cell_type": "code",
   "execution_count": 34,
   "metadata": {},
   "outputs": [
    {
     "name": "stdout",
     "output_type": "stream",
     "text": [
      "0\n",
      "Epoch 1/100\n",
      "2573/2573 - 119s - loss: 0.1557 - accuracy: 0.9344 - val_loss: 0.2578 - val_accuracy: 0.9068 - 119s/epoch - 46ms/step\n",
      "Epoch 2/100\n"
     ]
    },
    {
     "name": "stderr",
     "output_type": "stream",
     "text": [
      "c:\\Users\\cdub6\\anaconda3\\Lib\\site-packages\\keras\\src\\engine\\training.py:3103: UserWarning: You are saving your model as an HDF5 file via `model.save()`. This file format is considered legacy. We recommend using instead the native Keras format, e.g. `model.save('my_model.keras')`.\n",
      "  saving_api.save_model(\n"
     ]
    },
    {
     "name": "stdout",
     "output_type": "stream",
     "text": [
      "2573/2573 - 118s - loss: 0.1086 - accuracy: 0.9566 - val_loss: 0.2255 - val_accuracy: 0.9159 - 118s/epoch - 46ms/step\n",
      "Epoch 3/100\n",
      "2573/2573 - 112s - loss: 0.1011 - accuracy: 0.9589 - val_loss: 0.2274 - val_accuracy: 0.9167 - 112s/epoch - 44ms/step\n",
      "Epoch 4/100\n",
      "2573/2573 - 111s - loss: 0.0947 - accuracy: 0.9615 - val_loss: 0.2563 - val_accuracy: 0.9129 - 111s/epoch - 43ms/step\n",
      "Epoch 4: early stopping\n",
      "1\n",
      "Epoch 1/100\n",
      "2573/2573 - 114s - loss: 0.1558 - accuracy: 0.9346 - val_loss: 0.2174 - val_accuracy: 0.9159 - 114s/epoch - 44ms/step\n",
      "Epoch 2/100\n",
      "2573/2573 - 113s - loss: 0.1093 - accuracy: 0.9556 - val_loss: 0.2760 - val_accuracy: 0.9011 - 113s/epoch - 44ms/step\n",
      "Epoch 3/100\n",
      "2573/2573 - 113s - loss: 0.1021 - accuracy: 0.9588 - val_loss: 0.2536 - val_accuracy: 0.9150 - 113s/epoch - 44ms/step\n",
      "Epoch 3: early stopping\n",
      "2\n",
      "Epoch 1/100\n",
      "2573/2573 - 114s - loss: 0.1530 - accuracy: 0.9352 - val_loss: 0.2092 - val_accuracy: 0.9136 - 114s/epoch - 44ms/step\n",
      "Epoch 2/100\n",
      "2573/2573 - 113s - loss: 0.1082 - accuracy: 0.9564 - val_loss: 0.2459 - val_accuracy: 0.9125 - 113s/epoch - 44ms/step\n",
      "Epoch 3/100\n",
      "2573/2573 - 112s - loss: 0.0998 - accuracy: 0.9598 - val_loss: 0.2617 - val_accuracy: 0.9040 - 112s/epoch - 44ms/step\n",
      "Epoch 3: early stopping\n",
      "3\n",
      "Epoch 1/100\n",
      "2573/2573 - 113s - loss: 0.1540 - accuracy: 0.9349 - val_loss: 0.2569 - val_accuracy: 0.9116 - 113s/epoch - 44ms/step\n",
      "Epoch 2/100\n"
     ]
    }
   ],
   "source": [
    "checkpointer = ModelCheckpoint(filepath=\"models/best_weights_cnn.hdf5\", verbose=0, save_best_only=True) # save best model\n",
    "\n",
    "for i in range(5):\n",
    "    print(i)\n",
    "\n",
    "    model = Sequential()\n",
    "    model.add(tf.keras.layers.Conv2D(64, kernel_size=(3, 3), strides=(1, 1), activation='relu', input_shape=(1, x_cols, 1), padding='same'))\n",
    "    model.add(tf.keras.layers.MaxPooling2D(pool_size=(1, 1)))\n",
    "    model.add(tf.keras.layers.Conv2D(128, kernel_size=(3, 3), strides=(1, 1), activation='relu', padding='same'))\n",
    "    model.add(tf.keras.layers.MaxPooling2D(pool_size=(1, 1)))\n",
    "    model.add(tf.keras.layers.Flatten())\n",
    "    model.add(tf.keras.layers.Dense(1024, activation='relu'))\n",
    "    model.add(Dropout(0.5))\n",
    "    model.add(tf.keras.layers.Dense(2, activation='sigmoid'))\n",
    "    model.compile(loss='binary_crossentropy', optimizer='adam', metrics=['accuracy'])\n",
    "    monitor = EarlyStopping(monitor='val_loss', min_delta=1e-3, patience=2, verbose=2, mode='auto')\n",
    "    model.fit(x_train, y_train_one_hot, validation_data=(x_test, y_test_one_hot),callbacks=[monitor, checkpointer], verbose=2, epochs=100)"
   ]
  },
  {
   "cell_type": "markdown",
   "metadata": {},
   "source": [
    "### *Model:  sigmoid and adam*"
   ]
  },
  {
   "cell_type": "code",
   "execution_count": null,
   "metadata": {},
   "outputs": [
    {
     "name": "stdout",
     "output_type": "stream",
     "text": [
      "0\n",
      "Epoch 1/100\n",
      "2573/2573 - 108s - loss: 0.4077 - accuracy: 0.7801 - val_loss: 0.1780 - val_accuracy: 0.9304 - 108s/epoch - 42ms/step\n",
      "Epoch 2/100\n",
      "2573/2573 - 106s - loss: 0.1829 - accuracy: 0.9231 - val_loss: 0.2331 - val_accuracy: 0.9125 - 106s/epoch - 41ms/step\n",
      "Epoch 3/100\n",
      "2573/2573 - 106s - loss: 0.1522 - accuracy: 0.9366 - val_loss: 0.2079 - val_accuracy: 0.9240 - 106s/epoch - 41ms/step\n",
      "Epoch 3: early stopping\n",
      "1\n",
      "Epoch 1/100\n",
      "2573/2573 - 108s - loss: 0.3919 - accuracy: 0.7817 - val_loss: 0.4297 - val_accuracy: 0.7956 - 108s/epoch - 42ms/step\n",
      "Epoch 2/100\n",
      "2573/2573 - 110s - loss: 0.1639 - accuracy: 0.9302 - val_loss: 0.1936 - val_accuracy: 0.9170 - 110s/epoch - 43ms/step\n",
      "Epoch 3/100\n",
      "2573/2573 - 106s - loss: 0.1404 - accuracy: 0.9433 - val_loss: 0.2412 - val_accuracy: 0.8942 - 106s/epoch - 41ms/step\n",
      "Epoch 4/100\n",
      "2573/2573 - 107s - loss: 0.1292 - accuracy: 0.9482 - val_loss: 0.2548 - val_accuracy: 0.9053 - 107s/epoch - 41ms/step\n",
      "Epoch 4: early stopping\n",
      "2\n",
      "Epoch 1/100\n",
      "2573/2573 - 107s - loss: 0.3967 - accuracy: 0.7890 - val_loss: 0.2028 - val_accuracy: 0.9276 - 107s/epoch - 42ms/step\n",
      "Epoch 2/100\n",
      "2573/2573 - 106s - loss: 0.1983 - accuracy: 0.9184 - val_loss: 0.2223 - val_accuracy: 0.9216 - 106s/epoch - 41ms/step\n",
      "Epoch 3/100\n",
      "2573/2573 - 106s - loss: 0.1632 - accuracy: 0.9335 - val_loss: 0.2064 - val_accuracy: 0.9233 - 106s/epoch - 41ms/step\n",
      "Epoch 3: early stopping\n",
      "3\n",
      "Epoch 1/100\n",
      "2573/2573 - 108s - loss: 0.3430 - accuracy: 0.8154 - val_loss: 0.3284 - val_accuracy: 0.8526 - 108s/epoch - 42ms/step\n",
      "Epoch 2/100\n",
      "2573/2573 - 107s - loss: 0.1582 - accuracy: 0.9323 - val_loss: 0.3494 - val_accuracy: 0.8588 - 107s/epoch - 42ms/step\n",
      "Epoch 3/100\n",
      "2573/2573 - 107s - loss: 0.1354 - accuracy: 0.9444 - val_loss: 0.2344 - val_accuracy: 0.9099 - 107s/epoch - 42ms/step\n",
      "Epoch 4/100\n",
      "2573/2573 - 107s - loss: 0.1282 - accuracy: 0.9486 - val_loss: 0.3009 - val_accuracy: 0.8817 - 107s/epoch - 42ms/step\n",
      "Epoch 5/100\n",
      "2573/2573 - 107s - loss: 0.1229 - accuracy: 0.9500 - val_loss: 0.2181 - val_accuracy: 0.9153 - 107s/epoch - 42ms/step\n",
      "Epoch 6/100\n",
      "2573/2573 - 107s - loss: 0.1208 - accuracy: 0.9508 - val_loss: 0.2707 - val_accuracy: 0.9036 - 107s/epoch - 42ms/step\n",
      "Epoch 7/100\n",
      "2573/2573 - 107s - loss: 0.1164 - accuracy: 0.9530 - val_loss: 0.2698 - val_accuracy: 0.8986 - 107s/epoch - 41ms/step\n",
      "Epoch 7: early stopping\n",
      "4\n",
      "Epoch 1/100\n",
      "2573/2573 - 108s - loss: 0.3751 - accuracy: 0.7942 - val_loss: 0.3660 - val_accuracy: 0.8158 - 108s/epoch - 42ms/step\n",
      "Epoch 2/100\n",
      "2573/2573 - 107s - loss: 0.1679 - accuracy: 0.9274 - val_loss: 0.2315 - val_accuracy: 0.9085 - 107s/epoch - 41ms/step\n",
      "Epoch 3/100\n",
      "2573/2573 - 106s - loss: 0.1398 - accuracy: 0.9423 - val_loss: 0.2861 - val_accuracy: 0.8849 - 106s/epoch - 41ms/step\n",
      "Epoch 4/100\n",
      "2573/2573 - 106s - loss: 0.1314 - accuracy: 0.9471 - val_loss: 0.2707 - val_accuracy: 0.8907 - 106s/epoch - 41ms/step\n",
      "Epoch 4: early stopping\n"
     ]
    }
   ],
   "source": [
    "checkpointer = ModelCheckpoint(filepath=\"models/best_weights_cnn.hdf5\", verbose=0, save_best_only=True) # save best model\n",
    "\n",
    "for i in range(5):\n",
    "    print(i)\n",
    "\n",
    "    model = Sequential()\n",
    "    model.add(tf.keras.layers.Conv2D(64, kernel_size=(3, 3), strides=(1, 1), activation='sigmoid', input_shape=(1, x_cols, 1), padding='same'))\n",
    "    model.add(tf.keras.layers.MaxPooling2D(pool_size=(1, 1)))\n",
    "    model.add(tf.keras.layers.Conv2D(128, kernel_size=(3, 3), strides=(1, 1), activation='sigmoid', padding='same'))\n",
    "    model.add(tf.keras.layers.MaxPooling2D(pool_size=(1, 1)))\n",
    "    model.add(tf.keras.layers.Flatten())\n",
    "    model.add(tf.keras.layers.Dense(1024, activation='sigmoid'))\n",
    "    model.add(Dropout(0.5))\n",
    "    model.add(tf.keras.layers.Dense(2, activation='sigmoid'))\n",
    "    model.compile(loss='binary_crossentropy', optimizer='adam', metrics=['accuracy'])\n",
    "    monitor = EarlyStopping(monitor='val_loss', min_delta=1e-3, patience=2, verbose=2, mode='auto')\n",
    "    model.fit(x_train, y_train_one_hot, validation_data=(x_test, y_test_one_hot),callbacks=[monitor, checkpointer], verbose=2, epochs=100)"
   ]
  },
  {
   "cell_type": "markdown",
   "metadata": {},
   "source": [
    "### *Model:  tanh and adam*"
   ]
  },
  {
   "cell_type": "code",
   "execution_count": null,
   "metadata": {},
   "outputs": [
    {
     "name": "stdout",
     "output_type": "stream",
     "text": [
      "0\n",
      "Epoch 1/100\n",
      "2573/2573 - 109s - loss: 0.2207 - accuracy: 0.9033 - val_loss: 0.2563 - val_accuracy: 0.8961 - 109s/epoch - 42ms/step\n",
      "Epoch 2/100\n",
      "2573/2573 - 107s - loss: 0.1788 - accuracy: 0.9236 - val_loss: 0.2947 - val_accuracy: 0.8841 - 107s/epoch - 42ms/step\n",
      "Epoch 3/100\n",
      "2573/2573 - 108s - loss: 0.1762 - accuracy: 0.9260 - val_loss: 0.2150 - val_accuracy: 0.9100 - 108s/epoch - 42ms/step\n",
      "Epoch 4/100\n",
      "2573/2573 - 107s - loss: 0.1738 - accuracy: 0.9284 - val_loss: 0.2996 - val_accuracy: 0.8874 - 107s/epoch - 42ms/step\n",
      "Epoch 5/100\n",
      "2573/2573 - 115s - loss: 0.1696 - accuracy: 0.9304 - val_loss: 0.2791 - val_accuracy: 0.8830 - 115s/epoch - 45ms/step\n",
      "Epoch 5: early stopping\n",
      "1\n",
      "Epoch 1/100\n",
      "2573/2573 - 123s - loss: 0.2232 - accuracy: 0.9025 - val_loss: 0.2625 - val_accuracy: 0.8841 - 123s/epoch - 48ms/step\n",
      "Epoch 2/100\n",
      "2573/2573 - 121s - loss: 0.1758 - accuracy: 0.9260 - val_loss: 0.4169 - val_accuracy: 0.8551 - 121s/epoch - 47ms/step\n",
      "Epoch 3/100\n",
      "2573/2573 - 122s - loss: 0.1761 - accuracy: 0.9263 - val_loss: 0.2565 - val_accuracy: 0.8977 - 122s/epoch - 48ms/step\n",
      "Epoch 4/100\n",
      "2573/2573 - 125s - loss: 0.1750 - accuracy: 0.9271 - val_loss: 0.2034 - val_accuracy: 0.9208 - 125s/epoch - 49ms/step\n",
      "Epoch 5/100\n",
      "2573/2573 - 123s - loss: 0.1721 - accuracy: 0.9297 - val_loss: 0.2352 - val_accuracy: 0.9010 - 123s/epoch - 48ms/step\n",
      "Epoch 6/100\n",
      "2573/2573 - 124s - loss: 0.1699 - accuracy: 0.9313 - val_loss: 0.2244 - val_accuracy: 0.9086 - 124s/epoch - 48ms/step\n",
      "Epoch 6: early stopping\n",
      "2\n",
      "Epoch 1/100\n",
      "2573/2573 - 129s - loss: 0.2186 - accuracy: 0.9043 - val_loss: 0.2647 - val_accuracy: 0.8941 - 129s/epoch - 50ms/step\n",
      "Epoch 2/100\n",
      "2573/2573 - 126s - loss: 0.1801 - accuracy: 0.9246 - val_loss: 0.2387 - val_accuracy: 0.8996 - 126s/epoch - 49ms/step\n",
      "Epoch 3/100\n",
      "2573/2573 - 126s - loss: 0.1743 - accuracy: 0.9285 - val_loss: 0.3161 - val_accuracy: 0.8833 - 126s/epoch - 49ms/step\n",
      "Epoch 4/100\n",
      "2573/2573 - 127s - loss: 0.1704 - accuracy: 0.9310 - val_loss: 0.2673 - val_accuracy: 0.8952 - 127s/epoch - 49ms/step\n",
      "Epoch 4: early stopping\n",
      "3\n",
      "Epoch 1/100\n",
      "2573/2573 - 129s - loss: 0.2190 - accuracy: 0.9029 - val_loss: 0.2408 - val_accuracy: 0.8945 - 129s/epoch - 50ms/step\n",
      "Epoch 2/100\n",
      "2573/2573 - 129s - loss: 0.1780 - accuracy: 0.9252 - val_loss: 0.3006 - val_accuracy: 0.8789 - 129s/epoch - 50ms/step\n",
      "Epoch 3/100\n",
      "2573/2573 - 128s - loss: 0.1768 - accuracy: 0.9261 - val_loss: 0.2191 - val_accuracy: 0.9131 - 128s/epoch - 50ms/step\n",
      "Epoch 4/100\n",
      "2573/2573 - 127s - loss: 0.1703 - accuracy: 0.9299 - val_loss: 0.2145 - val_accuracy: 0.9133 - 127s/epoch - 49ms/step\n",
      "Epoch 5/100\n",
      "2573/2573 - 126s - loss: 0.1683 - accuracy: 0.9322 - val_loss: 0.3199 - val_accuracy: 0.8894 - 126s/epoch - 49ms/step\n",
      "Epoch 6/100\n",
      "2573/2573 - 128s - loss: 0.1661 - accuracy: 0.9326 - val_loss: 0.1995 - val_accuracy: 0.9189 - 128s/epoch - 50ms/step\n",
      "Epoch 7/100\n",
      "2573/2573 - 126s - loss: 0.1631 - accuracy: 0.9333 - val_loss: 0.2801 - val_accuracy: 0.8930 - 126s/epoch - 49ms/step\n",
      "Epoch 8/100\n",
      "2573/2573 - 125s - loss: 0.1590 - accuracy: 0.9363 - val_loss: 0.2797 - val_accuracy: 0.9001 - 125s/epoch - 48ms/step\n",
      "Epoch 8: early stopping\n",
      "4\n",
      "Epoch 1/100\n",
      "2573/2573 - 129s - loss: 0.2185 - accuracy: 0.9044 - val_loss: 0.2431 - val_accuracy: 0.9016 - 129s/epoch - 50ms/step\n",
      "Epoch 2/100\n",
      "2573/2573 - 127s - loss: 0.1784 - accuracy: 0.9238 - val_loss: 0.1850 - val_accuracy: 0.9216 - 127s/epoch - 49ms/step\n",
      "Epoch 3/100\n",
      "2573/2573 - 119s - loss: 0.1760 - accuracy: 0.9275 - val_loss: 0.2686 - val_accuracy: 0.8965 - 119s/epoch - 46ms/step\n",
      "Epoch 4/100\n",
      "2573/2573 - 108s - loss: 0.1741 - accuracy: 0.9283 - val_loss: 0.2050 - val_accuracy: 0.9170 - 108s/epoch - 42ms/step\n",
      "Epoch 4: early stopping\n"
     ]
    }
   ],
   "source": [
    "checkpointer = ModelCheckpoint(filepath=\"models/best_weights_cnn.hdf5\", verbose=0, save_best_only=True) # save best model\n",
    "\n",
    "for i in range(5):\n",
    "    print(i)\n",
    "\n",
    "    model = Sequential()\n",
    "    model.add(tf.keras.layers.Conv2D(64, kernel_size=(3, 3), strides=(1, 1), activation='tanh', input_shape=(1, x_cols, 1), padding='same'))\n",
    "    model.add(tf.keras.layers.MaxPooling2D(pool_size=(1, 1)))\n",
    "    model.add(tf.keras.layers.Conv2D(128, kernel_size=(3, 3), strides=(1, 1), activation='tanh', padding='same'))\n",
    "    model.add(tf.keras.layers.MaxPooling2D(pool_size=(1, 1)))\n",
    "    model.add(tf.keras.layers.Flatten())\n",
    "    model.add(tf.keras.layers.Dense(1024, activation='tanh'))\n",
    "    model.add(Dropout(0.5))\n",
    "    model.add(tf.keras.layers.Dense(2, activation='sigmoid'))\n",
    "    model.compile(loss='binary_crossentropy', optimizer='adam', metrics=['accuracy'])\n",
    "    monitor = EarlyStopping(monitor='val_loss', min_delta=1e-3, patience=2, verbose=2, mode='auto')\n",
    "    model.fit(x_train, y_train_one_hot, validation_data=(x_test, y_test_one_hot),callbacks=[monitor, checkpointer], verbose=2, epochs=100)"
   ]
  },
  {
   "cell_type": "markdown",
   "metadata": {},
   "source": [
    "### *Model:  relu and sgd*"
   ]
  },
  {
   "cell_type": "code",
   "execution_count": null,
   "metadata": {},
   "outputs": [
    {
     "name": "stdout",
     "output_type": "stream",
     "text": [
      "0\n",
      "Epoch 1/100\n",
      "2573/2573 - 44s - loss: 0.4910 - accuracy: 0.7385 - val_loss: 0.2639 - val_accuracy: 0.8899 - 44s/epoch - 17ms/step\n",
      "Epoch 2/100\n",
      "2573/2573 - 43s - loss: 0.2756 - accuracy: 0.8727 - val_loss: 0.3097 - val_accuracy: 0.8607 - 43s/epoch - 17ms/step\n",
      "Epoch 3/100\n",
      "2573/2573 - 43s - loss: 0.2132 - accuracy: 0.9074 - val_loss: 0.2915 - val_accuracy: 0.8759 - 43s/epoch - 17ms/step\n",
      "Epoch 3: early stopping\n",
      "1\n",
      "Epoch 1/100\n",
      "2573/2573 - 43s - loss: 0.4725 - accuracy: 0.7491 - val_loss: 0.3928 - val_accuracy: 0.8040 - 43s/epoch - 17ms/step\n",
      "Epoch 2/100\n",
      "2573/2573 - 43s - loss: 0.2743 - accuracy: 0.8719 - val_loss: 0.2609 - val_accuracy: 0.8871 - 43s/epoch - 17ms/step\n",
      "Epoch 3/100\n",
      "2573/2573 - 43s - loss: 0.2154 - accuracy: 0.9047 - val_loss: 0.2788 - val_accuracy: 0.8795 - 43s/epoch - 17ms/step\n",
      "Epoch 4/100\n",
      "2573/2573 - 42s - loss: 0.1883 - accuracy: 0.9213 - val_loss: 0.1920 - val_accuracy: 0.9207 - 42s/epoch - 17ms/step\n",
      "Epoch 5/100\n",
      "2573/2573 - 43s - loss: 0.1680 - accuracy: 0.9307 - val_loss: 0.2635 - val_accuracy: 0.8878 - 43s/epoch - 17ms/step\n",
      "Epoch 6/100\n",
      "2573/2573 - 42s - loss: 0.1540 - accuracy: 0.9370 - val_loss: 0.2029 - val_accuracy: 0.9164 - 42s/epoch - 17ms/step\n",
      "Epoch 6: early stopping\n",
      "2\n",
      "Epoch 1/100\n",
      "2573/2573 - 42s - loss: 0.4796 - accuracy: 0.7463 - val_loss: 0.2093 - val_accuracy: 0.9297 - 42s/epoch - 16ms/step\n",
      "Epoch 2/100\n",
      "2573/2573 - 42s - loss: 0.2766 - accuracy: 0.8707 - val_loss: 0.2490 - val_accuracy: 0.8975 - 42s/epoch - 16ms/step\n",
      "Epoch 3/100\n",
      "2573/2573 - 42s - loss: 0.2138 - accuracy: 0.9071 - val_loss: 0.2795 - val_accuracy: 0.8813 - 42s/epoch - 16ms/step\n",
      "Epoch 3: early stopping\n",
      "3\n",
      "Epoch 1/100\n",
      "2573/2573 - 43s - loss: 0.4698 - accuracy: 0.7501 - val_loss: 0.2828 - val_accuracy: 0.8759 - 43s/epoch - 17ms/step\n",
      "Epoch 2/100\n",
      "2573/2573 - 42s - loss: 0.2784 - accuracy: 0.8683 - val_loss: 0.2577 - val_accuracy: 0.8906 - 42s/epoch - 16ms/step\n",
      "Epoch 3/100\n",
      "2573/2573 - 42s - loss: 0.2205 - accuracy: 0.9042 - val_loss: 0.2446 - val_accuracy: 0.9015 - 42s/epoch - 16ms/step\n",
      "Epoch 4/100\n",
      "2573/2573 - 43s - loss: 0.1928 - accuracy: 0.9179 - val_loss: 0.2373 - val_accuracy: 0.9050 - 43s/epoch - 17ms/step\n",
      "Epoch 5/100\n",
      "2573/2573 - 42s - loss: 0.1727 - accuracy: 0.9273 - val_loss: 0.2296 - val_accuracy: 0.9076 - 42s/epoch - 16ms/step\n",
      "Epoch 6/100\n",
      "2573/2573 - 42s - loss: 0.1578 - accuracy: 0.9354 - val_loss: 0.2183 - val_accuracy: 0.9122 - 42s/epoch - 16ms/step\n",
      "Epoch 7/100\n",
      "2573/2573 - 42s - loss: 0.1465 - accuracy: 0.9406 - val_loss: 0.2894 - val_accuracy: 0.8870 - 42s/epoch - 16ms/step\n",
      "Epoch 8/100\n",
      "2573/2573 - 42s - loss: 0.1386 - accuracy: 0.9446 - val_loss: 0.2528 - val_accuracy: 0.9006 - 42s/epoch - 16ms/step\n",
      "Epoch 8: early stopping\n",
      "4\n",
      "Epoch 1/100\n",
      "2573/2573 - 43s - loss: 0.4692 - accuracy: 0.7524 - val_loss: 0.2488 - val_accuracy: 0.9186 - 43s/epoch - 17ms/step\n",
      "Epoch 2/100\n",
      "2573/2573 - 42s - loss: 0.2755 - accuracy: 0.8705 - val_loss: 0.3517 - val_accuracy: 0.8374 - 42s/epoch - 16ms/step\n",
      "Epoch 3/100\n",
      "2573/2573 - 43s - loss: 0.2179 - accuracy: 0.9051 - val_loss: 0.3239 - val_accuracy: 0.8572 - 43s/epoch - 17ms/step\n",
      "Epoch 3: early stopping\n"
     ]
    }
   ],
   "source": [
    "checkpointer = ModelCheckpoint(filepath=\"models/best_weights_cnn.hdf5\", verbose=0, save_best_only=True) # save best model\n",
    "\n",
    "for i in range(5):\n",
    "    print(i)\n",
    "\n",
    "    model = Sequential()\n",
    "    model.add(tf.keras.layers.Conv2D(64, kernel_size=(3, 3), strides=(1, 1), activation='relu', input_shape=(1, x_cols, 1), padding='same'))\n",
    "    model.add(tf.keras.layers.MaxPooling2D(pool_size=(1, 1)))\n",
    "    model.add(tf.keras.layers.Conv2D(128, kernel_size=(3, 3), strides=(1, 1), activation='relu', padding='same'))\n",
    "    model.add(tf.keras.layers.MaxPooling2D(pool_size=(1, 1)))\n",
    "    model.add(tf.keras.layers.Flatten())\n",
    "    model.add(tf.keras.layers.Dense(1024, activation='relu'))\n",
    "    model.add(Dropout(0.5))\n",
    "    model.add(tf.keras.layers.Dense(2, activation='sigmoid'))\n",
    "    model.compile(loss='binary_crossentropy', optimizer='sgd', metrics=['accuracy'])\n",
    "    monitor = EarlyStopping(monitor='val_loss', min_delta=1e-3, patience=2, verbose=2, mode='auto')\n",
    "    model.fit(x_train, y_train_one_hot, validation_data=(x_test, y_test_one_hot),callbacks=[monitor, checkpointer], verbose=2, epochs=100)"
   ]
  },
  {
   "cell_type": "markdown",
   "metadata": {},
   "source": [
    "### *Model:  sigmoid and sgd*"
   ]
  },
  {
   "cell_type": "code",
   "execution_count": null,
   "metadata": {},
   "outputs": [
    {
     "name": "stdout",
     "output_type": "stream",
     "text": [
      "0\n",
      "Epoch 1/100\n",
      "2573/2573 - 44s - loss: 0.7129 - accuracy: 0.5254 - val_loss: 0.6580 - val_accuracy: 0.6806 - 44s/epoch - 17ms/step\n",
      "Epoch 2/100\n",
      "2573/2573 - 43s - loss: 0.6936 - accuracy: 0.5376 - val_loss: 0.6674 - val_accuracy: 0.6806 - 43s/epoch - 17ms/step\n",
      "Epoch 3/100\n",
      "2573/2573 - 43s - loss: 0.6907 - accuracy: 0.5435 - val_loss: 0.6712 - val_accuracy: 0.6806 - 43s/epoch - 17ms/step\n",
      "Epoch 3: early stopping\n",
      "1\n",
      "Epoch 1/100\n",
      "2573/2573 - 44s - loss: 0.7113 - accuracy: 0.5277 - val_loss: 0.6750 - val_accuracy: 0.6806 - 44s/epoch - 17ms/step\n",
      "Epoch 2/100\n",
      "2573/2573 - 43s - loss: 0.6936 - accuracy: 0.5392 - val_loss: 0.6640 - val_accuracy: 0.6806 - 43s/epoch - 17ms/step\n",
      "Epoch 3/100\n",
      "2573/2573 - 43s - loss: 0.6909 - accuracy: 0.5442 - val_loss: 0.6522 - val_accuracy: 0.6806 - 43s/epoch - 17ms/step\n",
      "Epoch 4/100\n",
      "2573/2573 - 43s - loss: 0.6900 - accuracy: 0.5464 - val_loss: 0.6722 - val_accuracy: 0.6806 - 43s/epoch - 17ms/step\n",
      "Epoch 5/100\n",
      "2573/2573 - 43s - loss: 0.6893 - accuracy: 0.5471 - val_loss: 0.6622 - val_accuracy: 0.6806 - 43s/epoch - 17ms/step\n",
      "Epoch 5: early stopping\n",
      "2\n",
      "Epoch 1/100\n",
      "2573/2573 - 44s - loss: 0.7124 - accuracy: 0.5267 - val_loss: 0.6566 - val_accuracy: 0.6806 - 44s/epoch - 17ms/step\n",
      "Epoch 2/100\n",
      "2573/2573 - 43s - loss: 0.6940 - accuracy: 0.5403 - val_loss: 0.6653 - val_accuracy: 0.6806 - 43s/epoch - 17ms/step\n",
      "Epoch 3/100\n",
      "2573/2573 - 44s - loss: 0.6911 - accuracy: 0.5438 - val_loss: 0.6633 - val_accuracy: 0.6806 - 44s/epoch - 17ms/step\n",
      "Epoch 3: early stopping\n",
      "3\n",
      "Epoch 1/100\n",
      "2573/2573 - 45s - loss: 0.7127 - accuracy: 0.5247 - val_loss: 0.6687 - val_accuracy: 0.6806 - 45s/epoch - 17ms/step\n",
      "Epoch 2/100\n",
      "2573/2573 - 44s - loss: 0.6937 - accuracy: 0.5371 - val_loss: 0.6771 - val_accuracy: 0.6806 - 44s/epoch - 17ms/step\n",
      "Epoch 3/100\n",
      "2573/2573 - 44s - loss: 0.6910 - accuracy: 0.5438 - val_loss: 0.6468 - val_accuracy: 0.6806 - 44s/epoch - 17ms/step\n",
      "Epoch 4/100\n",
      "2573/2573 - 44s - loss: 0.6900 - accuracy: 0.5453 - val_loss: 0.6786 - val_accuracy: 0.6806 - 44s/epoch - 17ms/step\n",
      "Epoch 5/100\n",
      "2573/2573 - 44s - loss: 0.6896 - accuracy: 0.5476 - val_loss: 0.6691 - val_accuracy: 0.6806 - 44s/epoch - 17ms/step\n",
      "Epoch 5: early stopping\n",
      "4\n",
      "Epoch 1/100\n",
      "2573/2573 - 44s - loss: 0.7119 - accuracy: 0.5252 - val_loss: 0.6696 - val_accuracy: 0.6806 - 44s/epoch - 17ms/step\n",
      "Epoch 2/100\n",
      "2573/2573 - 44s - loss: 0.6938 - accuracy: 0.5374 - val_loss: 0.6681 - val_accuracy: 0.6806 - 44s/epoch - 17ms/step\n",
      "Epoch 3/100\n",
      "2573/2573 - 43s - loss: 0.6907 - accuracy: 0.5435 - val_loss: 0.6654 - val_accuracy: 0.6806 - 43s/epoch - 17ms/step\n",
      "Epoch 4/100\n",
      "2573/2573 - 44s - loss: 0.6895 - accuracy: 0.5468 - val_loss: 0.6703 - val_accuracy: 0.6806 - 44s/epoch - 17ms/step\n",
      "Epoch 5/100\n",
      "2573/2573 - 43s - loss: 0.6892 - accuracy: 0.5469 - val_loss: 0.6690 - val_accuracy: 0.6806 - 43s/epoch - 17ms/step\n",
      "Epoch 5: early stopping\n"
     ]
    }
   ],
   "source": [
    "checkpointer = ModelCheckpoint(filepath=\"models/best_weights_cnn.hdf5\", verbose=0, save_best_only=True) # save best model\n",
    "\n",
    "for i in range(5):\n",
    "    print(i)\n",
    "\n",
    "    model = Sequential()\n",
    "    model.add(tf.keras.layers.Conv2D(64, kernel_size=(3, 3), strides=(1, 1), activation='sigmoid', input_shape=(1, x_cols, 1), padding='same'))\n",
    "    model.add(tf.keras.layers.MaxPooling2D(pool_size=(1, 1)))\n",
    "    model.add(tf.keras.layers.Conv2D(128, kernel_size=(3, 3), strides=(1, 1), activation='sigmoid', padding='same'))\n",
    "    model.add(tf.keras.layers.MaxPooling2D(pool_size=(1, 1)))\n",
    "    model.add(tf.keras.layers.Flatten())\n",
    "    model.add(tf.keras.layers.Dense(1024, activation='sigmoid'))\n",
    "    model.add(Dropout(0.5))\n",
    "    model.add(tf.keras.layers.Dense(2, activation='sigmoid'))\n",
    "    model.compile(loss='binary_crossentropy', optimizer='sgd', metrics=['accuracy'])\n",
    "    monitor = EarlyStopping(monitor='val_loss', min_delta=1e-3, patience=2, verbose=2, mode='auto')\n",
    "    model.fit(x_train, y_train_one_hot, validation_data=(x_test, y_test_one_hot),callbacks=[monitor, checkpointer], verbose=2, epochs=100)"
   ]
  },
  {
   "cell_type": "markdown",
   "metadata": {},
   "source": [
    "### *Model:  tanh and sgd*"
   ]
  },
  {
   "cell_type": "code",
   "execution_count": null,
   "metadata": {},
   "outputs": [
    {
     "name": "stdout",
     "output_type": "stream",
     "text": [
      "0\n",
      "Epoch 1/100\n",
      "2573/2573 - 44s - loss: 0.3620 - accuracy: 0.8303 - val_loss: 0.4124 - val_accuracy: 0.8269 - 44s/epoch - 17ms/step\n",
      "Epoch 2/100\n",
      "2573/2573 - 43s - loss: 0.2487 - accuracy: 0.8875 - val_loss: 0.6025 - val_accuracy: 0.7455 - 43s/epoch - 17ms/step\n",
      "Epoch 3/100\n",
      "2573/2573 - 43s - loss: 0.2345 - accuracy: 0.8933 - val_loss: 0.5007 - val_accuracy: 0.7969 - 43s/epoch - 17ms/step\n",
      "Epoch 3: early stopping\n",
      "1\n",
      "Epoch 1/100\n",
      "2573/2573 - 44s - loss: 0.3692 - accuracy: 0.8247 - val_loss: 0.3974 - val_accuracy: 0.8243 - 44s/epoch - 17ms/step\n",
      "Epoch 2/100\n",
      "2573/2573 - 43s - loss: 0.2475 - accuracy: 0.8871 - val_loss: 0.6459 - val_accuracy: 0.7054 - 43s/epoch - 17ms/step\n",
      "Epoch 3/100\n",
      "2573/2573 - 43s - loss: 0.2320 - accuracy: 0.8949 - val_loss: 0.5534 - val_accuracy: 0.7624 - 43s/epoch - 17ms/step\n",
      "Epoch 3: early stopping\n",
      "2\n",
      "Epoch 1/100\n",
      "2573/2573 - 44s - loss: 0.3647 - accuracy: 0.8292 - val_loss: 0.4116 - val_accuracy: 0.8305 - 44s/epoch - 17ms/step\n",
      "Epoch 2/100\n",
      "2573/2573 - 45s - loss: 0.2499 - accuracy: 0.8868 - val_loss: 0.5555 - val_accuracy: 0.7826 - 45s/epoch - 17ms/step\n",
      "Epoch 3/100\n",
      "2573/2573 - 44s - loss: 0.2363 - accuracy: 0.8929 - val_loss: 0.6088 - val_accuracy: 0.7679 - 44s/epoch - 17ms/step\n",
      "Epoch 3: early stopping\n",
      "3\n",
      "Epoch 1/100\n",
      "2573/2573 - 44s - loss: 0.3630 - accuracy: 0.8292 - val_loss: 0.3560 - val_accuracy: 0.8504 - 44s/epoch - 17ms/step\n",
      "Epoch 2/100\n",
      "2573/2573 - 43s - loss: 0.2486 - accuracy: 0.8867 - val_loss: 0.6484 - val_accuracy: 0.7643 - 43s/epoch - 17ms/step\n",
      "Epoch 3/100\n",
      "2573/2573 - 43s - loss: 0.2344 - accuracy: 0.8945 - val_loss: 0.5959 - val_accuracy: 0.7801 - 43s/epoch - 17ms/step\n",
      "Epoch 3: early stopping\n",
      "4\n",
      "Epoch 1/100\n",
      "2573/2573 - 45s - loss: 0.3645 - accuracy: 0.8312 - val_loss: 0.6558 - val_accuracy: 0.6764 - 45s/epoch - 17ms/step\n",
      "Epoch 2/100\n",
      "2573/2573 - 44s - loss: 0.2494 - accuracy: 0.8869 - val_loss: 0.5943 - val_accuracy: 0.7525 - 44s/epoch - 17ms/step\n",
      "Epoch 3/100\n",
      "2573/2573 - 44s - loss: 0.2335 - accuracy: 0.8940 - val_loss: 0.5205 - val_accuracy: 0.8031 - 44s/epoch - 17ms/step\n",
      "Epoch 4/100\n",
      "2573/2573 - 44s - loss: 0.2207 - accuracy: 0.9013 - val_loss: 0.4919 - val_accuracy: 0.8123 - 44s/epoch - 17ms/step\n",
      "Epoch 5/100\n",
      "2573/2573 - 43s - loss: 0.2096 - accuracy: 0.9079 - val_loss: 0.4947 - val_accuracy: 0.8077 - 43s/epoch - 17ms/step\n",
      "Epoch 6/100\n",
      "2573/2573 - 43s - loss: 0.1979 - accuracy: 0.9149 - val_loss: 0.5163 - val_accuracy: 0.8021 - 43s/epoch - 17ms/step\n",
      "Epoch 6: early stopping\n"
     ]
    }
   ],
   "source": [
    "checkpointer = ModelCheckpoint(filepath=\"models/best_weights_cnn.hdf5\", verbose=0, save_best_only=True) # save best model\n",
    "\n",
    "for i in range(5):\n",
    "    print(i)\n",
    "\n",
    "    model = Sequential()\n",
    "    model.add(tf.keras.layers.Conv2D(64, kernel_size=(3, 3), strides=(1, 1), activation='tanh', input_shape=(1, x_cols, 1), padding='same'))\n",
    "    model.add(tf.keras.layers.MaxPooling2D(pool_size=(1, 1)))\n",
    "    model.add(tf.keras.layers.Conv2D(128, kernel_size=(3, 3), strides=(1, 1), activation='tanh', padding='same'))\n",
    "    model.add(tf.keras.layers.MaxPooling2D(pool_size=(1, 1)))\n",
    "    model.add(tf.keras.layers.Flatten())\n",
    "    model.add(tf.keras.layers.Dense(1024, activation='tanh'))\n",
    "    model.add(Dropout(0.5))\n",
    "    model.add(tf.keras.layers.Dense(2, activation='sigmoid'))\n",
    "    model.compile(loss='binary_crossentropy', optimizer='sgd', metrics=['accuracy'])\n",
    "    monitor = EarlyStopping(monitor='val_loss', min_delta=1e-3, patience=2, verbose=2, mode='auto')\n",
    "    model.fit(x_train, y_train_one_hot, validation_data=(x_test, y_test_one_hot),callbacks=[monitor, checkpointer], verbose=2, epochs=100)"
   ]
  },
  {
   "cell_type": "markdown",
   "metadata": {},
   "source": [
    "### *Load best model*"
   ]
  },
  {
   "cell_type": "code",
   "execution_count": null,
   "metadata": {},
   "outputs": [],
   "source": [
    "model.load_weights('models/best_weights_cnn.hdf5')"
   ]
  },
  {
   "cell_type": "markdown",
   "metadata": {},
   "source": [
    "### *Weights for best model*"
   ]
  },
  {
   "cell_type": "code",
   "execution_count": null,
   "metadata": {},
   "outputs": [
    {
     "data": {
      "text/plain": [
       "[<tf.Variable 'conv2d/kernel:0' shape=(3, 3, 1, 64) dtype=float32, numpy=\n",
       " array([[[[ 0.09204026, -0.05534691, -0.07145887, -0.01436912,\n",
       "           -0.05561787, -0.03992249,  0.04118438, -0.06215625,\n",
       "            0.05777709,  0.07576653,  0.04493584, -0.0352082 ,\n",
       "           -0.04911143,  0.09359516, -0.0023371 , -0.05447496,\n",
       "           -0.07898679, -0.0630824 , -0.03648166, -0.08370807,\n",
       "           -0.06412257, -0.03240422,  0.06905097,  0.0837242 ,\n",
       "            0.05876957, -0.02069709,  0.00948132,  0.07618694,\n",
       "           -0.01656149,  0.00164912, -0.04631991, -0.00448644,\n",
       "            0.03279036,  0.05758028,  0.00731314,  0.05706261,\n",
       "           -0.01644928,  0.05064836,  0.04119064,  0.02954207,\n",
       "            0.06798781,  0.01700602, -0.0128668 , -0.0842597 ,\n",
       "            0.09456094,  0.03787723, -0.02316501,  0.05688711,\n",
       "           -0.06920862,  0.07138856,  0.05214219, -0.01671819,\n",
       "            0.00111966, -0.0103896 , -0.095091  , -0.09914285,\n",
       "            0.00120562,  0.02883898, -0.08768541,  0.00910999,\n",
       "           -0.02983484, -0.0137153 ,  0.00886271, -0.09283552]],\n",
       " \n",
       "         [[ 0.07292676, -0.06917267, -0.01119506,  0.03001833,\n",
       "            0.04596661, -0.09245462, -0.05011731,  0.03972335,\n",
       "            0.04436047,  0.02191707,  0.02409539, -0.08111633,\n",
       "            0.01631228, -0.06054419,  0.07190122,  0.04677713,\n",
       "            0.06861348,  0.08420885,  0.0322935 ,  0.07446958,\n",
       "           -0.06004839,  0.04211006, -0.00620479, -0.02713392,\n",
       "            0.01409864,  0.09846064,  0.07663718, -0.0648565 ,\n",
       "           -0.03826033,  0.08415769,  0.02352107,  0.0436333 ,\n",
       "           -0.08344701,  0.08898301, -0.08875667,  0.08172055,\n",
       "           -0.09624193, -0.01302133, -0.02876391,  0.04581054,\n",
       "           -0.00164345,  0.03990223, -0.00469071, -0.06544413,\n",
       "           -0.09460461,  0.050319  , -0.07019497,  0.04507643,\n",
       "            0.06204496, -0.01358774, -0.09709641, -0.05757228,\n",
       "            0.03493808,  0.07435052,  0.08211845, -0.03981349,\n",
       "           -0.09957218, -0.0225161 ,  0.09959352,  0.08715025,\n",
       "            0.01938091,  0.05456927, -0.05215005,  0.05336379]],\n",
       " \n",
       "         [[-0.03982347,  0.07747008, -0.02996694, -0.01607271,\n",
       "           -0.02340087, -0.06455613,  0.05026226, -0.08770414,\n",
       "            0.0196928 ,  0.06806639,  0.04289205,  0.06415434,\n",
       "            0.01453359,  0.07669815,  0.04782887, -0.06072531,\n",
       "            0.03734788, -0.06935048,  0.04227576,  0.02076791,\n",
       "           -0.07643872,  0.07192874, -0.00198689, -0.08268473,\n",
       "            0.01553909, -0.02178458,  0.08183438,  0.02101456,\n",
       "            0.03042018, -0.03379223,  0.03428409, -0.04477947,\n",
       "            0.05962111,  0.00912877, -0.08153086,  0.07037771,\n",
       "            0.0781624 ,  0.08415058,  0.08172183, -0.05689606,\n",
       "           -0.02601451, -0.08093821,  0.0789333 , -0.03379228,\n",
       "           -0.07291526,  0.05849977, -0.00660725, -0.08311629,\n",
       "            0.01161429,  0.01093762,  0.02500282,  0.04249042,\n",
       "            0.07088727, -0.07473767, -0.08583117, -0.03379866,\n",
       "           -0.02656148,  0.01873835, -0.01201975, -0.06538971,\n",
       "           -0.08463615, -0.02089629,  0.09941673,  0.02261317]]],\n",
       " \n",
       " \n",
       "        [[[-0.12433887,  0.11517088,  0.11620924,  0.01220188,\n",
       "           -0.07255952,  0.09628846,  0.19694537, -0.0534612 ,\n",
       "           -0.04817693, -0.16296221, -0.17279527, -0.00081767,\n",
       "            0.17380758, -0.13419123, -0.14636667,  0.11987042,\n",
       "            0.00871424, -0.16213372,  0.00668141, -0.26938227,\n",
       "           -0.01480325,  0.18727471, -0.17774253,  0.26198068,\n",
       "           -0.2087634 , -0.21158129, -0.04250551, -0.14512683,\n",
       "           -0.11128356,  0.00969887,  0.15086237, -0.12795494,\n",
       "           -0.14661288, -0.22110906,  0.06901634,  0.08738887,\n",
       "            0.02761571, -0.00916323, -0.08538431,  0.07908915,\n",
       "           -0.21391366,  0.15350723,  0.05921531,  0.03855786,\n",
       "            0.23026499, -0.00404145, -0.10605947,  0.12921202,\n",
       "           -0.01259904, -0.09227908,  0.01303701,  0.14177941,\n",
       "           -0.1364929 ,  0.00906623, -0.20967507,  0.14260487,\n",
       "            0.16648905,  0.01368597,  0.13341196, -0.14192821,\n",
       "           -0.2507137 ,  0.20963682,  0.04965173, -0.24638885]],\n",
       " \n",
       "         [[-0.18379647, -0.03551248,  0.11637916, -0.10910916,\n",
       "            0.1969045 ,  0.2352031 ,  0.10770586,  0.04065289,\n",
       "           -0.03197499, -0.10071587,  0.12335037, -0.216955  ,\n",
       "            0.01362376, -0.17289379, -0.09705114,  0.18240051,\n",
       "           -0.12348992, -0.13256037, -0.18900512, -0.03693968,\n",
       "           -0.10975005, -0.03265285, -0.12694281,  0.01454294,\n",
       "            0.10854121, -0.10346075, -0.09917786, -0.027128  ,\n",
       "            0.10229536,  0.03671343,  0.23683919, -0.18598299,\n",
       "           -0.22136424,  0.04365421, -0.00796734,  0.19939446,\n",
       "            0.16409929,  0.22607405, -0.04707694,  0.10138959,\n",
       "           -0.09980407,  0.03608445, -0.16154702,  0.2026829 ,\n",
       "           -0.00948693, -0.2023699 , -0.16721094, -0.01192123,\n",
       "            0.07869796,  0.00616725,  0.00795676, -0.15577775,\n",
       "            0.01292022, -0.14123718, -0.0588638 , -0.06471565,\n",
       "           -0.085926  ,  0.01078158, -0.12130976,  0.1442327 ,\n",
       "           -0.14558737,  0.01090682,  0.12365968, -0.06278098]],\n",
       " \n",
       "         [[ 0.00747369, -0.17480762,  0.08125482, -0.05048472,\n",
       "            0.00435247, -0.18652125, -0.19455937, -0.01402532,\n",
       "            0.06240276, -0.1939153 ,  0.11854227, -0.19841136,\n",
       "           -0.08799627,  0.01060261,  0.23580442,  0.04154604,\n",
       "           -0.13763572,  0.06531365,  0.13967745,  0.02266932,\n",
       "            0.16422676, -0.00214445,  0.10906336, -0.06104526,\n",
       "            0.01480108, -0.01326427, -0.16798109,  0.04549322,\n",
       "           -0.09514938, -0.04370236, -0.09194902, -0.08232733,\n",
       "            0.01162915,  0.14826919,  0.06151723, -0.01580796,\n",
       "            0.08992881, -0.15004157,  0.17701006, -0.15415177,\n",
       "            0.13343962,  0.11064617,  0.10821432,  0.18520944,\n",
       "            0.06119295, -0.3040522 ,  0.09463453,  0.01192052,\n",
       "           -0.07106468, -0.0864253 ,  0.07971418,  0.02751928,\n",
       "            0.03104713, -0.02600835, -0.00379365,  0.20833074,\n",
       "           -0.00516205, -0.02888132, -0.06615988, -0.09979624,\n",
       "           -0.10227676,  0.01146144, -0.00512143,  0.13640317]]],\n",
       " \n",
       " \n",
       "        [[[ 0.02787435, -0.08835074,  0.09913319,  0.09512514,\n",
       "            0.10093631,  0.07864994,  0.03889559, -0.04568396,\n",
       "            0.06013797,  0.05282918, -0.09713746, -0.10045055,\n",
       "           -0.06007623,  0.06031638, -0.03915231,  0.03874336,\n",
       "           -0.08288574,  0.02707331,  0.07569009,  0.00354931,\n",
       "            0.00290749, -0.01849521,  0.08183275, -0.07063287,\n",
       "            0.08961426,  0.098153  , -0.02911031, -0.06214328,\n",
       "           -0.06657011,  0.05079418,  0.09105161,  0.0783454 ,\n",
       "            0.09582835, -0.06508912, -0.099867  , -0.03265136,\n",
       "           -0.04715955,  0.00172448, -0.01817465, -0.06713958,\n",
       "            0.06698132, -0.00220041, -0.02450142,  0.09491199,\n",
       "           -0.06411153,  0.09586728,  0.09687133,  0.10002057,\n",
       "            0.06403069, -0.01997753, -0.09863787, -0.07445237,\n",
       "           -0.04007328,  0.09621915, -0.04865558,  0.0373631 ,\n",
       "           -0.01376083, -0.05026942, -0.0232325 ,  0.0902213 ,\n",
       "            0.03309672,  0.05120814,  0.03507991,  0.03064297]],\n",
       " \n",
       "         [[ 0.06128983, -0.04505883, -0.030416  , -0.05655373,\n",
       "           -0.05092787, -0.06756752,  0.02063999, -0.08132748,\n",
       "           -0.01913214,  0.01415755, -0.04316485,  0.09600595,\n",
       "           -0.04266414,  0.07539071, -0.04705063,  0.04861471,\n",
       "           -0.07611923, -0.03751225,  0.03100206, -0.06624214,\n",
       "           -0.02137814, -0.05569332,  0.05091305, -0.09408749,\n",
       "           -0.05732081, -0.0251324 , -0.02203973, -0.0621048 ,\n",
       "            0.10061724,  0.07873067,  0.0019415 , -0.05292093,\n",
       "            0.07877067, -0.05275748,  0.07061011,  0.0385609 ,\n",
       "            0.06842983, -0.05692477, -0.09429171,  0.05004276,\n",
       "            0.03310442,  0.02412605, -0.04815601, -0.08156669,\n",
       "           -0.09368544, -0.02072133,  0.03133544, -0.06170234,\n",
       "            0.07787353,  0.02912329,  0.01827002,  0.03579371,\n",
       "            0.09846552,  0.00622239,  0.09425487, -0.04766762,\n",
       "            0.04400487, -0.03456728,  0.06569701,  0.025573  ,\n",
       "            0.08983876, -0.02884942,  0.01797304,  0.01271772]],\n",
       " \n",
       "         [[ 0.06288518,  0.01569845, -0.02572775, -0.0901562 ,\n",
       "           -0.05029454, -0.00110121, -0.07491176,  0.05239603,\n",
       "           -0.09932583, -0.00584758, -0.07210522,  0.06011684,\n",
       "           -0.02799377, -0.0786833 ,  0.08647218,  0.08372973,\n",
       "           -0.00944433, -0.01212802, -0.00428919, -0.00660618,\n",
       "            0.08315331,  0.06536546, -0.01198787,  0.07311834,\n",
       "            0.096692  , -0.00614274,  0.07209621,  0.08129051,\n",
       "            0.02037033,  0.035171  , -0.02239288,  0.06337176,\n",
       "            0.04175545, -0.03606617, -0.07789961,  0.09354834,\n",
       "           -0.08464967,  0.03504273, -0.07184083,  0.07455625,\n",
       "           -0.08322185,  0.02026812,  0.06242429, -0.01690706,\n",
       "            0.05897138, -0.05640279, -0.04871244,  0.01797115,\n",
       "           -0.01071142,  0.08572572,  0.06670114, -0.08710948,\n",
       "            0.06830014,  0.0398201 , -0.0705268 , -0.00194618,\n",
       "            0.03640068,  0.02262179,  0.08565135,  0.02488211,\n",
       "            0.01325221,  0.07321654, -0.01976992,  0.03963472]]]],\n",
       "       dtype=float32)>,\n",
       " <tf.Variable 'conv2d/bias:0' shape=(64,) dtype=float32, numpy=\n",
       " array([-1.7630876e-03, -7.1640415e-03,  3.9920835e-03, -9.9541489e-03,\n",
       "         9.9706389e-03,  4.2355312e-03,  4.0808311e-04, -3.2173696e-03,\n",
       "         4.9559074e-03, -1.7497320e-02,  3.5878450e-03, -1.9818505e-02,\n",
       "        -3.8880368e-03, -6.5002763e-03,  3.2419164e-03,  1.1412663e-04,\n",
       "        -1.2590530e-02, -2.3669635e-03, -9.6874731e-03, -1.4863894e-03,\n",
       "        -2.7357356e-04, -1.2066320e-03, -3.0251252e-03, -5.7910732e-03,\n",
       "         7.0102704e-03, -8.4528644e-03, -5.9034379e-04,  2.0874750e-03,\n",
       "        -4.5752255e-03,  1.3901937e-03,  7.0461072e-03, -3.0212591e-03,\n",
       "        -1.1466625e-02,  4.5478297e-03, -8.9945609e-04,  5.0707217e-03,\n",
       "        -1.7369821e-03,  7.5338469e-03,  3.8319856e-03,  5.6772458e-04,\n",
       "        -2.6153333e-03,  5.7844282e-04,  5.9217517e-03,  1.4270196e-02,\n",
       "        -5.7606143e-03, -4.0040046e-02,  1.0522153e-03, -8.7678438e-04,\n",
       "        -1.8901695e-03,  1.7359359e-03, -7.7736205e-03,  2.9647941e-05,\n",
       "         4.7130734e-03, -5.2031851e-03, -1.6492843e-03, -3.5603117e-04,\n",
       "         9.3039460e-03, -1.1515198e-03, -1.5821030e-03, -3.3294503e-03,\n",
       "        -1.8717267e-02, -4.5797415e-03,  2.1960558e-03,  9.8981522e-03],\n",
       "       dtype=float32)>,\n",
       " <tf.Variable 'conv2d_1/kernel:0' shape=(3, 3, 64, 128) dtype=float32, numpy=\n",
       " array([[[[ 9.44658741e-03,  5.09798713e-02,  3.67985703e-02, ...,\n",
       "            2.24624462e-02,  1.46151371e-02, -1.78329088e-02],\n",
       "          [ 8.17747042e-03, -2.06829049e-02,  2.76396610e-02, ...,\n",
       "            3.18052657e-02, -4.80986573e-02,  1.93640850e-02],\n",
       "          [ 4.48730215e-03,  1.92551129e-02,  5.89134283e-02, ...,\n",
       "           -4.06386666e-02, -5.76487966e-02,  3.83261554e-02],\n",
       "          ...,\n",
       "          [-2.14704908e-02,  4.66727428e-02,  4.00178842e-02, ...,\n",
       "            9.40101221e-03, -4.63241488e-02, -4.32861894e-02],\n",
       "          [ 4.93732207e-02,  1.07093863e-02, -2.63568126e-02, ...,\n",
       "            4.37772311e-02, -3.94940972e-02,  1.34199858e-03],\n",
       "          [-8.04990530e-04,  4.04036827e-02,  1.50057413e-02, ...,\n",
       "           -2.52517238e-02, -2.78386846e-03,  4.93375398e-02]],\n",
       " \n",
       "         [[ 2.60469206e-02,  5.06294630e-02, -5.26452921e-02, ...,\n",
       "           -1.28183030e-02, -4.55442779e-02,  4.41745035e-02],\n",
       "          [ 3.18647288e-02, -4.02425826e-02, -5.67790680e-02, ...,\n",
       "            4.83654477e-02, -5.37578687e-02, -3.49760689e-02],\n",
       "          [-2.82614157e-02,  5.01864143e-02,  4.19796221e-02, ...,\n",
       "            3.32921483e-02, -2.22096331e-02,  5.03924452e-02],\n",
       "          ...,\n",
       "          [ 5.46444692e-02, -1.74939334e-02,  3.08077000e-02, ...,\n",
       "            8.70439038e-03,  1.26046352e-02, -5.48904687e-02],\n",
       "          [ 3.67297269e-02,  5.89224584e-02, -3.38098221e-02, ...,\n",
       "            5.35032637e-02,  1.14053003e-02,  1.77409314e-02],\n",
       "          [-2.81132013e-03,  3.30577157e-02,  1.50000677e-03, ...,\n",
       "           -8.21872056e-03,  1.18106864e-02,  3.99461649e-02]],\n",
       " \n",
       "         [[ 3.63554433e-03,  9.51103866e-05, -1.23109557e-02, ...,\n",
       "            3.43849994e-02,  5.17914407e-02,  5.29625975e-02],\n",
       "          [ 3.02636735e-02,  5.24443947e-02, -1.23742968e-04, ...,\n",
       "            4.88090850e-02, -4.77281585e-02,  4.40647826e-03],\n",
       "          [ 3.93212959e-03,  1.36340447e-02,  5.82613163e-02, ...,\n",
       "            3.06127630e-02, -2.10934877e-02, -4.22625989e-03],\n",
       "          ...,\n",
       "          [-3.50410715e-02,  3.17230038e-02, -3.36079225e-02, ...,\n",
       "           -3.60569097e-02, -1.38744712e-03, -5.71289994e-02],\n",
       "          [ 3.38992886e-02, -4.16998528e-02,  1.88528784e-02, ...,\n",
       "            2.97079198e-02,  1.32308491e-02, -1.44679472e-02],\n",
       "          [-5.29780686e-02, -4.38043438e-02,  5.11334948e-02, ...,\n",
       "           -2.66101994e-02, -2.41666511e-02,  1.45433433e-02]]],\n",
       " \n",
       " \n",
       "        [[[ 2.87385769e-02,  4.48160321e-02,  5.07088564e-03, ...,\n",
       "            1.38173520e-03,  2.12716796e-02, -3.08150109e-02],\n",
       "          [ 1.13755381e-02, -1.68529283e-02,  2.35923547e-02, ...,\n",
       "           -1.68995317e-02,  1.74753126e-02,  1.95698049e-02],\n",
       "          [-3.04281041e-02, -4.15562615e-02,  5.20735681e-02, ...,\n",
       "            6.19963044e-03, -4.00630534e-02,  5.38923703e-02],\n",
       "          ...,\n",
       "          [-1.37895229e-03,  5.19990362e-02, -2.82884277e-02, ...,\n",
       "           -2.25477330e-02,  1.41227804e-02, -1.40596675e-02],\n",
       "          [-2.00084206e-02, -4.87641580e-02, -1.52751310e-02, ...,\n",
       "            2.54778415e-02, -1.88246984e-02,  6.50900695e-03],\n",
       "          [-6.76018074e-02, -5.27594127e-02,  5.31293936e-02, ...,\n",
       "           -2.96460800e-02, -3.83884050e-02, -1.92744052e-03]],\n",
       " \n",
       "         [[-4.06273119e-02, -2.54907068e-02, -2.85218447e-03, ...,\n",
       "           -6.05265051e-03,  4.12620939e-02,  4.08100933e-02],\n",
       "          [ 6.60351990e-03,  8.54103547e-03,  4.54319529e-02, ...,\n",
       "            1.58455838e-02, -4.19601705e-03, -2.08248571e-02],\n",
       "          [ 4.25529890e-02,  3.49184945e-02, -1.45021430e-03, ...,\n",
       "           -4.94353436e-02,  2.22800821e-02, -7.20556974e-02],\n",
       "          ...,\n",
       "          [-4.83753718e-03, -3.35115455e-02,  1.55070405e-02, ...,\n",
       "           -3.30701694e-02, -2.33494071e-03,  2.92819329e-02],\n",
       "          [-3.46530154e-02,  1.43703977e-02,  3.88193652e-02, ...,\n",
       "           -4.82875891e-02,  2.26745270e-02,  2.09661238e-02],\n",
       "          [-3.55111882e-02,  5.81288785e-02, -5.65794036e-02, ...,\n",
       "            3.32519710e-02,  7.00814202e-02,  6.81355596e-02]],\n",
       " \n",
       "         [[-3.38963345e-02, -6.84373602e-02, -1.58606786e-02, ...,\n",
       "            1.91000998e-02,  1.63668729e-02,  3.75056230e-02],\n",
       "          [-5.13395183e-02,  4.13871743e-02, -5.73252477e-02, ...,\n",
       "           -6.25525555e-03,  4.90175709e-02, -2.54983790e-02],\n",
       "          [-3.01690698e-02,  2.55576484e-02, -1.51210353e-02, ...,\n",
       "           -5.72697334e-02, -5.19894063e-02, -2.33753417e-02],\n",
       "          ...,\n",
       "          [ 5.72011247e-03,  1.50577808e-02, -1.31731259e-03, ...,\n",
       "            4.27044071e-02, -5.11143096e-02, -3.58703397e-02],\n",
       "          [-3.67886089e-02,  6.87509077e-03, -2.97582075e-02, ...,\n",
       "           -1.13721900e-02, -3.42335291e-02,  3.00046951e-02],\n",
       "          [ 3.52844074e-02,  2.12676283e-02, -5.72586544e-02, ...,\n",
       "            4.12852950e-02,  4.09836173e-02,  5.69946226e-03]]],\n",
       " \n",
       " \n",
       "        [[[-3.52597609e-03, -1.43187158e-02, -5.71247861e-02, ...,\n",
       "            7.61884078e-03,  1.49726011e-02,  3.94105650e-02],\n",
       "          [-4.60178815e-02,  4.24027778e-02, -5.22283167e-02, ...,\n",
       "            2.77488939e-02,  3.11659090e-02, -4.03895490e-02],\n",
       "          [ 3.74457575e-02,  2.51546986e-02,  2.56964974e-02, ...,\n",
       "           -4.14848626e-02, -5.37893400e-02,  3.11167203e-02],\n",
       "          ...,\n",
       "          [-1.17734708e-02,  4.39869352e-02,  4.89456989e-02, ...,\n",
       "           -8.06685165e-03,  4.21813540e-02,  1.80713087e-03],\n",
       "          [-4.70965058e-02,  8.56870785e-03, -1.81832910e-03, ...,\n",
       "           -2.89810300e-02,  3.57855521e-02,  6.29206374e-03],\n",
       "          [ 3.05047072e-02, -4.57589738e-02, -1.69381313e-02, ...,\n",
       "           -2.10090652e-02, -4.50045615e-02, -4.66791540e-02]],\n",
       " \n",
       "         [[-3.15281302e-02,  5.80534078e-02, -1.81677081e-02, ...,\n",
       "           -1.77223571e-02, -4.37803641e-02, -3.96896899e-02],\n",
       "          [-3.77455652e-02, -1.66231394e-03, -1.77738816e-03, ...,\n",
       "            6.55993447e-03, -4.18221056e-02,  6.40961155e-03],\n",
       "          [-5.56297526e-02, -1.15782730e-02,  1.56069659e-02, ...,\n",
       "            1.47704370e-02, -4.83355224e-02, -3.57359760e-02],\n",
       "          ...,\n",
       "          [ 1.57020353e-02, -1.79639980e-02,  1.28004067e-02, ...,\n",
       "           -3.27724218e-02, -2.17974931e-02,  2.60957144e-02],\n",
       "          [ 5.13385125e-02, -2.54273340e-02, -1.30467676e-02, ...,\n",
       "            5.12499772e-02,  2.55366415e-03,  5.79402111e-02],\n",
       "          [-3.44355926e-02, -5.87848946e-03, -1.12747177e-02, ...,\n",
       "           -5.08815050e-03,  3.03685032e-02, -4.47781906e-02]],\n",
       " \n",
       "         [[ 3.39677297e-02, -5.22917658e-02,  3.00669707e-02, ...,\n",
       "            4.49499115e-03, -2.07121149e-02, -2.63380706e-02],\n",
       "          [-2.93170102e-02, -1.61633305e-02, -3.38003784e-03, ...,\n",
       "            4.74610068e-02,  4.98034544e-02,  3.76457162e-02],\n",
       "          [ 3.35033275e-02, -4.87697050e-02,  2.59522982e-02, ...,\n",
       "           -4.00499031e-02,  3.14472951e-02,  1.94306672e-03],\n",
       "          ...,\n",
       "          [ 5.29536121e-02, -4.95551527e-03, -3.36826965e-02, ...,\n",
       "           -4.25476506e-02, -5.34913614e-02,  6.50728866e-03],\n",
       "          [-1.16406083e-02,  4.92597930e-02,  4.12056409e-02, ...,\n",
       "           -7.23682344e-03, -1.42954513e-02,  3.04749422e-02],\n",
       "          [ 2.71143392e-03, -5.45849875e-02,  7.73273781e-03, ...,\n",
       "           -1.59920044e-02,  3.88711132e-02,  3.08548473e-02]]]],\n",
       "       dtype=float32)>,\n",
       " <tf.Variable 'conv2d_1/bias:0' shape=(128,) dtype=float32, numpy=\n",
       " array([-9.65920929e-03,  2.98265670e-03, -4.54350421e-03, -1.44868449e-03,\n",
       "        -1.40777482e-02, -6.40896102e-03,  2.02515419e-03, -8.63847695e-03,\n",
       "        -6.22744579e-03,  3.65568604e-03,  5.36032533e-03, -9.65569459e-04,\n",
       "         4.85838065e-03, -1.68119220e-03, -6.27137953e-03, -4.90324432e-03,\n",
       "         2.73866323e-03,  9.26126912e-03,  2.97573605e-03, -5.57465013e-03,\n",
       "        -8.30327533e-03,  4.91309119e-03, -7.55081279e-03, -9.86596476e-03,\n",
       "         6.05137972e-03,  1.11710967e-03,  8.72188155e-03,  5.37654897e-03,\n",
       "        -3.69020831e-03,  4.41127038e-03, -3.98626179e-03, -1.93785861e-04,\n",
       "        -7.19510578e-03, -1.12988008e-03,  1.16565346e-03,  7.19688041e-03,\n",
       "        -8.23261589e-03, -2.71281949e-03, -3.53138335e-03,  1.17511908e-03,\n",
       "         1.11586042e-02, -8.55107850e-04, -6.73236698e-03,  2.81759189e-03,\n",
       "         2.55871564e-03,  1.38634874e-03,  3.23841046e-03, -8.89026036e-04,\n",
       "         3.82260885e-03, -4.85934579e-04, -4.43913229e-03,  3.22618685e-03,\n",
       "        -1.54467556e-03,  2.92182458e-03, -3.94189218e-03, -1.34647056e-03,\n",
       "         1.05274504e-03,  1.14613064e-02, -5.62014105e-03,  1.37046701e-03,\n",
       "         7.97051471e-03, -6.58280030e-03,  6.55361544e-03, -3.20130750e-03,\n",
       "        -1.16498256e-03,  5.47291432e-03, -9.06993728e-03, -1.41751450e-02,\n",
       "         7.00247823e-04, -3.29470518e-03,  1.06944214e-03,  3.27837747e-03,\n",
       "        -6.27848227e-03,  2.77208188e-03, -1.76565780e-04, -7.82034080e-03,\n",
       "         4.35388461e-03, -8.03107489e-03, -1.56993419e-02,  1.09179842e-03,\n",
       "         2.01060786e-03, -3.31621687e-03, -5.36108762e-03,  1.69282884e-03,\n",
       "         4.48613986e-03,  5.16749313e-03,  2.22574663e-03,  1.80723495e-03,\n",
       "         2.96637113e-03, -8.14336911e-03, -3.28007876e-03, -5.32077299e-03,\n",
       "         1.57205877e-03, -8.11256003e-03, -1.77516777e-03, -2.89146526e-04,\n",
       "         7.48788146e-03, -1.44084881e-03,  5.17252181e-03, -1.86598953e-03,\n",
       "         1.84750825e-03, -5.12287021e-03,  2.08050478e-03,  4.07770881e-03,\n",
       "        -9.30854306e-03, -3.24326521e-03,  1.71184773e-03,  7.68148748e-05,\n",
       "         5.11657679e-03, -8.59819120e-04,  5.21066505e-03, -7.30579428e-04,\n",
       "        -3.18764476e-03, -4.59825946e-03, -3.50025512e-04, -4.73244628e-03,\n",
       "        -2.78491736e-03,  4.42836108e-03,  1.13393518e-03, -7.62644131e-03,\n",
       "         1.56580610e-03, -4.78168903e-03,  8.61314300e-04,  5.84104331e-03,\n",
       "        -1.29265925e-02,  3.36897536e-03,  8.88676755e-03, -6.40479848e-03],\n",
       "       dtype=float32)>,\n",
       " <tf.Variable 'dense/kernel:0' shape=(5376, 1024) dtype=float32, numpy=\n",
       " array([[-0.00345533,  0.00721413, -0.02538458, ...,  0.0287724 ,\n",
       "          0.02222485,  0.01364856],\n",
       "        [ 0.0008113 , -0.00593731, -0.03091752, ..., -0.00746027,\n",
       "         -0.01056402, -0.02287289],\n",
       "        [-0.0274819 ,  0.01689006,  0.02760842, ..., -0.01466347,\n",
       "         -0.00352552, -0.0087511 ],\n",
       "        ...,\n",
       "        [-0.02946525,  0.02526724, -0.00725195, ...,  0.02145254,\n",
       "         -0.01000395,  0.00356377],\n",
       "        [-0.01249182, -0.01987695, -0.00965025, ...,  0.00545645,\n",
       "          0.00168761,  0.00933264],\n",
       "        [ 0.00954942,  0.02361509,  0.01984955, ..., -0.02834427,\n",
       "          0.02511236,  0.02242206]], dtype=float32)>,\n",
       " <tf.Variable 'dense/bias:0' shape=(1024,) dtype=float32, numpy=\n",
       " array([-0.00133842,  0.00144926, -0.00042776, ...,  0.00122229,\n",
       "        -0.00046493,  0.00228494], dtype=float32)>,\n",
       " <tf.Variable 'dense_1/kernel:0' shape=(1024, 2) dtype=float32, numpy=\n",
       " array([[ 0.10311704, -0.08394936],\n",
       "        [-0.09847617, -0.03321502],\n",
       "        [ 0.04874414, -0.05246188],\n",
       "        ...,\n",
       "        [-0.06171789, -0.01496934],\n",
       "        [-0.06286141,  0.05112791],\n",
       "        [ 0.09302963, -0.06081611]], dtype=float32)>,\n",
       " <tf.Variable 'dense_1/bias:0' shape=(2,) dtype=float32, numpy=array([ 0.00742828, -0.01116268], dtype=float32)>]"
      ]
     },
     "execution_count": 14,
     "metadata": {},
     "output_type": "execute_result"
    }
   ],
   "source": [
    "model.weights"
   ]
  },
  {
   "cell_type": "markdown",
   "metadata": {},
   "source": [
    "### *Best model summary*"
   ]
  },
  {
   "cell_type": "code",
   "execution_count": null,
   "metadata": {},
   "outputs": [
    {
     "name": "stdout",
     "output_type": "stream",
     "text": [
      "Model: \"sequential\"\n",
      "_________________________________________________________________\n",
      " Layer (type)                Output Shape              Param #   \n",
      "=================================================================\n",
      " conv2d (Conv2D)             (None, 1, 42, 64)         640       \n",
      "                                                                 \n",
      " max_pooling2d (MaxPooling2  (None, 1, 42, 64)         0         \n",
      " D)                                                              \n",
      "                                                                 \n",
      " conv2d_1 (Conv2D)           (None, 1, 42, 128)        73856     \n",
      "                                                                 \n",
      " max_pooling2d_1 (MaxPoolin  (None, 1, 42, 128)        0         \n",
      " g2D)                                                            \n",
      "                                                                 \n",
      " flatten (Flatten)           (None, 5376)              0         \n",
      "                                                                 \n",
      " dense (Dense)               (None, 1024)              5506048   \n",
      "                                                                 \n",
      " dropout (Dropout)           (None, 1024)              0         \n",
      "                                                                 \n",
      " dense_1 (Dense)             (None, 2)                 2050      \n",
      "                                                                 \n",
      "=================================================================\n",
      "Total params: 5582594 (21.30 MB)\n",
      "Trainable params: 5582594 (21.30 MB)\n",
      "Non-trainable params: 0 (0.00 Byte)\n",
      "_________________________________________________________________\n"
     ]
    }
   ],
   "source": [
    "model.summary()"
   ]
  },
  {
   "cell_type": "markdown",
   "metadata": {},
   "source": [
    "### *Recall*"
   ]
  },
  {
   "cell_type": "code",
   "execution_count": null,
   "metadata": {},
   "outputs": [
    {
     "name": "stdout",
     "output_type": "stream",
     "text": [
      "5480/5480 [==============================] - 13s 2ms/step\n"
     ]
    }
   ],
   "source": [
    "prediction = model.predict(x_test)\n",
    "threshold = 0.5\n",
    "binary_prediction = np.where(prediction >= threshold, 1, 0)\n",
    "recall = mt.recall_score(y_test_one_hot, binary_prediction, average='weighted')"
   ]
  },
  {
   "cell_type": "markdown",
   "metadata": {},
   "source": [
    "### *Accuracy score*"
   ]
  },
  {
   "cell_type": "code",
   "execution_count": null,
   "metadata": {},
   "outputs": [],
   "source": [
    "accuracy = mt.accuracy_score(y_test_one_hot, binary_prediction)"
   ]
  },
  {
   "cell_type": "markdown",
   "metadata": {},
   "source": [
    "###  *Precision score*"
   ]
  },
  {
   "cell_type": "code",
   "execution_count": null,
   "metadata": {},
   "outputs": [],
   "source": [
    "precision = mt.precision_score(y_test_one_hot, binary_prediction, average='weighted')"
   ]
  },
  {
   "cell_type": "markdown",
   "metadata": {},
   "source": [
    "### *F1 score*"
   ]
  },
  {
   "cell_type": "code",
   "execution_count": null,
   "metadata": {},
   "outputs": [],
   "source": [
    "f1 = mt.f1_score(y_test_one_hot, binary_prediction, average='weighted')"
   ]
  },
  {
   "cell_type": "markdown",
   "metadata": {},
   "source": [
    "### *Classification Report*"
   ]
  },
  {
   "cell_type": "code",
   "execution_count": null,
   "metadata": {},
   "outputs": [
    {
     "name": "stdout",
     "output_type": "stream",
     "text": [
      "              precision    recall  f1-score   support\n",
      "\n",
      "      normal       0.32      1.00      0.49     56000\n",
      "      attack       1.00      0.01      0.02    119341\n",
      "\n",
      "   micro avg       0.33      0.33      0.33    175341\n",
      "   macro avg       0.66      0.51      0.25    175341\n",
      "weighted avg       0.78      0.33      0.17    175341\n",
      " samples avg       0.33      0.33      0.33    175341\n",
      "\n"
     ]
    }
   ],
   "source": [
    "names = ['normal', 'attack']\n",
    "print(mt.classification_report(y_test_one_hot, binary_prediction, target_names=names))"
   ]
  },
  {
   "cell_type": "markdown",
   "metadata": {},
   "source": [
    "### *Confusion matrix*"
   ]
  },
  {
   "cell_type": "code",
   "execution_count": null,
   "metadata": {},
   "outputs": [
    {
     "name": "stdout",
     "output_type": "stream",
     "text": [
      "[[ 56000      0]\n",
      " [118407    934]]\n",
      "Plotting confusion matrix\n"
     ]
    },
    {
     "data": {
      "image/png": "[encoded data removed]",
      "text/plain": [
       "<Figure size 640x480 with 2 Axes>"
      ]
     },
     "metadata": {},
     "output_type": "display_data"
    }
   ],
   "source": [
    "label = encode_text_index(training_df, 'label')\n",
    "label_names = [names[num] for num in label]\n",
    "\n",
    "y_test_labels = np.argmax(y_test_one_hot, axis=1)\n",
    "binary_prediction_labels = np.argmax(binary_prediction, axis=1)\n",
    "\n",
    "cm = confusion_matrix(y_test_labels, binary_prediction_labels)\n",
    "print(cm)\n",
    "\n",
    "print('Plotting confusion matrix')\n",
    "\n",
    "plt.figure()\n",
    "plot_confusion_matrix(cm, label_names)\n",
    "plt.show()"
   ]
  },
  {
   "cell_type": "markdown",
   "metadata": {},
   "source": [
    "### *ROC Curve*"
   ]
  },
  {
   "cell_type": "code",
   "execution_count": null,
   "metadata": {},
   "outputs": [
    {
     "data": {
      "image/png": "[encoded data removed]",
      "text/plain": [
       "<Figure size 640x480 with 1 Axes>"
      ]
     },
     "metadata": {},
     "output_type": "display_data"
    }
   ],
   "source": [
    "plot_roc(binary_prediction_labels, y_test_labels)"
   ]
  }
 ],
 "metadata": {
  "kernelspec": {
   "display_name": "base",
   "language": "python",
   "name": "python3"
  },
  "language_info": {
   "codemirror_mode": {
    "name": "ipython",
    "version": 3
   },
   "file_extension": ".py",
   "mimetype": "text/x-python",
   "name": "python",
   "nbconvert_exporter": "python",
   "pygments_lexer": "ipython3",
   "version": "3.11.5"
  }
 },
 "nbformat": 4,
 "nbformat_minor": 2
}
