{
 "cells": [
  {
   "cell_type": "markdown",
   "metadata": {},
   "source": [
    "# **Convolutional Neural Network**"
   ]
  },
  {
   "cell_type": "markdown",
   "metadata": {},
   "source": [
    "### *Libraries and functions*"
   ]
  },
  {
   "cell_type": "code",
   "execution_count": 24,
   "metadata": {},
   "outputs": [],
   "source": [
    "%matplotlib inline\n",
    "from collections.abc import Sequence\n",
    "from sklearn import preprocessing\n",
    "from sklearn import metrics as mt\n",
    "from sklearn import svm, datasets\n",
    "from sklearn.model_selection import train_test_split\n",
    "from sklearn.metrics import confusion_matrix, classification_report, roc_curve, auc\n",
    "from tensorflow.keras.models import load_model\n",
    "from tensorflow.keras.models import Sequential\n",
    "from tensorflow.keras.layers import Dense, Dropout\n",
    "from tensorflow.keras.callbacks import EarlyStopping\n",
    "from tensorflow.keras.callbacks import ModelCheckpoint\n",
    "\n",
    "import matplotlib.pyplot as plt\n",
    "import numpy as np\n",
    "import pandas as pd\n",
    "import shutil\n",
    "import os\n",
    "import tensorflow as tf\n",
    "\n",
    "\n",
    "\n",
    "# Encode text values to dummy variables(i.e. [1,0,0],[0,1,0],[0,0,1] for red,green,blue)\n",
    "def encode_text_dummy(df, name):\n",
    "    dummies = pd.get_dummies(df[name])\n",
    "    for x in dummies.columns:\n",
    "        dummy_name = \"{}-{}\".format(name, x)\n",
    "        df[dummy_name] = dummies[x]\n",
    "    df.drop(name, axis=1, inplace=True)\n",
    "\n",
    "# Encode text values to a single dummy variable.  The new columns (which do not replace the old) will have a 1\n",
    "# at every location where the original column (name) matches each of the target_values.  One column is added for\n",
    "# each target value.\n",
    "def encode_text_single_dummy(df, name, target_values):\n",
    "    for tv in target_values:\n",
    "        l = list(df[name].astype(str))\n",
    "        l = [1 if str(x) == str(tv) else 0 for x in l]\n",
    "        name2 = \"{}-{}\".format(name, tv)\n",
    "        df[name2] = l\n",
    "\n",
    "\n",
    "# Encode text values to indexes(i.e. [1],[2],[3] for red,green,blue).\n",
    "def encode_text_index(df, name):\n",
    "    le = preprocessing.LabelEncoder()\n",
    "    df[name] = le.fit_transform(df[name])\n",
    "    return le.classes_\n",
    "\n",
    "\n",
    "# Encode a numeric column as zscores\n",
    "def encode_numeric_zscore(df, name, mean=None, sd=None):\n",
    "    if mean is None:\n",
    "        mean = df[name].mean()\n",
    "\n",
    "    if sd is None:\n",
    "        sd = df[name].std()\n",
    "\n",
    "    df[name] = (df[name] - mean) / sd\n",
    "\n",
    "# Convert all missing values in the specified column to the default\n",
    "def missing_default(df, name, default_value):\n",
    "    df[name] = df[name].fillna(default_value)\n",
    "\n",
    "\n",
    "# Convert a Pandas dataframe to the x,y inputs that TensorFlow needs\n",
    "def to_xy(df, target):\n",
    "    result = []\n",
    "    for x in df.columns:\n",
    "        if x != target:\n",
    "            result.append(x)\n",
    "    # find out the type of the target column.\n",
    "    target_type = df[target].dtypes\n",
    "    target_type = target_type[0] if isinstance(target_type, Sequence) else target_type\n",
    "    # Encode to int for classification, float otherwise. TensorFlow likes 32 bits.\n",
    "    if target_type in (np.int64, np.int32):\n",
    "        # Classification\n",
    "        dummies = pd.get_dummies(df[target])\n",
    "        return df[result].values.astype(np.float32), dummies.values.astype(np.float32)\n",
    "    else:\n",
    "        # Regression\n",
    "        return df[result].values.astype(np.float32), df[target].values.astype(np.float32)\n",
    "\n",
    "# Nicely formatted time string\n",
    "def hms_string(sec_elapsed):\n",
    "    h = int(sec_elapsed / (60 * 60))\n",
    "    m = int((sec_elapsed % (60 * 60)) / 60)\n",
    "    s = sec_elapsed % 60\n",
    "    return \"{}:{:>02}:{:>05.2f}\".format(h, m, s)\n",
    "\n",
    "# Regression chart.\n",
    "def chart_regression(pred,y,sort=True):\n",
    "    t = pd.DataFrame({'pred' : pred, 'y' : y.flatten()})\n",
    "    if sort:\n",
    "        t.sort_values(by=['y'],inplace=True)\n",
    "    a = plt.plot(t['y'].tolist(),label='expected')\n",
    "    b = plt.plot(t['pred'].tolist(),label='prediction')\n",
    "    plt.ylabel('output')\n",
    "    plt.legend()\n",
    "    plt.show()\n",
    "\n",
    "# Remove all rows where the specified column is +/- sd standard deviations\n",
    "def remove_outliers(df, name, sd):\n",
    "    drop_rows = df.index[(np.abs(df[name] - df[name].mean()) >= (sd * df[name].std()))]\n",
    "    df.drop(drop_rows, axis=0, inplace=True)\n",
    "\n",
    "# Encode a column to a range between normalized_low and normalized_high.\n",
    "def encode_numeric_range(df, name, normalized_low=-1, normalized_high=1,\n",
    "                         data_low=None, data_high=None):\n",
    "    if data_low is None:\n",
    "        data_low = min(df[name])\n",
    "        data_high = max(df[name])\n",
    "\n",
    "    df[name] = ((df[name] - data_low) / (data_high - data_low)) \\\n",
    "               * (normalized_high - normalized_low) + normalized_low\n",
    "    \n",
    "# Plot a confusion matrix.\n",
    "# cm is the confusion matrix, names are the names of the classes.\n",
    "def plot_confusion_matrix(cm, names, title='Confusion matrix', cmap=plt.cm.Blues):\n",
    "    plt.imshow(cm, interpolation='nearest', cmap=cmap)\n",
    "    plt.title(title)\n",
    "    plt.colorbar()\n",
    "    tick_marks = np.arange(len(names))\n",
    "    plt.xticks(tick_marks, names, rotation=45)\n",
    "    plt.yticks(tick_marks, names)\n",
    "    plt.tight_layout()\n",
    "    plt.ylabel('True label')\n",
    "    plt.xlabel('Predicted label')\n",
    "\n",
    "# Plot an ROC. pred - the predictions, y - the expected output.\n",
    "def plot_roc(pred,y):\n",
    "    fpr, tpr, thresholds = roc_curve(y, pred)\n",
    "    roc_auc = auc(fpr, tpr)\n",
    "\n",
    "    plt.figure()\n",
    "    plt.plot(fpr, tpr, label='ROC curve (area = %0.2f)' % roc_auc)\n",
    "    plt.plot([0, 1], [0, 1], 'k--')\n",
    "    plt.xlim([0.0, 1.0])\n",
    "    plt.ylim([0.0, 1.05])\n",
    "    plt.xlabel('False Positive Rate')\n",
    "    plt.ylabel('True Positive Rate')\n",
    "    plt.title('Receiver Operating Characteristic (ROC)')\n",
    "    plt.legend(loc=\"lower right\")\n",
    "    plt.show()"
   ]
  },
  {
   "cell_type": "markdown",
   "metadata": {},
   "source": [
    "### *Load dataframes from file*"
   ]
  },
  {
   "cell_type": "code",
   "execution_count": 25,
   "metadata": {},
   "outputs": [],
   "source": [
    "training_df = pd.read_pickle('./data/training_index.pkl')\n",
    "testing_df = pd.read_pickle('./data/testing_index.pkl')"
   ]
  },
  {
   "cell_type": "markdown",
   "metadata": {},
   "source": [
    "### *Use dataframe to configure x,y*"
   ]
  },
  {
   "cell_type": "code",
   "execution_count": 26,
   "metadata": {},
   "outputs": [],
   "source": [
    "training_df['label'] = training_df['label'].astype('category')\n",
    "testing_df['label'] = testing_df['label'].astype('category')\n",
    "x_train, y_train = to_xy(training_df, 'label')\n",
    "x_test, y_test = to_xy(testing_df, 'label')"
   ]
  },
  {
   "cell_type": "markdown",
   "metadata": {},
   "source": [
    "### *Shape*"
   ]
  },
  {
   "cell_type": "code",
   "execution_count": 27,
   "metadata": {},
   "outputs": [
    {
     "name": "stdout",
     "output_type": "stream",
     "text": [
      "x_train shape: (82332, 42)\n",
      "y_train shape: (82332,)\n",
      "x_test shape: (175341, 42)\n",
      "y_test shape: (175341,)\n"
     ]
    }
   ],
   "source": [
    "print('x_train shape:', x_train.shape)\n",
    "print('y_train shape:', y_train.shape)\n",
    "print('x_test shape:', x_test.shape)\n",
    "print('y_test shape:', y_test.shape)"
   ]
  },
  {
   "cell_type": "markdown",
   "metadata": {},
   "source": [
    "### *Reshape x's*"
   ]
  },
  {
   "cell_type": "code",
   "execution_count": 28,
   "metadata": {},
   "outputs": [],
   "source": [
    "x_train_rows = x_train.shape[0]\n",
    "x_cols = x_train.shape[1]\n",
    "x_test_rows = x_test.shape[0]\n",
    "x_train = x_train.reshape((x_train_rows, 1, x_cols, 1))\n",
    "x_test = x_test.reshape((x_test_rows, 1, x_cols, 1))"
   ]
  },
  {
   "cell_type": "markdown",
   "metadata": {},
   "source": [
    "### *x_train*"
   ]
  },
  {
   "cell_type": "code",
   "execution_count": 29,
   "metadata": {},
   "outputs": [
    {
     "name": "stdout",
     "output_type": "stream",
     "text": [
      "x_train shape: (82332, 1, 42, 1)\n",
      "[[[[ -0.21372615]\n",
      "   [117.        ]\n",
      "   [  0.        ]\n",
      "   ...\n",
      "   [ -0.6400289 ]\n",
      "   [ -0.64418626]\n",
      "   [  0.        ]]]\n",
      "\n",
      "\n",
      " [[[ -0.21372679]\n",
      "   [117.        ]\n",
      "   [  0.        ]\n",
      "   ...\n",
      "   [ -0.6400289 ]\n",
      "   [ -0.64418626]\n",
      "   [  0.        ]]]\n",
      "\n",
      "\n",
      " [[[ -0.21372743]\n",
      "   [117.        ]\n",
      "   [  0.        ]\n",
      "   ...\n",
      "   [ -0.6400289 ]\n",
      "   [ -0.5542696 ]\n",
      "   [  0.        ]]]\n",
      "\n",
      "\n",
      " ...\n",
      "\n",
      "\n",
      " [[[ -0.21372849]\n",
      "   [  6.        ]\n",
      "   [  0.        ]\n",
      "   ...\n",
      "   [ -0.6400289 ]\n",
      "   [ -0.7341029 ]\n",
      "   [  1.        ]]]\n",
      "\n",
      "\n",
      " [[[ -0.21372849]\n",
      "   [  6.        ]\n",
      "   [  0.        ]\n",
      "   ...\n",
      "   [ -0.6400289 ]\n",
      "   [ -0.7341029 ]\n",
      "   [  1.        ]]]\n",
      "\n",
      "\n",
      " [[[ -0.21372658]\n",
      "   [117.        ]\n",
      "   [  0.        ]\n",
      "   ...\n",
      "   [ -0.6400289 ]\n",
      "   [ -0.7341029 ]\n",
      "   [  0.        ]]]]\n"
     ]
    }
   ],
   "source": [
    "print('x_train shape:', x_train.shape)\n",
    "print (x_train)"
   ]
  },
  {
   "cell_type": "markdown",
   "metadata": {},
   "source": [
    "### *x_test*"
   ]
  },
  {
   "cell_type": "code",
   "execution_count": 30,
   "metadata": {},
   "outputs": [
    {
     "name": "stdout",
     "output_type": "stream",
     "text": [
      "x_test shape: (175341, 1, 42, 1)\n",
      "[[[[-1.9102827e-01]\n",
      "   [ 1.1300000e+02]\n",
      "   [ 0.0000000e+00]\n",
      "   ...\n",
      "   [-7.1571159e-01]\n",
      "   [-7.5307184e-01]\n",
      "   [ 0.0000000e+00]]]\n",
      "\n",
      "\n",
      " [[[-1.0948448e-01]\n",
      "   [ 1.1300000e+02]\n",
      "   [ 0.0000000e+00]\n",
      "   ...\n",
      "   [-7.1571159e-01]\n",
      "   [-2.8825620e-01]\n",
      "   [ 0.0000000e+00]]]\n",
      "\n",
      "\n",
      " [[[ 4.0699102e-02]\n",
      "   [ 1.1300000e+02]\n",
      "   [ 0.0000000e+00]\n",
      "   ...\n",
      "   [-5.9554088e-01]\n",
      "   [-2.8825620e-01]\n",
      "   [ 0.0000000e+00]]]\n",
      "\n",
      "\n",
      " ...\n",
      "\n",
      "\n",
      " [[[-2.0977277e-01]\n",
      "   [ 1.1900000e+02]\n",
      "   [ 2.0000000e+00]\n",
      "   ...\n",
      "   [-4.7537011e-01]\n",
      "   [ 2.6952264e-01]\n",
      "   [ 0.0000000e+00]]]\n",
      "\n",
      "\n",
      " [[[-2.0977277e-01]\n",
      "   [ 1.1900000e+02]\n",
      "   [ 2.0000000e+00]\n",
      "   ...\n",
      "   [ 2.7692401e+00]\n",
      "   [ 1.9428591e+00]\n",
      "   [ 0.0000000e+00]]]\n",
      "\n",
      "\n",
      " [[[-2.0977277e-01]\n",
      "   [ 1.1900000e+02]\n",
      "   [ 2.0000000e+00]\n",
      "   ...\n",
      "   [ 2.7692401e+00]\n",
      "   [ 1.9428591e+00]\n",
      "   [ 0.0000000e+00]]]]\n"
     ]
    }
   ],
   "source": [
    "print('x_test shape:', x_test.shape)\n",
    "print (x_test)"
   ]
  },
  {
   "cell_type": "markdown",
   "metadata": {},
   "source": [
    "### *Convert y's to one-hot encoding*"
   ]
  },
  {
   "cell_type": "code",
   "execution_count": 31,
   "metadata": {},
   "outputs": [],
   "source": [
    "y_train_one_hot = tf.keras.utils.to_categorical(y_train, 2)\n",
    "y_test_one_hot = tf.keras.utils.to_categorical(y_test, 2)"
   ]
  },
  {
   "cell_type": "markdown",
   "metadata": {},
   "source": [
    "### *y_train_one_hot*"
   ]
  },
  {
   "cell_type": "code",
   "execution_count": 32,
   "metadata": {},
   "outputs": [
    {
     "name": "stdout",
     "output_type": "stream",
     "text": [
      "y_train_one_hot shape: (82332, 2)\n",
      "[[1. 0.]\n",
      " [1. 0.]\n",
      " [1. 0.]\n",
      " ...\n",
      " [1. 0.]\n",
      " [1. 0.]\n",
      " [1. 0.]]\n"
     ]
    }
   ],
   "source": [
    "print('y_train_one_hot shape:', y_train_one_hot.shape)\n",
    "print(y_train_one_hot)"
   ]
  },
  {
   "cell_type": "markdown",
   "metadata": {},
   "source": [
    "### *y_test_one_hot*"
   ]
  },
  {
   "cell_type": "code",
   "execution_count": 33,
   "metadata": {},
   "outputs": [
    {
     "name": "stdout",
     "output_type": "stream",
     "text": [
      "y_test_one_hot shape: (175341, 2)\n",
      "[[1. 0.]\n",
      " [1. 0.]\n",
      " [1. 0.]\n",
      " ...\n",
      " [0. 1.]\n",
      " [0. 1.]\n",
      " [0. 1.]]\n"
     ]
    }
   ],
   "source": [
    "print('y_test_one_hot shape:', y_test_one_hot.shape)\n",
    "print (y_test_one_hot)"
   ]
  },
  {
   "cell_type": "markdown",
   "metadata": {},
   "source": [
    "### *Model:  relu and adam*"
   ]
  },
  {
   "cell_type": "code",
   "execution_count": 34,
   "metadata": {},
   "outputs": [
    {
     "name": "stdout",
     "output_type": "stream",
     "text": [
      "0\n",
      "Epoch 1/100\n",
      "2573/2573 - 119s - loss: 0.1557 - accuracy: 0.9344 - val_loss: 0.2578 - val_accuracy: 0.9068 - 119s/epoch - 46ms/step\n",
      "Epoch 2/100\n"
     ]
    },
    {
     "name": "stderr",
     "output_type": "stream",
     "text": [
      "c:\\Users\\cdub6\\anaconda3\\Lib\\site-packages\\keras\\src\\engine\\training.py:3103: UserWarning: You are saving your model as an HDF5 file via `model.save()`. This file format is considered legacy. We recommend using instead the native Keras format, e.g. `model.save('my_model.keras')`.\n",
      "  saving_api.save_model(\n"
     ]
    },
    {
     "name": "stdout",
     "output_type": "stream",
     "text": [
      "2573/2573 - 118s - loss: 0.1086 - accuracy: 0.9566 - val_loss: 0.2255 - val_accuracy: 0.9159 - 118s/epoch - 46ms/step\n",
      "Epoch 3/100\n",
      "2573/2573 - 112s - loss: 0.1011 - accuracy: 0.9589 - val_loss: 0.2274 - val_accuracy: 0.9167 - 112s/epoch - 44ms/step\n",
      "Epoch 4/100\n",
      "2573/2573 - 111s - loss: 0.0947 - accuracy: 0.9615 - val_loss: 0.2563 - val_accuracy: 0.9129 - 111s/epoch - 43ms/step\n",
      "Epoch 4: early stopping\n",
      "1\n",
      "Epoch 1/100\n",
      "2573/2573 - 114s - loss: 0.1558 - accuracy: 0.9346 - val_loss: 0.2174 - val_accuracy: 0.9159 - 114s/epoch - 44ms/step\n",
      "Epoch 2/100\n",
      "2573/2573 - 113s - loss: 0.1093 - accuracy: 0.9556 - val_loss: 0.2760 - val_accuracy: 0.9011 - 113s/epoch - 44ms/step\n",
      "Epoch 3/100\n",
      "2573/2573 - 113s - loss: 0.1021 - accuracy: 0.9588 - val_loss: 0.2536 - val_accuracy: 0.9150 - 113s/epoch - 44ms/step\n",
      "Epoch 3: early stopping\n",
      "2\n",
      "Epoch 1/100\n",
      "2573/2573 - 114s - loss: 0.1530 - accuracy: 0.9352 - val_loss: 0.2092 - val_accuracy: 0.9136 - 114s/epoch - 44ms/step\n",
      "Epoch 2/100\n",
      "2573/2573 - 113s - loss: 0.1082 - accuracy: 0.9564 - val_loss: 0.2459 - val_accuracy: 0.9125 - 113s/epoch - 44ms/step\n",
      "Epoch 3/100\n",
      "2573/2573 - 112s - loss: 0.0998 - accuracy: 0.9598 - val_loss: 0.2617 - val_accuracy: 0.9040 - 112s/epoch - 44ms/step\n",
      "Epoch 3: early stopping\n",
      "3\n",
      "Epoch 1/100\n",
      "2573/2573 - 113s - loss: 0.1540 - accuracy: 0.9349 - val_loss: 0.2569 - val_accuracy: 0.9116 - 113s/epoch - 44ms/step\n",
      "Epoch 2/100\n",
      "2573/2573 - 114s - loss: 0.1069 - accuracy: 0.9574 - val_loss: 0.2389 - val_accuracy: 0.9170 - 114s/epoch - 44ms/step\n",
      "Epoch 3/100\n",
      "2573/2573 - 112s - loss: 0.0998 - accuracy: 0.9600 - val_loss: 0.2446 - val_accuracy: 0.9155 - 112s/epoch - 44ms/step\n",
      "Epoch 4/100\n",
      "2573/2573 - 112s - loss: 0.0946 - accuracy: 0.9620 - val_loss: 0.2678 - val_accuracy: 0.8989 - 112s/epoch - 43ms/step\n",
      "Epoch 4: early stopping\n",
      "4\n",
      "Epoch 1/100\n",
      "2573/2573 - 115s - loss: 0.1541 - accuracy: 0.9352 - val_loss: 0.2392 - val_accuracy: 0.9025 - 115s/epoch - 45ms/step\n",
      "Epoch 2/100\n",
      "2573/2573 - 112s - loss: 0.1080 - accuracy: 0.9564 - val_loss: 0.2732 - val_accuracy: 0.9096 - 112s/epoch - 44ms/step\n",
      "Epoch 3/100\n",
      "2573/2573 - 118s - loss: 0.1008 - accuracy: 0.9588 - val_loss: 0.2431 - val_accuracy: 0.9140 - 118s/epoch - 46ms/step\n",
      "Epoch 3: early stopping\n"
     ]
    }
   ],
   "source": [
    "checkpointer = ModelCheckpoint(filepath=\"models/best_weights_cnn.hdf5\", verbose=0, save_best_only=True) # save best model\n",
    "\n",
    "for i in range(5):\n",
    "    print(i)\n",
    "\n",
    "    model = Sequential()\n",
    "    model.add(tf.keras.layers.Conv2D(64, kernel_size=(3, 3), strides=(1, 1), activation='relu', input_shape=(1, x_cols, 1), padding='same'))\n",
    "    model.add(tf.keras.layers.MaxPooling2D(pool_size=(1, 1)))\n",
    "    model.add(tf.keras.layers.Conv2D(128, kernel_size=(3, 3), strides=(1, 1), activation='relu', padding='same'))\n",
    "    model.add(tf.keras.layers.MaxPooling2D(pool_size=(1, 1)))\n",
    "    model.add(tf.keras.layers.Flatten())\n",
    "    model.add(tf.keras.layers.Dense(1024, activation='relu'))\n",
    "    model.add(Dropout(0.5))\n",
    "    model.add(tf.keras.layers.Dense(2, activation='sigmoid'))\n",
    "    model.compile(loss='binary_crossentropy', optimizer='adam', metrics=['accuracy'])\n",
    "    monitor = EarlyStopping(monitor='val_loss', min_delta=1e-3, patience=2, verbose=2, mode='auto')\n",
    "    model.fit(x_train, y_train_one_hot, validation_data=(x_test, y_test_one_hot),callbacks=[monitor, checkpointer], verbose=2, epochs=100)"
   ]
  },
  {
   "cell_type": "markdown",
   "metadata": {},
   "source": [
    "### *Model:  sigmoid and adam*"
   ]
  },
  {
   "cell_type": "code",
   "execution_count": 35,
   "metadata": {},
   "outputs": [
    {
     "name": "stdout",
     "output_type": "stream",
     "text": [
      "0\n",
      "Epoch 1/100\n",
      "2573/2573 - 115s - loss: 0.3606 - accuracy: 0.8108 - val_loss: 0.3719 - val_accuracy: 0.8288 - 115s/epoch - 45ms/step\n",
      "Epoch 2/100\n",
      "2573/2573 - 113s - loss: 0.1647 - accuracy: 0.9292 - val_loss: 0.2935 - val_accuracy: 0.8713 - 113s/epoch - 44ms/step\n",
      "Epoch 3/100\n",
      "2573/2573 - 114s - loss: 0.1416 - accuracy: 0.9421 - val_loss: 0.2972 - val_accuracy: 0.8836 - 114s/epoch - 44ms/step\n",
      "Epoch 4/100\n",
      "2573/2573 - 116s - loss: 0.1330 - accuracy: 0.9466 - val_loss: 0.2061 - val_accuracy: 0.9146 - 116s/epoch - 45ms/step\n",
      "Epoch 5/100\n",
      "2573/2573 - 115s - loss: 0.1289 - accuracy: 0.9483 - val_loss: 0.2496 - val_accuracy: 0.9048 - 115s/epoch - 45ms/step\n",
      "Epoch 6/100\n",
      "2573/2573 - 113s - loss: 0.1252 - accuracy: 0.9503 - val_loss: 0.2887 - val_accuracy: 0.8938 - 113s/epoch - 44ms/step\n",
      "Epoch 6: early stopping\n",
      "1\n",
      "Epoch 1/100\n",
      "2573/2573 - 113s - loss: 0.3474 - accuracy: 0.8268 - val_loss: 0.2688 - val_accuracy: 0.9117 - 113s/epoch - 44ms/step\n",
      "Epoch 2/100\n",
      "2573/2573 - 113s - loss: 0.1744 - accuracy: 0.9268 - val_loss: 0.2333 - val_accuracy: 0.9153 - 113s/epoch - 44ms/step\n",
      "Epoch 3/100\n",
      "2573/2573 - 111s - loss: 0.1465 - accuracy: 0.9396 - val_loss: 0.2093 - val_accuracy: 0.9256 - 111s/epoch - 43ms/step\n",
      "Epoch 4/100\n",
      "2573/2573 - 111s - loss: 0.1347 - accuracy: 0.9451 - val_loss: 0.2246 - val_accuracy: 0.9217 - 111s/epoch - 43ms/step\n",
      "Epoch 5/100\n",
      "2573/2573 - 113s - loss: 0.1275 - accuracy: 0.9484 - val_loss: 0.2183 - val_accuracy: 0.9191 - 113s/epoch - 44ms/step\n",
      "Epoch 5: early stopping\n",
      "2\n",
      "Epoch 1/100\n",
      "2573/2573 - 114s - loss: 0.3655 - accuracy: 0.8112 - val_loss: 0.2212 - val_accuracy: 0.9252 - 114s/epoch - 44ms/step\n",
      "Epoch 2/100\n",
      "2573/2573 - 112s - loss: 0.1746 - accuracy: 0.9267 - val_loss: 0.2329 - val_accuracy: 0.9144 - 112s/epoch - 44ms/step\n",
      "Epoch 3/100\n",
      "2573/2573 - 110s - loss: 0.1488 - accuracy: 0.9382 - val_loss: 0.1996 - val_accuracy: 0.9245 - 110s/epoch - 43ms/step\n",
      "Epoch 4/100\n",
      "2573/2573 - 109s - loss: 0.1368 - accuracy: 0.9436 - val_loss: 0.2192 - val_accuracy: 0.9221 - 109s/epoch - 42ms/step\n",
      "Epoch 5/100\n",
      "2573/2573 - 109s - loss: 0.1294 - accuracy: 0.9475 - val_loss: 0.2298 - val_accuracy: 0.9209 - 109s/epoch - 42ms/step\n",
      "Epoch 5: early stopping\n",
      "3\n",
      "Epoch 1/100\n",
      "2573/2573 - 111s - loss: 0.3805 - accuracy: 0.8021 - val_loss: 0.2085 - val_accuracy: 0.9269 - 111s/epoch - 43ms/step\n",
      "Epoch 2/100\n",
      "2573/2573 - 109s - loss: 0.1825 - accuracy: 0.9239 - val_loss: 0.2076 - val_accuracy: 0.9187 - 109s/epoch - 42ms/step\n",
      "Epoch 3/100\n",
      "2573/2573 - 109s - loss: 0.1514 - accuracy: 0.9375 - val_loss: 0.2050 - val_accuracy: 0.9240 - 109s/epoch - 42ms/step\n",
      "Epoch 4/100\n",
      "2573/2573 - 109s - loss: 0.1421 - accuracy: 0.9413 - val_loss: 0.2010 - val_accuracy: 0.9251 - 109s/epoch - 42ms/step\n",
      "Epoch 5/100\n",
      "2573/2573 - 109s - loss: 0.1331 - accuracy: 0.9453 - val_loss: 0.2078 - val_accuracy: 0.9243 - 109s/epoch - 42ms/step\n",
      "Epoch 6/100\n",
      "2573/2573 - 109s - loss: 0.1286 - accuracy: 0.9480 - val_loss: 0.2112 - val_accuracy: 0.9249 - 109s/epoch - 42ms/step\n",
      "Epoch 6: early stopping\n",
      "4\n",
      "Epoch 1/100\n",
      "2573/2573 - 110s - loss: 0.4297 - accuracy: 0.7499 - val_loss: 0.2871 - val_accuracy: 0.8548 - 110s/epoch - 43ms/step\n",
      "Epoch 2/100\n",
      "2573/2573 - 109s - loss: 0.1633 - accuracy: 0.9297 - val_loss: 0.2088 - val_accuracy: 0.9123 - 109s/epoch - 42ms/step\n",
      "Epoch 3/100\n",
      "2573/2573 - 109s - loss: 0.1386 - accuracy: 0.9436 - val_loss: 0.2525 - val_accuracy: 0.8992 - 109s/epoch - 42ms/step\n",
      "Epoch 4/100\n",
      "2573/2573 - 109s - loss: 0.1286 - accuracy: 0.9484 - val_loss: 0.2404 - val_accuracy: 0.9073 - 109s/epoch - 42ms/step\n",
      "Epoch 4: early stopping\n"
     ]
    }
   ],
   "source": [
    "checkpointer = ModelCheckpoint(filepath=\"models/best_weights_cnn.hdf5\", verbose=0, save_best_only=True) # save best model\n",
    "\n",
    "for i in range(5):\n",
    "    print(i)\n",
    "\n",
    "    model = Sequential()\n",
    "    model.add(tf.keras.layers.Conv2D(64, kernel_size=(3, 3), strides=(1, 1), activation='sigmoid', input_shape=(1, x_cols, 1), padding='same'))\n",
    "    model.add(tf.keras.layers.MaxPooling2D(pool_size=(1, 1)))\n",
    "    model.add(tf.keras.layers.Conv2D(128, kernel_size=(3, 3), strides=(1, 1), activation='sigmoid', padding='same'))\n",
    "    model.add(tf.keras.layers.MaxPooling2D(pool_size=(1, 1)))\n",
    "    model.add(tf.keras.layers.Flatten())\n",
    "    model.add(tf.keras.layers.Dense(1024, activation='sigmoid'))\n",
    "    model.add(Dropout(0.5))\n",
    "    model.add(tf.keras.layers.Dense(2, activation='sigmoid'))\n",
    "    model.compile(loss='binary_crossentropy', optimizer='adam', metrics=['accuracy'])\n",
    "    monitor = EarlyStopping(monitor='val_loss', min_delta=1e-3, patience=2, verbose=2, mode='auto')\n",
    "    model.fit(x_train, y_train_one_hot, validation_data=(x_test, y_test_one_hot),callbacks=[monitor, checkpointer], verbose=2, epochs=100)"
   ]
  },
  {
   "cell_type": "markdown",
   "metadata": {},
   "source": [
    "### *Model:  tanh and adam*"
   ]
  },
  {
   "cell_type": "code",
   "execution_count": 36,
   "metadata": {},
   "outputs": [
    {
     "name": "stdout",
     "output_type": "stream",
     "text": [
      "0\n",
      "Epoch 1/100\n",
      "2573/2573 - 111s - loss: 0.2185 - accuracy: 0.9055 - val_loss: 0.2569 - val_accuracy: 0.8944 - 111s/epoch - 43ms/step\n",
      "Epoch 2/100\n",
      "2573/2573 - 117s - loss: 0.1746 - accuracy: 0.9267 - val_loss: 0.2101 - val_accuracy: 0.9167 - 117s/epoch - 45ms/step\n",
      "Epoch 3/100\n",
      "2573/2573 - 115s - loss: 0.1732 - accuracy: 0.9284 - val_loss: 0.2240 - val_accuracy: 0.9042 - 115s/epoch - 45ms/step\n",
      "Epoch 4/100\n",
      "2573/2573 - 116s - loss: 0.1703 - accuracy: 0.9301 - val_loss: 0.2654 - val_accuracy: 0.9013 - 116s/epoch - 45ms/step\n",
      "Epoch 4: early stopping\n",
      "1\n",
      "Epoch 1/100\n",
      "2573/2573 - 114s - loss: 0.2219 - accuracy: 0.9033 - val_loss: 0.3029 - val_accuracy: 0.8669 - 114s/epoch - 44ms/step\n",
      "Epoch 2/100\n",
      "2573/2573 - 113s - loss: 0.1784 - accuracy: 0.9238 - val_loss: 0.2698 - val_accuracy: 0.9001 - 113s/epoch - 44ms/step\n",
      "Epoch 3/100\n",
      "2573/2573 - 113s - loss: 0.1812 - accuracy: 0.9242 - val_loss: 0.2188 - val_accuracy: 0.9126 - 113s/epoch - 44ms/step\n",
      "Epoch 4/100\n",
      "2573/2573 - 113s - loss: 0.1740 - accuracy: 0.9286 - val_loss: 0.3167 - val_accuracy: 0.8756 - 113s/epoch - 44ms/step\n",
      "Epoch 5/100\n",
      "2573/2573 - 114s - loss: 0.1736 - accuracy: 0.9277 - val_loss: 0.2234 - val_accuracy: 0.9065 - 114s/epoch - 44ms/step\n",
      "Epoch 5: early stopping\n",
      "2\n",
      "Epoch 1/100\n",
      "2573/2573 - 114s - loss: 0.2195 - accuracy: 0.9030 - val_loss: 0.2663 - val_accuracy: 0.8846 - 114s/epoch - 44ms/step\n",
      "Epoch 2/100\n",
      "2573/2573 - 113s - loss: 0.1770 - accuracy: 0.9249 - val_loss: 0.2151 - val_accuracy: 0.9138 - 113s/epoch - 44ms/step\n",
      "Epoch 3/100\n",
      "2573/2573 - 113s - loss: 0.1731 - accuracy: 0.9282 - val_loss: 0.2744 - val_accuracy: 0.8885 - 113s/epoch - 44ms/step\n",
      "Epoch 4/100\n",
      "2573/2573 - 113s - loss: 0.1716 - accuracy: 0.9291 - val_loss: 0.2424 - val_accuracy: 0.9019 - 113s/epoch - 44ms/step\n",
      "Epoch 4: early stopping\n",
      "3\n",
      "Epoch 1/100\n",
      "2573/2573 - 114s - loss: 0.2189 - accuracy: 0.9046 - val_loss: 0.2985 - val_accuracy: 0.8768 - 114s/epoch - 44ms/step\n",
      "Epoch 2/100\n",
      "2573/2573 - 114s - loss: 0.1780 - accuracy: 0.9246 - val_loss: 0.2554 - val_accuracy: 0.8936 - 114s/epoch - 44ms/step\n",
      "Epoch 3/100\n",
      "2573/2573 - 110s - loss: 0.1758 - accuracy: 0.9266 - val_loss: 0.2420 - val_accuracy: 0.9032 - 110s/epoch - 43ms/step\n",
      "Epoch 4/100\n",
      "2573/2573 - 109s - loss: 0.1759 - accuracy: 0.9273 - val_loss: 0.1948 - val_accuracy: 0.9170 - 109s/epoch - 42ms/step\n",
      "Epoch 5/100\n",
      "2573/2573 - 110s - loss: 0.1704 - accuracy: 0.9301 - val_loss: 0.2665 - val_accuracy: 0.8875 - 110s/epoch - 43ms/step\n",
      "Epoch 6/100\n",
      "2573/2573 - 110s - loss: 0.1668 - accuracy: 0.9327 - val_loss: 0.2247 - val_accuracy: 0.9071 - 110s/epoch - 43ms/step\n",
      "Epoch 6: early stopping\n",
      "4\n",
      "Epoch 1/100\n",
      "2573/2573 - 110s - loss: 0.2221 - accuracy: 0.9034 - val_loss: 0.2803 - val_accuracy: 0.8810 - 110s/epoch - 43ms/step\n",
      "Epoch 2/100\n",
      "2573/2573 - 110s - loss: 0.1777 - accuracy: 0.9242 - val_loss: 0.2544 - val_accuracy: 0.9056 - 110s/epoch - 43ms/step\n",
      "Epoch 3/100\n",
      "2573/2573 - 110s - loss: 0.1751 - accuracy: 0.9271 - val_loss: 0.2339 - val_accuracy: 0.9113 - 110s/epoch - 43ms/step\n",
      "Epoch 4/100\n",
      "2573/2573 - 110s - loss: 0.1696 - accuracy: 0.9299 - val_loss: 0.2430 - val_accuracy: 0.9101 - 110s/epoch - 43ms/step\n",
      "Epoch 5/100\n",
      "2573/2573 - 109s - loss: 0.1677 - accuracy: 0.9319 - val_loss: 0.2691 - val_accuracy: 0.8935 - 109s/epoch - 42ms/step\n",
      "Epoch 5: early stopping\n"
     ]
    }
   ],
   "source": [
    "checkpointer = ModelCheckpoint(filepath=\"models/best_weights_cnn.hdf5\", verbose=0, save_best_only=True) # save best model\n",
    "\n",
    "for i in range(5):\n",
    "    print(i)\n",
    "\n",
    "    model = Sequential()\n",
    "    model.add(tf.keras.layers.Conv2D(64, kernel_size=(3, 3), strides=(1, 1), activation='tanh', input_shape=(1, x_cols, 1), padding='same'))\n",
    "    model.add(tf.keras.layers.MaxPooling2D(pool_size=(1, 1)))\n",
    "    model.add(tf.keras.layers.Conv2D(128, kernel_size=(3, 3), strides=(1, 1), activation='tanh', padding='same'))\n",
    "    model.add(tf.keras.layers.MaxPooling2D(pool_size=(1, 1)))\n",
    "    model.add(tf.keras.layers.Flatten())\n",
    "    model.add(tf.keras.layers.Dense(1024, activation='tanh'))\n",
    "    model.add(Dropout(0.5))\n",
    "    model.add(tf.keras.layers.Dense(2, activation='sigmoid'))\n",
    "    model.compile(loss='binary_crossentropy', optimizer='adam', metrics=['accuracy'])\n",
    "    monitor = EarlyStopping(monitor='val_loss', min_delta=1e-3, patience=2, verbose=2, mode='auto')\n",
    "    model.fit(x_train, y_train_one_hot, validation_data=(x_test, y_test_one_hot),callbacks=[monitor, checkpointer], verbose=2, epochs=100)"
   ]
  },
  {
   "cell_type": "markdown",
   "metadata": {},
   "source": [
    "### *Model:  relu and sgd*"
   ]
  },
  {
   "cell_type": "code",
   "execution_count": 37,
   "metadata": {},
   "outputs": [
    {
     "name": "stdout",
     "output_type": "stream",
     "text": [
      "0\n",
      "Epoch 1/100\n",
      "2573/2573 - 44s - loss: 0.4530 - accuracy: 0.7611 - val_loss: 0.2815 - val_accuracy: 0.8682 - 44s/epoch - 17ms/step\n",
      "Epoch 2/100\n",
      "2573/2573 - 43s - loss: 0.2755 - accuracy: 0.8720 - val_loss: 0.2243 - val_accuracy: 0.9118 - 43s/epoch - 17ms/step\n",
      "Epoch 3/100\n",
      "2573/2573 - 43s - loss: 0.2201 - accuracy: 0.9048 - val_loss: 0.2276 - val_accuracy: 0.9100 - 43s/epoch - 17ms/step\n",
      "Epoch 4/100\n",
      "2573/2573 - 43s - loss: 0.1917 - accuracy: 0.9188 - val_loss: 0.2394 - val_accuracy: 0.9035 - 43s/epoch - 17ms/step\n",
      "Epoch 4: early stopping\n",
      "1\n",
      "Epoch 1/100\n",
      "2573/2573 - 44s - loss: 0.4814 - accuracy: 0.7443 - val_loss: 0.2444 - val_accuracy: 0.8943 - 44s/epoch - 17ms/step\n",
      "Epoch 2/100\n",
      "2573/2573 - 44s - loss: 0.2754 - accuracy: 0.8729 - val_loss: 0.2235 - val_accuracy: 0.9032 - 44s/epoch - 17ms/step\n",
      "Epoch 3/100\n",
      "2573/2573 - 44s - loss: 0.2148 - accuracy: 0.9052 - val_loss: 0.2331 - val_accuracy: 0.9055 - 44s/epoch - 17ms/step\n",
      "Epoch 4/100\n",
      "2573/2573 - 44s - loss: 0.1855 - accuracy: 0.9213 - val_loss: 0.3151 - val_accuracy: 0.8626 - 44s/epoch - 17ms/step\n",
      "Epoch 4: early stopping\n",
      "2\n",
      "Epoch 1/100\n",
      "2573/2573 - 45s - loss: 0.4724 - accuracy: 0.7488 - val_loss: 0.2860 - val_accuracy: 0.8709 - 45s/epoch - 18ms/step\n",
      "Epoch 2/100\n",
      "2573/2573 - 44s - loss: 0.2761 - accuracy: 0.8711 - val_loss: 0.2705 - val_accuracy: 0.8870 - 44s/epoch - 17ms/step\n",
      "Epoch 3/100\n",
      "2573/2573 - 44s - loss: 0.2168 - accuracy: 0.9051 - val_loss: 0.3146 - val_accuracy: 0.8632 - 44s/epoch - 17ms/step\n",
      "Epoch 4/100\n",
      "2573/2573 - 45s - loss: 0.1886 - accuracy: 0.9202 - val_loss: 0.2142 - val_accuracy: 0.9149 - 45s/epoch - 17ms/step\n",
      "Epoch 5/100\n",
      "2573/2573 - 45s - loss: 0.1691 - accuracy: 0.9305 - val_loss: 0.2339 - val_accuracy: 0.9022 - 45s/epoch - 17ms/step\n",
      "Epoch 6/100\n",
      "2573/2573 - 44s - loss: 0.1542 - accuracy: 0.9375 - val_loss: 0.2332 - val_accuracy: 0.9043 - 44s/epoch - 17ms/step\n",
      "Epoch 6: early stopping\n",
      "3\n",
      "Epoch 1/100\n",
      "2573/2573 - 45s - loss: 0.4778 - accuracy: 0.7435 - val_loss: 0.2601 - val_accuracy: 0.9208 - 45s/epoch - 18ms/step\n",
      "Epoch 2/100\n",
      "2573/2573 - 45s - loss: 0.2749 - accuracy: 0.8724 - val_loss: 0.2471 - val_accuracy: 0.8952 - 45s/epoch - 18ms/step\n",
      "Epoch 3/100\n",
      "2573/2573 - 44s - loss: 0.2182 - accuracy: 0.9033 - val_loss: 0.2381 - val_accuracy: 0.9026 - 44s/epoch - 17ms/step\n",
      "Epoch 4/100\n",
      "2573/2573 - 45s - loss: 0.1915 - accuracy: 0.9183 - val_loss: 0.3038 - val_accuracy: 0.8682 - 45s/epoch - 17ms/step\n",
      "Epoch 5/100\n",
      "2573/2573 - 44s - loss: 0.1716 - accuracy: 0.9278 - val_loss: 0.2830 - val_accuracy: 0.8800 - 44s/epoch - 17ms/step\n",
      "Epoch 5: early stopping\n",
      "4\n",
      "Epoch 1/100\n",
      "2573/2573 - 44s - loss: 0.4581 - accuracy: 0.7593 - val_loss: 0.2925 - val_accuracy: 0.8766 - 44s/epoch - 17ms/step\n",
      "Epoch 2/100\n",
      "2573/2573 - 44s - loss: 0.2798 - accuracy: 0.8682 - val_loss: 0.2094 - val_accuracy: 0.9177 - 44s/epoch - 17ms/step\n",
      "Epoch 3/100\n",
      "2573/2573 - 44s - loss: 0.2241 - accuracy: 0.9023 - val_loss: 0.2211 - val_accuracy: 0.9125 - 44s/epoch - 17ms/step\n",
      "Epoch 4/100\n",
      "2573/2573 - 44s - loss: 0.1961 - accuracy: 0.9155 - val_loss: 0.2072 - val_accuracy: 0.9198 - 44s/epoch - 17ms/step\n",
      "Epoch 5/100\n",
      "2573/2573 - 44s - loss: 0.1781 - accuracy: 0.9242 - val_loss: 0.2023 - val_accuracy: 0.9198 - 44s/epoch - 17ms/step\n",
      "Epoch 6/100\n",
      "2573/2573 - 44s - loss: 0.1635 - accuracy: 0.9322 - val_loss: 0.2125 - val_accuracy: 0.9158 - 44s/epoch - 17ms/step\n",
      "Epoch 7/100\n",
      "2573/2573 - 43s - loss: 0.1528 - accuracy: 0.9374 - val_loss: 0.2389 - val_accuracy: 0.9042 - 43s/epoch - 17ms/step\n",
      "Epoch 7: early stopping\n"
     ]
    }
   ],
   "source": [
    "checkpointer = ModelCheckpoint(filepath=\"models/best_weights_cnn.hdf5\", verbose=0, save_best_only=True) # save best model\n",
    "\n",
    "for i in range(5):\n",
    "    print(i)\n",
    "\n",
    "    model = Sequential()\n",
    "    model.add(tf.keras.layers.Conv2D(64, kernel_size=(3, 3), strides=(1, 1), activation='relu', input_shape=(1, x_cols, 1), padding='same'))\n",
    "    model.add(tf.keras.layers.MaxPooling2D(pool_size=(1, 1)))\n",
    "    model.add(tf.keras.layers.Conv2D(128, kernel_size=(3, 3), strides=(1, 1), activation='relu', padding='same'))\n",
    "    model.add(tf.keras.layers.MaxPooling2D(pool_size=(1, 1)))\n",
    "    model.add(tf.keras.layers.Flatten())\n",
    "    model.add(tf.keras.layers.Dense(1024, activation='relu'))\n",
    "    model.add(Dropout(0.5))\n",
    "    model.add(tf.keras.layers.Dense(2, activation='sigmoid'))\n",
    "    model.compile(loss='binary_crossentropy', optimizer='sgd', metrics=['accuracy'])\n",
    "    monitor = EarlyStopping(monitor='val_loss', min_delta=1e-3, patience=2, verbose=2, mode='auto')\n",
    "    model.fit(x_train, y_train_one_hot, validation_data=(x_test, y_test_one_hot),callbacks=[monitor, checkpointer], verbose=2, epochs=100)"
   ]
  },
  {
   "cell_type": "markdown",
   "metadata": {},
   "source": [
    "### *Model:  sigmoid and sgd*"
   ]
  },
  {
   "cell_type": "code",
   "execution_count": 38,
   "metadata": {},
   "outputs": [
    {
     "name": "stdout",
     "output_type": "stream",
     "text": [
      "0\n",
      "Epoch 1/100\n",
      "2573/2573 - 46s - loss: 0.7119 - accuracy: 0.5251 - val_loss: 0.6805 - val_accuracy: 0.6806 - 46s/epoch - 18ms/step\n",
      "Epoch 2/100\n",
      "2573/2573 - 45s - loss: 0.6938 - accuracy: 0.5389 - val_loss: 0.6579 - val_accuracy: 0.6806 - 45s/epoch - 17ms/step\n",
      "Epoch 3/100\n",
      "2573/2573 - 45s - loss: 0.6914 - accuracy: 0.5440 - val_loss: 0.6676 - val_accuracy: 0.6806 - 45s/epoch - 17ms/step\n",
      "Epoch 4/100\n",
      "2573/2573 - 45s - loss: 0.6899 - accuracy: 0.5452 - val_loss: 0.6424 - val_accuracy: 0.6806 - 45s/epoch - 17ms/step\n",
      "Epoch 5/100\n",
      "2573/2573 - 45s - loss: 0.6894 - accuracy: 0.5470 - val_loss: 0.6714 - val_accuracy: 0.6806 - 45s/epoch - 17ms/step\n",
      "Epoch 6/100\n",
      "2573/2573 - 45s - loss: 0.6892 - accuracy: 0.5493 - val_loss: 0.6600 - val_accuracy: 0.6806 - 45s/epoch - 18ms/step\n",
      "Epoch 6: early stopping\n",
      "1\n",
      "Epoch 1/100\n",
      "2573/2573 - 47s - loss: 0.7126 - accuracy: 0.5252 - val_loss: 0.6879 - val_accuracy: 0.6806 - 47s/epoch - 18ms/step\n",
      "Epoch 2/100\n",
      "2573/2573 - 46s - loss: 0.6934 - accuracy: 0.5399 - val_loss: 0.6752 - val_accuracy: 0.6806 - 46s/epoch - 18ms/step\n",
      "Epoch 3/100\n",
      "2573/2573 - 46s - loss: 0.6909 - accuracy: 0.5423 - val_loss: 0.6495 - val_accuracy: 0.6806 - 46s/epoch - 18ms/step\n",
      "Epoch 4/100\n",
      "2573/2573 - 46s - loss: 0.6897 - accuracy: 0.5452 - val_loss: 0.6559 - val_accuracy: 0.6806 - 46s/epoch - 18ms/step\n",
      "Epoch 5/100\n",
      "2573/2573 - 47s - loss: 0.6891 - accuracy: 0.5470 - val_loss: 0.6822 - val_accuracy: 0.6806 - 47s/epoch - 18ms/step\n",
      "Epoch 5: early stopping\n",
      "2\n",
      "Epoch 1/100\n",
      "2573/2573 - 47s - loss: 0.7127 - accuracy: 0.5236 - val_loss: 0.6636 - val_accuracy: 0.6806 - 47s/epoch - 18ms/step\n",
      "Epoch 2/100\n",
      "2573/2573 - 46s - loss: 0.6938 - accuracy: 0.5374 - val_loss: 0.6343 - val_accuracy: 0.6806 - 46s/epoch - 18ms/step\n",
      "Epoch 3/100\n",
      "2573/2573 - 45s - loss: 0.6911 - accuracy: 0.5451 - val_loss: 0.6396 - val_accuracy: 0.6806 - 45s/epoch - 18ms/step\n",
      "Epoch 4/100\n",
      "2573/2573 - 45s - loss: 0.6900 - accuracy: 0.5451 - val_loss: 0.6610 - val_accuracy: 0.6806 - 45s/epoch - 17ms/step\n",
      "Epoch 4: early stopping\n",
      "3\n",
      "Epoch 1/100\n",
      "2573/2573 - 45s - loss: 0.7118 - accuracy: 0.5263 - val_loss: 0.6690 - val_accuracy: 0.6806 - 45s/epoch - 17ms/step\n",
      "Epoch 2/100\n",
      "2573/2573 - 44s - loss: 0.6931 - accuracy: 0.5391 - val_loss: 0.6742 - val_accuracy: 0.6806 - 44s/epoch - 17ms/step\n",
      "Epoch 3/100\n",
      "2573/2573 - 44s - loss: 0.6909 - accuracy: 0.5429 - val_loss: 0.6512 - val_accuracy: 0.6806 - 44s/epoch - 17ms/step\n",
      "Epoch 4/100\n",
      "2573/2573 - 44s - loss: 0.6899 - accuracy: 0.5463 - val_loss: 0.6765 - val_accuracy: 0.6806 - 44s/epoch - 17ms/step\n",
      "Epoch 5/100\n",
      "2573/2573 - 44s - loss: 0.6893 - accuracy: 0.5468 - val_loss: 0.6659 - val_accuracy: 0.6806 - 44s/epoch - 17ms/step\n",
      "Epoch 5: early stopping\n",
      "4\n",
      "Epoch 1/100\n",
      "2573/2573 - 47s - loss: 0.7110 - accuracy: 0.5268 - val_loss: 0.6778 - val_accuracy: 0.6806 - 47s/epoch - 18ms/step\n",
      "Epoch 2/100\n",
      "2573/2573 - 46s - loss: 0.6930 - accuracy: 0.5393 - val_loss: 0.6628 - val_accuracy: 0.6806 - 46s/epoch - 18ms/step\n",
      "Epoch 3/100\n",
      "2573/2573 - 46s - loss: 0.6906 - accuracy: 0.5448 - val_loss: 0.6582 - val_accuracy: 0.6806 - 46s/epoch - 18ms/step\n",
      "Epoch 4/100\n",
      "2573/2573 - 45s - loss: 0.6901 - accuracy: 0.5451 - val_loss: 0.6679 - val_accuracy: 0.6806 - 45s/epoch - 18ms/step\n",
      "Epoch 5/100\n",
      "2573/2573 - 46s - loss: 0.6892 - accuracy: 0.5475 - val_loss: 0.6697 - val_accuracy: 0.6806 - 46s/epoch - 18ms/step\n",
      "Epoch 5: early stopping\n"
     ]
    }
   ],
   "source": [
    "checkpointer = ModelCheckpoint(filepath=\"models/best_weights_cnn.hdf5\", verbose=0, save_best_only=True) # save best model\n",
    "\n",
    "for i in range(5):\n",
    "    print(i)\n",
    "\n",
    "    model = Sequential()\n",
    "    model.add(tf.keras.layers.Conv2D(64, kernel_size=(3, 3), strides=(1, 1), activation='sigmoid', input_shape=(1, x_cols, 1), padding='same'))\n",
    "    model.add(tf.keras.layers.MaxPooling2D(pool_size=(1, 1)))\n",
    "    model.add(tf.keras.layers.Conv2D(128, kernel_size=(3, 3), strides=(1, 1), activation='sigmoid', padding='same'))\n",
    "    model.add(tf.keras.layers.MaxPooling2D(pool_size=(1, 1)))\n",
    "    model.add(tf.keras.layers.Flatten())\n",
    "    model.add(tf.keras.layers.Dense(1024, activation='sigmoid'))\n",
    "    model.add(Dropout(0.5))\n",
    "    model.add(tf.keras.layers.Dense(2, activation='sigmoid'))\n",
    "    model.compile(loss='binary_crossentropy', optimizer='sgd', metrics=['accuracy'])\n",
    "    monitor = EarlyStopping(monitor='val_loss', min_delta=1e-3, patience=2, verbose=2, mode='auto')\n",
    "    model.fit(x_train, y_train_one_hot, validation_data=(x_test, y_test_one_hot),callbacks=[monitor, checkpointer], verbose=2, epochs=100)"
   ]
  },
  {
   "cell_type": "markdown",
   "metadata": {},
   "source": [
    "### *Model:  tanh and sgd*"
   ]
  },
  {
   "cell_type": "code",
   "execution_count": 39,
   "metadata": {},
   "outputs": [
    {
     "name": "stdout",
     "output_type": "stream",
     "text": [
      "0\n",
      "Epoch 1/100\n",
      "2573/2573 - 45s - loss: 0.3591 - accuracy: 0.8333 - val_loss: 0.4622 - val_accuracy: 0.8156 - 45s/epoch - 18ms/step\n",
      "Epoch 2/100\n",
      "2573/2573 - 44s - loss: 0.2494 - accuracy: 0.8873 - val_loss: 0.6389 - val_accuracy: 0.7501 - 44s/epoch - 17ms/step\n",
      "Epoch 3/100\n",
      "2573/2573 - 44s - loss: 0.2351 - accuracy: 0.8941 - val_loss: 0.5402 - val_accuracy: 0.7876 - 44s/epoch - 17ms/step\n",
      "Epoch 3: early stopping\n",
      "1\n",
      "Epoch 1/100\n",
      "2573/2573 - 44s - loss: 0.3551 - accuracy: 0.8337 - val_loss: 0.5257 - val_accuracy: 0.7881 - 44s/epoch - 17ms/step\n",
      "Epoch 2/100\n",
      "2573/2573 - 45s - loss: 0.2462 - accuracy: 0.8867 - val_loss: 0.6576 - val_accuracy: 0.7575 - 45s/epoch - 17ms/step\n",
      "Epoch 3/100\n",
      "2573/2573 - 44s - loss: 0.2309 - accuracy: 0.8947 - val_loss: 0.4513 - val_accuracy: 0.8061 - 44s/epoch - 17ms/step\n",
      "Epoch 4/100\n",
      "2573/2573 - 44s - loss: 0.2188 - accuracy: 0.9029 - val_loss: 0.5463 - val_accuracy: 0.7828 - 44s/epoch - 17ms/step\n",
      "Epoch 5/100\n",
      "2573/2573 - 44s - loss: 0.2071 - accuracy: 0.9103 - val_loss: 0.5528 - val_accuracy: 0.7930 - 44s/epoch - 17ms/step\n",
      "Epoch 5: early stopping\n",
      "2\n",
      "Epoch 1/100\n",
      "2573/2573 - 45s - loss: 0.3667 - accuracy: 0.8270 - val_loss: 0.3912 - val_accuracy: 0.8386 - 45s/epoch - 17ms/step\n",
      "Epoch 2/100\n",
      "2573/2573 - 44s - loss: 0.2491 - accuracy: 0.8870 - val_loss: 0.4545 - val_accuracy: 0.7930 - 44s/epoch - 17ms/step\n",
      "Epoch 3/100\n",
      "2573/2573 - 44s - loss: 0.2335 - accuracy: 0.8946 - val_loss: 0.6546 - val_accuracy: 0.7448 - 44s/epoch - 17ms/step\n",
      "Epoch 3: early stopping\n",
      "3\n",
      "Epoch 1/100\n",
      "2573/2573 - 45s - loss: 0.3646 - accuracy: 0.8252 - val_loss: 0.5077 - val_accuracy: 0.7775 - 45s/epoch - 18ms/step\n",
      "Epoch 2/100\n",
      "2573/2573 - 45s - loss: 0.2489 - accuracy: 0.8867 - val_loss: 0.5662 - val_accuracy: 0.7676 - 45s/epoch - 17ms/step\n",
      "Epoch 3/100\n",
      "2573/2573 - 45s - loss: 0.2335 - accuracy: 0.8944 - val_loss: 0.5123 - val_accuracy: 0.7877 - 45s/epoch - 17ms/step\n",
      "Epoch 3: early stopping\n",
      "4\n",
      "Epoch 1/100\n",
      "2573/2573 - 46s - loss: 0.3644 - accuracy: 0.8308 - val_loss: 0.3928 - val_accuracy: 0.8366 - 46s/epoch - 18ms/step\n",
      "Epoch 2/100\n",
      "2573/2573 - 46s - loss: 0.2506 - accuracy: 0.8868 - val_loss: 0.5366 - val_accuracy: 0.7811 - 46s/epoch - 18ms/step\n",
      "Epoch 3/100\n",
      "2573/2573 - 46s - loss: 0.2356 - accuracy: 0.8937 - val_loss: 0.5961 - val_accuracy: 0.7808 - 46s/epoch - 18ms/step\n",
      "Epoch 3: early stopping\n"
     ]
    }
   ],
   "source": [
    "checkpointer = ModelCheckpoint(filepath=\"models/best_weights_cnn.hdf5\", verbose=0, save_best_only=True) # save best model\n",
    "\n",
    "for i in range(5):\n",
    "    print(i)\n",
    "\n",
    "    model = Sequential()\n",
    "    model.add(tf.keras.layers.Conv2D(64, kernel_size=(3, 3), strides=(1, 1), activation='tanh', input_shape=(1, x_cols, 1), padding='same'))\n",
    "    model.add(tf.keras.layers.MaxPooling2D(pool_size=(1, 1)))\n",
    "    model.add(tf.keras.layers.Conv2D(128, kernel_size=(3, 3), strides=(1, 1), activation='tanh', padding='same'))\n",
    "    model.add(tf.keras.layers.MaxPooling2D(pool_size=(1, 1)))\n",
    "    model.add(tf.keras.layers.Flatten())\n",
    "    model.add(tf.keras.layers.Dense(1024, activation='tanh'))\n",
    "    model.add(Dropout(0.5))\n",
    "    model.add(tf.keras.layers.Dense(2, activation='sigmoid'))\n",
    "    model.compile(loss='binary_crossentropy', optimizer='sgd', metrics=['accuracy'])\n",
    "    monitor = EarlyStopping(monitor='val_loss', min_delta=1e-3, patience=2, verbose=2, mode='auto')\n",
    "    model.fit(x_train, y_train_one_hot, validation_data=(x_test, y_test_one_hot),callbacks=[monitor, checkpointer], verbose=2, epochs=100)"
   ]
  },
  {
   "cell_type": "markdown",
   "metadata": {},
   "source": [
    "### *Load best model*"
   ]
  },
  {
   "cell_type": "code",
   "execution_count": 40,
   "metadata": {},
   "outputs": [],
   "source": [
    "model.load_weights('models/best_weights_cnn.hdf5')"
   ]
  },
  {
   "cell_type": "markdown",
   "metadata": {},
   "source": [
    "### *Weights for best model*"
   ]
  },
  {
   "cell_type": "code",
   "execution_count": 41,
   "metadata": {},
   "outputs": [
    {
     "data": {
      "text/plain": [
       "[<tf.Variable 'conv2d_60/kernel:0' shape=(3, 3, 1, 64) dtype=float32, numpy=\n",
       " array([[[[-0.02449273, -0.04559834,  0.09697363,  0.0998521 ,\n",
       "           -0.00689811,  0.04444836,  0.09130543, -0.05251414,\n",
       "            0.02873765, -0.09927041, -0.03296911, -0.06758915,\n",
       "            0.06036414,  0.04816158,  0.02643737,  0.02372879,\n",
       "            0.04419826,  0.05562487,  0.05840525,  0.02157049,\n",
       "           -0.06314448,  0.09994622, -0.03813893, -0.05010688,\n",
       "           -0.00062131, -0.00318828, -0.01686361, -0.0304755 ,\n",
       "           -0.07106254, -0.04565313, -0.00173745, -0.02864635,\n",
       "           -0.00599373, -0.01796702, -0.09703714, -0.02425869,\n",
       "           -0.03435212,  0.00150248,  0.04767692,  0.06691679,\n",
       "           -0.08117902,  0.04993552,  0.08879441, -0.03617644,\n",
       "           -0.08055   , -0.07451541, -0.03952889, -0.0157018 ,\n",
       "            0.01088319,  0.03087462,  0.07819337,  0.08427867,\n",
       "           -0.01624817, -0.03023984, -0.08972143, -0.02818913,\n",
       "           -0.00524792,  0.08216529,  0.09656183, -0.02181124,\n",
       "            0.04577325, -0.03779649,  0.08105752,  0.00710518]],\n",
       " \n",
       "         [[ 0.00180682,  0.07131629,  0.09795894, -0.09623205,\n",
       "           -0.08731991, -0.05193571, -0.0257123 ,  0.0848515 ,\n",
       "            0.06498443, -0.08054495, -0.09045123, -0.08063306,\n",
       "           -0.09575124,  0.01567706,  0.08469208, -0.07624561,\n",
       "            0.07240236,  0.06661293, -0.0194408 , -0.03546338,\n",
       "            0.05357425, -0.086888  , -0.00387766, -0.04349301,\n",
       "           -0.09430132, -0.08519329, -0.02073382, -0.0458405 ,\n",
       "           -0.07911102, -0.05379348,  0.0417161 ,  0.01378312,\n",
       "           -0.04632812, -0.03520026,  0.09989467,  0.06548885,\n",
       "            0.09342808,  0.07783033, -0.09210081, -0.01656583,\n",
       "            0.03446551,  0.08367367, -0.00550367,  0.07175137,\n",
       "           -0.05248652, -0.05008553,  0.06854837,  0.0351294 ,\n",
       "           -0.02863705, -0.00208512, -0.09764112,  0.05009396,\n",
       "            0.00031348, -0.02234665,  0.09664159,  0.0485844 ,\n",
       "           -0.03659935, -0.00052874,  0.09427257, -0.02182389,\n",
       "           -0.09825835, -0.08269649,  0.06136152,  0.09920155]],\n",
       " \n",
       "         [[-0.09111275, -0.08027107, -0.07546134, -0.04144131,\n",
       "           -0.04287404,  0.00820918,  0.09991321,  0.09576334,\n",
       "           -0.01002508,  0.03399226, -0.01182912,  0.00050367,\n",
       "           -0.01502631,  0.09904286, -0.04731987, -0.02040341,\n",
       "            0.09601517, -0.04379213, -0.07735863,  0.08109333,\n",
       "           -0.0608032 , -0.02427967, -0.0411499 , -0.01504676,\n",
       "            0.06511579,  0.06005503,  0.07274015,  0.06249504,\n",
       "            0.02953744,  0.02889964, -0.05344411,  0.05484846,\n",
       "            0.04372498, -0.01940301, -0.02576484,  0.08018854,\n",
       "            0.05374624, -0.07224623, -0.07982831,  0.00347873,\n",
       "            0.05494887, -0.05611012, -0.03580064,  0.08115011,\n",
       "           -0.0386207 ,  0.00157963,  0.0190141 ,  0.05299544,\n",
       "            0.05425137, -0.03291758, -0.09178303,  0.02833398,\n",
       "           -0.00445396, -0.0240463 , -0.03953775, -0.07176438,\n",
       "            0.00274031,  0.05040075,  0.05907521, -0.00379552,\n",
       "            0.04823555, -0.05117976,  0.07791688,  0.04220586]]],\n",
       " \n",
       " \n",
       "        [[[ 0.0568989 , -0.17248471,  0.01778483, -0.13102366,\n",
       "           -0.07528607,  0.01793962,  0.13546279,  0.25440076,\n",
       "           -0.01782377, -0.12459426,  0.12217003,  0.12055788,\n",
       "            0.01620038, -0.07683881,  0.20856734, -0.21309772,\n",
       "            0.0358048 , -0.00433537, -0.1464695 , -0.19409712,\n",
       "           -0.07077337, -0.0453737 , -0.26025698,  0.24004938,\n",
       "           -0.01874157, -0.13467357,  0.28202206, -0.15482344,\n",
       "           -0.20479606,  0.1616186 ,  0.13079199,  0.15881535,\n",
       "            0.13808139,  0.04967681, -0.16297288,  0.02090334,\n",
       "            0.09942321, -0.22690678,  0.11202579, -0.13203898,\n",
       "           -0.18444364,  0.2968487 , -0.19620238, -0.02120199,\n",
       "            0.12765907, -0.12176084,  0.01878496,  0.1257915 ,\n",
       "           -0.10491246, -0.25691703,  0.02739573,  0.26097852,\n",
       "            0.08965576,  0.00920233,  0.15024397, -0.06038879,\n",
       "            0.14622612,  0.06779876,  0.26491937, -0.17801636,\n",
       "           -0.0136908 , -0.0134911 , -0.12028541,  0.13883415]],\n",
       " \n",
       "         [[-0.09151427,  0.06580513, -0.18863492, -0.05358407,\n",
       "           -0.14057079, -0.16737185, -0.16124217, -0.02221274,\n",
       "           -0.01416136, -0.18201858,  0.04550677, -0.0107929 ,\n",
       "            0.01094535,  0.01234212,  0.10334023,  0.03837929,\n",
       "            0.16772784, -0.12898122,  0.10488465,  0.06686763,\n",
       "            0.11645578, -0.14614984, -0.21186537,  0.07054197,\n",
       "            0.11530276,  0.06105445, -0.00967074,  0.00612155,\n",
       "           -0.0916082 ,  0.01650537, -0.19940804,  0.20187552,\n",
       "            0.01442972, -0.0127938 ,  0.00902151, -0.1421034 ,\n",
       "            0.06984219,  0.15602411,  0.01800838,  0.12792315,\n",
       "            0.03288566, -0.01298391, -0.01674595,  0.12878747,\n",
       "            0.14626527, -0.14021868, -0.03019991, -0.19549339,\n",
       "           -0.01257055,  0.01303318,  0.20464158, -0.01566997,\n",
       "            0.17649683,  0.26562846,  0.1398597 ,  0.04955329,\n",
       "           -0.07333633,  0.16038948, -0.01275477,  0.12877278,\n",
       "            0.07783016,  0.11578249, -0.12543868, -0.03849147]],\n",
       " \n",
       "         [[ 0.05717741, -0.12964436, -0.06704115, -0.04730348,\n",
       "            0.09221597, -0.04770758, -0.01202932, -0.02427591,\n",
       "            0.12308981,  0.01014451, -0.00255924,  0.13854285,\n",
       "           -0.06897561, -0.05888525, -0.09076775, -0.07814146,\n",
       "            0.16970333,  0.1718995 , -0.10479581,  0.08758155,\n",
       "           -0.14593175,  0.10858621, -0.01350233,  0.14699723,\n",
       "            0.25245255,  0.01335547, -0.09600606, -0.06847103,\n",
       "           -0.00667215, -0.21737203, -0.05447781, -0.1518357 ,\n",
       "           -0.11315251, -0.01245778,  0.13135682, -0.16974705,\n",
       "            0.01367536, -0.0543506 ,  0.11750592,  0.10353173,\n",
       "            0.01306656,  0.06771695,  0.20718038,  0.19769157,\n",
       "           -0.16406573, -0.0114997 , -0.23809694, -0.10975794,\n",
       "           -0.22863068, -0.1716268 ,  0.07632698,  0.2056656 ,\n",
       "            0.00926339,  0.25108925, -0.01087961,  0.01254886,\n",
       "            0.01166489, -0.01192783,  0.17260866, -0.07675866,\n",
       "            0.01128683, -0.1254552 ,  0.1562034 , -0.13410388]]],\n",
       " \n",
       " \n",
       "        [[[ 0.05128622,  0.05692436, -0.05118539,  0.06655449,\n",
       "           -0.05754338,  0.02677883,  0.07669544, -0.02162201,\n",
       "            0.01629706,  0.0160868 ,  0.03302985, -0.05825971,\n",
       "            0.06034803, -0.09939391, -0.01700009,  0.05868419,\n",
       "            0.08764929,  0.04855277, -0.09274454, -0.03098574,\n",
       "           -0.0380915 ,  0.0535053 , -0.10032716,  0.10082519,\n",
       "            0.02537979,  0.03252017, -0.0490932 ,  0.08914931,\n",
       "            0.03533301, -0.01234429, -0.09196053,  0.01934226,\n",
       "            0.06783302, -0.05265349, -0.09728229, -0.06005479,\n",
       "            0.00611707,  0.07692707,  0.08819954,  0.08617179,\n",
       "           -0.10080884,  0.01475675,  0.05670376, -0.02148537,\n",
       "            0.02385949,  0.01427615,  0.02695137,  0.03547689,\n",
       "            0.03996581,  0.05396587,  0.07090314,  0.03156503,\n",
       "            0.03008482,  0.04190513,  0.094906  , -0.08624978,\n",
       "            0.0207724 , -0.05715036, -0.06402819,  0.05190167,\n",
       "           -0.03336647, -0.02573618, -0.03565864, -0.07987796]],\n",
       " \n",
       "         [[-0.01068713, -0.01289222, -0.05411294,  0.01116574,\n",
       "           -0.01112467,  0.01855516,  0.02554207,  0.04492149,\n",
       "            0.06634609, -0.08713832,  0.00145829, -0.05349264,\n",
       "            0.09703764,  0.01603567,  0.01994426,  0.09382869,\n",
       "           -0.00882391, -0.02634624,  0.07182637,  0.06366748,\n",
       "            0.0175785 , -0.0165659 , -0.01417547, -0.09806982,\n",
       "           -0.07684867,  0.01057514,  0.08560473, -0.09571637,\n",
       "            0.05802767, -0.04177672, -0.03351618, -0.02717881,\n",
       "            0.06761526,  0.01162267,  0.0806115 , -0.05047237,\n",
       "            0.033233  ,  0.00867445,  0.03708115,  0.03879035,\n",
       "           -0.02482234,  0.08582151,  0.06723994,  0.06427276,\n",
       "           -0.06025027,  0.01326438, -0.06367754,  0.04695375,\n",
       "           -0.01700538,  0.06299992,  0.05912861, -0.03965162,\n",
       "            0.00869635, -0.07918654, -0.03973905,  0.06388877,\n",
       "            0.06139839, -0.0318481 , -0.10014417,  0.0293868 ,\n",
       "           -0.02190227,  0.09579101,  0.03173465,  0.02439351]],\n",
       " \n",
       "         [[-0.06783828, -0.01803663,  0.05142474,  0.07181583,\n",
       "            0.01410045, -0.04817091, -0.05502002,  0.08123092,\n",
       "           -0.00790628, -0.02086949,  0.0802256 , -0.09687819,\n",
       "            0.01138312,  0.07339641,  0.0163485 ,  0.07200739,\n",
       "           -0.04989353, -0.07244423,  0.05187957,  0.06217414,\n",
       "           -0.05221723,  0.07134292,  0.06445125, -0.05725011,\n",
       "           -0.04920166, -0.06949255, -0.07659382, -0.00970836,\n",
       "            0.0467179 , -0.06074528, -0.03611528,  0.07452507,\n",
       "            0.04533552, -0.0692092 , -0.04718328,  0.04680265,\n",
       "            0.04591581,  0.04451804, -0.0343456 , -0.06334827,\n",
       "            0.00366332,  0.02558884, -0.05209367, -0.09343058,\n",
       "            0.00931187,  0.04000849,  0.09370089, -0.00263192,\n",
       "           -0.04730126, -0.06679445,  0.07964717,  0.03225085,\n",
       "            0.00282644, -0.00948434, -0.06382616,  0.01550523,\n",
       "           -0.04176569, -0.08498059,  0.01667164, -0.06084126,\n",
       "            0.00797478,  0.09576654, -0.05458924, -0.06078174]]]],\n",
       "       dtype=float32)>,\n",
       " <tf.Variable 'conv2d_60/bias:0' shape=(64,) dtype=float32, numpy=\n",
       " array([ 2.5723514e-04,  1.9847781e-03, -1.2831677e-03,  2.4222729e-03,\n",
       "        -9.2062459e-04, -5.1084189e-03, -3.4191622e-03,  8.1321475e-04,\n",
       "        -4.4078864e-03, -2.0707261e-03, -8.4588374e-04,  2.1939268e-03,\n",
       "         9.1966509e-04, -3.9922155e-04, -1.1820979e-03, -7.5554606e-05,\n",
       "         1.0728800e-02,  1.6708083e-03, -3.2574865e-03,  6.8188184e-03,\n",
       "        -3.7609185e-03, -1.1527460e-03, -2.3373306e-02,  1.0606509e-02,\n",
       "         1.0130908e-02,  8.8072277e-04, -7.8597944e-03, -1.7672436e-03,\n",
       "        -2.8603154e-03, -8.7472741e-03, -6.0647624e-03,  3.8928371e-03,\n",
       "        -1.1239557e-02,  1.0731235e-03,  4.6925987e-03, -1.0762107e-02,\n",
       "         4.7760704e-03, -7.3558872e-04, -1.9054817e-03,  4.7609480e-03,\n",
       "         3.8986166e-03,  7.3806988e-03,  5.9362575e-03,  7.0913793e-03,\n",
       "        -7.6979958e-04, -4.1637127e-03, -3.1416700e-03, -1.5254393e-03,\n",
       "        -2.5840099e-03, -5.5555436e-03,  1.0855168e-02,  1.3289381e-02,\n",
       "         3.9822506e-03,  4.4130504e-02, -1.4629477e-03,  2.8819905e-03,\n",
       "         8.9932577e-04,  5.1069870e-03,  2.9399437e-03,  1.1736469e-03,\n",
       "         7.4207727e-03, -2.5756180e-03,  2.1434065e-03, -5.5713458e-03],\n",
       "       dtype=float32)>,\n",
       " <tf.Variable 'conv2d_61/kernel:0' shape=(3, 3, 64, 128) dtype=float32, numpy=\n",
       " array([[[[ 0.02290399,  0.01177011, -0.04330291, ...,  0.02585556,\n",
       "           -0.05496819,  0.04777796],\n",
       "          [ 0.02672235, -0.05650745,  0.05869505, ...,  0.01111333,\n",
       "           -0.04388043, -0.01693143],\n",
       "          [ 0.04116105, -0.02250867, -0.01272262, ..., -0.02429308,\n",
       "           -0.02590699,  0.02883359],\n",
       "          ...,\n",
       "          [ 0.05240345,  0.00909506, -0.01009943, ...,  0.01694154,\n",
       "            0.01145737,  0.04647074],\n",
       "          [-0.02091362,  0.02626364, -0.02719568, ...,  0.02981538,\n",
       "           -0.04983833,  0.04816616],\n",
       "          [-0.01025773,  0.02263738, -0.01055994, ...,  0.03579671,\n",
       "           -0.05487707,  0.00937148]],\n",
       " \n",
       "         [[-0.03973292,  0.05663441,  0.02737252, ...,  0.03885679,\n",
       "           -0.01152619,  0.04479228],\n",
       "          [-0.020039  ,  0.05024195, -0.04984578, ...,  0.01539002,\n",
       "            0.0517818 ,  0.02287785],\n",
       "          [ 0.04337709, -0.00018398,  0.03097019, ...,  0.01044913,\n",
       "            0.00505442,  0.03716907],\n",
       "          ...,\n",
       "          [-0.01293421, -0.00089015,  0.04262158, ...,  0.05778847,\n",
       "            0.04248865, -0.00417158],\n",
       "          [-0.02380145,  0.03849876,  0.03792219, ...,  0.04183908,\n",
       "            0.0341395 , -0.04832397],\n",
       "          [-0.01969025,  0.00425844,  0.0186896 , ...,  0.01589675,\n",
       "           -0.0440628 ,  0.0552672 ]],\n",
       " \n",
       "         [[-0.03869057,  0.04059831,  0.02603547, ..., -0.03309163,\n",
       "            0.0150176 , -0.03459667],\n",
       "          [-0.01688068,  0.0133484 , -0.04784683, ..., -0.0451285 ,\n",
       "           -0.03030419,  0.04065523],\n",
       "          [ 0.01712317,  0.01699192,  0.02248715, ...,  0.00653067,\n",
       "           -0.05445239, -0.05259067],\n",
       "          ...,\n",
       "          [ 0.05090626,  0.0339061 , -0.01416633, ...,  0.0274942 ,\n",
       "            0.01672543,  0.03378108],\n",
       "          [ 0.01049872, -0.04309513, -0.00222018, ..., -0.04187141,\n",
       "            0.04004817,  0.0321605 ],\n",
       "          [ 0.01150331,  0.03455761, -0.04951451, ..., -0.05225109,\n",
       "           -0.00375772,  0.05489511]]],\n",
       " \n",
       " \n",
       "        [[[-0.00638517,  0.00480944,  0.05318036, ...,  0.02409974,\n",
       "           -0.02983358,  0.01830175],\n",
       "          [ 0.0295955 , -0.01619122,  0.01029004, ..., -0.02472488,\n",
       "            0.05469614,  0.01330396],\n",
       "          [ 0.04804038, -0.0615022 , -0.01248832, ..., -0.02324994,\n",
       "           -0.03605906,  0.00644445],\n",
       "          ...,\n",
       "          [ 0.0474967 ,  0.00142456, -0.05203385, ...,  0.01073913,\n",
       "            0.00332256, -0.00652312],\n",
       "          [-0.00876096, -0.01729167,  0.00183088, ..., -0.00116854,\n",
       "           -0.04238822, -0.01136005],\n",
       "          [-0.0033451 ,  0.03492785,  0.04841375, ...,  0.00237661,\n",
       "           -0.01523774, -0.02673096]],\n",
       " \n",
       "         [[-0.06282883,  0.01006975, -0.04599851, ..., -0.04183746,\n",
       "            0.05095869, -0.02894246],\n",
       "          [-0.04672243,  0.01201244,  0.02584092, ...,  0.03065372,\n",
       "            0.02970889,  0.00093134],\n",
       "          [-0.02854994,  0.05206259,  0.02382266, ...,  0.00870379,\n",
       "           -0.03752029,  0.04610249],\n",
       "          ...,\n",
       "          [ 0.00430597,  0.03868318,  0.04181813, ..., -0.04210011,\n",
       "           -0.02628922,  0.02022879],\n",
       "          [-0.03128826, -0.03141718,  0.03612002, ..., -0.00107941,\n",
       "           -0.02490734,  0.04264371],\n",
       "          [-0.01212915,  0.05710052,  0.00497946, ...,  0.04867529,\n",
       "           -0.03934697, -0.03213443]],\n",
       " \n",
       "         [[ 0.03238966,  0.00976567, -0.00231626, ...,  0.04203231,\n",
       "           -0.01399693,  0.01354985],\n",
       "          [ 0.02849964,  0.04379015, -0.00766697, ..., -0.05273226,\n",
       "           -0.0076684 ,  0.04338865],\n",
       "          [ 0.04826654, -0.00677241,  0.04901811, ...,  0.05706248,\n",
       "           -0.0593827 , -0.01438042],\n",
       "          ...,\n",
       "          [-0.01220893,  0.00105614, -0.01680969, ...,  0.00689269,\n",
       "            0.00569687, -0.05740425],\n",
       "          [ 0.05049677, -0.03960663,  0.04628956, ..., -0.02255807,\n",
       "           -0.02118572,  0.04680036],\n",
       "          [ 0.03132682, -0.00066026, -0.03621534, ...,  0.00785465,\n",
       "            0.01946109, -0.06556787]]],\n",
       " \n",
       " \n",
       "        [[[-0.04715987, -0.03091207, -0.02300514, ..., -0.04881195,\n",
       "            0.03167125,  0.00671273],\n",
       "          [ 0.00478109, -0.04374326,  0.02882055, ...,  0.04207959,\n",
       "           -0.03413017, -0.01460907],\n",
       "          [-0.02119602,  0.02995607, -0.02458775, ..., -0.03749837,\n",
       "           -0.01904321,  0.03931859],\n",
       "          ...,\n",
       "          [-0.01433125, -0.05403919,  0.01373112, ..., -0.02756811,\n",
       "            0.02845986, -0.04513315],\n",
       "          [-0.04427651,  0.01148569,  0.01866542, ..., -0.05172591,\n",
       "            0.00523761,  0.01247596],\n",
       "          [ 0.02810108,  0.05027137,  0.05445005, ..., -0.04713083,\n",
       "            0.00542535, -0.03792059]],\n",
       " \n",
       "         [[ 0.04783618,  0.00659347, -0.00374919, ...,  0.00672405,\n",
       "           -0.04899911, -0.02733767],\n",
       "          [ 0.02967602, -0.04819779,  0.05052504, ...,  0.00049775,\n",
       "            0.01176998,  0.02732831],\n",
       "          [-0.02826906,  0.01988745, -0.05248953, ...,  0.05090406,\n",
       "           -0.04546775, -0.03896113],\n",
       "          ...,\n",
       "          [ 0.03850723,  0.024812  ,  0.05074057, ...,  0.0487236 ,\n",
       "            0.05879596,  0.04600316],\n",
       "          [ 0.00930115, -0.04940188, -0.00906007, ...,  0.05027986,\n",
       "           -0.04158329, -0.03637221],\n",
       "          [ 0.05171138,  0.05840306,  0.05582194, ...,  0.04078182,\n",
       "           -0.04240784,  0.01912617]],\n",
       " \n",
       "         [[ 0.00443246, -0.02344711,  0.05435864, ..., -0.01295212,\n",
       "            0.00643891,  0.04696335],\n",
       "          [ 0.01606866,  0.0271189 ,  0.03957547, ...,  0.04487381,\n",
       "            0.04609765, -0.02939254],\n",
       "          [ 0.00977526,  0.04907166,  0.03268475, ...,  0.05002321,\n",
       "           -0.04380467,  0.04090245],\n",
       "          ...,\n",
       "          [-0.00951305,  0.05733063,  0.01676067, ...,  0.02510566,\n",
       "            0.02817832,  0.01372496],\n",
       "          [-0.05630683, -0.0174325 , -0.02898193, ..., -0.0222268 ,\n",
       "            0.02459412, -0.00766417],\n",
       "          [-0.05175105,  0.05599483,  0.02383622, ..., -0.04874855,\n",
       "           -0.01177413,  0.05883667]]]], dtype=float32)>,\n",
       " <tf.Variable 'conv2d_61/bias:0' shape=(128,) dtype=float32, numpy=\n",
       " array([ 0.00248564, -0.00474357,  0.00101893,  0.0020324 ,  0.00197652,\n",
       "        -0.00282456, -0.00381601,  0.00021768, -0.00089838, -0.01369957,\n",
       "         0.00167623,  0.00556488,  0.00336674, -0.00539656, -0.00332329,\n",
       "         0.00398206, -0.00080908,  0.00462206,  0.00085364, -0.00420388,\n",
       "         0.00199536,  0.00665026, -0.00353541, -0.0003445 , -0.0025085 ,\n",
       "         0.00224449,  0.00407921, -0.00292053,  0.00139844,  0.00244852,\n",
       "        -0.0022425 ,  0.00310711, -0.00530556,  0.00521794,  0.00083736,\n",
       "         0.00314944, -0.00362099, -0.00868538,  0.0019777 , -0.00611217,\n",
       "        -0.0027118 ,  0.00354303,  0.00225488,  0.01362617,  0.00138762,\n",
       "         0.0001867 ,  0.00636045,  0.00427908,  0.01163249, -0.00709011,\n",
       "        -0.00015333,  0.00568484,  0.00599447,  0.00100815,  0.00253504,\n",
       "        -0.00193046, -0.01126205,  0.00163279,  0.01332235, -0.00043468,\n",
       "         0.00417524,  0.00529191, -0.00012507, -0.00307769,  0.00085241,\n",
       "        -0.00887716, -0.00199751,  0.00462899, -0.00786711,  0.00203934,\n",
       "         0.00659888,  0.00012408,  0.00677494, -0.001791  ,  0.00057701,\n",
       "         0.00306462,  0.00532242, -0.00020752, -0.00136445,  0.00912704,\n",
       "         0.00575449, -0.00074193, -0.00019336,  0.00275643,  0.00323195,\n",
       "        -0.00314079,  0.00166457,  0.00428628,  0.00433807,  0.00443672,\n",
       "         0.00141221,  0.00293231,  0.00691313, -0.00780948, -0.00252677,\n",
       "         0.00736864,  0.00701102,  0.00183038, -0.00042098, -0.00328125,\n",
       "         0.00816146,  0.00117938,  0.00862818,  0.000229  ,  0.00244007,\n",
       "         0.00964632, -0.00286342,  0.00112916,  0.00318263,  0.00314438,\n",
       "        -0.00755651, -0.00225096,  0.00127494, -0.00239618, -0.00228357,\n",
       "        -0.00475699, -0.00124807, -0.00010972,  0.00258126,  0.00256691,\n",
       "        -0.00233598, -0.00139023,  0.0041885 , -0.01207665,  0.00343125,\n",
       "         0.00741197, -0.01208987,  0.00244605], dtype=float32)>,\n",
       " <tf.Variable 'dense_60/kernel:0' shape=(5376, 1024) dtype=float32, numpy=\n",
       " array([[ 0.0071955 , -0.0068021 , -0.01487612, ...,  0.00954454,\n",
       "         -0.01236298,  0.00169329],\n",
       "        [ 0.01341647,  0.02889784,  0.00904803, ..., -0.00290948,\n",
       "          0.00374557, -0.00950431],\n",
       "        [-0.01682765, -0.0130433 , -0.02469652, ...,  0.02859609,\n",
       "          0.01328205, -0.02203641],\n",
       "        ...,\n",
       "        [ 0.02862519, -0.01468724,  0.00056124, ..., -0.00389782,\n",
       "          0.02170167, -0.00127385],\n",
       "        [ 0.03040802,  0.0097229 , -0.0194215 , ..., -0.00273015,\n",
       "          0.02799702, -0.00103312],\n",
       "        [-0.01214406, -0.02169122, -0.00143529, ..., -0.02357117,\n",
       "          0.01883609,  0.00838526]], dtype=float32)>,\n",
       " <tf.Variable 'dense_60/bias:0' shape=(1024,) dtype=float32, numpy=\n",
       " array([-4.1516521e-04,  4.4358290e-05, -2.4146107e-03, ...,\n",
       "         8.5498916e-04,  6.5084844e-04,  9.5072319e-04], dtype=float32)>,\n",
       " <tf.Variable 'dense_61/kernel:0' shape=(1024, 2) dtype=float32, numpy=\n",
       " array([[-0.09055109,  0.09986456],\n",
       "        [ 0.00031724,  0.05123997],\n",
       "        [ 0.00027951, -0.09862834],\n",
       "        ...,\n",
       "        [-0.00956463, -0.07797293],\n",
       "        [ 0.00059273, -0.03898538],\n",
       "        [ 0.0820474 , -0.0041768 ]], dtype=float32)>,\n",
       " <tf.Variable 'dense_61/bias:0' shape=(2,) dtype=float32, numpy=array([ 0.00763694, -0.00697153], dtype=float32)>]"
      ]
     },
     "execution_count": 41,
     "metadata": {},
     "output_type": "execute_result"
    }
   ],
   "source": [
    "model.weights"
   ]
  },
  {
   "cell_type": "markdown",
   "metadata": {},
   "source": [
    "### *Best model summary*"
   ]
  },
  {
   "cell_type": "code",
   "execution_count": 42,
   "metadata": {},
   "outputs": [
    {
     "name": "stdout",
     "output_type": "stream",
     "text": [
      "Model: \"sequential_30\"\n",
      "_________________________________________________________________\n",
      " Layer (type)                Output Shape              Param #   \n",
      "=================================================================\n",
      " conv2d_60 (Conv2D)          (None, 1, 42, 64)         640       \n",
      "                                                                 \n",
      " max_pooling2d_60 (MaxPooli  (None, 1, 42, 64)         0         \n",
      " ng2D)                                                           \n",
      "                                                                 \n",
      " conv2d_61 (Conv2D)          (None, 1, 42, 128)        73856     \n",
      "                                                                 \n",
      " max_pooling2d_61 (MaxPooli  (None, 1, 42, 128)        0         \n",
      " ng2D)                                                           \n",
      "                                                                 \n",
      " flatten_30 (Flatten)        (None, 5376)              0         \n",
      "                                                                 \n",
      " dense_60 (Dense)            (None, 1024)              5506048   \n",
      "                                                                 \n",
      " dropout_30 (Dropout)        (None, 1024)              0         \n",
      "                                                                 \n",
      " dense_61 (Dense)            (None, 2)                 2050      \n",
      "                                                                 \n",
      "=================================================================\n",
      "Total params: 5582594 (21.30 MB)\n",
      "Trainable params: 5582594 (21.30 MB)\n",
      "Non-trainable params: 0 (0.00 Byte)\n",
      "_________________________________________________________________\n"
     ]
    }
   ],
   "source": [
    "model.summary()"
   ]
  },
  {
   "cell_type": "markdown",
   "metadata": {},
   "source": [
    "### *Recall*"
   ]
  },
  {
   "cell_type": "code",
   "execution_count": 43,
   "metadata": {},
   "outputs": [
    {
     "name": "stdout",
     "output_type": "stream",
     "text": [
      "5480/5480 [==============================] - 13s 2ms/step\n"
     ]
    }
   ],
   "source": [
    "prediction = model.predict(x_test)\n",
    "threshold = 0.5\n",
    "binary_prediction = np.where(prediction >= threshold, 1, 0)\n",
    "recall = mt.recall_score(y_test_one_hot, binary_prediction, average='weighted')"
   ]
  },
  {
   "cell_type": "markdown",
   "metadata": {},
   "source": [
    "### *Accuracy score*"
   ]
  },
  {
   "cell_type": "code",
   "execution_count": 44,
   "metadata": {},
   "outputs": [],
   "source": [
    "accuracy = mt.accuracy_score(y_test_one_hot, binary_prediction)"
   ]
  },
  {
   "cell_type": "markdown",
   "metadata": {},
   "source": [
    "###  *Precision score*"
   ]
  },
  {
   "cell_type": "code",
   "execution_count": 45,
   "metadata": {},
   "outputs": [],
   "source": [
    "precision = mt.precision_score(y_test_one_hot, binary_prediction, average='weighted')"
   ]
  },
  {
   "cell_type": "markdown",
   "metadata": {},
   "source": [
    "### *F1 score*"
   ]
  },
  {
   "cell_type": "code",
   "execution_count": 46,
   "metadata": {},
   "outputs": [],
   "source": [
    "f1 = mt.f1_score(y_test_one_hot, binary_prediction, average='weighted')"
   ]
  },
  {
   "cell_type": "markdown",
   "metadata": {},
   "source": [
    "### *Classification Report*"
   ]
  },
  {
   "cell_type": "code",
   "execution_count": 47,
   "metadata": {},
   "outputs": [
    {
     "name": "stdout",
     "output_type": "stream",
     "text": [
      "              precision    recall  f1-score   support\n",
      "\n",
      "      normal       0.67      0.96      0.79     56000\n",
      "      attack       0.98      0.78      0.87    119341\n",
      "\n",
      "   micro avg       0.84      0.84      0.84    175341\n",
      "   macro avg       0.82      0.87      0.83    175341\n",
      "weighted avg       0.88      0.84      0.84    175341\n",
      " samples avg       0.84      0.84      0.84    175341\n",
      "\n"
     ]
    },
    {
     "name": "stderr",
     "output_type": "stream",
     "text": [
      "c:\\Users\\cdub6\\anaconda3\\Lib\\site-packages\\sklearn\\metrics\\_classification.py:1344: UndefinedMetricWarning: Precision and F-score are ill-defined and being set to 0.0 in samples with no predicted labels. Use `zero_division` parameter to control this behavior.\n",
      "  _warn_prf(average, modifier, msg_start, len(result))\n"
     ]
    }
   ],
   "source": [
    "names = ['normal', 'attack']\n",
    "print(mt.classification_report(y_test_one_hot, binary_prediction, target_names=names))"
   ]
  },
  {
   "cell_type": "markdown",
   "metadata": {},
   "source": [
    "### *Confusion matrix*"
   ]
  },
  {
   "cell_type": "code",
   "execution_count": 48,
   "metadata": {},
   "outputs": [
    {
     "name": "stdout",
     "output_type": "stream",
     "text": [
      "[[53687  2313]\n",
      " [26218 93123]]\n",
      "Plotting confusion matrix\n"
     ]
    },
    {
     "data": {
      "image/png": "[encoded data removed]",
      "text/plain": [
       "<Figure size 640x480 with 2 Axes>"
      ]
     },
     "metadata": {},
     "output_type": "display_data"
    }
   ],
   "source": [
    "label = encode_text_index(training_df, 'label')\n",
    "label_names = [names[num] for num in label]\n",
    "\n",
    "y_test_labels = np.argmax(y_test_one_hot, axis=1)\n",
    "binary_prediction_labels = np.argmax(binary_prediction, axis=1)\n",
    "\n",
    "cm = confusion_matrix(y_test_labels, binary_prediction_labels)\n",
    "print(cm)\n",
    "\n",
    "print('Plotting confusion matrix')\n",
    "\n",
    "plt.figure()\n",
    "plot_confusion_matrix(cm, label_names)\n",
    "plt.show()"
   ]
  },
  {
   "cell_type": "markdown",
   "metadata": {},
   "source": [
    "### *ROC Curve*"
   ]
  },
  {
   "cell_type": "code",
   "execution_count": 49,
   "metadata": {},
   "outputs": [
    {
     "data": {
      "image/png": "[encoded data removed]",
      "text/plain": [
       "<Figure size 640x480 with 1 Axes>"
      ]
     },
     "metadata": {},
     "output_type": "display_data"
    }
   ],
   "source": [
    "plot_roc(binary_prediction_labels, y_test_labels)"
   ]
  }
 ],
 "metadata": {
  "kernelspec": {
   "display_name": "base",
   "language": "python",
   "name": "python3"
  },
  "language_info": {
   "codemirror_mode": {
    "name": "ipython",
    "version": 3
   },
   "file_extension": ".py",
   "mimetype": "text/x-python",
   "name": "python",
   "nbconvert_exporter": "python",
   "pygments_lexer": "ipython3",
   "version": "3.11.5"
  }
 },
 "nbformat": 4,
 "nbformat_minor": 2
}
