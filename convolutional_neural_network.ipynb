{
 "cells": [
  {
   "cell_type": "markdown",
   "metadata": {},
   "source": [
    "# **Convolutional Neural Network**"
   ]
  },
  {
   "cell_type": "markdown",
   "metadata": {},
   "source": [
    "### *Libraries and functions*"
   ]
  },
  {
   "cell_type": "code",
   "execution_count": 2,
   "metadata": {},
   "outputs": [
    {
     "name": "stdout",
     "output_type": "stream",
     "text": [
      "WARNING:tensorflow:From c:\\Users\\cdub6\\anaconda3\\Lib\\site-packages\\keras\\src\\losses.py:2976: The name tf.losses.sparse_softmax_cross_entropy is deprecated. Please use tf.compat.v1.losses.sparse_softmax_cross_entropy instead.\n",
      "\n"
     ]
    }
   ],
   "source": [
    "%matplotlib inline\n",
    "from collections.abc import Sequence\n",
    "from sklearn import preprocessing\n",
    "from sklearn import metrics as mt\n",
    "from sklearn import svm, datasets\n",
    "from sklearn.model_selection import train_test_split\n",
    "from sklearn.metrics import confusion_matrix, classification_report, roc_curve, auc\n",
    "from tensorflow.keras.models import load_model\n",
    "from tensorflow.keras.models import Sequential\n",
    "from tensorflow.keras.layers import Dense, Dropout\n",
    "from tensorflow.keras.callbacks import EarlyStopping\n",
    "from tensorflow.keras.callbacks import ModelCheckpoint\n",
    "\n",
    "import matplotlib.pyplot as plt\n",
    "import numpy as np\n",
    "import pandas as pd\n",
    "import shutil\n",
    "import os\n",
    "import tensorflow as tf\n",
    "\n",
    "\n",
    "\n",
    "# Encode text values to dummy variables(i.e. [1,0,0],[0,1,0],[0,0,1] for red,green,blue)\n",
    "def encode_text_dummy(df, name):\n",
    "    dummies = pd.get_dummies(df[name])\n",
    "    for x in dummies.columns:\n",
    "        dummy_name = \"{}-{}\".format(name, x)\n",
    "        df[dummy_name] = dummies[x]\n",
    "    df.drop(name, axis=1, inplace=True)\n",
    "\n",
    "# Encode text values to a single dummy variable.  The new columns (which do not replace the old) will have a 1\n",
    "# at every location where the original column (name) matches each of the target_values.  One column is added for\n",
    "# each target value.\n",
    "def encode_text_single_dummy(df, name, target_values):\n",
    "    for tv in target_values:\n",
    "        l = list(df[name].astype(str))\n",
    "        l = [1 if str(x) == str(tv) else 0 for x in l]\n",
    "        name2 = \"{}-{}\".format(name, tv)\n",
    "        df[name2] = l\n",
    "\n",
    "\n",
    "# Encode text values to indexes(i.e. [1],[2],[3] for red,green,blue).\n",
    "def encode_text_index(df, name):\n",
    "    le = preprocessing.LabelEncoder()\n",
    "    df[name] = le.fit_transform(df[name])\n",
    "    return le.classes_\n",
    "\n",
    "\n",
    "# Encode a numeric column as zscores\n",
    "def encode_numeric_zscore(df, name, mean=None, sd=None):\n",
    "    if mean is None:\n",
    "        mean = df[name].mean()\n",
    "\n",
    "    if sd is None:\n",
    "        sd = df[name].std()\n",
    "\n",
    "    df[name] = (df[name] - mean) / sd\n",
    "\n",
    "# Convert all missing values in the specified column to the default\n",
    "def missing_default(df, name, default_value):\n",
    "    df[name] = df[name].fillna(default_value)\n",
    "\n",
    "\n",
    "# Convert a Pandas dataframe to the x,y inputs that TensorFlow needs\n",
    "def to_xy(df, target):\n",
    "    result = []\n",
    "    for x in df.columns:\n",
    "        if x != target:\n",
    "            result.append(x)\n",
    "    # find out the type of the target column.\n",
    "    target_type = df[target].dtypes\n",
    "    target_type = target_type[0] if isinstance(target_type, Sequence) else target_type\n",
    "    # Encode to int for classification, float otherwise. TensorFlow likes 32 bits.\n",
    "    if target_type in (np.int64, np.int32):\n",
    "        # Classification\n",
    "        dummies = pd.get_dummies(df[target])\n",
    "        return df[result].values.astype(np.float32), dummies.values.astype(np.float32)\n",
    "    else:\n",
    "        # Regression\n",
    "        return df[result].values.astype(np.float32), df[target].values.astype(np.float32)\n",
    "\n",
    "# Nicely formatted time string\n",
    "def hms_string(sec_elapsed):\n",
    "    h = int(sec_elapsed / (60 * 60))\n",
    "    m = int((sec_elapsed % (60 * 60)) / 60)\n",
    "    s = sec_elapsed % 60\n",
    "    return \"{}:{:>02}:{:>05.2f}\".format(h, m, s)\n",
    "\n",
    "\n",
    "# Regression chart.\n",
    "def chart_regression(pred,y,sort=True):\n",
    "    t = pd.DataFrame({'pred' : pred, 'y' : y.flatten()})\n",
    "    if sort:\n",
    "        t.sort_values(by=['y'],inplace=True)\n",
    "    a = plt.plot(t['y'].tolist(),label='expected')\n",
    "    b = plt.plot(t['pred'].tolist(),label='prediction')\n",
    "    plt.ylabel('output')\n",
    "    plt.legend()\n",
    "    plt.show()\n",
    "\n",
    "# Remove all rows where the specified column is +/- sd standard deviations\n",
    "def remove_outliers(df, name, sd):\n",
    "    drop_rows = df.index[(np.abs(df[name] - df[name].mean()) >= (sd * df[name].std()))]\n",
    "    df.drop(drop_rows, axis=0, inplace=True)\n",
    "\n",
    "# Encode a column to a range between normalized_low and normalized_high.\n",
    "def encode_numeric_range(df, name, normalized_low=-1, normalized_high=1,\n",
    "                         data_low=None, data_high=None):\n",
    "    if data_low is None:\n",
    "        data_low = min(df[name])\n",
    "        data_high = max(df[name])\n",
    "\n",
    "    df[name] = ((df[name] - data_low) / (data_high - data_low)) \\\n",
    "               * (normalized_high - normalized_low) + normalized_low\n",
    "    \n",
    "# Plot a confusion matrix.\n",
    "# cm is the confusion matrix, names are the names of the classes.\n",
    "def plot_confusion_matrix(cm, names, title='Confusion matrix', cmap=plt.cm.Blues):\n",
    "    plt.imshow(cm, interpolation='nearest', cmap=cmap)\n",
    "    plt.title(title)\n",
    "    plt.colorbar()\n",
    "    tick_marks = np.arange(len(names))\n",
    "    plt.xticks(tick_marks, names, rotation=45)\n",
    "    plt.yticks(tick_marks, names)\n",
    "    plt.tight_layout()\n",
    "    plt.ylabel('True label')\n",
    "    plt.xlabel('Predicted label')\n",
    "    \n",
    "\n",
    "# Plot an ROC. pred - the predictions, y - the expected output.\n",
    "def plot_roc(pred,y):\n",
    "    fpr, tpr, thresholds = roc_curve(y, pred)\n",
    "    roc_auc = auc(fpr, tpr)\n",
    "\n",
    "    plt.figure()\n",
    "    plt.plot(fpr, tpr, label='ROC curve (area = %0.2f)' % roc_auc)\n",
    "    plt.plot([0, 1], [0, 1], 'k--')\n",
    "    plt.xlim([0.0, 1.0])\n",
    "    plt.ylim([0.0, 1.05])\n",
    "    plt.xlabel('False Positive Rate')\n",
    "    plt.ylabel('True Positive Rate')\n",
    "    plt.title('Receiver Operating Characteristic (ROC)')\n",
    "    plt.legend(loc=\"lower right\")\n",
    "    plt.show()"
   ]
  },
  {
   "cell_type": "markdown",
   "metadata": {},
   "source": [
    "### *Load dataframes from file*"
   ]
  },
  {
   "cell_type": "code",
   "execution_count": 3,
   "metadata": {},
   "outputs": [],
   "source": [
    "training_df = pd.read_pickle('./data/training_index.pkl')\n",
    "testing_df = pd.read_pickle('./data/testing_index.pkl')"
   ]
  },
  {
   "cell_type": "markdown",
   "metadata": {},
   "source": [
    "### *Use dataframe to configure x,y*"
   ]
  },
  {
   "cell_type": "code",
   "execution_count": 3,
   "metadata": {},
   "outputs": [],
   "source": [
    "training_df['label'] = training_df['label'].astype('category')\n",
    "testing_df['label'] = testing_df['label'].astype('category')\n",
    "x_train, y_train = to_xy(training_df, 'label')\n",
    "x_test, y_test = to_xy(testing_df, 'label')"
   ]
  },
  {
   "cell_type": "markdown",
   "metadata": {},
   "source": [
    "### *Shape*"
   ]
  },
  {
   "cell_type": "code",
   "execution_count": 4,
   "metadata": {},
   "outputs": [
    {
     "name": "stdout",
     "output_type": "stream",
     "text": [
      "x_train shape: (82332, 42)\n",
      "y_train shape: (82332,)\n",
      "x_test shape: (175341, 42)\n",
      "y_test shape: (175341,)\n"
     ]
    }
   ],
   "source": [
    "print('x_train shape:', x_train.shape)\n",
    "print('y_train shape:', y_train.shape)\n",
    "print('x_test shape:', x_test.shape)\n",
    "print('y_test shape:', y_test.shape)"
   ]
  },
  {
   "cell_type": "markdown",
   "metadata": {},
   "source": [
    "### *Reshape x's*"
   ]
  },
  {
   "cell_type": "code",
   "execution_count": 5,
   "metadata": {},
   "outputs": [],
   "source": [
    "x_train_rows = x_train.shape[0]\n",
    "x_cols = x_train.shape[1]\n",
    "x_test_rows = x_test.shape[0]\n",
    "x_train = x_train.reshape((x_train_rows, 1, x_cols, 1))\n",
    "x_test = x_test.reshape((x_test_rows, 1, x_cols, 1))"
   ]
  },
  {
   "cell_type": "markdown",
   "metadata": {},
   "source": [
    "### *x_train*"
   ]
  },
  {
   "cell_type": "code",
   "execution_count": 6,
   "metadata": {},
   "outputs": [
    {
     "name": "stdout",
     "output_type": "stream",
     "text": [
      "x_train shape: (82332, 1, 42, 1)\n",
      "[[[[ -0.21372615]\n",
      "   [117.        ]\n",
      "   [  0.        ]\n",
      "   ...\n",
      "   [ -0.6400289 ]\n",
      "   [ -0.64418626]\n",
      "   [  0.        ]]]\n",
      "\n",
      "\n",
      " [[[ -0.21372679]\n",
      "   [117.        ]\n",
      "   [  0.        ]\n",
      "   ...\n",
      "   [ -0.6400289 ]\n",
      "   [ -0.64418626]\n",
      "   [  0.        ]]]\n",
      "\n",
      "\n",
      " [[[ -0.21372743]\n",
      "   [117.        ]\n",
      "   [  0.        ]\n",
      "   ...\n",
      "   [ -0.6400289 ]\n",
      "   [ -0.5542696 ]\n",
      "   [  0.        ]]]\n",
      "\n",
      "\n",
      " ...\n",
      "\n",
      "\n",
      " [[[ -0.21372849]\n",
      "   [  6.        ]\n",
      "   [  0.        ]\n",
      "   ...\n",
      "   [ -0.6400289 ]\n",
      "   [ -0.7341029 ]\n",
      "   [  1.        ]]]\n",
      "\n",
      "\n",
      " [[[ -0.21372849]\n",
      "   [  6.        ]\n",
      "   [  0.        ]\n",
      "   ...\n",
      "   [ -0.6400289 ]\n",
      "   [ -0.7341029 ]\n",
      "   [  1.        ]]]\n",
      "\n",
      "\n",
      " [[[ -0.21372658]\n",
      "   [117.        ]\n",
      "   [  0.        ]\n",
      "   ...\n",
      "   [ -0.6400289 ]\n",
      "   [ -0.7341029 ]\n",
      "   [  0.        ]]]]\n"
     ]
    }
   ],
   "source": [
    "print('x_train shape:', x_train.shape)\n",
    "print (x_train)"
   ]
  },
  {
   "cell_type": "code",
   "execution_count": 7,
   "metadata": {},
   "outputs": [
    {
     "name": "stdout",
     "output_type": "stream",
     "text": [
      "x_test shape: (175341, 1, 42, 1)\n",
      "[[[[-1.9102827e-01]\n",
      "   [ 1.1300000e+02]\n",
      "   [ 0.0000000e+00]\n",
      "   ...\n",
      "   [-7.1571159e-01]\n",
      "   [-7.5307184e-01]\n",
      "   [ 0.0000000e+00]]]\n",
      "\n",
      "\n",
      " [[[-1.0948448e-01]\n",
      "   [ 1.1300000e+02]\n",
      "   [ 0.0000000e+00]\n",
      "   ...\n",
      "   [-7.1571159e-01]\n",
      "   [-2.8825620e-01]\n",
      "   [ 0.0000000e+00]]]\n",
      "\n",
      "\n",
      " [[[ 4.0699102e-02]\n",
      "   [ 1.1300000e+02]\n",
      "   [ 0.0000000e+00]\n",
      "   ...\n",
      "   [-5.9554088e-01]\n",
      "   [-2.8825620e-01]\n",
      "   [ 0.0000000e+00]]]\n",
      "\n",
      "\n",
      " ...\n",
      "\n",
      "\n",
      " [[[-2.0977277e-01]\n",
      "   [ 1.1900000e+02]\n",
      "   [ 2.0000000e+00]\n",
      "   ...\n",
      "   [-4.7537011e-01]\n",
      "   [ 2.6952264e-01]\n",
      "   [ 0.0000000e+00]]]\n",
      "\n",
      "\n",
      " [[[-2.0977277e-01]\n",
      "   [ 1.1900000e+02]\n",
      "   [ 2.0000000e+00]\n",
      "   ...\n",
      "   [ 2.7692401e+00]\n",
      "   [ 1.9428591e+00]\n",
      "   [ 0.0000000e+00]]]\n",
      "\n",
      "\n",
      " [[[-2.0977277e-01]\n",
      "   [ 1.1900000e+02]\n",
      "   [ 2.0000000e+00]\n",
      "   ...\n",
      "   [ 2.7692401e+00]\n",
      "   [ 1.9428591e+00]\n",
      "   [ 0.0000000e+00]]]]\n"
     ]
    }
   ],
   "source": [
    "print('x_test shape:', x_test.shape)\n",
    "print (x_test)"
   ]
  },
  {
   "cell_type": "markdown",
   "metadata": {},
   "source": [
    "### *Convert y's to one-hot encoding*"
   ]
  },
  {
   "cell_type": "code",
   "execution_count": 8,
   "metadata": {},
   "outputs": [],
   "source": [
    "y_train_one_hot = tf.keras.utils.to_categorical(y_train, 2)\n",
    "y_test_one_hot = tf.keras.utils.to_categorical(y_test, 2)"
   ]
  },
  {
   "cell_type": "markdown",
   "metadata": {},
   "source": [
    "### *y_train*"
   ]
  },
  {
   "cell_type": "code",
   "execution_count": 9,
   "metadata": {},
   "outputs": [
    {
     "name": "stdout",
     "output_type": "stream",
     "text": [
      "y_train_one_hot shape: (82332, 2)\n",
      "[[1. 0.]\n",
      " [1. 0.]\n",
      " [1. 0.]\n",
      " ...\n",
      " [1. 0.]\n",
      " [1. 0.]\n",
      " [1. 0.]]\n"
     ]
    }
   ],
   "source": [
    "print('y_train_one_hot shape:', y_train_one_hot.shape)\n",
    "print(y_train_one_hot)"
   ]
  },
  {
   "cell_type": "markdown",
   "metadata": {},
   "source": [
    "### *y_test*"
   ]
  },
  {
   "cell_type": "code",
   "execution_count": 10,
   "metadata": {},
   "outputs": [
    {
     "name": "stdout",
     "output_type": "stream",
     "text": [
      "y_test_one_hot shape: (175341, 2)\n",
      "[[1. 0.]\n",
      " [1. 0.]\n",
      " [1. 0.]\n",
      " ...\n",
      " [0. 1.]\n",
      " [0. 1.]\n",
      " [0. 1.]]\n"
     ]
    }
   ],
   "source": [
    "print('y_test_one_hot shape:', y_test_one_hot.shape)\n",
    "print (y_test_one_hot)"
   ]
  },
  {
   "cell_type": "markdown",
   "metadata": {},
   "source": [
    "### *Model:  relu and adam*"
   ]
  },
  {
   "cell_type": "code",
   "execution_count": 20,
   "metadata": {},
   "outputs": [
    {
     "name": "stdout",
     "output_type": "stream",
     "text": [
      "42\n",
      "0\n",
      "WARNING:tensorflow:From c:\\Users\\cdub6\\anaconda3\\Lib\\site-packages\\keras\\src\\optimizers\\__init__.py:309: The name tf.train.Optimizer is deprecated. Please use tf.compat.v1.train.Optimizer instead.\n",
      "\n",
      "Epoch 1/100\n",
      "WARNING:tensorflow:From c:\\Users\\cdub6\\anaconda3\\Lib\\site-packages\\keras\\src\\utils\\tf_utils.py:492: The name tf.ragged.RaggedTensorValue is deprecated. Please use tf.compat.v1.ragged.RaggedTensorValue instead.\n",
      "\n",
      "WARNING:tensorflow:From c:\\Users\\cdub6\\anaconda3\\Lib\\site-packages\\keras\\src\\engine\\base_layer_utils.py:384: The name tf.executing_eagerly_outside_functions is deprecated. Please use tf.compat.v1.executing_eagerly_outside_functions instead.\n",
      "\n",
      "2573/2573 - 114s - loss: 0.1519 - accuracy: 0.9362 - val_loss: 0.2442 - val_accuracy: 0.9179 - 114s/epoch - 44ms/step\n",
      "Epoch 2/100\n"
     ]
    },
    {
     "name": "stderr",
     "output_type": "stream",
     "text": [
      "c:\\Users\\cdub6\\anaconda3\\Lib\\site-packages\\keras\\src\\engine\\training.py:3103: UserWarning: You are saving your model as an HDF5 file via `model.save()`. This file format is considered legacy. We recommend using instead the native Keras format, e.g. `model.save('my_model.keras')`.\n",
      "  saving_api.save_model(\n"
     ]
    },
    {
     "name": "stdout",
     "output_type": "stream",
     "text": [
      "2573/2573 - 113s - loss: 0.1091 - accuracy: 0.9558 - val_loss: 0.2764 - val_accuracy: 0.9061 - 113s/epoch - 44ms/step\n",
      "Epoch 3/100\n",
      "2573/2573 - 114s - loss: 0.1015 - accuracy: 0.9583 - val_loss: 0.2977 - val_accuracy: 0.8988 - 114s/epoch - 44ms/step\n",
      "Epoch 3: early stopping\n",
      "1\n",
      "Epoch 1/100\n",
      "2573/2573 - 111s - loss: 0.1525 - accuracy: 0.9357 - val_loss: 0.2214 - val_accuracy: 0.9149 - 111s/epoch - 43ms/step\n",
      "Epoch 2/100\n",
      "2573/2573 - 109s - loss: 0.1091 - accuracy: 0.9558 - val_loss: 0.2345 - val_accuracy: 0.9081 - 109s/epoch - 42ms/step\n",
      "Epoch 3/100\n",
      "2573/2573 - 110s - loss: 0.1014 - accuracy: 0.9595 - val_loss: 0.2683 - val_accuracy: 0.9044 - 110s/epoch - 43ms/step\n",
      "Epoch 3: early stopping\n",
      "2\n",
      "Epoch 1/100\n",
      "2573/2573 - 112s - loss: 0.1536 - accuracy: 0.9354 - val_loss: 0.2422 - val_accuracy: 0.9091 - 112s/epoch - 43ms/step\n",
      "Epoch 2/100\n",
      "2573/2573 - 111s - loss: 0.1095 - accuracy: 0.9560 - val_loss: 0.2201 - val_accuracy: 0.9166 - 111s/epoch - 43ms/step\n",
      "Epoch 3/100\n",
      "2573/2573 - 110s - loss: 0.1007 - accuracy: 0.9587 - val_loss: 0.2822 - val_accuracy: 0.9140 - 110s/epoch - 43ms/step\n",
      "Epoch 4/100\n",
      "2573/2573 - 110s - loss: 0.0956 - accuracy: 0.9615 - val_loss: 0.2318 - val_accuracy: 0.9138 - 110s/epoch - 43ms/step\n",
      "Epoch 4: early stopping\n",
      "3\n",
      "Epoch 1/100\n",
      "2573/2573 - 112s - loss: 0.1524 - accuracy: 0.9355 - val_loss: 0.1953 - val_accuracy: 0.9182 - 112s/epoch - 44ms/step\n",
      "Epoch 2/100\n",
      "2573/2573 - 111s - loss: 0.1095 - accuracy: 0.9561 - val_loss: 0.2453 - val_accuracy: 0.9119 - 111s/epoch - 43ms/step\n",
      "Epoch 3/100\n",
      "2573/2573 - 111s - loss: 0.1010 - accuracy: 0.9587 - val_loss: 0.2639 - val_accuracy: 0.9123 - 111s/epoch - 43ms/step\n",
      "Epoch 3: early stopping\n",
      "4\n",
      "Epoch 1/100\n",
      "2573/2573 - 112s - loss: 0.1532 - accuracy: 0.9356 - val_loss: 0.2274 - val_accuracy: 0.9092 - 112s/epoch - 44ms/step\n",
      "Epoch 2/100\n",
      "2573/2573 - 109s - loss: 0.1093 - accuracy: 0.9562 - val_loss: 0.2258 - val_accuracy: 0.9190 - 109s/epoch - 42ms/step\n",
      "Epoch 3/100\n",
      "2573/2573 - 108s - loss: 0.1016 - accuracy: 0.9596 - val_loss: 0.2562 - val_accuracy: 0.9170 - 108s/epoch - 42ms/step\n",
      "Epoch 4/100\n",
      "2573/2573 - 109s - loss: 0.0962 - accuracy: 0.9613 - val_loss: 0.2786 - val_accuracy: 0.8979 - 109s/epoch - 42ms/step\n",
      "Epoch 4: early stopping\n"
     ]
    }
   ],
   "source": [
    "checkpointer = ModelCheckpoint(filepath=\"best_weights_cnn.hdf5\", verbose=0, save_best_only=True) # save best model\n",
    "\n",
    "for i in range(5):\n",
    "    print(i)\n",
    "\n",
    "    model = Sequential()\n",
    "    model.add(tf.keras.layers.Conv2D(64, kernel_size=(3, 3), strides=(1, 1), activation='relu', input_shape=(1, x_cols, 1), padding='same'))\n",
    "    model.add(tf.keras.layers.MaxPooling2D(pool_size=(1, 1)))\n",
    "    model.add(tf.keras.layers.Conv2D(128, kernel_size=(3, 3), strides=(1, 1), activation='relu', padding='same'))\n",
    "    model.add(tf.keras.layers.MaxPooling2D(pool_size=(1, 1)))\n",
    "    model.add(tf.keras.layers.Flatten())\n",
    "    model.add(tf.keras.layers.Dense(1024, activation='relu'))\n",
    "    model.add(Dropout(0.5))\n",
    "    model.add(tf.keras.layers.Dense(2, activation='sigmoid'))\n",
    "    model.compile(loss='binary_crossentropy', optimizer='adam', metrics=['accuracy'])\n",
    "    monitor = EarlyStopping(monitor='val_loss', min_delta=1e-3, patience=2, verbose=2, mode='auto')\n",
    "    model.fit(x_train, y_train_one_hot, validation_data=(x_test, y_test_one_hot),callbacks=[monitor, checkpointer], verbose=2, epochs=100)"
   ]
  },
  {
   "cell_type": "markdown",
   "metadata": {},
   "source": [
    "### *Model:  sigmoid and adam*"
   ]
  },
  {
   "cell_type": "code",
   "execution_count": 21,
   "metadata": {},
   "outputs": [
    {
     "name": "stdout",
     "output_type": "stream",
     "text": [
      "0\n",
      "Epoch 1/100\n",
      "2573/2573 - 116s - loss: 0.3991 - accuracy: 0.7863 - val_loss: 0.2128 - val_accuracy: 0.9278 - 116s/epoch - 45ms/step\n",
      "Epoch 2/100\n",
      "2573/2573 - 113s - loss: 0.1836 - accuracy: 0.9232 - val_loss: 0.1950 - val_accuracy: 0.9248 - 113s/epoch - 44ms/step\n",
      "Epoch 3/100\n",
      "2573/2573 - 114s - loss: 0.1502 - accuracy: 0.9386 - val_loss: 0.2408 - val_accuracy: 0.9165 - 114s/epoch - 44ms/step\n",
      "Epoch 4/100\n",
      "2573/2573 - 114s - loss: 0.1384 - accuracy: 0.9442 - val_loss: 0.2212 - val_accuracy: 0.9211 - 114s/epoch - 44ms/step\n",
      "Epoch 4: early stopping\n",
      "1\n",
      "Epoch 1/100\n",
      "2573/2573 - 116s - loss: 0.3710 - accuracy: 0.8099 - val_loss: 0.2344 - val_accuracy: 0.9152 - 116s/epoch - 45ms/step\n",
      "Epoch 2/100\n",
      "2573/2573 - 115s - loss: 0.1698 - accuracy: 0.9287 - val_loss: 0.2359 - val_accuracy: 0.9113 - 115s/epoch - 45ms/step\n",
      "Epoch 3/100\n",
      "2573/2573 - 116s - loss: 0.1429 - accuracy: 0.9402 - val_loss: 0.2154 - val_accuracy: 0.9175 - 116s/epoch - 45ms/step\n",
      "Epoch 4/100\n",
      "2573/2573 - 116s - loss: 0.1293 - accuracy: 0.9473 - val_loss: 0.2354 - val_accuracy: 0.9151 - 116s/epoch - 45ms/step\n",
      "Epoch 5/100\n",
      "2573/2573 - 114s - loss: 0.1221 - accuracy: 0.9507 - val_loss: 0.2196 - val_accuracy: 0.9219 - 114s/epoch - 44ms/step\n",
      "Epoch 5: early stopping\n",
      "2\n",
      "Epoch 1/100\n",
      "2573/2573 - 119s - loss: 0.3763 - accuracy: 0.8045 - val_loss: 0.2176 - val_accuracy: 0.9211 - 119s/epoch - 46ms/step\n",
      "Epoch 2/100\n",
      "2573/2573 - 116s - loss: 0.1689 - accuracy: 0.9293 - val_loss: 0.2310 - val_accuracy: 0.9133 - 116s/epoch - 45ms/step\n",
      "Epoch 3/100\n",
      "2573/2573 - 121s - loss: 0.1448 - accuracy: 0.9405 - val_loss: 0.2059 - val_accuracy: 0.9260 - 121s/epoch - 47ms/step\n",
      "Epoch 4/100\n",
      "2573/2573 - 115s - loss: 0.1332 - accuracy: 0.9453 - val_loss: 0.2674 - val_accuracy: 0.9100 - 115s/epoch - 45ms/step\n",
      "Epoch 5/100\n",
      "2573/2573 - 115s - loss: 0.1261 - accuracy: 0.9488 - val_loss: 0.2365 - val_accuracy: 0.9173 - 115s/epoch - 45ms/step\n",
      "Epoch 5: early stopping\n",
      "3\n",
      "Epoch 1/100\n",
      "2573/2573 - 115s - loss: 0.3557 - accuracy: 0.8212 - val_loss: 0.2868 - val_accuracy: 0.8957 - 115s/epoch - 45ms/step\n",
      "Epoch 2/100\n",
      "2573/2573 - 115s - loss: 0.1707 - accuracy: 0.9284 - val_loss: 0.2751 - val_accuracy: 0.8991 - 115s/epoch - 45ms/step\n",
      "Epoch 3/100\n",
      "2573/2573 - 118s - loss: 0.1478 - accuracy: 0.9388 - val_loss: 0.1926 - val_accuracy: 0.9204 - 118s/epoch - 46ms/step\n",
      "Epoch 4/100\n",
      "2573/2573 - 117s - loss: 0.1362 - accuracy: 0.9447 - val_loss: 0.2065 - val_accuracy: 0.9211 - 117s/epoch - 45ms/step\n",
      "Epoch 5/100\n",
      "2573/2573 - 119s - loss: 0.1283 - accuracy: 0.9477 - val_loss: 0.2042 - val_accuracy: 0.9163 - 119s/epoch - 46ms/step\n",
      "Epoch 5: early stopping\n",
      "4\n",
      "Epoch 1/100\n",
      "2573/2573 - 121s - loss: 0.3913 - accuracy: 0.7961 - val_loss: 0.2157 - val_accuracy: 0.9252 - 121s/epoch - 47ms/step\n",
      "Epoch 2/100\n",
      "2573/2573 - 118s - loss: 0.1736 - accuracy: 0.9254 - val_loss: 0.1860 - val_accuracy: 0.9276 - 118s/epoch - 46ms/step\n",
      "Epoch 3/100\n",
      "2573/2573 - 120s - loss: 0.1458 - accuracy: 0.9402 - val_loss: 0.2184 - val_accuracy: 0.9158 - 120s/epoch - 47ms/step\n",
      "Epoch 4/100\n",
      "2573/2573 - 119s - loss: 0.1331 - accuracy: 0.9446 - val_loss: 0.2719 - val_accuracy: 0.9077 - 119s/epoch - 46ms/step\n",
      "Epoch 4: early stopping\n"
     ]
    }
   ],
   "source": [
    "checkpointer = ModelCheckpoint(filepath=\"best_weights_cnn.hdf5\", verbose=0, save_best_only=True) # save best model\n",
    "\n",
    "for i in range(5):\n",
    "    print(i)\n",
    "\n",
    "    model = Sequential()\n",
    "    model.add(tf.keras.layers.Conv2D(64, kernel_size=(3, 3), strides=(1, 1), activation='sigmoid', input_shape=(1, x_cols, 1), padding='same'))\n",
    "    model.add(tf.keras.layers.MaxPooling2D(pool_size=(1, 1)))\n",
    "    model.add(tf.keras.layers.Conv2D(128, kernel_size=(3, 3), strides=(1, 1), activation='sigmoid', padding='same'))\n",
    "    model.add(tf.keras.layers.MaxPooling2D(pool_size=(1, 1)))\n",
    "    model.add(tf.keras.layers.Flatten())\n",
    "    model.add(tf.keras.layers.Dense(1024, activation='sigmoid'))\n",
    "    model.add(Dropout(0.5))\n",
    "    model.add(tf.keras.layers.Dense(2, activation='sigmoid'))\n",
    "    model.compile(loss='binary_crossentropy', optimizer='adam', metrics=['accuracy'])\n",
    "    monitor = EarlyStopping(monitor='val_loss', min_delta=1e-3, patience=2, verbose=2, mode='auto')\n",
    "    model.fit(x_train, y_train_one_hot, validation_data=(x_test, y_test_one_hot),callbacks=[monitor, checkpointer], verbose=2, epochs=100)"
   ]
  },
  {
   "cell_type": "markdown",
   "metadata": {},
   "source": [
    "### *Model:  tanh and adam*"
   ]
  },
  {
   "cell_type": "code",
   "execution_count": 12,
   "metadata": {},
   "outputs": [
    {
     "name": "stdout",
     "output_type": "stream",
     "text": [
      "0\n",
      "WARNING:tensorflow:From c:\\Users\\cdub6\\anaconda3\\Lib\\site-packages\\keras\\src\\backend.py:873: The name tf.get_default_graph is deprecated. Please use tf.compat.v1.get_default_graph instead.\n",
      "\n",
      "WARNING:tensorflow:From c:\\Users\\cdub6\\anaconda3\\Lib\\site-packages\\keras\\src\\layers\\pooling\\max_pooling2d.py:161: The name tf.nn.max_pool is deprecated. Please use tf.nn.max_pool2d instead.\n",
      "\n",
      "WARNING:tensorflow:From c:\\Users\\cdub6\\anaconda3\\Lib\\site-packages\\keras\\src\\optimizers\\__init__.py:309: The name tf.train.Optimizer is deprecated. Please use tf.compat.v1.train.Optimizer instead.\n",
      "\n",
      "Epoch 1/100\n",
      "WARNING:tensorflow:From c:\\Users\\cdub6\\anaconda3\\Lib\\site-packages\\keras\\src\\utils\\tf_utils.py:492: The name tf.ragged.RaggedTensorValue is deprecated. Please use tf.compat.v1.ragged.RaggedTensorValue instead.\n",
      "\n",
      "WARNING:tensorflow:From c:\\Users\\cdub6\\anaconda3\\Lib\\site-packages\\keras\\src\\engine\\base_layer_utils.py:384: The name tf.executing_eagerly_outside_functions is deprecated. Please use tf.compat.v1.executing_eagerly_outside_functions instead.\n",
      "\n",
      "2573/2573 - 117s - loss: 0.2219 - accuracy: 0.9031 - val_loss: 0.3294 - val_accuracy: 0.8675 - 117s/epoch - 45ms/step\n",
      "Epoch 2/100\n"
     ]
    },
    {
     "name": "stderr",
     "output_type": "stream",
     "text": [
      "c:\\Users\\cdub6\\anaconda3\\Lib\\site-packages\\keras\\src\\engine\\training.py:3103: UserWarning: You are saving your model as an HDF5 file via `model.save()`. This file format is considered legacy. We recommend using instead the native Keras format, e.g. `model.save('my_model.keras')`.\n",
      "  saving_api.save_model(\n"
     ]
    },
    {
     "name": "stdout",
     "output_type": "stream",
     "text": [
      "2573/2573 - 118s - loss: 0.1782 - accuracy: 0.9241 - val_loss: 0.2387 - val_accuracy: 0.9056 - 118s/epoch - 46ms/step\n",
      "Epoch 3/100\n",
      "2573/2573 - 124s - loss: 0.1804 - accuracy: 0.9237 - val_loss: 0.2086 - val_accuracy: 0.9153 - 124s/epoch - 48ms/step\n",
      "Epoch 4/100\n",
      "2573/2573 - 119s - loss: 0.1734 - accuracy: 0.9282 - val_loss: 0.2452 - val_accuracy: 0.9111 - 119s/epoch - 46ms/step\n",
      "Epoch 5/100\n",
      "2573/2573 - 120s - loss: 0.1716 - accuracy: 0.9294 - val_loss: 0.2297 - val_accuracy: 0.9121 - 120s/epoch - 47ms/step\n",
      "Epoch 5: early stopping\n",
      "1\n",
      "Epoch 1/100\n",
      "2573/2573 - 123s - loss: 0.2191 - accuracy: 0.9046 - val_loss: 0.3271 - val_accuracy: 0.8666 - 123s/epoch - 48ms/step\n",
      "Epoch 2/100\n",
      "2573/2573 - 121s - loss: 0.1787 - accuracy: 0.9238 - val_loss: 0.2322 - val_accuracy: 0.9067 - 121s/epoch - 47ms/step\n",
      "Epoch 3/100\n",
      "2573/2573 - 120s - loss: 0.1763 - accuracy: 0.9255 - val_loss: 0.2596 - val_accuracy: 0.8943 - 120s/epoch - 47ms/step\n",
      "Epoch 4/100\n",
      "2573/2573 - 119s - loss: 0.1768 - accuracy: 0.9271 - val_loss: 0.2399 - val_accuracy: 0.9036 - 119s/epoch - 46ms/step\n",
      "Epoch 4: early stopping\n",
      "2\n",
      "Epoch 1/100\n",
      "2573/2573 - 122s - loss: 0.2200 - accuracy: 0.9024 - val_loss: 0.2963 - val_accuracy: 0.8821 - 122s/epoch - 47ms/step\n",
      "Epoch 2/100\n",
      "2573/2573 - 121s - loss: 0.1788 - accuracy: 0.9253 - val_loss: 0.2211 - val_accuracy: 0.9081 - 121s/epoch - 47ms/step\n",
      "Epoch 3/100\n",
      "2573/2573 - 120s - loss: 0.1748 - accuracy: 0.9273 - val_loss: 0.3124 - val_accuracy: 0.8729 - 120s/epoch - 47ms/step\n",
      "Epoch 4/100\n",
      "2573/2573 - 122s - loss: 0.1717 - accuracy: 0.9287 - val_loss: 0.2285 - val_accuracy: 0.9110 - 122s/epoch - 47ms/step\n",
      "Epoch 4: early stopping\n",
      "3\n",
      "Epoch 1/100\n",
      "2573/2573 - 126s - loss: 0.2211 - accuracy: 0.9034 - val_loss: 0.2351 - val_accuracy: 0.9005 - 126s/epoch - 49ms/step\n",
      "Epoch 2/100\n",
      "2573/2573 - 124s - loss: 0.1748 - accuracy: 0.9258 - val_loss: 0.3232 - val_accuracy: 0.8737 - 124s/epoch - 48ms/step\n",
      "Epoch 3/100\n",
      "2573/2573 - 125s - loss: 0.1752 - accuracy: 0.9274 - val_loss: 0.3005 - val_accuracy: 0.8976 - 125s/epoch - 48ms/step\n",
      "Epoch 3: early stopping\n",
      "4\n",
      "Epoch 1/100\n",
      "2573/2573 - 124s - loss: 0.2199 - accuracy: 0.9018 - val_loss: 0.2694 - val_accuracy: 0.8943 - 124s/epoch - 48ms/step\n",
      "Epoch 2/100\n",
      "2573/2573 - 124s - loss: 0.1782 - accuracy: 0.9241 - val_loss: 0.2569 - val_accuracy: 0.8945 - 124s/epoch - 48ms/step\n",
      "Epoch 3/100\n",
      "2573/2573 - 123s - loss: 0.1775 - accuracy: 0.9254 - val_loss: 0.2142 - val_accuracy: 0.9105 - 123s/epoch - 48ms/step\n",
      "Epoch 4/100\n",
      "2573/2573 - 123s - loss: 0.1742 - accuracy: 0.9280 - val_loss: 0.2936 - val_accuracy: 0.8866 - 123s/epoch - 48ms/step\n",
      "Epoch 5/100\n",
      "2573/2573 - 123s - loss: 0.1689 - accuracy: 0.9299 - val_loss: 0.2894 - val_accuracy: 0.8863 - 123s/epoch - 48ms/step\n",
      "Epoch 5: early stopping\n"
     ]
    }
   ],
   "source": [
    "checkpointer = ModelCheckpoint(filepath=\"best_weights_cnn.hdf5\", verbose=0, save_best_only=True) # save best model\n",
    "\n",
    "for i in range(5):\n",
    "    print(i)\n",
    "\n",
    "    model = Sequential()\n",
    "    model.add(tf.keras.layers.Conv2D(64, kernel_size=(3, 3), strides=(1, 1), activation='tanh', input_shape=(1, x_cols, 1), padding='same'))\n",
    "    model.add(tf.keras.layers.MaxPooling2D(pool_size=(1, 1)))\n",
    "    model.add(tf.keras.layers.Conv2D(128, kernel_size=(3, 3), strides=(1, 1), activation='tanh', padding='same'))\n",
    "    model.add(tf.keras.layers.MaxPooling2D(pool_size=(1, 1)))\n",
    "    model.add(tf.keras.layers.Flatten())\n",
    "    model.add(tf.keras.layers.Dense(1024, activation='tanh'))\n",
    "    model.add(Dropout(0.5))\n",
    "    model.add(tf.keras.layers.Dense(2, activation='sigmoid'))\n",
    "    model.compile(loss='binary_crossentropy', optimizer='adam', metrics=['accuracy'])\n",
    "    monitor = EarlyStopping(monitor='val_loss', min_delta=1e-3, patience=2, verbose=2, mode='auto')\n",
    "    model.fit(x_train, y_train_one_hot, validation_data=(x_test, y_test_one_hot),callbacks=[monitor, checkpointer], verbose=2, epochs=100)"
   ]
  },
  {
   "cell_type": "markdown",
   "metadata": {},
   "source": [
    "### *Model:  relu and sgd*"
   ]
  },
  {
   "cell_type": "code",
   "execution_count": 31,
   "metadata": {},
   "outputs": [
    {
     "name": "stdout",
     "output_type": "stream",
     "text": [
      "0\n",
      "Epoch 1/100\n",
      "2573/2573 - 55s - loss: 0.4737 - accuracy: 0.7492 - val_loss: 0.2680 - val_accuracy: 0.8894 - 55s/epoch - 21ms/step\n",
      "Epoch 2/100\n"
     ]
    },
    {
     "name": "stderr",
     "output_type": "stream",
     "text": [
      "c:\\Users\\cdub6\\anaconda3\\Lib\\site-packages\\keras\\src\\engine\\training.py:3103: UserWarning: You are saving your model as an HDF5 file via `model.save()`. This file format is considered legacy. We recommend using instead the native Keras format, e.g. `model.save('my_model.keras')`.\n",
      "  saving_api.save_model(\n"
     ]
    },
    {
     "name": "stdout",
     "output_type": "stream",
     "text": [
      "2573/2573 - 51s - loss: 0.2704 - accuracy: 0.8756 - val_loss: 0.2518 - val_accuracy: 0.8877 - 51s/epoch - 20ms/step\n",
      "Epoch 3/100\n",
      "2573/2573 - 49s - loss: 0.2132 - accuracy: 0.9069 - val_loss: 0.2065 - val_accuracy: 0.9167 - 49s/epoch - 19ms/step\n",
      "Epoch 4/100\n",
      "2573/2573 - 49s - loss: 0.1842 - accuracy: 0.9217 - val_loss: 0.2777 - val_accuracy: 0.8855 - 49s/epoch - 19ms/step\n",
      "Epoch 5/100\n",
      "2573/2573 - 51s - loss: 0.1635 - accuracy: 0.9331 - val_loss: 0.2746 - val_accuracy: 0.8860 - 51s/epoch - 20ms/step\n",
      "Epoch 5: early stopping\n",
      "1\n",
      "Epoch 1/100\n",
      "2573/2573 - 48s - loss: 0.4779 - accuracy: 0.7469 - val_loss: 0.2352 - val_accuracy: 0.9272 - 48s/epoch - 19ms/step\n",
      "Epoch 2/100\n",
      "2573/2573 - 48s - loss: 0.2809 - accuracy: 0.8684 - val_loss: 0.2544 - val_accuracy: 0.8954 - 48s/epoch - 19ms/step\n",
      "Epoch 3/100\n",
      "2573/2573 - 47s - loss: 0.2212 - accuracy: 0.9044 - val_loss: 0.3172 - val_accuracy: 0.8567 - 47s/epoch - 18ms/step\n",
      "Epoch 3: early stopping\n",
      "2\n",
      "Epoch 1/100\n",
      "2573/2573 - 46s - loss: 0.4702 - accuracy: 0.7498 - val_loss: 0.2215 - val_accuracy: 0.9273 - 46s/epoch - 18ms/step\n",
      "Epoch 2/100\n",
      "2573/2573 - 47s - loss: 0.2808 - accuracy: 0.8681 - val_loss: 0.2222 - val_accuracy: 0.9135 - 47s/epoch - 18ms/step\n",
      "Epoch 3/100\n",
      "2573/2573 - 46s - loss: 0.2239 - accuracy: 0.9008 - val_loss: 0.2378 - val_accuracy: 0.9039 - 46s/epoch - 18ms/step\n",
      "Epoch 3: early stopping\n",
      "3\n",
      "Epoch 1/100\n",
      "2573/2573 - 47s - loss: 0.4732 - accuracy: 0.7506 - val_loss: 0.2518 - val_accuracy: 0.9008 - 47s/epoch - 18ms/step\n",
      "Epoch 2/100\n",
      "2573/2573 - 46s - loss: 0.2745 - accuracy: 0.8716 - val_loss: 0.3171 - val_accuracy: 0.8567 - 46s/epoch - 18ms/step\n",
      "Epoch 3/100\n",
      "2573/2573 - 45s - loss: 0.2179 - accuracy: 0.9035 - val_loss: 0.2378 - val_accuracy: 0.9005 - 45s/epoch - 18ms/step\n",
      "Epoch 4/100\n",
      "2573/2573 - 45s - loss: 0.1908 - accuracy: 0.9187 - val_loss: 0.2811 - val_accuracy: 0.8788 - 45s/epoch - 18ms/step\n",
      "Epoch 5/100\n",
      "2573/2573 - 46s - loss: 0.1693 - accuracy: 0.9293 - val_loss: 0.2551 - val_accuracy: 0.8966 - 46s/epoch - 18ms/step\n",
      "Epoch 5: early stopping\n",
      "4\n",
      "Epoch 1/100\n",
      "2573/2573 - 47s - loss: 0.4758 - accuracy: 0.7453 - val_loss: 0.2385 - val_accuracy: 0.9235 - 47s/epoch - 18ms/step\n",
      "Epoch 2/100\n",
      "2573/2573 - 46s - loss: 0.2829 - accuracy: 0.8676 - val_loss: 0.1991 - val_accuracy: 0.9226 - 46s/epoch - 18ms/step\n",
      "Epoch 3/100\n",
      "2573/2573 - 45s - loss: 0.2247 - accuracy: 0.9008 - val_loss: 0.2073 - val_accuracy: 0.9173 - 45s/epoch - 18ms/step\n",
      "Epoch 4/100\n",
      "2573/2573 - 46s - loss: 0.1962 - accuracy: 0.9164 - val_loss: 0.2629 - val_accuracy: 0.8880 - 46s/epoch - 18ms/step\n",
      "Epoch 4: early stopping\n"
     ]
    }
   ],
   "source": [
    "checkpointer = ModelCheckpoint(filepath=\"best_weights_cnn.hdf5\", verbose=0, save_best_only=True) # save best model\n",
    "\n",
    "for i in range(5):\n",
    "    print(i)\n",
    "\n",
    "    model = Sequential()\n",
    "    model.add(tf.keras.layers.Conv2D(64, kernel_size=(3, 3), strides=(1, 1), activation='relu', input_shape=(1, x_cols, 1), padding='same'))\n",
    "    model.add(tf.keras.layers.MaxPooling2D(pool_size=(1, 1)))\n",
    "    model.add(tf.keras.layers.Conv2D(128, kernel_size=(3, 3), strides=(1, 1), activation='relu', padding='same'))\n",
    "    model.add(tf.keras.layers.MaxPooling2D(pool_size=(1, 1)))\n",
    "    model.add(tf.keras.layers.Flatten())\n",
    "    model.add(tf.keras.layers.Dense(1024, activation='relu'))\n",
    "    model.add(Dropout(0.5))\n",
    "    model.add(tf.keras.layers.Dense(2, activation='sigmoid'))\n",
    "    model.compile(loss='binary_crossentropy', optimizer='sgd', metrics=['accuracy'])\n",
    "    monitor = EarlyStopping(monitor='val_loss', min_delta=1e-3, patience=2, verbose=2, mode='auto')\n",
    "    model.fit(x_train, y_train_one_hot, validation_data=(x_test, y_test_one_hot),callbacks=[monitor, checkpointer], verbose=2, epochs=100)"
   ]
  },
  {
   "cell_type": "markdown",
   "metadata": {},
   "source": [
    "### *Model:  sigmoid and sgd*"
   ]
  },
  {
   "cell_type": "code",
   "execution_count": 32,
   "metadata": {},
   "outputs": [
    {
     "name": "stdout",
     "output_type": "stream",
     "text": [
      "0\n",
      "Epoch 1/100\n",
      "2573/2573 - 48s - loss: 0.7132 - accuracy: 0.5246 - val_loss: 0.6794 - val_accuracy: 0.6806 - 48s/epoch - 19ms/step\n",
      "Epoch 2/100\n",
      "2573/2573 - 47s - loss: 0.6935 - accuracy: 0.5387 - val_loss: 0.6652 - val_accuracy: 0.6806 - 47s/epoch - 18ms/step\n",
      "Epoch 3/100\n",
      "2573/2573 - 47s - loss: 0.6916 - accuracy: 0.5423 - val_loss: 0.6402 - val_accuracy: 0.6806 - 47s/epoch - 18ms/step\n",
      "Epoch 4/100\n",
      "2573/2573 - 47s - loss: 0.6902 - accuracy: 0.5450 - val_loss: 0.6459 - val_accuracy: 0.6806 - 47s/epoch - 18ms/step\n",
      "Epoch 5/100\n",
      "2573/2573 - 47s - loss: 0.6894 - accuracy: 0.5468 - val_loss: 0.6505 - val_accuracy: 0.6806 - 47s/epoch - 18ms/step\n",
      "Epoch 5: early stopping\n",
      "1\n",
      "Epoch 1/100\n",
      "2573/2573 - 48s - loss: 0.7115 - accuracy: 0.5272 - val_loss: 0.6700 - val_accuracy: 0.6806 - 48s/epoch - 19ms/step\n",
      "Epoch 2/100\n",
      "2573/2573 - 47s - loss: 0.6941 - accuracy: 0.5395 - val_loss: 0.6609 - val_accuracy: 0.6806 - 47s/epoch - 18ms/step\n",
      "Epoch 3/100\n",
      "2573/2573 - 48s - loss: 0.6908 - accuracy: 0.5427 - val_loss: 0.6610 - val_accuracy: 0.6806 - 48s/epoch - 18ms/step\n",
      "Epoch 4/100\n",
      "2573/2573 - 47s - loss: 0.6894 - accuracy: 0.5471 - val_loss: 0.6540 - val_accuracy: 0.6806 - 47s/epoch - 18ms/step\n",
      "Epoch 5/100\n",
      "2573/2573 - 47s - loss: 0.6893 - accuracy: 0.5476 - val_loss: 0.6506 - val_accuracy: 0.6806 - 47s/epoch - 18ms/step\n",
      "Epoch 6/100\n",
      "2573/2573 - 47s - loss: 0.6884 - accuracy: 0.5489 - val_loss: 0.6581 - val_accuracy: 0.6806 - 47s/epoch - 18ms/step\n",
      "Epoch 7/100\n",
      "2573/2573 - 47s - loss: 0.6875 - accuracy: 0.5504 - val_loss: 0.6615 - val_accuracy: 0.6806 - 47s/epoch - 18ms/step\n",
      "Epoch 7: early stopping\n",
      "2\n",
      "Epoch 1/100\n",
      "2573/2573 - 47s - loss: 0.7119 - accuracy: 0.5259 - val_loss: 0.6696 - val_accuracy: 0.6806 - 47s/epoch - 18ms/step\n",
      "Epoch 2/100\n",
      "2573/2573 - 46s - loss: 0.6940 - accuracy: 0.5378 - val_loss: 0.6681 - val_accuracy: 0.6806 - 46s/epoch - 18ms/step\n",
      "Epoch 3/100\n",
      "2573/2573 - 47s - loss: 0.6908 - accuracy: 0.5448 - val_loss: 0.6602 - val_accuracy: 0.6806 - 47s/epoch - 18ms/step\n",
      "Epoch 4/100\n",
      "2573/2573 - 46s - loss: 0.6897 - accuracy: 0.5455 - val_loss: 0.6451 - val_accuracy: 0.6806 - 46s/epoch - 18ms/step\n",
      "Epoch 5/100\n",
      "2573/2573 - 47s - loss: 0.6890 - accuracy: 0.5471 - val_loss: 0.6551 - val_accuracy: 0.6806 - 47s/epoch - 18ms/step\n",
      "Epoch 6/100\n",
      "2573/2573 - 47s - loss: 0.6889 - accuracy: 0.5471 - val_loss: 0.6564 - val_accuracy: 0.6806 - 47s/epoch - 18ms/step\n",
      "Epoch 6: early stopping\n",
      "3\n",
      "Epoch 1/100\n",
      "2573/2573 - 47s - loss: 0.7115 - accuracy: 0.5250 - val_loss: 0.6513 - val_accuracy: 0.6806 - 47s/epoch - 18ms/step\n",
      "Epoch 2/100\n",
      "2573/2573 - 47s - loss: 0.6939 - accuracy: 0.5364 - val_loss: 0.6625 - val_accuracy: 0.6806 - 47s/epoch - 18ms/step\n",
      "Epoch 3/100\n",
      "2573/2573 - 46s - loss: 0.6911 - accuracy: 0.5434 - val_loss: 0.6533 - val_accuracy: 0.6806 - 46s/epoch - 18ms/step\n",
      "Epoch 3: early stopping\n",
      "4\n",
      "Epoch 1/100\n",
      "2573/2573 - 46s - loss: 0.7120 - accuracy: 0.5252 - val_loss: 0.6494 - val_accuracy: 0.6806 - 46s/epoch - 18ms/step\n",
      "Epoch 2/100\n",
      "2573/2573 - 45s - loss: 0.6935 - accuracy: 0.5378 - val_loss: 0.6619 - val_accuracy: 0.6806 - 45s/epoch - 18ms/step\n",
      "Epoch 3/100\n",
      "2573/2573 - 45s - loss: 0.6910 - accuracy: 0.5438 - val_loss: 0.6626 - val_accuracy: 0.6806 - 45s/epoch - 18ms/step\n",
      "Epoch 3: early stopping\n"
     ]
    }
   ],
   "source": [
    "checkpointer = ModelCheckpoint(filepath=\"best_weights_cnn.hdf5\", verbose=0, save_best_only=True) # save best model\n",
    "\n",
    "for i in range(5):\n",
    "    print(i)\n",
    "\n",
    "    model = Sequential()\n",
    "    model.add(tf.keras.layers.Conv2D(64, kernel_size=(3, 3), strides=(1, 1), activation='sigmoid', input_shape=(1, x_cols, 1), padding='same'))\n",
    "    model.add(tf.keras.layers.MaxPooling2D(pool_size=(1, 1)))\n",
    "    model.add(tf.keras.layers.Conv2D(128, kernel_size=(3, 3), strides=(1, 1), activation='sigmoid', padding='same'))\n",
    "    model.add(tf.keras.layers.MaxPooling2D(pool_size=(1, 1)))\n",
    "    model.add(tf.keras.layers.Flatten())\n",
    "    model.add(tf.keras.layers.Dense(1024, activation='sigmoid'))\n",
    "    model.add(Dropout(0.5))\n",
    "    model.add(tf.keras.layers.Dense(2, activation='sigmoid'))\n",
    "    model.compile(loss='binary_crossentropy', optimizer='sgd', metrics=['accuracy'])\n",
    "    monitor = EarlyStopping(monitor='val_loss', min_delta=1e-3, patience=2, verbose=2, mode='auto')\n",
    "    model.fit(x_train, y_train_one_hot, validation_data=(x_test, y_test_one_hot),callbacks=[monitor, checkpointer], verbose=2, epochs=100)"
   ]
  },
  {
   "cell_type": "markdown",
   "metadata": {},
   "source": [
    "### *Model:  tanh and sgd*"
   ]
  },
  {
   "cell_type": "code",
   "execution_count": 33,
   "metadata": {},
   "outputs": [
    {
     "name": "stdout",
     "output_type": "stream",
     "text": [
      "0\n",
      "Epoch 1/100\n",
      "2573/2573 - 48s - loss: 0.3643 - accuracy: 0.8275 - val_loss: 0.4035 - val_accuracy: 0.8272 - 48s/epoch - 19ms/step\n",
      "Epoch 2/100\n",
      "2573/2573 - 49s - loss: 0.2484 - accuracy: 0.8866 - val_loss: 0.5394 - val_accuracy: 0.7924 - 49s/epoch - 19ms/step\n",
      "Epoch 3/100\n",
      "2573/2573 - 46s - loss: 0.2318 - accuracy: 0.8961 - val_loss: 0.6072 - val_accuracy: 0.7703 - 46s/epoch - 18ms/step\n",
      "Epoch 3: early stopping\n",
      "1\n",
      "Epoch 1/100\n",
      "2573/2573 - 47s - loss: 0.3640 - accuracy: 0.8284 - val_loss: 0.5946 - val_accuracy: 0.7228 - 47s/epoch - 18ms/step\n",
      "Epoch 2/100\n",
      "2573/2573 - 46s - loss: 0.2484 - accuracy: 0.8859 - val_loss: 0.5483 - val_accuracy: 0.7880 - 46s/epoch - 18ms/step\n",
      "Epoch 3/100\n",
      "2573/2573 - 46s - loss: 0.2341 - accuracy: 0.8940 - val_loss: 0.5166 - val_accuracy: 0.7902 - 46s/epoch - 18ms/step\n",
      "Epoch 4/100\n",
      "2573/2573 - 46s - loss: 0.2214 - accuracy: 0.9012 - val_loss: 0.6675 - val_accuracy: 0.7520 - 46s/epoch - 18ms/step\n",
      "Epoch 5/100\n",
      "2573/2573 - 46s - loss: 0.2081 - accuracy: 0.9092 - val_loss: 0.5957 - val_accuracy: 0.7933 - 46s/epoch - 18ms/step\n",
      "Epoch 5: early stopping\n",
      "2\n",
      "Epoch 1/100\n",
      "2573/2573 - 48s - loss: 0.3574 - accuracy: 0.8334 - val_loss: 0.3983 - val_accuracy: 0.8412 - 48s/epoch - 18ms/step\n",
      "Epoch 2/100\n",
      "2573/2573 - 46s - loss: 0.2465 - accuracy: 0.8876 - val_loss: 0.6335 - val_accuracy: 0.7142 - 46s/epoch - 18ms/step\n",
      "Epoch 3/100\n",
      "2573/2573 - 46s - loss: 0.2313 - accuracy: 0.8958 - val_loss: 0.6415 - val_accuracy: 0.7635 - 46s/epoch - 18ms/step\n",
      "Epoch 3: early stopping\n",
      "3\n",
      "Epoch 1/100\n",
      "2573/2573 - 46s - loss: 0.3556 - accuracy: 0.8343 - val_loss: 0.5053 - val_accuracy: 0.7798 - 46s/epoch - 18ms/step\n",
      "Epoch 2/100\n",
      "2573/2573 - 46s - loss: 0.2495 - accuracy: 0.8857 - val_loss: 0.6397 - val_accuracy: 0.7528 - 46s/epoch - 18ms/step\n",
      "Epoch 3/100\n",
      "2573/2573 - 46s - loss: 0.2344 - accuracy: 0.8950 - val_loss: 0.6188 - val_accuracy: 0.7576 - 46s/epoch - 18ms/step\n",
      "Epoch 3: early stopping\n",
      "4\n",
      "Epoch 1/100\n",
      "2573/2573 - 48s - loss: 0.3590 - accuracy: 0.8317 - val_loss: 0.3909 - val_accuracy: 0.8348 - 48s/epoch - 19ms/step\n",
      "Epoch 2/100\n",
      "2573/2573 - 47s - loss: 0.2469 - accuracy: 0.8876 - val_loss: 0.4816 - val_accuracy: 0.7973 - 47s/epoch - 18ms/step\n",
      "Epoch 3/100\n",
      "2573/2573 - 48s - loss: 0.2321 - accuracy: 0.8948 - val_loss: 0.4755 - val_accuracy: 0.7935 - 48s/epoch - 18ms/step\n",
      "Epoch 3: early stopping\n"
     ]
    }
   ],
   "source": [
    "checkpointer = ModelCheckpoint(filepath=\"best_weights_cnn.hdf5\", verbose=0, save_best_only=True) # save best model\n",
    "\n",
    "for i in range(5):\n",
    "    print(i)\n",
    "\n",
    "    model = Sequential()\n",
    "    model.add(tf.keras.layers.Conv2D(64, kernel_size=(3, 3), strides=(1, 1), activation='tanh', input_shape=(1, x_cols, 1), padding='same'))\n",
    "    model.add(tf.keras.layers.MaxPooling2D(pool_size=(1, 1)))\n",
    "    model.add(tf.keras.layers.Conv2D(128, kernel_size=(3, 3), strides=(1, 1), activation='tanh', padding='same'))\n",
    "    model.add(tf.keras.layers.MaxPooling2D(pool_size=(1, 1)))\n",
    "    model.add(tf.keras.layers.Flatten())\n",
    "    model.add(tf.keras.layers.Dense(1024, activation='tanh'))\n",
    "    model.add(Dropout(0.5))\n",
    "    model.add(tf.keras.layers.Dense(2, activation='sigmoid'))\n",
    "    model.compile(loss='binary_crossentropy', optimizer='sgd', metrics=['accuracy'])\n",
    "    monitor = EarlyStopping(monitor='val_loss', min_delta=1e-3, patience=2, verbose=2, mode='auto')\n",
    "    model.fit(x_train, y_train_one_hot, validation_data=(x_test, y_test_one_hot),callbacks=[monitor, checkpointer], verbose=2, epochs=100)"
   ]
  },
  {
   "cell_type": "markdown",
   "metadata": {},
   "source": [
    "### *Load best model*"
   ]
  },
  {
   "cell_type": "code",
   "execution_count": 34,
   "metadata": {},
   "outputs": [],
   "source": [
    "model.load_weights('best_weights_cnn.hdf5')"
   ]
  },
  {
   "cell_type": "markdown",
   "metadata": {},
   "source": [
    "### *Weights for best model*"
   ]
  },
  {
   "cell_type": "code",
   "execution_count": 35,
   "metadata": {},
   "outputs": [
    {
     "data": {
      "text/plain": [
       "[<tf.Variable 'conv2d_38/kernel:0' shape=(3, 3, 1, 64) dtype=float32, numpy=\n",
       " array([[[[-9.42407399e-02, -8.55048671e-02, -6.96185678e-02,\n",
       "           -7.56705627e-02, -7.80942217e-02, -1.96499452e-02,\n",
       "            9.48024690e-02, -2.25848183e-02, -3.07745486e-03,\n",
       "           -5.35210967e-03, -9.70080197e-02,  2.34461650e-02,\n",
       "           -4.30456437e-02,  8.87172967e-02,  7.59567618e-02,\n",
       "            3.56792063e-02,  6.90545291e-02, -1.64730847e-02,\n",
       "            9.76692736e-02,  9.59279090e-02,  4.68136668e-02,\n",
       "            4.18413579e-02, -9.51097384e-02,  4.06612009e-02,\n",
       "            3.72093916e-02,  8.47701579e-02, -6.27571344e-02,\n",
       "            3.63645554e-02,  7.79461861e-02, -5.80705032e-02,\n",
       "           -8.59960094e-02, -8.44264254e-02, -2.57796422e-02,\n",
       "            5.88032901e-02,  8.56501311e-02, -6.51334003e-02,\n",
       "            2.97990590e-02, -9.25184339e-02,  7.26671666e-02,\n",
       "           -2.29331180e-02, -1.00612663e-01, -5.41492589e-02,\n",
       "            2.77228355e-02, -9.80724990e-02,  8.48548114e-02,\n",
       "            1.78604200e-02,  9.04016644e-02,  6.23441488e-02,\n",
       "            3.14597785e-03,  9.75185484e-02, -2.81134099e-02,\n",
       "           -2.54693702e-02,  2.41084248e-02, -2.64600888e-02,\n",
       "            4.06674296e-03,  1.53128803e-03, -3.39291245e-03,\n",
       "           -6.73009753e-02,  4.89268154e-02,  9.22427922e-02,\n",
       "            7.59240836e-02, -5.12878373e-02, -7.52770603e-02,\n",
       "           -6.70155883e-03]],\n",
       " \n",
       "         [[ 3.81660163e-02, -3.46778184e-02,  8.00512880e-02,\n",
       "            6.47870302e-02,  5.91686666e-02,  3.43189985e-02,\n",
       "            4.19508815e-02,  2.84251571e-02, -5.55311106e-02,\n",
       "           -3.40552256e-02,  3.09788436e-02, -8.07527006e-02,\n",
       "            2.39462703e-02,  1.05748326e-03,  1.25800446e-02,\n",
       "           -2.14268416e-02,  4.10275757e-02, -8.23594928e-02,\n",
       "           -6.94128200e-02, -4.22890484e-03,  2.02224627e-02,\n",
       "            8.65986794e-02,  9.54311341e-02,  5.93122393e-02,\n",
       "           -3.21511328e-02, -5.12729660e-02, -1.00598395e-01,\n",
       "           -4.12020087e-03,  3.49871814e-04,  5.14675975e-02,\n",
       "           -3.25912312e-02, -4.23127413e-03,  7.48580396e-02,\n",
       "           -7.97117576e-02,  6.73985779e-02,  2.29221284e-02,\n",
       "           -9.08518583e-03,  5.71175218e-02,  7.21283853e-02,\n",
       "           -7.39593357e-02, -6.60408884e-02, -8.55380148e-02,\n",
       "           -9.07932594e-02, -2.13232115e-02, -2.43612379e-03,\n",
       "           -6.43429458e-02, -8.92172232e-02, -2.51886547e-02,\n",
       "           -3.50608230e-02, -6.46229833e-02,  7.56129920e-02,\n",
       "           -8.28994364e-02,  6.05975837e-02, -1.69687718e-03,\n",
       "           -6.16281368e-02, -6.53123185e-02,  2.44817734e-02,\n",
       "            9.79060382e-02,  1.33861899e-02, -1.60952061e-02,\n",
       "            1.40513331e-02, -8.73301476e-02, -1.39683411e-02,\n",
       "            2.97944695e-02]],\n",
       " \n",
       "         [[ 7.80880600e-02,  8.59834254e-02,  3.73288244e-03,\n",
       "           -9.80754942e-03, -6.28732741e-02,  7.75098801e-02,\n",
       "            1.28147155e-02,  6.48362637e-02, -8.13236684e-02,\n",
       "            1.00860447e-01, -1.56191066e-02,  1.52597427e-02,\n",
       "           -5.37538528e-02, -6.18928932e-02,  2.43927389e-02,\n",
       "           -7.10591674e-02, -8.43132809e-02, -1.01093568e-01,\n",
       "           -6.61464483e-02,  7.35668093e-03,  9.74993557e-02,\n",
       "            5.58386743e-02,  4.05760407e-02,  8.25184137e-02,\n",
       "            3.59145105e-02, -2.67480463e-02,  6.75977916e-02,\n",
       "           -4.62028235e-02, -2.01778859e-02, -7.32709467e-02,\n",
       "           -5.84522933e-02,  9.52630937e-02,  6.98707998e-03,\n",
       "            2.37119347e-02, -4.64073382e-02,  2.19620094e-02,\n",
       "           -6.20179214e-02, -8.23600739e-02,  9.32022631e-02,\n",
       "           -8.45436528e-02, -1.09974965e-02,  2.88406760e-03,\n",
       "           -8.06911290e-02,  6.84649795e-02, -9.53309089e-02,\n",
       "           -2.44101286e-02,  3.00323367e-02,  2.45458782e-02,\n",
       "           -4.45847958e-03,  8.68667960e-02,  3.67286056e-02,\n",
       "            8.67802650e-02, -5.91901578e-02, -5.13975807e-02,\n",
       "           -3.86827514e-02, -7.73700476e-02, -7.24210739e-02,\n",
       "            5.75200021e-02, -2.13464648e-02,  2.74301320e-02,\n",
       "           -5.43019325e-02,  8.68893266e-02,  1.78737268e-02,\n",
       "           -5.80899157e-02]]],\n",
       " \n",
       " \n",
       "        [[[-1.95512369e-01, -7.03078955e-02, -6.40935823e-02,\n",
       "           -5.49389385e-02,  8.85617882e-02, -1.69106066e-01,\n",
       "            1.51404500e-01,  2.34544780e-02,  8.70757699e-02,\n",
       "            1.61671355e-01,  1.69956475e-01,  1.91116959e-01,\n",
       "           -1.75148491e-02,  1.63922474e-01,  9.32948813e-02,\n",
       "           -1.41796991e-01,  1.34405673e-01, -2.31586426e-01,\n",
       "           -1.41342789e-01, -3.59144025e-02,  9.76873264e-02,\n",
       "           -1.81109440e-02,  1.90428138e-01,  1.65538043e-01,\n",
       "           -1.00950517e-01, -2.36249432e-01,  1.10067122e-01,\n",
       "           -1.15236200e-01,  1.97999686e-01, -1.35692492e-01,\n",
       "           -1.59341186e-01,  9.69418958e-02, -2.75076061e-01,\n",
       "            1.90307260e-01,  1.92851424e-01, -2.33884737e-01,\n",
       "           -1.33091435e-02,  1.78871304e-01, -6.98350370e-02,\n",
       "            1.87550649e-01, -1.80740148e-01, -8.74021575e-02,\n",
       "            1.29370354e-02,  9.77435634e-02, -1.95423454e-01,\n",
       "           -2.09957007e-02, -8.28629509e-02, -1.18653961e-01,\n",
       "           -1.20374046e-01,  1.96752626e-05, -1.92161813e-01,\n",
       "           -1.95996299e-01,  1.75145622e-02, -1.11842290e-01,\n",
       "            1.22552700e-01,  1.01541840e-01, -2.20357403e-02,\n",
       "           -1.59483179e-02, -1.01008816e-02, -2.21146166e-01,\n",
       "            1.13482952e-01,  9.22002718e-02, -9.47077349e-02,\n",
       "            1.10870913e-01]],\n",
       " \n",
       "         [[ 1.64262176e-01,  1.01765674e-02, -1.29914969e-01,\n",
       "           -1.50898397e-01, -1.81284994e-01,  6.11748584e-02,\n",
       "           -1.54713821e-02, -1.98155835e-01,  1.57330289e-01,\n",
       "           -1.32264346e-02,  3.85067351e-02,  1.28923520e-01,\n",
       "            1.55972719e-01, -6.89477995e-02,  1.31113768e-01,\n",
       "           -1.37665644e-01,  1.17849251e-02,  1.07863590e-01,\n",
       "            2.08251625e-01, -3.24137546e-02,  9.24163610e-02,\n",
       "            1.70084551e-01, -2.36674398e-02,  1.66754965e-02,\n",
       "            8.25327709e-02, -1.23224789e-02,  1.25322014e-01,\n",
       "           -9.66753364e-02, -7.64391124e-02, -1.82387188e-01,\n",
       "            1.40789434e-01,  1.32874139e-02,  1.54033020e-01,\n",
       "            1.24893384e-02,  5.10424450e-02,  1.15621366e-01,\n",
       "           -1.89501390e-01,  5.59260473e-02, -1.66068330e-01,\n",
       "            8.75637978e-02, -2.13713437e-01, -9.58269164e-02,\n",
       "            1.54093489e-01,  2.60802627e-01,  7.65065774e-02,\n",
       "           -1.32424414e-01, -2.09380999e-01,  8.04433078e-02,\n",
       "            1.01699065e-02, -1.61962826e-02,  1.37090143e-02,\n",
       "           -1.16354153e-02, -1.20244212e-02,  1.42509028e-01,\n",
       "            5.17976135e-02,  1.38698936e-01,  2.53087729e-01,\n",
       "            1.98937327e-01, -2.56516486e-02,  1.23566270e-01,\n",
       "            2.11676031e-01,  9.68378335e-02,  1.46051869e-02,\n",
       "           -1.82013661e-01]],\n",
       " \n",
       "         [[-1.21518662e-02, -9.26007554e-02,  1.27750756e-02,\n",
       "            1.08608969e-01,  9.58982557e-02, -8.17498565e-02,\n",
       "            2.26013571e-01, -2.95829237e-01, -1.15072116e-01,\n",
       "            1.13203861e-02, -4.94893566e-02, -1.08809397e-01,\n",
       "            1.26378477e-01, -2.09959745e-02, -8.18388090e-02,\n",
       "           -1.46712273e-01, -2.28276432e-01, -5.25049642e-02,\n",
       "            1.82142809e-01,  1.16601130e-02,  7.23593831e-02,\n",
       "            1.43393546e-01,  1.29975807e-02, -1.31013587e-01,\n",
       "           -1.28393732e-02,  1.01390809e-01, -7.47714937e-02,\n",
       "            9.22035724e-02, -1.44961074e-01,  3.01182456e-02,\n",
       "           -1.16834819e-01, -7.14319572e-02,  1.77663922e-01,\n",
       "           -7.68974423e-02,  8.75998884e-02,  8.76441002e-02,\n",
       "           -1.91388950e-01,  9.86315832e-02, -1.80152938e-01,\n",
       "           -4.62726206e-02,  1.59505606e-01, -1.21563142e-02,\n",
       "           -1.03494171e-02, -9.30849090e-02,  5.28844409e-02,\n",
       "           -1.76481634e-01, -1.34408325e-01, -2.68578734e-02,\n",
       "            7.40731955e-02,  2.38150448e-01, -1.10250816e-01,\n",
       "            9.78576690e-02, -1.47363946e-01, -1.38198286e-02,\n",
       "            1.21417139e-02, -1.14729628e-01,  1.74130648e-01,\n",
       "            1.74656540e-01, -1.66950569e-01,  2.52133816e-01,\n",
       "            1.23613337e-02, -1.10124432e-01, -2.51248032e-01,\n",
       "            1.80790693e-01]]],\n",
       " \n",
       " \n",
       "        [[[ 5.02004176e-02, -5.23740277e-02,  1.65501833e-02,\n",
       "            8.92730057e-03,  1.20838061e-02, -4.99699004e-02,\n",
       "           -7.79854506e-02, -7.58798271e-02, -7.94911161e-02,\n",
       "            4.45791036e-02, -9.38377529e-02,  4.71206158e-02,\n",
       "           -9.01325122e-02,  5.94889075e-02,  5.52854538e-02,\n",
       "           -9.53931585e-02,  5.27124852e-03, -7.58620352e-03,\n",
       "            6.39037937e-02, -3.93837690e-04,  5.63772172e-02,\n",
       "            4.19904292e-02,  3.12642604e-02, -4.07073386e-02,\n",
       "            2.92958468e-02,  3.41923088e-02, -7.06276298e-02,\n",
       "           -6.56941533e-02, -6.53384626e-03,  1.54186934e-02,\n",
       "            5.89065850e-02, -5.90848848e-02, -9.35093313e-03,\n",
       "            1.70318186e-02, -7.81880319e-03,  2.54926533e-02,\n",
       "            3.28692645e-02, -5.25122359e-02,  4.52435911e-02,\n",
       "           -6.61919415e-02,  4.67419624e-03,  6.55336082e-02,\n",
       "           -2.22368538e-03,  1.40069276e-02,  4.25734967e-02,\n",
       "           -1.89948827e-03, -5.91972321e-02, -4.19139639e-02,\n",
       "           -4.24505994e-02,  7.36014247e-02, -4.63528186e-02,\n",
       "            1.40076801e-02,  1.45322159e-02,  8.49962831e-02,\n",
       "            1.15217194e-02, -7.37691447e-02,  7.27659464e-02,\n",
       "           -3.51561457e-02, -2.03482136e-02, -2.13553011e-03,\n",
       "           -7.34383613e-03,  3.67541462e-02, -5.00087962e-02,\n",
       "           -1.00161746e-01]],\n",
       " \n",
       "         [[ 3.39269489e-02, -4.54947576e-02, -3.21338698e-02,\n",
       "           -4.58116829e-03, -2.48531476e-02,  8.15082937e-02,\n",
       "           -8.16094801e-02, -9.48408991e-02, -2.31973156e-02,\n",
       "           -3.79669592e-02,  8.61748606e-02,  7.50732720e-02,\n",
       "            2.44083256e-03, -6.57900423e-02,  9.15786177e-02,\n",
       "           -5.00925817e-02, -8.60935077e-02,  7.58050531e-02,\n",
       "            1.10869557e-02,  5.05151749e-02, -1.00526102e-01,\n",
       "            7.75016695e-02,  9.18963253e-02, -4.30940837e-03,\n",
       "            2.89326459e-02, -6.41991645e-02, -1.66057646e-02,\n",
       "           -1.09261945e-02, -7.23273903e-02, -3.45081836e-03,\n",
       "           -6.87069297e-02,  2.95578390e-02, -4.31768037e-02,\n",
       "           -1.01016037e-01,  1.30023733e-02,  9.81704891e-02,\n",
       "           -6.03441484e-02,  9.50231254e-02, -6.32102787e-02,\n",
       "            1.71381310e-02,  3.01142037e-02,  1.63414925e-02,\n",
       "           -5.32039590e-02,  9.28006470e-02,  4.72955555e-02,\n",
       "            9.21602547e-02,  9.06347632e-02, -9.49604213e-02,\n",
       "            9.21962410e-02, -2.95398831e-02,  6.33689165e-02,\n",
       "           -9.13754329e-02,  7.35630393e-02, -5.27239926e-02,\n",
       "            8.95240903e-02, -6.53829724e-02, -4.25191037e-02,\n",
       "           -8.98731425e-02,  3.51738930e-02, -7.05174059e-02,\n",
       "            6.04370534e-02,  6.11112565e-02,  8.79790634e-02,\n",
       "            8.39793980e-02]],\n",
       " \n",
       "         [[-6.14380389e-02,  2.73485780e-02,  7.88386017e-02,\n",
       "           -8.42277855e-02, -9.40885767e-02,  2.19764709e-02,\n",
       "            8.00527185e-02,  1.86206177e-02, -9.20912623e-03,\n",
       "            8.40867013e-02, -8.71353000e-02,  4.14776057e-02,\n",
       "            1.00420654e-01,  2.33109221e-02, -7.06349015e-02,\n",
       "           -7.81686604e-03, -2.68920511e-02,  7.14742541e-02,\n",
       "            1.75258368e-02, -7.62157664e-02, -6.48060590e-02,\n",
       "           -3.83576304e-02, -8.06810707e-03, -1.43760890e-02,\n",
       "           -2.38378048e-02, -6.90414011e-03, -3.37565243e-02,\n",
       "            4.32912707e-02, -2.03549862e-05, -7.26905465e-03,\n",
       "            7.38185197e-02, -4.68066595e-02,  8.98910612e-02,\n",
       "            1.04775652e-02,  5.98680228e-03,  1.34794191e-02,\n",
       "           -9.27023292e-02,  5.06592095e-02, -7.14060888e-02,\n",
       "            4.10046130e-02,  6.22437149e-03,  4.01411504e-02,\n",
       "           -4.47051004e-02,  1.41447783e-02,  7.32708722e-02,\n",
       "           -6.40051216e-02, -3.83811519e-02,  7.33903050e-02,\n",
       "           -9.65640992e-02, -9.30269063e-03,  3.31587791e-02,\n",
       "            1.81513503e-02, -4.35240418e-02, -3.72339785e-03,\n",
       "            9.60842818e-02, -9.76554081e-02,  9.34625715e-02,\n",
       "            5.73960245e-02, -1.03260800e-02,  4.29612845e-02,\n",
       "           -7.28656650e-02,  2.96598822e-02,  3.75503302e-02,\n",
       "            1.44776925e-02]]]], dtype=float32)>,\n",
       " <tf.Variable 'conv2d_38/bias:0' shape=(64,) dtype=float32, numpy=\n",
       " array([ 5.41666616e-03, -1.95296816e-04, -3.95386759e-03, -4.53324197e-03,\n",
       "        -4.79600811e-03, -4.93012303e-05, -4.63959004e-05, -3.41416635e-02,\n",
       "         2.28934246e-03, -2.74294661e-03,  3.12656118e-03,  5.96152898e-03,\n",
       "         1.18082026e-02,  2.34164321e-03,  6.54825650e-04, -1.89106539e-02,\n",
       "        -9.49110556e-03,  8.70181015e-04,  1.14735365e-02, -1.67135091e-04,\n",
       "        -4.80011688e-04,  1.31006613e-02, -8.25570989e-03, -8.64093006e-03,\n",
       "         4.42285137e-03,  1.33396313e-02, -4.40201117e-03, -2.62990041e-04,\n",
       "        -8.25117622e-03, -2.17241375e-03, -7.94961466e-04, -9.13067535e-03,\n",
       "         1.44770602e-02, -1.42763442e-04,  7.93361571e-03,  1.00623379e-02,\n",
       "        -2.16226596e-02,  8.05289019e-03, -9.67815612e-03, -3.66250053e-03,\n",
       "        -2.91321031e-03,  1.09547200e-05,  1.32713339e-03,  7.92555977e-03,\n",
       "         7.55438488e-03, -1.16833234e-02, -1.65850855e-02,  7.05014123e-03,\n",
       "         7.58268870e-03,  8.41712230e-04,  4.43698256e-04,  8.55566934e-03,\n",
       "        -7.36649323e-04, -3.58579331e-04, -4.81535913e-03,  2.68616132e-03,\n",
       "         1.49555588e-02,  1.58195049e-02, -5.12657454e-03,  1.52742118e-02,\n",
       "         4.78068693e-03,  4.84821474e-04, -8.55550077e-03,  3.23217385e-03],\n",
       "       dtype=float32)>,\n",
       " <tf.Variable 'conv2d_39/kernel:0' shape=(3, 3, 64, 128) dtype=float32, numpy=\n",
       " array([[[[-0.02150381, -0.04487976, -0.03671796, ..., -0.03396637,\n",
       "           -0.02827855, -0.04657619],\n",
       "          [ 0.04507608, -0.01360729, -0.02834893, ...,  0.04743994,\n",
       "           -0.04828899,  0.01388455],\n",
       "          [ 0.03136522,  0.04515665,  0.05119077, ...,  0.05594233,\n",
       "           -0.04046716,  0.00564884],\n",
       "          ...,\n",
       "          [-0.00636291, -0.00745876,  0.00340784, ..., -0.02677039,\n",
       "            0.02269228, -0.02887128],\n",
       "          [ 0.01472789,  0.01136595,  0.02316431, ...,  0.01639275,\n",
       "           -0.05662966, -0.02390711],\n",
       "          [ 0.05388491,  0.03968977,  0.0210061 , ...,  0.05109826,\n",
       "           -0.02198847, -0.0109529 ]],\n",
       " \n",
       "         [[ 0.03928715,  0.01516519, -0.03281705, ...,  0.04542579,\n",
       "            0.05004326, -0.058744  ],\n",
       "          [ 0.00672242,  0.04485008, -0.0316582 , ...,  0.0361213 ,\n",
       "           -0.03505984, -0.01248512],\n",
       "          [-0.0409774 ,  0.018798  , -0.01627305, ...,  0.01977537,\n",
       "           -0.02114083, -0.01717845],\n",
       "          ...,\n",
       "          [ 0.00803487,  0.00998057,  0.03071975, ...,  0.02152568,\n",
       "           -0.05227214,  0.00525418],\n",
       "          [-0.03131507,  0.03945014, -0.03593905, ...,  0.01221796,\n",
       "           -0.02570538,  0.05050871],\n",
       "          [-0.0469325 ,  0.02714786, -0.03200827, ..., -0.03083508,\n",
       "            0.01318214, -0.02418631]],\n",
       " \n",
       "         [[ 0.04275956,  0.04634973, -0.033473  , ..., -0.00240314,\n",
       "           -0.04033392, -0.02516382],\n",
       "          [ 0.03458604,  0.0584295 ,  0.00394066, ...,  0.04817945,\n",
       "           -0.03000962, -0.0534714 ],\n",
       "          [ 0.02070204,  0.00836285, -0.05376621, ...,  0.04100592,\n",
       "            0.03823256, -0.03990292],\n",
       "          ...,\n",
       "          [ 0.02958721,  0.02719948, -0.00257819, ..., -0.02152172,\n",
       "            0.02673175, -0.04089475],\n",
       "          [-0.00079416,  0.042642  ,  0.01647038, ...,  0.01669219,\n",
       "           -0.01494041, -0.04773353],\n",
       "          [-0.00062273,  0.02770979,  0.0207757 , ...,  0.0522567 ,\n",
       "            0.00791987, -0.04908249]]],\n",
       " \n",
       " \n",
       "        [[[ 0.02489679, -0.02042908, -0.04355831, ..., -0.05330527,\n",
       "           -0.03832809,  0.02435769],\n",
       "          [ 0.00196582,  0.01749899, -0.03469731, ..., -0.04262664,\n",
       "           -0.05807933,  0.04987607],\n",
       "          [ 0.04101425,  0.01590503, -0.01188644, ...,  0.05448354,\n",
       "            0.04049833,  0.01597972],\n",
       "          ...,\n",
       "          [ 0.02266422,  0.00338865,  0.02756515, ...,  0.05061582,\n",
       "           -0.0135783 ,  0.02726352],\n",
       "          [-0.00202169,  0.03146217,  0.05971493, ...,  0.05786771,\n",
       "           -0.01792868, -0.01683464],\n",
       "          [-0.05841687, -0.05219496, -0.04179602, ...,  0.02065726,\n",
       "            0.04469717,  0.00767414]],\n",
       " \n",
       "         [[ 0.00928919,  0.00086479, -0.05809815, ...,  0.04437378,\n",
       "           -0.04972373, -0.02868323],\n",
       "          [ 0.029079  , -0.05297757, -0.0478023 , ..., -0.01577112,\n",
       "            0.01972354, -0.03252651],\n",
       "          [-0.02357295,  0.05324479, -0.02856267, ...,  0.02675654,\n",
       "            0.0285639 , -0.01627661],\n",
       "          ...,\n",
       "          [-0.02260392,  0.02509025,  0.04412623, ..., -0.03455016,\n",
       "            0.00889996, -0.04120044],\n",
       "          [-0.05395424,  0.01344057, -0.02201379, ...,  0.0518174 ,\n",
       "            0.04233791, -0.04362278],\n",
       "          [ 0.00349665,  0.00724929,  0.04872742, ...,  0.04040748,\n",
       "           -0.02903413,  0.03896474]],\n",
       " \n",
       "         [[ 0.02545641,  0.0381165 ,  0.06898408, ..., -0.02001319,\n",
       "            0.04205584, -0.05500095],\n",
       "          [-0.03241296,  0.04904132,  0.05452707, ..., -0.04030735,\n",
       "           -0.03019879, -0.00050845],\n",
       "          [ 0.00506083, -0.00189145,  0.03730686, ..., -0.04824028,\n",
       "           -0.05507666, -0.05987375],\n",
       "          ...,\n",
       "          [-0.05579113,  0.0394759 ,  0.02721252, ..., -0.05037517,\n",
       "           -0.00259093,  0.00931782],\n",
       "          [ 0.03691885, -0.02263592,  0.00855787, ...,  0.01685949,\n",
       "            0.03156409,  0.05973091],\n",
       "          [ 0.03854726, -0.00370041,  0.00928198, ..., -0.02367196,\n",
       "            0.01809659, -0.02396383]]],\n",
       " \n",
       " \n",
       "        [[[ 0.00946304,  0.03401722, -0.04083863, ...,  0.01655876,\n",
       "           -0.05007539,  0.03265524],\n",
       "          [-0.00456168,  0.00565058, -0.00830247, ...,  0.0151537 ,\n",
       "           -0.02932502,  0.03243308],\n",
       "          [ 0.00287829, -0.04003879, -0.02207795, ..., -0.01662322,\n",
       "           -0.03564602,  0.01100551],\n",
       "          ...,\n",
       "          [ 0.03291782, -0.00774718, -0.01430404, ..., -0.05787809,\n",
       "           -0.04339087,  0.01712903],\n",
       "          [ 0.04590992, -0.01896198,  0.01822572, ...,  0.03763805,\n",
       "           -0.02041766, -0.01654584],\n",
       "          [-0.03225431, -0.01411539,  0.02486823, ...,  0.05791879,\n",
       "           -0.02384417,  0.0485951 ]],\n",
       " \n",
       "         [[-0.016149  , -0.00162247, -0.02368309, ...,  0.02054542,\n",
       "           -0.04290731, -0.05431483],\n",
       "          [-0.02047513,  0.04960576, -0.00519794, ..., -0.04339442,\n",
       "            0.04375893,  0.05377499],\n",
       "          [-0.01583079, -0.04472088, -0.00790036, ..., -0.01678317,\n",
       "           -0.00056244, -0.04919167],\n",
       "          ...,\n",
       "          [-0.01318148,  0.05351442,  0.02055044, ...,  0.04875605,\n",
       "           -0.0005526 , -0.0281183 ],\n",
       "          [-0.01608051,  0.0111392 , -0.01698396, ...,  0.01811201,\n",
       "           -0.05859822,  0.05676674],\n",
       "          [ 0.04016378,  0.03032165, -0.04748324, ...,  0.05388067,\n",
       "           -0.0154965 ,  0.03134048]],\n",
       " \n",
       "         [[ 0.03739773, -0.03453396, -0.0247334 , ..., -0.04433715,\n",
       "           -0.03167152,  0.03830032],\n",
       "          [ 0.04515399,  0.00653605,  0.05345998, ...,  0.01182141,\n",
       "            0.03756035, -0.01041644],\n",
       "          [-0.03539795,  0.04861974, -0.00811997, ...,  0.05594863,\n",
       "            0.00700312, -0.0192574 ],\n",
       "          ...,\n",
       "          [-0.00740477, -0.02293689,  0.04358698, ...,  0.054056  ,\n",
       "            0.04005299, -0.05729794],\n",
       "          [-0.03529831, -0.01274175,  0.05541062, ...,  0.04012563,\n",
       "            0.04548142,  0.05057896],\n",
       "          [ 0.03868007, -0.05408707,  0.04260134, ...,  0.00496328,\n",
       "           -0.0105512 ,  0.0542175 ]]]], dtype=float32)>,\n",
       " <tf.Variable 'conv2d_39/bias:0' shape=(128,) dtype=float32, numpy=\n",
       " array([-3.2953296e-03,  8.5783480e-03,  4.1736355e-03,  2.1836457e-03,\n",
       "        -7.3280362e-03,  1.0457413e-03, -4.7400659e-03, -5.3504184e-03,\n",
       "        -1.7190639e-02, -3.1446940e-03, -2.0292161e-03, -7.8637607e-04,\n",
       "        -6.2596000e-04, -1.6685169e-04, -9.1646507e-07,  1.0662300e-03,\n",
       "         2.3567996e-03, -4.1542244e-03, -5.8629899e-03, -6.0031512e-03,\n",
       "        -4.5419992e-03,  9.0836240e-03, -9.3277521e-04, -9.9073385e-04,\n",
       "        -9.9695968e-03, -4.0929574e-03,  1.6550556e-03, -1.0561246e-02,\n",
       "         3.3507249e-04, -8.9655537e-03, -4.0776222e-03,  9.1910604e-03,\n",
       "        -1.0080608e-02,  6.0493597e-03, -1.4692894e-03, -8.6832298e-03,\n",
       "         2.9037185e-03,  5.7175844e-03,  1.8902353e-03, -3.5185507e-03,\n",
       "         3.4077994e-03,  1.0090901e-02, -3.6189103e-04, -2.2867217e-03,\n",
       "         9.7074881e-03,  2.6316679e-04, -6.9442310e-04,  7.1109920e-03,\n",
       "        -4.0196469e-03, -3.7104036e-03,  4.0641520e-03,  1.2698867e-03,\n",
       "        -5.5271294e-04,  1.3153524e-03, -1.1881313e-02, -1.4080053e-02,\n",
       "        -4.6740528e-03, -4.1260868e-03,  5.0195996e-03,  7.7807694e-03,\n",
       "        -5.3745299e-03,  3.5110081e-04, -2.1550164e-03, -8.6538568e-03,\n",
       "        -1.9298324e-04,  1.3702401e-03, -2.6852041e-03,  3.8165967e-03,\n",
       "        -1.5712377e-04, -1.5231668e-03, -5.6643393e-03, -4.1431566e-03,\n",
       "        -2.1774515e-03, -8.5455038e-05, -4.5697326e-03, -7.0279702e-03,\n",
       "         4.3440396e-03,  6.3902107e-03, -4.0036459e-03, -2.6445463e-03,\n",
       "        -1.2115496e-03,  2.2894578e-04,  1.0688987e-02, -3.4120965e-03,\n",
       "         3.1286371e-03, -3.3900479e-04,  1.6739760e-03,  9.3957398e-04,\n",
       "        -6.2303049e-03, -5.6816721e-03,  9.6931085e-03,  6.4473378e-04,\n",
       "         1.6745192e-04, -7.5244713e-03,  3.9485451e-03, -3.9965482e-03,\n",
       "         5.7414952e-03, -1.2399346e-03, -6.8029324e-03, -1.4564025e-03,\n",
       "         5.3330646e-03,  3.6170960e-03, -6.0665369e-04, -6.1262948e-03,\n",
       "        -5.6714602e-03,  3.5370362e-03, -1.2156595e-03,  3.1196193e-03,\n",
       "        -5.3514619e-03,  6.0018534e-03, -4.2010442e-04, -6.2835617e-03,\n",
       "        -7.6054875e-03, -2.5892099e-03,  2.2002531e-03,  5.1832851e-03,\n",
       "        -1.1897763e-03, -6.1763381e-04, -9.7628562e-03,  7.1643651e-03,\n",
       "        -5.8488934e-03,  3.5417132e-04, -4.7387439e-03, -8.8954279e-03,\n",
       "         8.1572244e-03, -1.4519847e-03, -3.9363881e-03,  7.6896772e-03],\n",
       "       dtype=float32)>,\n",
       " <tf.Variable 'dense_38/kernel:0' shape=(5376, 1024) dtype=float32, numpy=\n",
       " array([[ 0.00435442, -0.01826359, -0.02678409, ...,  0.01897066,\n",
       "          0.0134256 , -0.00824121],\n",
       "        [-0.0084051 , -0.0262609 ,  0.01670574, ...,  0.00150908,\n",
       "         -0.00583993,  0.00690588],\n",
       "        [-0.0160978 , -0.0157985 , -0.01145289, ..., -0.01851445,\n",
       "         -0.02699845,  0.01199244],\n",
       "        ...,\n",
       "        [-0.01597499,  0.00320394, -0.0243961 , ..., -0.01428987,\n",
       "          0.01170951,  0.0030534 ],\n",
       "        [-0.00145848, -0.01715588,  0.03002966, ..., -0.02718886,\n",
       "          0.01159455, -0.01657779],\n",
       "        [ 0.01117923,  0.00374668, -0.0078824 , ...,  0.00298979,\n",
       "          0.02488069, -0.0070861 ]], dtype=float32)>,\n",
       " <tf.Variable 'dense_38/bias:0' shape=(1024,) dtype=float32, numpy=\n",
       " array([-0.00129491, -0.0002219 , -0.00104087, ...,  0.00242672,\n",
       "         0.0005798 , -0.00038147], dtype=float32)>,\n",
       " <tf.Variable 'dense_39/kernel:0' shape=(1024, 2) dtype=float32, numpy=\n",
       " array([[-0.05108307,  0.01117346],\n",
       "        [ 0.03703289,  0.02268037],\n",
       "        [ 0.00594185,  0.08913089],\n",
       "        ...,\n",
       "        [ 0.06545644, -0.08585775],\n",
       "        [ 0.0550757 ,  0.02477603],\n",
       "        [-0.05380382,  0.02604614]], dtype=float32)>,\n",
       " <tf.Variable 'dense_39/bias:0' shape=(2,) dtype=float32, numpy=array([ 0.00729521, -0.00923475], dtype=float32)>]"
      ]
     },
     "execution_count": 35,
     "metadata": {},
     "output_type": "execute_result"
    }
   ],
   "source": [
    "model.weights"
   ]
  },
  {
   "cell_type": "markdown",
   "metadata": {},
   "source": [
    "### *Best model summary*"
   ]
  },
  {
   "cell_type": "code",
   "execution_count": 36,
   "metadata": {},
   "outputs": [
    {
     "name": "stdout",
     "output_type": "stream",
     "text": [
      "Model: \"sequential_19\"\n",
      "_________________________________________________________________\n",
      " Layer (type)                Output Shape              Param #   \n",
      "=================================================================\n",
      " conv2d_38 (Conv2D)          (None, 1, 42, 64)         640       \n",
      "                                                                 \n",
      " max_pooling2d_38 (MaxPooli  (None, 1, 42, 64)         0         \n",
      " ng2D)                                                           \n",
      "                                                                 \n",
      " conv2d_39 (Conv2D)          (None, 1, 42, 128)        73856     \n",
      "                                                                 \n",
      " max_pooling2d_39 (MaxPooli  (None, 1, 42, 128)        0         \n",
      " ng2D)                                                           \n",
      "                                                                 \n",
      " flatten_19 (Flatten)        (None, 5376)              0         \n",
      "                                                                 \n",
      " dense_38 (Dense)            (None, 1024)              5506048   \n",
      "                                                                 \n",
      " dropout_19 (Dropout)        (None, 1024)              0         \n",
      "                                                                 \n",
      " dense_39 (Dense)            (None, 2)                 2050      \n",
      "                                                                 \n",
      "=================================================================\n",
      "Total params: 5582594 (21.30 MB)\n",
      "Trainable params: 5582594 (21.30 MB)\n",
      "Non-trainable params: 0 (0.00 Byte)\n",
      "_________________________________________________________________\n"
     ]
    }
   ],
   "source": [
    "model.summary()"
   ]
  },
  {
   "cell_type": "markdown",
   "metadata": {},
   "source": [
    "### *Recall*"
   ]
  },
  {
   "cell_type": "code",
   "execution_count": 37,
   "metadata": {},
   "outputs": [
    {
     "name": "stdout",
     "output_type": "stream",
     "text": [
      "5480/5480 [==============================] - 14s 2ms/step\n"
     ]
    }
   ],
   "source": [
    "prediction = model.predict(x_test)\n",
    "threshold = 0.5\n",
    "binary_prediction = np.where(prediction >= threshold, 1, 0)\n",
    "recall = mt.recall_score(y_test_one_hot, binary_prediction, average='weighted')"
   ]
  },
  {
   "cell_type": "markdown",
   "metadata": {},
   "source": [
    "### *Accuracy score*"
   ]
  },
  {
   "cell_type": "code",
   "execution_count": 38,
   "metadata": {},
   "outputs": [],
   "source": [
    "accuracy = mt.accuracy_score(y_test_one_hot, binary_prediction)"
   ]
  },
  {
   "cell_type": "markdown",
   "metadata": {},
   "source": [
    "###  *Precision score*"
   ]
  },
  {
   "cell_type": "code",
   "execution_count": 39,
   "metadata": {},
   "outputs": [],
   "source": [
    "precision = mt.precision_score(y_test_one_hot, binary_prediction, average='weighted')"
   ]
  },
  {
   "cell_type": "markdown",
   "metadata": {},
   "source": [
    "### *F1 score*"
   ]
  },
  {
   "cell_type": "code",
   "execution_count": 40,
   "metadata": {},
   "outputs": [],
   "source": [
    "f1 = mt.f1_score(y_test_one_hot, binary_prediction, average='weighted')"
   ]
  },
  {
   "cell_type": "markdown",
   "metadata": {},
   "source": [
    "### *Classification Report*"
   ]
  },
  {
   "cell_type": "code",
   "execution_count": 41,
   "metadata": {},
   "outputs": [
    {
     "name": "stdout",
     "output_type": "stream",
     "text": [
      "              precision    recall  f1-score   support\n",
      "\n",
      "           0       0.66      0.96      0.78     56000\n",
      "           1       0.98      0.78      0.87    119341\n",
      "\n",
      "   micro avg       0.83      0.84      0.83    175341\n",
      "   macro avg       0.82      0.87      0.83    175341\n",
      "weighted avg       0.88      0.84      0.84    175341\n",
      " samples avg       0.83      0.84      0.83    175341\n",
      "\n"
     ]
    },
    {
     "name": "stderr",
     "output_type": "stream",
     "text": [
      "c:\\Users\\cdub6\\anaconda3\\Lib\\site-packages\\sklearn\\metrics\\_classification.py:1344: UndefinedMetricWarning: Precision and F-score are ill-defined and being set to 0.0 in samples with no predicted labels. Use `zero_division` parameter to control this behavior.\n",
      "  _warn_prf(average, modifier, msg_start, len(result))\n"
     ]
    }
   ],
   "source": [
    "print(mt.classification_report(y_test_one_hot, binary_prediction))"
   ]
  },
  {
   "cell_type": "markdown",
   "metadata": {},
   "source": [
    "### *Confusion matrix*"
   ]
  },
  {
   "cell_type": "code",
   "execution_count": 42,
   "metadata": {},
   "outputs": [
    {
     "name": "stdout",
     "output_type": "stream",
     "text": [
      "[[53806  2194]\n",
      " [27346 91995]]\n",
      "Plotting confusion matrix\n"
     ]
    },
    {
     "data": {
      "image/png": "[encoded data removed]",
      "text/plain": [
       "<Figure size 640x480 with 2 Axes>"
      ]
     },
     "metadata": {},
     "output_type": "display_data"
    }
   ],
   "source": [
    "diagnosis = encode_text_index(training_df, 'label')\n",
    "\n",
    "y_test_labels = np.argmax(y_test_one_hot, axis=1)\n",
    "binary_prediction_labels = np.argmax(binary_prediction, axis=1)\n",
    "cm = confusion_matrix(y_test_labels, binary_prediction_labels)\n",
    "print(cm)\n",
    "\n",
    "print('Plotting confusion matrix')\n",
    "\n",
    "plt.figure()\n",
    "plot_confusion_matrix(cm, diagnosis)\n",
    "plt.show()"
   ]
  },
  {
   "cell_type": "markdown",
   "metadata": {},
   "source": [
    "### *ROC Curve*"
   ]
  },
  {
   "cell_type": "code",
   "execution_count": 43,
   "metadata": {},
   "outputs": [
    {
     "data": {
      "image/png": "[encoded data removed]",
      "text/plain": [
       "<Figure size 640x480 with 1 Axes>"
      ]
     },
     "metadata": {},
     "output_type": "display_data"
    }
   ],
   "source": [
    "plot_roc(binary_prediction_labels, y_test_labels)"
   ]
  }
 ],
 "metadata": {
  "kernelspec": {
   "display_name": "base",
   "language": "python",
   "name": "python3"
  },
  "language_info": {
   "codemirror_mode": {
    "name": "ipython",
    "version": 3
   },
   "file_extension": ".py",
   "mimetype": "text/x-python",
   "name": "python",
   "nbconvert_exporter": "python",
   "pygments_lexer": "ipython3",
   "version": "3.11.5"
  }
 },
 "nbformat": 4,
 "nbformat_minor": 2
}
